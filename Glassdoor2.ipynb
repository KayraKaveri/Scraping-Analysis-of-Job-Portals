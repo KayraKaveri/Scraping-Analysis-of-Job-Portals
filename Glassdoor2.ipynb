{
 "cells": [
  {
   "cell_type": "code",
   "execution_count": 1,
   "id": "962cf346-b2d4-44aa-974a-23030668eda7",
   "metadata": {},
   "outputs": [],
   "source": [
    "import requests\n",
    "from bs4 import BeautifulSoup\n",
    "import pandas as pd\n",
    "from selenium import webdriver\n",
    "import time\n",
    "from selenium.webdriver.common.keys import Keys\n",
    "from selenium.webdriver.common.by import By\n",
    "import numpy as np\n",
    "import re "
   ]
  },
  {
   "cell_type": "code",
   "execution_count": 2,
   "id": "a36635eb-e6f6-4438-85ea-006e824d9f23",
   "metadata": {},
   "outputs": [],
   "source": [
    "df= pd.read_csv('glassdoor2.csv')\n",
    "df2=df\n",
    "df3=df"
   ]
  },
  {
   "cell_type": "code",
   "execution_count": 3,
   "id": "0ec87ba9-6640-4391-9942-d7d86c0dbe21",
   "metadata": {},
   "outputs": [
    {
     "data": {
      "text/html": [
       "<div>\n",
       "<style scoped>\n",
       "    .dataframe tbody tr th:only-of-type {\n",
       "        vertical-align: middle;\n",
       "    }\n",
       "\n",
       "    .dataframe tbody tr th {\n",
       "        vertical-align: top;\n",
       "    }\n",
       "\n",
       "    .dataframe thead th {\n",
       "        text-align: right;\n",
       "    }\n",
       "</style>\n",
       "<table border=\"1\" class=\"dataframe\">\n",
       "  <thead>\n",
       "    <tr style=\"text-align: right;\">\n",
       "      <th></th>\n",
       "      <th>Unnamed: 0</th>\n",
       "      <th>Company Name</th>\n",
       "      <th>Job Title</th>\n",
       "      <th>Location</th>\n",
       "      <th>Ratings</th>\n",
       "      <th>Salary</th>\n",
       "      <th>Links</th>\n",
       "      <th>Job Description</th>\n",
       "    </tr>\n",
       "  </thead>\n",
       "  <tbody>\n",
       "    <tr>\n",
       "      <th>0</th>\n",
       "      <td>0</td>\n",
       "      <td>Telstra</td>\n",
       "      <td>Data Analyst</td>\n",
       "      <td>Bangalore</td>\n",
       "      <td>3.9</td>\n",
       "      <td>₹7L - ₹9L (Glassdoor Est.)30d+</td>\n",
       "      <td>https://www.glassdoor.co.in/partner/jobListing...</td>\n",
       "      <td>[\"At Arcadis we focus on attracting, retaining...</td>\n",
       "    </tr>\n",
       "    <tr>\n",
       "      <th>1</th>\n",
       "      <td>1</td>\n",
       "      <td>Arcadis</td>\n",
       "      <td>Data Engineering Analyst</td>\n",
       "      <td>Hyderābād</td>\n",
       "      <td>3.9</td>\n",
       "      <td>₹24L - ₹31L (Glassdoor Est.)15d</td>\n",
       "      <td>https://www.glassdoor.co.in/partner/jobListing...</td>\n",
       "      <td>['Employment Type\\nPermanent\\nClosing Date\\n30...</td>\n",
       "    </tr>\n",
       "    <tr>\n",
       "      <th>2</th>\n",
       "      <td>2</td>\n",
       "      <td>Exusia</td>\n",
       "      <td>Senior Data Analyst - Data Engineering/Analytics</td>\n",
       "      <td>Bangalore</td>\n",
       "      <td>3.9</td>\n",
       "      <td>₹13L - ₹28L (Employer Est.)Easy Apply30d+</td>\n",
       "      <td>https://www.glassdoor.co.in/partner/jobListing...</td>\n",
       "      <td>['Department: Sales and Delivery Team - Empowe...</td>\n",
       "    </tr>\n",
       "    <tr>\n",
       "      <th>3</th>\n",
       "      <td>3</td>\n",
       "      <td>Sweans Technologies Pvt Ltd</td>\n",
       "      <td>Research Analyst - Looking for Fresh Graduates</td>\n",
       "      <td>Calicut</td>\n",
       "      <td>3.9</td>\n",
       "      <td>₹28T (Employer Est.)Easy Apply5d</td>\n",
       "      <td>https://www.glassdoor.co.in/partner/jobListing...</td>\n",
       "      <td>['Work closely with UK and US clients in Holly...</td>\n",
       "    </tr>\n",
       "    <tr>\n",
       "      <th>4</th>\n",
       "      <td>4</td>\n",
       "      <td>24-7 Intouch</td>\n",
       "      <td>Data Analyst (Overnight)</td>\n",
       "      <td>Hyderābād</td>\n",
       "      <td>3.9</td>\n",
       "      <td>₹3L - ₹4L (Glassdoor Est.)Easy Apply30d+</td>\n",
       "      <td>https://www.glassdoor.co.in/partner/jobListing...</td>\n",
       "      <td>['About 24-7 Intouch\\n24-7 Intouch is a global...</td>\n",
       "    </tr>\n",
       "    <tr>\n",
       "      <th>...</th>\n",
       "      <td>...</td>\n",
       "      <td>...</td>\n",
       "      <td>...</td>\n",
       "      <td>...</td>\n",
       "      <td>...</td>\n",
       "      <td>...</td>\n",
       "      <td>...</td>\n",
       "      <td>...</td>\n",
       "    </tr>\n",
       "    <tr>\n",
       "      <th>925</th>\n",
       "      <td>925</td>\n",
       "      <td>TATA Consultancy Services Ltd.</td>\n",
       "      <td>Financial Analyst</td>\n",
       "      <td>Mumbai</td>\n",
       "      <td>3.5</td>\n",
       "      <td>₹2L - ₹4L (Glassdoor Est.)30d+</td>\n",
       "      <td>https://www.glassdoor.co.in/partner/jobListing...</td>\n",
       "      <td>['Job Description\\n', '', '', '\\n', 'Qualifica...</td>\n",
       "    </tr>\n",
       "    <tr>\n",
       "      <th>926</th>\n",
       "      <td>926</td>\n",
       "      <td>TMF Group</td>\n",
       "      <td>Data and Reporting Analyst</td>\n",
       "      <td>Noida</td>\n",
       "      <td>3.5</td>\n",
       "      <td>₹12L - ₹18L (Employer Est.)30d+</td>\n",
       "      <td>https://www.glassdoor.co.in/partner/jobListing...</td>\n",
       "      <td>['Job Description :', '', '\\n. Deadline orient...</td>\n",
       "    </tr>\n",
       "    <tr>\n",
       "      <th>927</th>\n",
       "      <td>927</td>\n",
       "      <td>ANI Calls India Private Limited</td>\n",
       "      <td>Data Analyst / Modeler</td>\n",
       "      <td>Mumbai</td>\n",
       "      <td>3.5</td>\n",
       "      <td>₹7L - ₹16L (Employer Est.)30d+</td>\n",
       "      <td>https://www.glassdoor.co.in/partner/jobListing...</td>\n",
       "      <td>[\"Anicalls\\n\\nIndustry: IT\\n\\nTotal Positions:...</td>\n",
       "    </tr>\n",
       "    <tr>\n",
       "      <th>928</th>\n",
       "      <td>928</td>\n",
       "      <td>ANI Calls India Private Limited</td>\n",
       "      <td>Data Analyst -WAKAD-Pune sal: 2LPA to 4LPA Exp...</td>\n",
       "      <td>Pune</td>\n",
       "      <td>3.8</td>\n",
       "      <td>₹1L - ₹4L (Employer Est.)30d+</td>\n",
       "      <td>https://www.glassdoor.co.in/partner/jobListing...</td>\n",
       "      <td>[\"About Client:\\n\\nWe're associated with US Fi...</td>\n",
       "    </tr>\n",
       "    <tr>\n",
       "      <th>929</th>\n",
       "      <td>929</td>\n",
       "      <td>Genie Customer Management Services</td>\n",
       "      <td>Research Analyst - Mumbai</td>\n",
       "      <td>Mumbai</td>\n",
       "      <td>3.8</td>\n",
       "      <td>₹3L - ₹7L (Glassdoor Est.)30d+</td>\n",
       "      <td>https://www.glassdoor.co.in/partner/jobListing...</td>\n",
       "      <td>[\"Job Description :\\n\\nJob Description:\\n\\nJob...</td>\n",
       "    </tr>\n",
       "  </tbody>\n",
       "</table>\n",
       "<p>930 rows × 8 columns</p>\n",
       "</div>"
      ],
      "text/plain": [
       "     Unnamed: 0                        Company Name  \\\n",
       "0             0                             Telstra   \n",
       "1             1                             Arcadis   \n",
       "2             2                              Exusia   \n",
       "3             3         Sweans Technologies Pvt Ltd   \n",
       "4             4                        24-7 Intouch   \n",
       "..          ...                                 ...   \n",
       "925         925      TATA Consultancy Services Ltd.   \n",
       "926         926                           TMF Group   \n",
       "927         927     ANI Calls India Private Limited   \n",
       "928         928     ANI Calls India Private Limited   \n",
       "929         929  Genie Customer Management Services   \n",
       "\n",
       "                                             Job Title  Location  Ratings  \\\n",
       "0                                         Data Analyst  Bangalore     3.9   \n",
       "1                             Data Engineering Analyst  Hyderābād     3.9   \n",
       "2     Senior Data Analyst - Data Engineering/Analytics  Bangalore     3.9   \n",
       "3       Research Analyst - Looking for Fresh Graduates    Calicut     3.9   \n",
       "4                             Data Analyst (Overnight)  Hyderābād     3.9   \n",
       "..                                                 ...        ...     ...   \n",
       "925                                  Financial Analyst     Mumbai     3.5   \n",
       "926                         Data and Reporting Analyst      Noida     3.5   \n",
       "927                             Data Analyst / Modeler     Mumbai     3.5   \n",
       "928  Data Analyst -WAKAD-Pune sal: 2LPA to 4LPA Exp...       Pune     3.8   \n",
       "929                          Research Analyst - Mumbai     Mumbai     3.8   \n",
       "\n",
       "                                        Salary  \\\n",
       "0               ₹7L - ₹9L (Glassdoor Est.)30d+   \n",
       "1              ₹24L - ₹31L (Glassdoor Est.)15d   \n",
       "2    ₹13L - ₹28L (Employer Est.)Easy Apply30d+   \n",
       "3             ₹28T (Employer Est.)Easy Apply5d   \n",
       "4     ₹3L - ₹4L (Glassdoor Est.)Easy Apply30d+   \n",
       "..                                         ...   \n",
       "925             ₹2L - ₹4L (Glassdoor Est.)30d+   \n",
       "926            ₹12L - ₹18L (Employer Est.)30d+   \n",
       "927             ₹7L - ₹16L (Employer Est.)30d+   \n",
       "928              ₹1L - ₹4L (Employer Est.)30d+   \n",
       "929             ₹3L - ₹7L (Glassdoor Est.)30d+   \n",
       "\n",
       "                                                 Links  \\\n",
       "0    https://www.glassdoor.co.in/partner/jobListing...   \n",
       "1    https://www.glassdoor.co.in/partner/jobListing...   \n",
       "2    https://www.glassdoor.co.in/partner/jobListing...   \n",
       "3    https://www.glassdoor.co.in/partner/jobListing...   \n",
       "4    https://www.glassdoor.co.in/partner/jobListing...   \n",
       "..                                                 ...   \n",
       "925  https://www.glassdoor.co.in/partner/jobListing...   \n",
       "926  https://www.glassdoor.co.in/partner/jobListing...   \n",
       "927  https://www.glassdoor.co.in/partner/jobListing...   \n",
       "928  https://www.glassdoor.co.in/partner/jobListing...   \n",
       "929  https://www.glassdoor.co.in/partner/jobListing...   \n",
       "\n",
       "                                       Job Description  \n",
       "0    [\"At Arcadis we focus on attracting, retaining...  \n",
       "1    ['Employment Type\\nPermanent\\nClosing Date\\n30...  \n",
       "2    ['Department: Sales and Delivery Team - Empowe...  \n",
       "3    ['Work closely with UK and US clients in Holly...  \n",
       "4    ['About 24-7 Intouch\\n24-7 Intouch is a global...  \n",
       "..                                                 ...  \n",
       "925  ['Job Description\\n', '', '', '\\n', 'Qualifica...  \n",
       "926  ['Job Description :', '', '\\n. Deadline orient...  \n",
       "927  [\"Anicalls\\n\\nIndustry: IT\\n\\nTotal Positions:...  \n",
       "928  [\"About Client:\\n\\nWe're associated with US Fi...  \n",
       "929  [\"Job Description :\\n\\nJob Description:\\n\\nJob...  \n",
       "\n",
       "[930 rows x 8 columns]"
      ]
     },
     "execution_count": 3,
     "metadata": {},
     "output_type": "execute_result"
    }
   ],
   "source": [
    "df2"
   ]
  },
  {
   "cell_type": "code",
   "execution_count": 4,
   "id": "3cf64903-4ee4-4d3d-ae7f-72a46a3bb32c",
   "metadata": {},
   "outputs": [
    {
     "data": {
      "text/html": [
       "<div>\n",
       "<style scoped>\n",
       "    .dataframe tbody tr th:only-of-type {\n",
       "        vertical-align: middle;\n",
       "    }\n",
       "\n",
       "    .dataframe tbody tr th {\n",
       "        vertical-align: top;\n",
       "    }\n",
       "\n",
       "    .dataframe thead th {\n",
       "        text-align: right;\n",
       "    }\n",
       "</style>\n",
       "<table border=\"1\" class=\"dataframe\">\n",
       "  <thead>\n",
       "    <tr style=\"text-align: right;\">\n",
       "      <th></th>\n",
       "      <th>Unnamed: 0</th>\n",
       "      <th>Company Name</th>\n",
       "      <th>Job Title</th>\n",
       "      <th>Location</th>\n",
       "      <th>Ratings</th>\n",
       "      <th>Salary</th>\n",
       "      <th>Links</th>\n",
       "      <th>Job Description</th>\n",
       "    </tr>\n",
       "  </thead>\n",
       "  <tbody>\n",
       "    <tr>\n",
       "      <th>0</th>\n",
       "      <td>0</td>\n",
       "      <td>Telstra</td>\n",
       "      <td>Data Analyst</td>\n",
       "      <td>Bangalore</td>\n",
       "      <td>3.9</td>\n",
       "      <td>₹7L - ₹9L (Glassdoor Est.)30d+</td>\n",
       "      <td>https://www.glassdoor.co.in/partner/jobListing...</td>\n",
       "      <td>[\"At Arcadis we focus on attracting, retaining...</td>\n",
       "    </tr>\n",
       "    <tr>\n",
       "      <th>1</th>\n",
       "      <td>1</td>\n",
       "      <td>Arcadis</td>\n",
       "      <td>Data Engineering Analyst</td>\n",
       "      <td>Hyderābād</td>\n",
       "      <td>3.9</td>\n",
       "      <td>₹24L - ₹31L (Glassdoor Est.)15d</td>\n",
       "      <td>https://www.glassdoor.co.in/partner/jobListing...</td>\n",
       "      <td>['Employment Type\\nPermanent\\nClosing Date\\n30...</td>\n",
       "    </tr>\n",
       "    <tr>\n",
       "      <th>2</th>\n",
       "      <td>2</td>\n",
       "      <td>Exusia</td>\n",
       "      <td>Senior Data Analyst - Data Engineering/Analytics</td>\n",
       "      <td>Bangalore</td>\n",
       "      <td>3.9</td>\n",
       "      <td>₹13L - ₹28L (Employer Est.)Easy Apply30d+</td>\n",
       "      <td>https://www.glassdoor.co.in/partner/jobListing...</td>\n",
       "      <td>['Department: Sales and Delivery Team - Empowe...</td>\n",
       "    </tr>\n",
       "    <tr>\n",
       "      <th>3</th>\n",
       "      <td>3</td>\n",
       "      <td>Sweans Technologies Pvt Ltd</td>\n",
       "      <td>Research Analyst - Looking for Fresh Graduates</td>\n",
       "      <td>Calicut</td>\n",
       "      <td>3.9</td>\n",
       "      <td>₹28T (Employer Est.)Easy Apply5d</td>\n",
       "      <td>https://www.glassdoor.co.in/partner/jobListing...</td>\n",
       "      <td>['Work closely with UK and US clients in Holly...</td>\n",
       "    </tr>\n",
       "    <tr>\n",
       "      <th>4</th>\n",
       "      <td>4</td>\n",
       "      <td>24-7 Intouch</td>\n",
       "      <td>Data Analyst (Overnight)</td>\n",
       "      <td>Hyderābād</td>\n",
       "      <td>3.9</td>\n",
       "      <td>₹3L - ₹4L (Glassdoor Est.)Easy Apply30d+</td>\n",
       "      <td>https://www.glassdoor.co.in/partner/jobListing...</td>\n",
       "      <td>['About 24-7 Intouch\\n24-7 Intouch is a global...</td>\n",
       "    </tr>\n",
       "    <tr>\n",
       "      <th>...</th>\n",
       "      <td>...</td>\n",
       "      <td>...</td>\n",
       "      <td>...</td>\n",
       "      <td>...</td>\n",
       "      <td>...</td>\n",
       "      <td>...</td>\n",
       "      <td>...</td>\n",
       "      <td>...</td>\n",
       "    </tr>\n",
       "    <tr>\n",
       "      <th>925</th>\n",
       "      <td>925</td>\n",
       "      <td>TATA Consultancy Services Ltd.</td>\n",
       "      <td>Financial Analyst</td>\n",
       "      <td>Mumbai</td>\n",
       "      <td>3.5</td>\n",
       "      <td>₹2L - ₹4L (Glassdoor Est.)30d+</td>\n",
       "      <td>https://www.glassdoor.co.in/partner/jobListing...</td>\n",
       "      <td>['Job Description\\n', '', '', '\\n', 'Qualifica...</td>\n",
       "    </tr>\n",
       "    <tr>\n",
       "      <th>926</th>\n",
       "      <td>926</td>\n",
       "      <td>TMF Group</td>\n",
       "      <td>Data and Reporting Analyst</td>\n",
       "      <td>Noida</td>\n",
       "      <td>3.5</td>\n",
       "      <td>₹12L - ₹18L (Employer Est.)30d+</td>\n",
       "      <td>https://www.glassdoor.co.in/partner/jobListing...</td>\n",
       "      <td>['Job Description :', '', '\\n. Deadline orient...</td>\n",
       "    </tr>\n",
       "    <tr>\n",
       "      <th>927</th>\n",
       "      <td>927</td>\n",
       "      <td>ANI Calls India Private Limited</td>\n",
       "      <td>Data Analyst / Modeler</td>\n",
       "      <td>Mumbai</td>\n",
       "      <td>3.5</td>\n",
       "      <td>₹7L - ₹16L (Employer Est.)30d+</td>\n",
       "      <td>https://www.glassdoor.co.in/partner/jobListing...</td>\n",
       "      <td>[\"Anicalls\\n\\nIndustry: IT\\n\\nTotal Positions:...</td>\n",
       "    </tr>\n",
       "    <tr>\n",
       "      <th>928</th>\n",
       "      <td>928</td>\n",
       "      <td>ANI Calls India Private Limited</td>\n",
       "      <td>Data Analyst -WAKAD-Pune sal: 2LPA to 4LPA Exp...</td>\n",
       "      <td>Pune</td>\n",
       "      <td>3.8</td>\n",
       "      <td>₹1L - ₹4L (Employer Est.)30d+</td>\n",
       "      <td>https://www.glassdoor.co.in/partner/jobListing...</td>\n",
       "      <td>[\"About Client:\\n\\nWe're associated with US Fi...</td>\n",
       "    </tr>\n",
       "    <tr>\n",
       "      <th>929</th>\n",
       "      <td>929</td>\n",
       "      <td>Genie Customer Management Services</td>\n",
       "      <td>Research Analyst - Mumbai</td>\n",
       "      <td>Mumbai</td>\n",
       "      <td>3.8</td>\n",
       "      <td>₹3L - ₹7L (Glassdoor Est.)30d+</td>\n",
       "      <td>https://www.glassdoor.co.in/partner/jobListing...</td>\n",
       "      <td>[\"Job Description :\\n\\nJob Description:\\n\\nJob...</td>\n",
       "    </tr>\n",
       "  </tbody>\n",
       "</table>\n",
       "<p>930 rows × 8 columns</p>\n",
       "</div>"
      ],
      "text/plain": [
       "     Unnamed: 0                        Company Name  \\\n",
       "0             0                             Telstra   \n",
       "1             1                             Arcadis   \n",
       "2             2                              Exusia   \n",
       "3             3         Sweans Technologies Pvt Ltd   \n",
       "4             4                        24-7 Intouch   \n",
       "..          ...                                 ...   \n",
       "925         925      TATA Consultancy Services Ltd.   \n",
       "926         926                           TMF Group   \n",
       "927         927     ANI Calls India Private Limited   \n",
       "928         928     ANI Calls India Private Limited   \n",
       "929         929  Genie Customer Management Services   \n",
       "\n",
       "                                             Job Title  Location  Ratings  \\\n",
       "0                                         Data Analyst  Bangalore     3.9   \n",
       "1                             Data Engineering Analyst  Hyderābād     3.9   \n",
       "2     Senior Data Analyst - Data Engineering/Analytics  Bangalore     3.9   \n",
       "3       Research Analyst - Looking for Fresh Graduates    Calicut     3.9   \n",
       "4                             Data Analyst (Overnight)  Hyderābād     3.9   \n",
       "..                                                 ...        ...     ...   \n",
       "925                                  Financial Analyst     Mumbai     3.5   \n",
       "926                         Data and Reporting Analyst      Noida     3.5   \n",
       "927                             Data Analyst / Modeler     Mumbai     3.5   \n",
       "928  Data Analyst -WAKAD-Pune sal: 2LPA to 4LPA Exp...       Pune     3.8   \n",
       "929                          Research Analyst - Mumbai     Mumbai     3.8   \n",
       "\n",
       "                                        Salary  \\\n",
       "0               ₹7L - ₹9L (Glassdoor Est.)30d+   \n",
       "1              ₹24L - ₹31L (Glassdoor Est.)15d   \n",
       "2    ₹13L - ₹28L (Employer Est.)Easy Apply30d+   \n",
       "3             ₹28T (Employer Est.)Easy Apply5d   \n",
       "4     ₹3L - ₹4L (Glassdoor Est.)Easy Apply30d+   \n",
       "..                                         ...   \n",
       "925             ₹2L - ₹4L (Glassdoor Est.)30d+   \n",
       "926            ₹12L - ₹18L (Employer Est.)30d+   \n",
       "927             ₹7L - ₹16L (Employer Est.)30d+   \n",
       "928              ₹1L - ₹4L (Employer Est.)30d+   \n",
       "929             ₹3L - ₹7L (Glassdoor Est.)30d+   \n",
       "\n",
       "                                                 Links  \\\n",
       "0    https://www.glassdoor.co.in/partner/jobListing...   \n",
       "1    https://www.glassdoor.co.in/partner/jobListing...   \n",
       "2    https://www.glassdoor.co.in/partner/jobListing...   \n",
       "3    https://www.glassdoor.co.in/partner/jobListing...   \n",
       "4    https://www.glassdoor.co.in/partner/jobListing...   \n",
       "..                                                 ...   \n",
       "925  https://www.glassdoor.co.in/partner/jobListing...   \n",
       "926  https://www.glassdoor.co.in/partner/jobListing...   \n",
       "927  https://www.glassdoor.co.in/partner/jobListing...   \n",
       "928  https://www.glassdoor.co.in/partner/jobListing...   \n",
       "929  https://www.glassdoor.co.in/partner/jobListing...   \n",
       "\n",
       "                                       Job Description  \n",
       "0    [\"At Arcadis we focus on attracting, retaining...  \n",
       "1    ['Employment Type\\nPermanent\\nClosing Date\\n30...  \n",
       "2    ['Department: Sales and Delivery Team - Empowe...  \n",
       "3    ['Work closely with UK and US clients in Holly...  \n",
       "4    ['About 24-7 Intouch\\n24-7 Intouch is a global...  \n",
       "..                                                 ...  \n",
       "925  ['Job Description\\n', '', '', '\\n', 'Qualifica...  \n",
       "926  ['Job Description :', '', '\\n. Deadline orient...  \n",
       "927  [\"Anicalls\\n\\nIndustry: IT\\n\\nTotal Positions:...  \n",
       "928  [\"About Client:\\n\\nWe're associated with US Fi...  \n",
       "929  [\"Job Description :\\n\\nJob Description:\\n\\nJob...  \n",
       "\n",
       "[930 rows x 8 columns]"
      ]
     },
     "execution_count": 4,
     "metadata": {},
     "output_type": "execute_result"
    }
   ],
   "source": [
    "df3.replace('None', np.nan)"
   ]
  },
  {
   "cell_type": "code",
   "execution_count": 5,
   "id": "c7a4e1ad-7f26-40f1-b2ef-c6b1be0b9bde",
   "metadata": {},
   "outputs": [],
   "source": [
    "df3 = df3.dropna(subset=['Job Title'])"
   ]
  },
  {
   "cell_type": "code",
   "execution_count": 6,
   "id": "5d1c45ba-366b-4ac3-ab6e-218b6d37a219",
   "metadata": {},
   "outputs": [],
   "source": [
    "df3=df3.drop_duplicates()"
   ]
  },
  {
   "cell_type": "code",
   "execution_count": 7,
   "id": "32dd5a06-3f96-41e6-b146-61e3a1b60cd8",
   "metadata": {},
   "outputs": [],
   "source": [
    "df3.reset_index(drop=True, inplace=True)"
   ]
  },
  {
   "cell_type": "code",
   "execution_count": 8,
   "id": "5e7e4bf5-aee8-4bee-8bad-d5dcd2fe6756",
   "metadata": {},
   "outputs": [
    {
     "data": {
      "text/plain": [
       "(930, 8)"
      ]
     },
     "execution_count": 8,
     "metadata": {},
     "output_type": "execute_result"
    }
   ],
   "source": [
    "df3.shape"
   ]
  },
  {
   "cell_type": "code",
   "execution_count": 15,
   "id": "eec1156b-dfdb-4836-8c40-a6fb2c81823b",
   "metadata": {},
   "outputs": [
    {
     "data": {
      "text/plain": [
       "                93\n",
       "5L - 7L ()      62\n",
       "4L - 8L ()      62\n",
       "3L - 7L ()      62\n",
       "7L - 9L ()      31\n",
       "4L - 6L ()      31\n",
       "7L - 16L ()     31\n",
       "12L - 18L ()    31\n",
       "2L - 4L ()      31\n",
       "8L - 14L ()     31\n",
       "5L - 14L ()     31\n",
       "9L - 14L ()     31\n",
       "2L - 5L ()      31\n",
       "5L - 6L ()      31\n",
       "18T - 40T ()    31\n",
       "12L - 16L ()    31\n",
       "24L - 31L ()    31\n",
       "3L - 10L ()     31\n",
       "2L - 3L ()      31\n",
       "12T - 15T ()    31\n",
       "37T - 56T ()    31\n",
       "3L - 4L ()      31\n",
       "28T ()          31\n",
       "13L - 28L ()    31\n",
       "1L - 4L ()      31\n",
       "Name: Salary, dtype: int64"
      ]
     },
     "execution_count": 15,
     "metadata": {},
     "output_type": "execute_result"
    }
   ],
   "source": [
    "df3['Salary'].value_counts()"
   ]
  },
  {
   "cell_type": "code",
   "execution_count": 14,
   "id": "3bc27ca0-6a9c-481b-9f30-4ce57d2102ff",
   "metadata": {},
   "outputs": [
    {
     "name": "stderr",
     "output_type": "stream",
     "text": [
      "C:\\Users\\Kaveri\\AppData\\Local\\Temp\\ipykernel_4484\\1015515654.py:4: FutureWarning: The default value of regex will change from True to False in a future version.\n",
      "  df3['Salary'] = df3['Salary'].str.replace('(Employer Est.)','')\n",
      "C:\\Users\\Kaveri\\AppData\\Local\\Temp\\ipykernel_4484\\1015515654.py:5: FutureWarning: The default value of regex will change from True to False in a future version.\n",
      "  df3['Salary'] = df3['Salary'].str.replace('(Glassdoor Est.)','')\n",
      "C:\\Users\\Kaveri\\AppData\\Local\\Temp\\ipykernel_4484\\1015515654.py:6: FutureWarning: The default value of regex will change from True to False in a future version.\n",
      "  df3['Salary'] = df3['Salary'].str.replace('()','')\n",
      "C:\\Users\\Kaveri\\AppData\\Local\\Temp\\ipykernel_4484\\1015515654.py:7: FutureWarning: The default value of regex will change from True to False in a future version.\n",
      "  df3['Salary'] = df3['Salary'].str.replace('30d+','')\n",
      "C:\\Users\\Kaveri\\AppData\\Local\\Temp\\ipykernel_4484\\1015515654.py:12: FutureWarning: The default value of regex will change from True to False in a future version.\n",
      "  df3['Salary'] = df3['Salary'].str.replace('Easy Apply30d+','')\n",
      "C:\\Users\\Kaveri\\AppData\\Local\\Temp\\ipykernel_4484\\1015515654.py:16: FutureWarning: The default value of regex will change from True to False in a future version.\n",
      "  df3['Salary'] = df3['Salary'].str.replace('Easy Apply+','')\n",
      "C:\\Users\\Kaveri\\AppData\\Local\\Temp\\ipykernel_4484\\1015515654.py:17: FutureWarning: The default value of regex will change from True to False in a future version. In addition, single character regular expressions will *not* be treated as literal strings when regex=True.\n",
      "  df3['Salary'] = df3['Salary'].str.replace('+','')\n"
     ]
    }
   ],
   "source": [
    "df3['Salary'] = df3['Salary'].str.replace('\\n', '')\n",
    "df3['Salary'] = df3['Salary'].str.replace(',', '')\n",
    "df3['Salary'] = df3['Salary'].str.replace('₹','')\n",
    "df3['Salary'] = df3['Salary'].str.replace('(Employer Est.)','')\n",
    "df3['Salary'] = df3['Salary'].str.replace('(Glassdoor Est.)','')\n",
    "df3['Salary'] = df3['Salary'].str.replace('()','')\n",
    "df3['Salary'] = df3['Salary'].str.replace('30d+','')\n",
    "df3['Salary'] = df3['Salary'].str.replace('15d','')\n",
    "df3['Salary'] = df3['Salary'].str.replace('4d','')\n",
    "df3['Salary'] = df3['Salary'].str.replace('Easy Apply24h','')\n",
    "df3['Salary'] = df3['Salary'].str.replace('Easy Apply7d','')\n",
    "df3['Salary'] = df3['Salary'].str.replace('Easy Apply30d+','')\n",
    "df3['Salary'] = df3['Salary'].str.replace('3d','')\n",
    "df3['Salary'] = df3['Salary'].str.replace('Easy Apply6d','')\n",
    "df3['Salary'] = df3['Salary'].str.replace('Easy Apply5d','')\n",
    "df3['Salary'] = df3['Salary'].str.replace('Easy Apply+','')\n",
    "df3['Salary'] = df3['Salary'].str.replace('+','')\n",
    "df3['Salary'] = df3['Salary'].str.replace('5d','')\n",
    "\n"
   ]
  },
  {
   "cell_type": "code",
   "execution_count": 16,
   "id": "4acf982f-cb3a-485a-888e-26885c17988c",
   "metadata": {},
   "outputs": [
    {
     "data": {
      "text/plain": [
       "                93\n",
       "5L - 7L ()      62\n",
       "4L - 8L ()      62\n",
       "3L - 7L ()      62\n",
       "7L - 9L ()      31\n",
       "4L - 6L ()      31\n",
       "7L - 16L ()     31\n",
       "12L - 18L ()    31\n",
       "2L - 4L ()      31\n",
       "8L - 14L ()     31\n",
       "5L - 14L ()     31\n",
       "9L - 14L ()     31\n",
       "2L - 5L ()      31\n",
       "5L - 6L ()      31\n",
       "18T - 40T ()    31\n",
       "12L - 16L ()    31\n",
       "24L - 31L ()    31\n",
       "3L - 10L ()     31\n",
       "2L - 3L ()      31\n",
       "12T - 15T ()    31\n",
       "37T - 56T ()    31\n",
       "3L - 4L ()      31\n",
       "28T ()          31\n",
       "13L - 28L ()    31\n",
       "1L - 4L ()      31\n",
       "Name: Salary, dtype: int64"
      ]
     },
     "execution_count": 16,
     "metadata": {},
     "output_type": "execute_result"
    }
   ],
   "source": [
    "df3['Salary'].value_counts()"
   ]
  },
  {
   "cell_type": "code",
   "execution_count": 17,
   "id": "d40924df-2c2c-4b6a-bf48-b0f79f63db58",
   "metadata": {},
   "outputs": [],
   "source": [
    "df3[\"salary_period\"]=np.nan"
   ]
  },
  {
   "cell_type": "code",
   "execution_count": 18,
   "id": "077b9688-e6a0-4475-9da2-5dea27593572",
   "metadata": {},
   "outputs": [
    {
     "name": "stderr",
     "output_type": "stream",
     "text": [
      "C:\\Users\\Kaveri\\AppData\\Local\\Temp\\ipykernel_4484\\1838717329.py:9: SettingWithCopyWarning: \n",
      "A value is trying to be set on a copy of a slice from a DataFrame\n",
      "\n",
      "See the caveats in the documentation: https://pandas.pydata.org/pandas-docs/stable/user_guide/indexing.html#returning-a-view-versus-a-copy\n",
      "  df3[\"salary_period\"][i]=\"year\"\n"
     ]
    }
   ],
   "source": [
    "import string\n",
    "df3[\"Salary\"].str.contains(\"year\")\n",
    "c=df3[\"Salary\"]\n",
    "i=0\n",
    "for rows in c:\n",
    "    \n",
    "    if(type(rows)==str):\n",
    "        if (rows.find(\"L\")!=-1):\n",
    "            df3[\"salary_period\"][i]=\"year\"\n",
    "        \n",
    "    i=i+1\n",
    "    "
   ]
  },
  {
   "cell_type": "code",
   "execution_count": 19,
   "id": "1a831f9f-7239-43bf-a65e-cb376c7871a9",
   "metadata": {},
   "outputs": [],
   "source": [
    "df3[\"Salary\"].str.contains(\"month\")\n",
    "c=df2[\"Salary\"]\n",
    "i=0\n",
    "for rows in c:\n",
    "    \n",
    "    if(type(rows)==str):\n",
    "        if (rows.find(\"T\")!=-1):\n",
    "            df3[\"salary_period\"][i]=\"month\"\n",
    "    i=i+1"
   ]
  },
  {
   "cell_type": "code",
   "execution_count": 20,
   "id": "90f5e84b-c05f-4315-8818-ecb960358c57",
   "metadata": {},
   "outputs": [],
   "source": [
    "c=df3[\"Salary\"]\n",
    "i=0\n",
    "for rows in c:\n",
    "    \n",
    "    if(type(rows)==str):\n",
    "        if (rows.find(\"Hour\")!=-1):\n",
    "            df3[\"salary_period\"][i]=\"hour\"\n",
    "    i=i+1"
   ]
  },
  {
   "cell_type": "code",
   "execution_count": 21,
   "id": "3f874675-3fcb-4a51-99de-779e24721fed",
   "metadata": {},
   "outputs": [
    {
     "data": {
      "text/plain": [
       "year     713\n",
       "month    124\n",
       "Name: salary_period, dtype: int64"
      ]
     },
     "execution_count": 21,
     "metadata": {},
     "output_type": "execute_result"
    }
   ],
   "source": [
    "df3[\"salary_period\"].value_counts()"
   ]
  },
  {
   "cell_type": "code",
   "execution_count": 22,
   "id": "634e283a-7091-4406-82cf-9a322afe36d9",
   "metadata": {},
   "outputs": [],
   "source": [
    "df3[\"Average\"]=np.nan\n"
   ]
  },
  {
   "cell_type": "code",
   "execution_count": 23,
   "id": "aab87eb9-332a-4662-83f1-762d4f9fbf0f",
   "metadata": {},
   "outputs": [],
   "source": [
    "df3['Salary2']=df3['Salary']"
   ]
  },
  {
   "cell_type": "code",
   "execution_count": 24,
   "id": "af6fda4a-c1bc-421d-9bf2-641cbc37db7a",
   "metadata": {},
   "outputs": [],
   "source": [
    "df3['Salary'] = df3['Salary'].str.replace('L','')\n",
    "df3['Salary'] = df3['Salary'].str.replace('-','')\n",
    "df3['Salary'] = df3['Salary'].str.replace('T','')"
   ]
  },
  {
   "cell_type": "code",
   "execution_count": 25,
   "id": "7b1776a6-d35d-4f79-af87-ac01804dd9f6",
   "metadata": {},
   "outputs": [
    {
     "data": {
      "text/plain": [
       "             93\n",
       "5  7 ()      62\n",
       "4  8 ()      62\n",
       "3  7 ()      62\n",
       "7  9 ()      31\n",
       "4  6 ()      31\n",
       "7  16 ()     31\n",
       "12  18 ()    31\n",
       "2  4 ()      31\n",
       "8  14 ()     31\n",
       "5  14 ()     31\n",
       "9  14 ()     31\n",
       "2  5 ()      31\n",
       "5  6 ()      31\n",
       "18  40 ()    31\n",
       "12  16 ()    31\n",
       "24  31 ()    31\n",
       "3  10 ()     31\n",
       "2  3 ()      31\n",
       "12  15 ()    31\n",
       "37  56 ()    31\n",
       "3  4 ()      31\n",
       "28 ()        31\n",
       "13  28 ()    31\n",
       "1  4 ()      31\n",
       "Name: Salary, dtype: int64"
      ]
     },
     "execution_count": 25,
     "metadata": {},
     "output_type": "execute_result"
    }
   ],
   "source": [
    "df3['Salary'].value_counts()"
   ]
  },
  {
   "cell_type": "code",
   "execution_count": 26,
   "id": "f424ec17-e883-4c82-b82a-0bf2aa85d9b6",
   "metadata": {},
   "outputs": [
    {
     "name": "stderr",
     "output_type": "stream",
     "text": [
      "C:\\Users\\Kaveri\\AppData\\Local\\Temp\\ipykernel_4484\\1617094531.py:20: SettingWithCopyWarning: \n",
      "A value is trying to be set on a copy of a slice from a DataFrame\n",
      "\n",
      "See the caveats in the documentation: https://pandas.pydata.org/pandas-docs/stable/user_guide/indexing.html#returning-a-view-versus-a-copy\n",
      "  df3['Average'][i]=rows[0]\n"
     ]
    }
   ],
   "source": [
    "def avg(a,b):\n",
    "    return (a+b)/2\n",
    "c=df3[\"Salary\"]\n",
    "\n",
    "av=0\n",
    "a=0\n",
    "b=0\n",
    "i=0\n",
    "for rows in c:\n",
    "    av=0\n",
    "    if(type(rows)==str):\n",
    "        rows=rows.split()\n",
    "        for item in range(0,len(rows)):\n",
    "            if(rows[item].isdigit()):\n",
    "                \n",
    "                av=av+1\n",
    "                \n",
    "    if(av==1):\n",
    "                \n",
    "        df3['Average'][i]=rows[0]\n",
    "            \n",
    "    i=i+1"
   ]
  },
  {
   "cell_type": "code",
   "execution_count": 27,
   "id": "b95fe526-658b-464d-b1f9-1e65ff4a748a",
   "metadata": {},
   "outputs": [],
   "source": [
    "def avg(a,b):\n",
    "    return (a+b)/2\n",
    "c=df3[\"Salary\"]\n",
    "\n",
    "av=0\n",
    "a=0\n",
    "b=0\n",
    "i=0\n",
    "for rows in c:\n",
    "    if(type(rows)==str):\n",
    "        rows=rows.split()\n",
    "        for item in range(0,len(rows)):\n",
    "            if(rows[item].isdigit() and rows[item+1].isdigit()):\n",
    "                av=avg(int(rows[0]),int(rows[1]))\n",
    "                df3[\"Average\"][i]=av\n",
    "    i=i+1"
   ]
  },
  {
   "cell_type": "code",
   "execution_count": 29,
   "id": "6407a510-9de3-4ce5-bccf-ef20caa4cf1b",
   "metadata": {},
   "outputs": [
    {
     "data": {
      "text/plain": [
       "6.0     124\n",
       "5.0      93\n",
       "3.5      62\n",
       "11.5     62\n",
       "2.5      62\n",
       "8.0      31\n",
       "3.0      31\n",
       "11.0     31\n",
       "9.5      31\n",
       "5.5      31\n",
       "14.0     31\n",
       "6.5      31\n",
       "29.0     31\n",
       "27.5     31\n",
       "13.5     31\n",
       "46.5     31\n",
       "28       31\n",
       "20.5     31\n",
       "15.0     31\n",
       "Name: Average, dtype: int64"
      ]
     },
     "execution_count": 29,
     "metadata": {},
     "output_type": "execute_result"
    }
   ],
   "source": [
    "df3[\"Average\"].value_counts()"
   ]
  },
  {
   "cell_type": "code",
   "execution_count": 141,
   "id": "7d724a4f-e444-4e4a-8153-1d4969a1b070",
   "metadata": {},
   "outputs": [],
   "source": [
    "df3['Job Description']=df3['Job Description2']"
   ]
  },
  {
   "cell_type": "code",
   "execution_count": 138,
   "id": "9b873ea0-4d01-4769-9ebd-4a5a70da564d",
   "metadata": {},
   "outputs": [
    {
     "name": "stderr",
     "output_type": "stream",
     "text": [
      "C:\\Users\\Kaveri\\AppData\\Local\\Temp\\ipykernel_4484\\263574843.py:3: FutureWarning: The default value of regex will change from True to False in a future version. In addition, single character regular expressions will *not* be treated as literal strings when regex=True.\n",
      "  df3['Job Description2'] = df3['Job Description2'].str.replace(item, ' ')\n"
     ]
    }
   ],
   "source": [
    "cleaning_list = ['+','[',']',\"'\",'\"', '$','/',',','?','.',';','-','@','!','&','%','^','*',')','(', '\\n']\n",
    "for item in cleaning_list:\n",
    "    df3['Job Description2'] = df3['Job Description2'].str.replace(item, ' ')\n",
    "    \n"
   ]
  },
  {
   "cell_type": "code",
   "execution_count": 139,
   "id": "2e5edfb8-c64a-42f6-b91c-21b6aac289f6",
   "metadata": {},
   "outputs": [
    {
     "data": {
      "text/plain": [
       "0        At Arcadis we focus on attracting  retaining...\n",
       "1        Employment Type\\nPermanent\\nClosing Date\\n30...\n",
       "2        Department: Sales and Delivery Team   Empowe...\n",
       "3        Work closely with UK and US clients in Holly...\n",
       "4        About 24 7 Intouch\\n24 7 Intouch is a global...\n",
       "                             ...                        \n",
       "925      Job Description\\n            \\n    Qualifica...\n",
       "926      Job Description :        \\n  Deadline orient...\n",
       "927      Anicalls\\n\\nIndustry: IT\\n\\nTotal Positions:...\n",
       "928      About Client:\\n\\nWe re associated with US Fi...\n",
       "929      Job Description :\\n\\nJob Description:\\n\\nJob...\n",
       "Name: Job Description2, Length: 930, dtype: object"
      ]
     },
     "execution_count": 139,
     "metadata": {},
     "output_type": "execute_result"
    }
   ],
   "source": [
    "df3['Job Description2']"
   ]
  },
  {
   "cell_type": "code",
   "execution_count": 169,
   "id": "28822e7a-8e3b-4110-84c2-1d7fb76e60ac",
   "metadata": {},
   "outputs": [],
   "source": [
    "exp=[]"
   ]
  },
  {
   "cell_type": "code",
   "execution_count": 170,
   "id": "abe8f046-4bc7-41f9-9db3-904cecf5ad12",
   "metadata": {},
   "outputs": [],
   "source": [
    "def desc(i):\n",
    "    l = df3[\"Job Description\"][i]\n",
    "    l=str(l)\n",
    "    p = l.split('\\n')\n",
    "    return p"
   ]
  },
  {
   "cell_type": "code",
   "execution_count": 171,
   "id": "76340fb0-8de5-40fc-af15-08aafda74591",
   "metadata": {},
   "outputs": [],
   "source": [
    "for i in range(0,930):\n",
    "    \n",
    "    p=desc(i)\n",
    "    for line in p:\n",
    "        y = re.findall('\\d+ .+ [Ee]xperience', line)\n",
    "        if y!= []:\n",
    "            exp.append(y)\n",
    "    \n",
    "   "
   ]
  },
  {
   "cell_type": "code",
   "execution_count": 172,
   "id": "37430fc2-0fec-4f33-9a99-88882c86d3ec",
   "metadata": {},
   "outputs": [
    {
     "data": {
      "text/plain": [
       "(510, 1)"
      ]
     },
     "execution_count": 172,
     "metadata": {},
     "output_type": "execute_result"
    }
   ],
   "source": [
    "exp2.shape"
   ]
  },
  {
   "cell_type": "code",
   "execution_count": 180,
   "id": "7805c71d-ebfa-4084-a5e9-f3405c20c675",
   "metadata": {},
   "outputs": [],
   "source": [
    "exp2 = pd.DataFrame(exp)"
   ]
  },
  {
   "cell_type": "code",
   "execution_count": 199,
   "id": "94355767-a13d-4c92-9156-63c6f8a8d194",
   "metadata": {},
   "outputs": [],
   "source": [
    "df3['Years of Experience']=exp2"
   ]
  },
  {
   "cell_type": "code",
   "execution_count": 200,
   "id": "1d394a64-ad73-409d-961c-64b4ee30aa37",
   "metadata": {},
   "outputs": [
    {
     "data": {
      "text/plain": [
       "0      365  Fulcrum  OpenGround  BIM360  SQL Server  ...\n",
       "1      5   12 years    Basic Qualification: Master Ba...\n",
       "2      24 7 Intouch\\n24 7 Intouch is a global custome...\n",
       "3      37 000 00   ₹55 600 00 per month    Applicatio...\n",
       "4      35 WPM  and Computer LiteracyHighly organized ...\n",
       "                             ...                        \n",
       "925                                                  NaN\n",
       "926                                                  NaN\n",
       "927                                                  NaN\n",
       "928                                                  NaN\n",
       "929                                                  NaN\n",
       "Name: Years of Experience, Length: 930, dtype: object"
      ]
     },
     "execution_count": 200,
     "metadata": {},
     "output_type": "execute_result"
    }
   ],
   "source": [
    "df3['Years of Experience']"
   ]
  },
  {
   "cell_type": "code",
   "execution_count": 201,
   "id": "632dd96f-882c-4e2a-9dc9-3769d1fbac7c",
   "metadata": {},
   "outputs": [
    {
     "name": "stderr",
     "output_type": "stream",
     "text": [
      "C:\\Users\\Kaveri\\AppData\\Local\\Temp\\ipykernel_4484\\4028248349.py:3: FutureWarning: The default value of regex will change from True to False in a future version. In addition, single character regular expressions will *not* be treated as literal strings when regex=True.\n",
      "  df3['Years of Experience'] = df3['Years of Experience'].str.replace(item, ' ')\n"
     ]
    }
   ],
   "source": [
    "cleaning_list = ['+','[',']',\"'\",'\"', '$','/',',','?','.',';','-','@','!','&','%','^','*',')','(', '\\n']\n",
    "for item in cleaning_list:\n",
    "    df3['Years of Experience'] = df3['Years of Experience'].str.replace(item, ' ')\n",
    "    \n"
   ]
  },
  {
   "cell_type": "code",
   "execution_count": 202,
   "id": "6ece081e-4a8b-43ec-a4f2-2f2436d714f7",
   "metadata": {},
   "outputs": [],
   "source": [
    "c=df3['Years of Experience']\n",
    "i=0\n",
    "for rows in c:\n",
    "    if(type(rows)==str):\n",
    "        rows=rows.lower()\n",
    "        rows=rows.split()\n",
    "        a='year'\n",
    "        b='years'\n",
    "        c='experience'\n",
    "        if( (a in rows or b in rows) and c in rows):\n",
    "            pass\n",
    "        else:\n",
    "            df3['Years of Experience'][i]=None\n",
    "    i=i+1\n",
    "            \n",
    "            "
   ]
  },
  {
   "cell_type": "code",
   "execution_count": 203,
   "id": "b70c541a-9e0d-41fe-977a-b095d2035b29",
   "metadata": {},
   "outputs": [],
   "source": [
    "c=df3['Years of Experience']\n",
    "i=0\n",
    "d=0\n",
    "k=[]\n",
    "for rows in c:\n",
    "    \n",
    "    if(type(rows)==str):\n",
    "        rows=rows.lower()\n",
    "        rows=rows.split()\n",
    "        \n",
    "        a='years'\n",
    "        c='year'\n",
    "        b='experience'\n",
    "        if (a in rows or c in rows) and b in rows:\n",
    "            for t in range(0,len(rows)):\n",
    "                if(rows[t].isdigit()):\n",
    "                    if(int(rows[t])<19 and int(rows[t])>0 ):\n",
    "                        df3['Years of Experience'][i]=rows[t]\n",
    "                    else:\n",
    "                        df3['Years of Experience'][i]=None\n",
    "            \n",
    "    i=i+1\n",
    "                        "
   ]
  },
  {
   "cell_type": "code",
   "execution_count": 204,
   "id": "a8e607e9-65fa-4948-8059-baa02dcb7033",
   "metadata": {},
   "outputs": [
    {
     "data": {
      "text/plain": [
       "713"
      ]
     },
     "execution_count": 204,
     "metadata": {},
     "output_type": "execute_result"
    }
   ],
   "source": [
    "df3['Years of Experience'].isna().sum()"
   ]
  },
  {
   "cell_type": "code",
   "execution_count": 205,
   "id": "aaca89d8-c93a-444d-ac61-f35c11603ffb",
   "metadata": {},
   "outputs": [
    {
     "data": {
      "text/plain": [
       "2     93\n",
       "3     62\n",
       "12    31\n",
       "4     31\n",
       "Name: Years of Experience, dtype: int64"
      ]
     },
     "execution_count": 205,
     "metadata": {},
     "output_type": "execute_result"
    }
   ],
   "source": [
    "df3['Years of Experience'].value_counts()"
   ]
  },
  {
   "cell_type": "code",
   "execution_count": 83,
   "id": "fc1a995b-d3e7-4c1b-9b5a-4856779435a1",
   "metadata": {},
   "outputs": [
    {
     "data": {
      "text/plain": [
       "Unnamed: 0               0\n",
       "Company Name             0\n",
       "Job Title                0\n",
       "Location                 3\n",
       "Ratings                 11\n",
       "Salary                   0\n",
       " Links                   0\n",
       "Job Description          0\n",
       "salary_period           93\n",
       "Average                 93\n",
       "Salary2                  0\n",
       "Job Description2         0\n",
       "Years of Experience    750\n",
       "Location                 0\n",
       "dtype: int64"
      ]
     },
     "execution_count": 83,
     "metadata": {},
     "output_type": "execute_result"
    }
   ],
   "source": [
    "df3.isna().sum()"
   ]
  },
  {
   "cell_type": "code",
   "execution_count": 57,
   "id": "030600c9-e2a8-41a7-982e-3d1a1764f058",
   "metadata": {},
   "outputs": [],
   "source": [
    "df3[\"Location\"]=df3['Location ']"
   ]
  },
  {
   "cell_type": "code",
   "execution_count": 124,
   "id": "57d5cefa-ca32-4b18-94e2-bc3622a100d6",
   "metadata": {},
   "outputs": [
    {
     "data": {
      "text/plain": [
       "Mumbai                341\n",
       "Bangalore             155\n",
       "Hyderābād             124\n",
       "New Delhi              62\n",
       "Noida                  62\n",
       "India                  34\n",
       "Lucknow                31\n",
       "Remote                 31\n",
       "Thiruvananthapuram     31\n",
       "Pune                   31\n",
       "Calicut                28\n",
       "Name: Location, dtype: int64"
      ]
     },
     "execution_count": 124,
     "metadata": {},
     "output_type": "execute_result"
    }
   ],
   "source": [
    "df3['Location'].value_counts()"
   ]
  },
  {
   "cell_type": "code",
   "execution_count": 81,
   "id": "ae945ec7-9e50-4329-84da-fc727f37eccd",
   "metadata": {},
   "outputs": [
    {
     "name": "stdout",
     "output_type": "stream",
     "text": [
      "0\n"
     ]
    },
    {
     "name": "stderr",
     "output_type": "stream",
     "text": [
      "C:\\Users\\Kaveri\\AppData\\Local\\Temp\\ipykernel_4484\\199980110.py:6: SettingWithCopyWarning: \n",
      "A value is trying to be set on a copy of a slice from a DataFrame\n",
      "\n",
      "See the caveats in the documentation: https://pandas.pydata.org/pandas-docs/stable/user_guide/indexing.html#returning-a-view-versus-a-copy\n",
      "  c[i]='India'\n"
     ]
    }
   ],
   "source": [
    "c=df3['Location']\n",
    "i=0\n",
    "k=0\n",
    "for rows in c:\n",
    "    if (type(rows)==float):\n",
    "        c[i]='India'\n",
    "    i=i+1\n",
    "print(k)"
   ]
  },
  {
   "cell_type": "code",
   "execution_count": 165,
   "id": "dafd12b4-b225-487c-a977-ad6d275dcbef",
   "metadata": {},
   "outputs": [
    {
     "data": {
      "text/plain": [
       "3.8    387\n",
       "3.5    226\n",
       "3.9    207\n",
       "3       22\n",
       "4.5     22\n",
       "4       22\n",
       "2.5     22\n",
       "3.7     22\n",
       "Name: Ratings, dtype: int64"
      ]
     },
     "execution_count": 165,
     "metadata": {},
     "output_type": "execute_result"
    }
   ],
   "source": [
    "df3['Ratings'].value_counts()"
   ]
  },
  {
   "cell_type": "code",
   "execution_count": 166,
   "id": "74a910f5-4cce-4b99-818a-222dc0fe9854",
   "metadata": {},
   "outputs": [
    {
     "data": {
      "text/plain": [
       "0"
      ]
     },
     "execution_count": 166,
     "metadata": {},
     "output_type": "execute_result"
    }
   ],
   "source": [
    "df3['Ratings'].isna().sum()"
   ]
  },
  {
   "cell_type": "code",
   "execution_count": 103,
   "id": "67a87309-be38-4ccd-bff9-437c6dc664bd",
   "metadata": {},
   "outputs": [],
   "source": [
    "l=[]"
   ]
  },
  {
   "cell_type": "code",
   "execution_count": 111,
   "id": "c348b358-664e-405c-a3f5-3f254ecd060f",
   "metadata": {},
   "outputs": [
    {
     "name": "stdout",
     "output_type": "stream",
     "text": [
      "['3.9', '3.9', '3.9', '3.9', '3.9', '3.9', '3.9', '3.9', '3.9', '3.5', '3.5', '3.5', '3.5', '3.5', '3.5', '3.8', '3.8', '3.8', '3.8', '3.8', '3.8', '3.8', '3.8', '3.8', '3.8', '3.8', '3.8', '3.8', '3.8', '3.8', '3.8', '3.5', '3.5', '3.9', '3.9', '3.9', '3.9', '3.9', '3.9', '3.9', '3.9', '3.9', '3.5', '3.5', '3.5', '3.5', '3.5', '3.5', '3.8', '3.8', '3.8', '3.8', '3.8', '3.8', '3.8', '3.8', '3.8', '3.8', '3.8', '3.8', '3.8', '3.8', '3.8', '3.8', '3.5', '3.5', '3.5', '3', '4.5', '4', '3.8', '2.5', '3.8', '3.5', '3.5', '3.5', '3', '4.5', '4', '3.8', '2.5', '3.9', '3.9', '3.9', '3.9', '3.9', '3.9', '3.9', '3.9', '3.9', '3.5', '3.5', '3.5', '3.5', '3.5', '3.5', '3.8', '3.8', '3.8', '3.8', '3.8', '3.8', '3.8', '3.8', '3.8', '3.8', '3.8', '3.8', '3.8', '3.8', '3.8', '3.8', '3.5', '3.5', '3.9', '3.9', '3.9', '3.9', '3.9', '3.9', '3.9', '3.9', '3.9', '3.5', '3.5', '3.5', '3.5', '3.5', '3.5', '3.8', '3.8', '3.8', '3.8', '3.8', '3.8', '3.8', '3.8', '3.8', '3.8', '3.8', '3.8', '3.8', '3.8', '3.8', '3.8', '3.5', '3.5', '3.5', '3', '4.5', '4', '3.8', '2.5', '3.8', '3.5', '3.5', '3.5', '3', '4.5', '4', '3.8', '2.5', '3.9', '3.9', '3.9', '3.9', '3.9', '3.9', '3.9', '3.9', '3.9', '3.5', '3.5', '3.5', '3.5', '3.5', '3.5', '3.8', '3.8', '3.8', '3.8', '3.8', '3.8', '3.8', '3.8', '3.8', '3.8', '3.8', '3.8', '3.8', '3.8', '3.8', '3.8', '3.5', '3.5', '3.9', '3.9', '3.9', '3.9', '3.9', '3.9', '3.9', '3.9', '3.9', '3.5', '3.5', '3.5', '3.5', '3.5', '3.5', '3.8', '3.8', '3.8', '3.8', '3.8', '3.8', '3.8', '3.8', '3.8', '3.8', '3.8', '3.8', '3.8', '3.8', '3.8', '3.8', '3.5', '3.5', '3.5', '3', '4.5', '4', '3.8', '2.5', '3.8', '3.5', '3.5', '3.5', '3', '4.5', '4', '3.8', '2.5', '3.9', '3.9', '3.9', '3.9', '3.9', '3.9', '3.9', '3.9', '3.9', '3.5', '3.5', '3.5', '3.5', '3.5', '3.5', '3.8', '3.8', '3.8', '3.8', '3.8', '3.8', '3.8', '3.8', '3.8', '3.8', '3.8', '3.8', '3.8', '3.8', '3.8', '3.8', '3.5', '3.5', '3.9', '3.9', '3.9', '3.9', '3.9', '3.9', '3.9', '3.9', '3.9', '3.5', '3.5', '3.5', '3.5', '3.5', '3.5', '3.8', '3.8', '3.8', '3.8', '3.8', '3.8', '3.8', '3.8', '3.8', '3.8', '3.8', '3.8', '3.8', '3.8', '3.8', '3.8', '3.5', '3.5', '3.5', '3', '4.5', '4', '3.8', '2.5', '3.8', '3.5', '3.5', '3.5', '3', '4.5', '4', '3.8', '2.5', '3.9', '3.9', '3.9', '3.9', '3.9', '3.9', '3.9', '3.9', '3.9', '3.5', '3.5', '3.5', '3.5', '3.5', '3.5', '3.8', '3.8', '3.8', '3.8', '3.8', '3.8', '3.8', '3.8', '3.8', '3.8', '3.8', '3.8', '3.8', '3.8', '3.8', '3.8', '3.5', '3.5', '3.9', '3.9', '3.9', '3.9', '3.9', '3.9', '3.9', '3.9', '3.9', '3.5', '3.5', '3.5', '3.5', '3.5', '3.5', '3.8', '3.8', '3.8', '3.8', '3.8', '3.8', '3.8', '3.8', '3.8', '3.8', '3.8', '3.8', '3.8', '3.8', '3.8', '3.8', '3.5', '3.5', '3.5', '3', '4.5', '4', '3.8', '2.5', '3.8', '3.5', '3.5', '3.5', '3', '4.5', '4', '3.8', '2.5', '3.9', '3.9', '3.9', '3.9', '3.9', '3.9', '3.9', '3.9', '3.9', '3.5', '3.5', '3.5', '3.5', '3.5', '3.5', '3.8', '3.8', '3.8', '3.8', '3.8', '3.8', '3.8', '3.8', '3.8', '3.8', '3.8', '3.8', '3.8', '3.8', '3.8', '3.8', '3.5', '3.5', '3.9', '3.9', '3.9', '3.9', '3.9', '3.9', '3.9', '3.9', '3.9', '3.5', '3.5', '3.5', '3.5', '3.5', '3.5', '3.8', '3.8', '3.8', '3.8', '3.8', '3.8', '3.8', '3.8', '3.8', '3.8', '3.8', '3.8', '3.8', '3.8', '3.8', '3.8', '3.5', '3.5', '3.5', '3', '4.5', '4', '3.8', '2.5', '3.8', '3.5', '3.5', '3.5', '3', '4.5', '4', '3.8', '2.5', '3.9', '3.9', '3.9', '3.9', '3.9', '3.9', '3.9', '3.9', '3.9', '3.5', '3.5', '3.5', '3.5', '3.5', '3.5', '3.8', '3.8', '3.8', '3.8', '3.8', '3.8', '3.8', '3.8', '3.8', '3.8', '3.8', '3.8', '3.8', '3.8', '3.8', '3.8', '3.5', '3.5', '3.9', '3.9', '3.9', '3.9', '3.9', '3.9', '3.9', '3.9', '3.9', '3.5', '3.5', '3.5', '3.5', '3.5', '3.5', '3.8', '3.8', '3.8', '3.8', '3.8', '3.8', '3.8', '3.8', '3.8', '3.8', '3.8', '3.8', '3.8', '3.8', '3.8', '3.8', '3.5', '3.5', '3.5', '3', '4.5', '4', '3.8', '2.5', '3.8', '3.5', '3.5', '3.5', '3', '4.5', '4', '3.8', '2.5', '3.9', '3.9', '3.9', '3.9', '3.9', '3.9', '3.9', '3.9', '3.9', '3.5', '3.5', '3.5', '3.5', '3.5', '3.5', '3.8', '3.8', '3.8', '3.8', '3.8', '3.8', '3.8', '3.8', '3.8', '3.8', '3.8', '3.8', '3.8', '3.8', '3.8', '3.8', '3.5', '3.5', '3.9', '3.9', '3.9', '3.9', '3.9', '3.9', '3.9', '3.9', '3.9', '3.5', '3.5', '3.5', '3.5', '3.5', '3.5', '3.8', '3.8', '3.8', '3.8', '3.8', '3.8', '3.8', '3.8', '3.8', '3.8', '3.8', '3.8', '3.8', '3.8', '3.8', '3.8', '3.5', '3.5', '3.5', '3', '4.5', '4', '3.8', '2.5', '3.8', '3.5', '3.5', '3.5', '3', '4.5', '4', '3.8', '2.5', '3.9', '3.9', '3.9', '3.9', '3.9', '3.9', '3.9', '3.9', '3.9', '3.5', '3.5', '3.5', '3.5', '3.5', '3.5', '3.8', '3.8', '3.8', '3.8', '3.8', '3.8', '3.8', '3.8', '3.8', '3.8', '3.8', '3.8', '3.8', '3.8', '3.8', '3.8', '3.5', '3.5', '3.9', '3.9', '3.9', '3.9', '3.9', '3.9', '3.9', '3.9', '3.9', '3.5', '3.5', '3.5', '3.5', '3.5', '3.5', '3.8', '3.8', '3.8', '3.8', '3.8', '3.8', '3.8', '3.8', '3.8', '3.8', '3.8', '3.8', '3.8', '3.8', '3.8', '3.8', '3.5', '3.5', '3.5', '3', '4.5', '4', '3.8', '2.5', '3.8', '3.5', '3.5', '3.5', '3', '4.5', '4', '3.8', '2.5', '3.9', '3.9', '3.9', '3.9', '3.9', '3.9', '3.9', '3.9', '3.9', '3.5', '3.5', '3.5', '3.5', '3.5', '3.5', '3.8', '3.8', '3.8', '3.8', '3.8', '3.8', '3.8', '3.8', '3.8', '3.8', '3.8', '3.8', '3.8', '3.8', '3.8', '3.8', '3.5', '3.5', '3.9', '3.9', '3.9', '3.9', '3.9', '3.9', '3.9', '3.9', '3.9', '3.5', '3.5', '3.5', '3.5', '3.5', '3.5', '3.8', '3.8', '3.8', '3.8', '3.8', '3.8', '3.8', '3.8', '3.8', '3.8', '3.8', '3.8', '3.8', '3.8', '3.8', '3.8', '3.5', '3.5', '3.5', '3', '4.5', '4', '3.8', '2.5', '3.8', '3.5', '3.5', '3.5', '3', '4.5', '4', '3.8', '2.5', '3.9', '3.9', '3.9', '3.9', '3.9', '3.9', '3.9', '3.9', '3.9', '3.5', '3.5', '3.5', '3.5', '3.5', '3.5', '3.8', '3.8', '3.8', '3.8', '3.8', '3.8', '3.8', '3.8', '3.8', '3.8', '3.8', '3.8', '3.8', '3.8', '3.8', '3.8', '3.5', '3.5', '3.9', '3.9', '3.9', '3.9', '3.9', '3.9', '3.9', '3.9', '3.9', '3.5', '3.5', '3.5', '3.5', '3.5', '3.5', '3.8', '3.8', '3.8', '3.8', '3.8', '3.8', '3.8', '3.8', '3.8', '3.8', '3.8', '3.8', '3.8', '3.8', '3.8', '3.8', '3.5', '3.5', '3.5', '3', '4.5', '4', '3.8', '2.5', '3.8', '3.5', '3.5', '3.5', '3', '4.5', '4', '3.8', '2.5', '3.9', '3.9', '3.9', '3.9', '3.9', '3.9', '3.9', '3.9', '3.9', '3.5', '3.5', '3.5', '3.5', '3.5', '3.5', '3.8', '3.8']\n"
     ]
    }
   ],
   "source": [
    "l=[]\n",
    "c=df3['Ratings']\n",
    "i=0\n",
    "s=0\n",
    "a=0\n",
    "\n",
    "for i in range(0,len(df3['Ratings'])):\n",
    "    if(type(df3['Ratings'][i])== str and df3['Ratings'][i]!= 'None'):\n",
    "        l.append(df3['Ratings'][i])\n",
    "        \n",
    "print(l)\n",
    "    \n",
    "        "
   ]
  },
  {
   "cell_type": "code",
   "execution_count": 113,
   "id": "12c32924-52d8-4490-ab46-8e72eeb70def",
   "metadata": {},
   "outputs": [],
   "source": [
    "a=0\n",
    "s=0\n",
    "i=0\n",
    "for rows in l:\n",
    "    s=s+float(rows)\n",
    "    a=a+1\n",
    "    i=i+1\n",
    "    "
   ]
  },
  {
   "cell_type": "code",
   "execution_count": 114,
   "id": "1b4bfed3-f94c-4044-bbd4-c1132cd77df6",
   "metadata": {},
   "outputs": [
    {
     "data": {
      "text/plain": [
       "3376.900000000031"
      ]
     },
     "execution_count": 114,
     "metadata": {},
     "output_type": "execute_result"
    }
   ],
   "source": [
    "s"
   ]
  },
  {
   "cell_type": "code",
   "execution_count": 115,
   "id": "bebeb782-f136-4cf8-a282-f3416c9833c9",
   "metadata": {},
   "outputs": [
    {
     "data": {
      "text/plain": [
       "908"
      ]
     },
     "execution_count": 115,
     "metadata": {},
     "output_type": "execute_result"
    }
   ],
   "source": [
    "a"
   ]
  },
  {
   "cell_type": "code",
   "execution_count": 116,
   "id": "aa9bcff8-de90-4b2e-b9d0-556205b2ee13",
   "metadata": {},
   "outputs": [],
   "source": [
    "avg = s/a"
   ]
  },
  {
   "cell_type": "code",
   "execution_count": 117,
   "id": "801f805b-9e9f-45ae-939a-acc0e670e001",
   "metadata": {},
   "outputs": [
    {
     "data": {
      "text/plain": [
       "3.7190528634361577"
      ]
     },
     "execution_count": 117,
     "metadata": {},
     "output_type": "execute_result"
    }
   ],
   "source": [
    "avg"
   ]
  },
  {
   "cell_type": "code",
   "execution_count": 164,
   "id": "de16b5c9-43e4-4614-aabf-c0dc65637039",
   "metadata": {},
   "outputs": [],
   "source": [
    "c=df3['Ratings']\n",
    "i=0\n",
    "s=0\n",
    "c=0\n",
    "for i in range(0,len(df3['Ratings'])):\n",
    "    if(type(df3['Ratings'][i])==float):\n",
    "        df3['Ratings'][i]=3.7\n",
    "        \n",
    "        "
   ]
  },
  {
   "cell_type": "code",
   "execution_count": 126,
   "id": "e2b7c10b-3e9f-4e70-97a3-a83580c1eaae",
   "metadata": {},
   "outputs": [],
   "source": [
    "df3['Job Type']=np.nan"
   ]
  },
  {
   "cell_type": "code",
   "execution_count": 127,
   "id": "6de11008-ad99-458a-a717-44a926b963df",
   "metadata": {},
   "outputs": [
    {
     "data": {
      "text/plain": [
       "Data Analyst                                                                                            155\n",
       "Business Analyst                                                                                         62\n",
       "Data Analysts                                                                                            31\n",
       "Data Analyst -WAKAD-Pune sal: 2LPA to 4LPA Exp:0-3yrsAssociated with US Financial Investment clients     31\n",
       "Data Analyst / Modeler                                                                                   31\n",
       "Data and Reporting Analyst                                                                               31\n",
       "Financial Analyst                                                                                        31\n",
       "Data Analyst - SAS/SQL/Macros                                                                            31\n",
       "Master Data Management Analyst                                                                           31\n",
       "LTI Hiring- Data Analyst/ SQL                                                                            31\n",
       "Analyst - Data & Analytics                                                                               31\n",
       "Business Analyst (BA) - Banking - WFH                                                                    31\n",
       "Looking for Fresher for Data Analyst Role - Mumbai, Ghatkopar                                            31\n",
       "Hiring for Cibil - Data Analyst at Lower Parel/ Thane location.                                          31\n",
       "Data Engineering Analyst                                                                                 31\n",
       "Operations Analyst, Trilogy (Remote) - $30,000/year USD                                                  31\n",
       "Product Security Analyst                                                                                 31\n",
       "Reporting Analyst                                                                                        31\n",
       "Project Business Analyst                                                                                 31\n",
       "Data Analyst_Web Research                                                                                31\n",
       "Analyst                                                                                                  31\n",
       "Data Analyst (Overnight)                                                                                 31\n",
       "Research Analyst - Looking for Fresh Graduates                                                           31\n",
       "Senior Data Analyst - Data Engineering/Analytics                                                         31\n",
       "Research Analyst - Mumbai                                                                                31\n",
       "Name: Job Title, dtype: int64"
      ]
     },
     "execution_count": 127,
     "metadata": {},
     "output_type": "execute_result"
    }
   ],
   "source": [
    "df3['Job Title'].value_counts()"
   ]
  },
  {
   "cell_type": "code",
   "execution_count": 130,
   "id": "5b68faf1-25e4-4e28-9bbf-8b496549b7a9",
   "metadata": {},
   "outputs": [],
   "source": [
    "c=df3[\"Job Title\"]\n",
    "i=0\n",
    "for rows in c:\n",
    "    if(type(rows)==str):\n",
    "        rows=rows.lower()\n",
    "        rows=rows.split()\n",
    "        \n",
    "        \n",
    "        \n",
    "        e='(overnight)'\n",
    "            \n",
    "        if e in rows:\n",
    "            \n",
    "            df3[\"Job Type\"][i] = \"Night Shift\"\n",
    "        else:\n",
    "            df3[\"Job Type\"][i] = \"Full time\"\n",
    "    i=i+1"
   ]
  },
  {
   "cell_type": "code",
   "execution_count": 131,
   "id": "119ff3c4-0283-4b98-bffc-6fbae5636303",
   "metadata": {},
   "outputs": [
    {
     "data": {
      "text/plain": [
       "Full time      899\n",
       "Night Shift     31\n",
       "Name: Job Type, dtype: int64"
      ]
     },
     "execution_count": 131,
     "metadata": {},
     "output_type": "execute_result"
    }
   ],
   "source": [
    "df3['Job Type'].value_counts()"
   ]
  },
  {
   "cell_type": "code",
   "execution_count": 142,
   "id": "288ddc42-9a0c-4bc2-a452-831e1d080d54",
   "metadata": {},
   "outputs": [
    {
     "data": {
      "text/html": [
       "<div>\n",
       "<style scoped>\n",
       "    .dataframe tbody tr th:only-of-type {\n",
       "        vertical-align: middle;\n",
       "    }\n",
       "\n",
       "    .dataframe tbody tr th {\n",
       "        vertical-align: top;\n",
       "    }\n",
       "\n",
       "    .dataframe thead th {\n",
       "        text-align: right;\n",
       "    }\n",
       "</style>\n",
       "<table border=\"1\" class=\"dataframe\">\n",
       "  <thead>\n",
       "    <tr style=\"text-align: right;\">\n",
       "      <th></th>\n",
       "      <th>Unnamed: 0</th>\n",
       "      <th>Company Name</th>\n",
       "      <th>Job Title</th>\n",
       "      <th>Location</th>\n",
       "      <th>Ratings</th>\n",
       "      <th>salary_period</th>\n",
       "      <th>Average</th>\n",
       "      <th>Job Description2</th>\n",
       "      <th>Years of Experience</th>\n",
       "      <th>Location</th>\n",
       "      <th>Job Type</th>\n",
       "      <th>Job Description</th>\n",
       "    </tr>\n",
       "  </thead>\n",
       "  <tbody>\n",
       "    <tr>\n",
       "      <th>0</th>\n",
       "      <td>0</td>\n",
       "      <td>Telstra</td>\n",
       "      <td>Data Analyst</td>\n",
       "      <td>Bangalore</td>\n",
       "      <td>3.9</td>\n",
       "      <td>year</td>\n",
       "      <td>8.0</td>\n",
       "      <td>At Arcadis we focus on attracting  retaining...</td>\n",
       "      <td>None</td>\n",
       "      <td>Bangalore</td>\n",
       "      <td>Full time</td>\n",
       "      <td>At Arcadis we focus on attracting  retaining...</td>\n",
       "    </tr>\n",
       "    <tr>\n",
       "      <th>1</th>\n",
       "      <td>1</td>\n",
       "      <td>Arcadis</td>\n",
       "      <td>Data Engineering Analyst</td>\n",
       "      <td>Hyderābād</td>\n",
       "      <td>3.9</td>\n",
       "      <td>year</td>\n",
       "      <td>27.5</td>\n",
       "      <td>Employment Type\\nPermanent\\nClosing Date\\n30...</td>\n",
       "      <td>None</td>\n",
       "      <td>Hyderābād</td>\n",
       "      <td>Full time</td>\n",
       "      <td>Employment Type\\nPermanent\\nClosing Date\\n30...</td>\n",
       "    </tr>\n",
       "    <tr>\n",
       "      <th>2</th>\n",
       "      <td>2</td>\n",
       "      <td>Exusia</td>\n",
       "      <td>Senior Data Analyst - Data Engineering/Analytics</td>\n",
       "      <td>Bangalore</td>\n",
       "      <td>3.9</td>\n",
       "      <td>year</td>\n",
       "      <td>20.5</td>\n",
       "      <td>Department: Sales and Delivery Team   Empowe...</td>\n",
       "      <td>3</td>\n",
       "      <td>Bangalore</td>\n",
       "      <td>Full time</td>\n",
       "      <td>Department: Sales and Delivery Team   Empowe...</td>\n",
       "    </tr>\n",
       "    <tr>\n",
       "      <th>3</th>\n",
       "      <td>3</td>\n",
       "      <td>Sweans Technologies Pvt Ltd</td>\n",
       "      <td>Research Analyst - Looking for Fresh Graduates</td>\n",
       "      <td>Calicut</td>\n",
       "      <td>3.9</td>\n",
       "      <td>month</td>\n",
       "      <td>28</td>\n",
       "      <td>Work closely with UK and US clients in Holly...</td>\n",
       "      <td>None</td>\n",
       "      <td>Calicut</td>\n",
       "      <td>Full time</td>\n",
       "      <td>Work closely with UK and US clients in Holly...</td>\n",
       "    </tr>\n",
       "    <tr>\n",
       "      <th>4</th>\n",
       "      <td>4</td>\n",
       "      <td>24-7 Intouch</td>\n",
       "      <td>Data Analyst (Overnight)</td>\n",
       "      <td>Hyderābād</td>\n",
       "      <td>3.9</td>\n",
       "      <td>year</td>\n",
       "      <td>3.5</td>\n",
       "      <td>About 24 7 Intouch\\n24 7 Intouch is a global...</td>\n",
       "      <td>None</td>\n",
       "      <td>Hyderābād</td>\n",
       "      <td>Night Shift</td>\n",
       "      <td>About 24 7 Intouch\\n24 7 Intouch is a global...</td>\n",
       "    </tr>\n",
       "    <tr>\n",
       "      <th>...</th>\n",
       "      <td>...</td>\n",
       "      <td>...</td>\n",
       "      <td>...</td>\n",
       "      <td>...</td>\n",
       "      <td>...</td>\n",
       "      <td>...</td>\n",
       "      <td>...</td>\n",
       "      <td>...</td>\n",
       "      <td>...</td>\n",
       "      <td>...</td>\n",
       "      <td>...</td>\n",
       "      <td>...</td>\n",
       "    </tr>\n",
       "    <tr>\n",
       "      <th>925</th>\n",
       "      <td>925</td>\n",
       "      <td>TATA Consultancy Services Ltd.</td>\n",
       "      <td>Financial Analyst</td>\n",
       "      <td>Mumbai</td>\n",
       "      <td>3.5</td>\n",
       "      <td>year</td>\n",
       "      <td>3.0</td>\n",
       "      <td>Job Description\\n            \\n    Qualifica...</td>\n",
       "      <td>NaN</td>\n",
       "      <td>Mumbai</td>\n",
       "      <td>Full time</td>\n",
       "      <td>Job Description\\n            \\n    Qualifica...</td>\n",
       "    </tr>\n",
       "    <tr>\n",
       "      <th>926</th>\n",
       "      <td>926</td>\n",
       "      <td>TMF Group</td>\n",
       "      <td>Data and Reporting Analyst</td>\n",
       "      <td>Noida</td>\n",
       "      <td>3.5</td>\n",
       "      <td>year</td>\n",
       "      <td>15.0</td>\n",
       "      <td>Job Description :        \\n  Deadline orient...</td>\n",
       "      <td>NaN</td>\n",
       "      <td>Noida</td>\n",
       "      <td>Full time</td>\n",
       "      <td>Job Description :        \\n  Deadline orient...</td>\n",
       "    </tr>\n",
       "    <tr>\n",
       "      <th>927</th>\n",
       "      <td>927</td>\n",
       "      <td>ANI Calls India Private Limited</td>\n",
       "      <td>Data Analyst / Modeler</td>\n",
       "      <td>Mumbai</td>\n",
       "      <td>3.5</td>\n",
       "      <td>year</td>\n",
       "      <td>11.5</td>\n",
       "      <td>Anicalls\\n\\nIndustry: IT\\n\\nTotal Positions:...</td>\n",
       "      <td>NaN</td>\n",
       "      <td>Mumbai</td>\n",
       "      <td>Full time</td>\n",
       "      <td>Anicalls\\n\\nIndustry: IT\\n\\nTotal Positions:...</td>\n",
       "    </tr>\n",
       "    <tr>\n",
       "      <th>928</th>\n",
       "      <td>928</td>\n",
       "      <td>ANI Calls India Private Limited</td>\n",
       "      <td>Data Analyst -WAKAD-Pune sal: 2LPA to 4LPA Exp...</td>\n",
       "      <td>Pune</td>\n",
       "      <td>3.8</td>\n",
       "      <td>year</td>\n",
       "      <td>2.5</td>\n",
       "      <td>About Client:\\n\\nWe re associated with US Fi...</td>\n",
       "      <td>NaN</td>\n",
       "      <td>Pune</td>\n",
       "      <td>Full time</td>\n",
       "      <td>About Client:\\n\\nWe re associated with US Fi...</td>\n",
       "    </tr>\n",
       "    <tr>\n",
       "      <th>929</th>\n",
       "      <td>929</td>\n",
       "      <td>Genie Customer Management Services</td>\n",
       "      <td>Research Analyst - Mumbai</td>\n",
       "      <td>Mumbai</td>\n",
       "      <td>3.8</td>\n",
       "      <td>year</td>\n",
       "      <td>5.0</td>\n",
       "      <td>Job Description :\\n\\nJob Description:\\n\\nJob...</td>\n",
       "      <td>NaN</td>\n",
       "      <td>Mumbai</td>\n",
       "      <td>Full time</td>\n",
       "      <td>Job Description :\\n\\nJob Description:\\n\\nJob...</td>\n",
       "    </tr>\n",
       "  </tbody>\n",
       "</table>\n",
       "<p>930 rows × 12 columns</p>\n",
       "</div>"
      ],
      "text/plain": [
       "     Unnamed: 0                        Company Name  \\\n",
       "0             0                             Telstra   \n",
       "1             1                             Arcadis   \n",
       "2             2                              Exusia   \n",
       "3             3         Sweans Technologies Pvt Ltd   \n",
       "4             4                        24-7 Intouch   \n",
       "..          ...                                 ...   \n",
       "925         925      TATA Consultancy Services Ltd.   \n",
       "926         926                           TMF Group   \n",
       "927         927     ANI Calls India Private Limited   \n",
       "928         928     ANI Calls India Private Limited   \n",
       "929         929  Genie Customer Management Services   \n",
       "\n",
       "                                             Job Title  Location  Ratings  \\\n",
       "0                                         Data Analyst  Bangalore     3.9   \n",
       "1                             Data Engineering Analyst  Hyderābād     3.9   \n",
       "2     Senior Data Analyst - Data Engineering/Analytics  Bangalore     3.9   \n",
       "3       Research Analyst - Looking for Fresh Graduates    Calicut     3.9   \n",
       "4                             Data Analyst (Overnight)  Hyderābād     3.9   \n",
       "..                                                 ...        ...     ...   \n",
       "925                                  Financial Analyst     Mumbai     3.5   \n",
       "926                         Data and Reporting Analyst      Noida     3.5   \n",
       "927                             Data Analyst / Modeler     Mumbai     3.5   \n",
       "928  Data Analyst -WAKAD-Pune sal: 2LPA to 4LPA Exp...       Pune     3.8   \n",
       "929                          Research Analyst - Mumbai     Mumbai     3.8   \n",
       "\n",
       "    salary_period Average                                   Job Description2  \\\n",
       "0            year     8.0    At Arcadis we focus on attracting  retaining...   \n",
       "1            year    27.5    Employment Type\\nPermanent\\nClosing Date\\n30...   \n",
       "2            year    20.5    Department: Sales and Delivery Team   Empowe...   \n",
       "3           month      28    Work closely with UK and US clients in Holly...   \n",
       "4            year     3.5    About 24 7 Intouch\\n24 7 Intouch is a global...   \n",
       "..            ...     ...                                                ...   \n",
       "925          year     3.0    Job Description\\n            \\n    Qualifica...   \n",
       "926          year    15.0    Job Description :        \\n  Deadline orient...   \n",
       "927          year    11.5    Anicalls\\n\\nIndustry: IT\\n\\nTotal Positions:...   \n",
       "928          year     2.5    About Client:\\n\\nWe re associated with US Fi...   \n",
       "929          year     5.0    Job Description :\\n\\nJob Description:\\n\\nJob...   \n",
       "\n",
       "    Years of Experience   Location     Job Type  \\\n",
       "0                  None  Bangalore    Full time   \n",
       "1                  None  Hyderābād    Full time   \n",
       "2                     3  Bangalore    Full time   \n",
       "3                  None    Calicut    Full time   \n",
       "4                  None  Hyderābād  Night Shift   \n",
       "..                  ...        ...          ...   \n",
       "925                 NaN     Mumbai    Full time   \n",
       "926                 NaN      Noida    Full time   \n",
       "927                 NaN     Mumbai    Full time   \n",
       "928                 NaN       Pune    Full time   \n",
       "929                 NaN     Mumbai    Full time   \n",
       "\n",
       "                                       Job Description  \n",
       "0      At Arcadis we focus on attracting  retaining...  \n",
       "1      Employment Type\\nPermanent\\nClosing Date\\n30...  \n",
       "2      Department: Sales and Delivery Team   Empowe...  \n",
       "3      Work closely with UK and US clients in Holly...  \n",
       "4      About 24 7 Intouch\\n24 7 Intouch is a global...  \n",
       "..                                                 ...  \n",
       "925    Job Description\\n            \\n    Qualifica...  \n",
       "926    Job Description :        \\n  Deadline orient...  \n",
       "927    Anicalls\\n\\nIndustry: IT\\n\\nTotal Positions:...  \n",
       "928    About Client:\\n\\nWe re associated with US Fi...  \n",
       "929    Job Description :\\n\\nJob Description:\\n\\nJob...  \n",
       "\n",
       "[930 rows x 12 columns]"
      ]
     },
     "execution_count": 142,
     "metadata": {},
     "output_type": "execute_result"
    }
   ],
   "source": [
    "df3"
   ]
  },
  {
   "cell_type": "code",
   "execution_count": 147,
   "id": "23c7ff06-27aa-44a2-85f3-5e1431ec523e",
   "metadata": {},
   "outputs": [],
   "source": [
    "df3=df3.drop(['Location '],axis=1)\n"
   ]
  },
  {
   "cell_type": "code",
   "execution_count": 148,
   "id": "fe1632c3-967a-431c-a4c7-1d739ddfe6cd",
   "metadata": {},
   "outputs": [
    {
     "data": {
      "text/html": [
       "<div>\n",
       "<style scoped>\n",
       "    .dataframe tbody tr th:only-of-type {\n",
       "        vertical-align: middle;\n",
       "    }\n",
       "\n",
       "    .dataframe tbody tr th {\n",
       "        vertical-align: top;\n",
       "    }\n",
       "\n",
       "    .dataframe thead th {\n",
       "        text-align: right;\n",
       "    }\n",
       "</style>\n",
       "<table border=\"1\" class=\"dataframe\">\n",
       "  <thead>\n",
       "    <tr style=\"text-align: right;\">\n",
       "      <th></th>\n",
       "      <th>Company Name</th>\n",
       "      <th>Job Title</th>\n",
       "      <th>Ratings</th>\n",
       "      <th>salary_period</th>\n",
       "      <th>Average</th>\n",
       "      <th>Years of Experience</th>\n",
       "      <th>Location</th>\n",
       "      <th>Job Type</th>\n",
       "      <th>Job Description</th>\n",
       "    </tr>\n",
       "  </thead>\n",
       "  <tbody>\n",
       "    <tr>\n",
       "      <th>0</th>\n",
       "      <td>Telstra</td>\n",
       "      <td>Data Analyst</td>\n",
       "      <td>3.9</td>\n",
       "      <td>year</td>\n",
       "      <td>8.0</td>\n",
       "      <td>None</td>\n",
       "      <td>Bangalore</td>\n",
       "      <td>Full time</td>\n",
       "      <td>At Arcadis we focus on attracting  retaining...</td>\n",
       "    </tr>\n",
       "    <tr>\n",
       "      <th>1</th>\n",
       "      <td>Arcadis</td>\n",
       "      <td>Data Engineering Analyst</td>\n",
       "      <td>3.9</td>\n",
       "      <td>year</td>\n",
       "      <td>27.5</td>\n",
       "      <td>None</td>\n",
       "      <td>Hyderābād</td>\n",
       "      <td>Full time</td>\n",
       "      <td>Employment Type\\nPermanent\\nClosing Date\\n30...</td>\n",
       "    </tr>\n",
       "    <tr>\n",
       "      <th>2</th>\n",
       "      <td>Exusia</td>\n",
       "      <td>Senior Data Analyst - Data Engineering/Analytics</td>\n",
       "      <td>3.9</td>\n",
       "      <td>year</td>\n",
       "      <td>20.5</td>\n",
       "      <td>3</td>\n",
       "      <td>Bangalore</td>\n",
       "      <td>Full time</td>\n",
       "      <td>Department: Sales and Delivery Team   Empowe...</td>\n",
       "    </tr>\n",
       "    <tr>\n",
       "      <th>3</th>\n",
       "      <td>Sweans Technologies Pvt Ltd</td>\n",
       "      <td>Research Analyst - Looking for Fresh Graduates</td>\n",
       "      <td>3.9</td>\n",
       "      <td>month</td>\n",
       "      <td>28</td>\n",
       "      <td>None</td>\n",
       "      <td>Calicut</td>\n",
       "      <td>Full time</td>\n",
       "      <td>Work closely with UK and US clients in Holly...</td>\n",
       "    </tr>\n",
       "    <tr>\n",
       "      <th>4</th>\n",
       "      <td>24-7 Intouch</td>\n",
       "      <td>Data Analyst (Overnight)</td>\n",
       "      <td>3.9</td>\n",
       "      <td>year</td>\n",
       "      <td>3.5</td>\n",
       "      <td>None</td>\n",
       "      <td>Hyderābād</td>\n",
       "      <td>Night Shift</td>\n",
       "      <td>About 24 7 Intouch\\n24 7 Intouch is a global...</td>\n",
       "    </tr>\n",
       "    <tr>\n",
       "      <th>...</th>\n",
       "      <td>...</td>\n",
       "      <td>...</td>\n",
       "      <td>...</td>\n",
       "      <td>...</td>\n",
       "      <td>...</td>\n",
       "      <td>...</td>\n",
       "      <td>...</td>\n",
       "      <td>...</td>\n",
       "      <td>...</td>\n",
       "    </tr>\n",
       "    <tr>\n",
       "      <th>925</th>\n",
       "      <td>TATA Consultancy Services Ltd.</td>\n",
       "      <td>Financial Analyst</td>\n",
       "      <td>3.5</td>\n",
       "      <td>year</td>\n",
       "      <td>3.0</td>\n",
       "      <td>NaN</td>\n",
       "      <td>Mumbai</td>\n",
       "      <td>Full time</td>\n",
       "      <td>Job Description\\n            \\n    Qualifica...</td>\n",
       "    </tr>\n",
       "    <tr>\n",
       "      <th>926</th>\n",
       "      <td>TMF Group</td>\n",
       "      <td>Data and Reporting Analyst</td>\n",
       "      <td>3.5</td>\n",
       "      <td>year</td>\n",
       "      <td>15.0</td>\n",
       "      <td>NaN</td>\n",
       "      <td>Noida</td>\n",
       "      <td>Full time</td>\n",
       "      <td>Job Description :        \\n  Deadline orient...</td>\n",
       "    </tr>\n",
       "    <tr>\n",
       "      <th>927</th>\n",
       "      <td>ANI Calls India Private Limited</td>\n",
       "      <td>Data Analyst / Modeler</td>\n",
       "      <td>3.5</td>\n",
       "      <td>year</td>\n",
       "      <td>11.5</td>\n",
       "      <td>NaN</td>\n",
       "      <td>Mumbai</td>\n",
       "      <td>Full time</td>\n",
       "      <td>Anicalls\\n\\nIndustry: IT\\n\\nTotal Positions:...</td>\n",
       "    </tr>\n",
       "    <tr>\n",
       "      <th>928</th>\n",
       "      <td>ANI Calls India Private Limited</td>\n",
       "      <td>Data Analyst -WAKAD-Pune sal: 2LPA to 4LPA Exp...</td>\n",
       "      <td>3.8</td>\n",
       "      <td>year</td>\n",
       "      <td>2.5</td>\n",
       "      <td>NaN</td>\n",
       "      <td>Pune</td>\n",
       "      <td>Full time</td>\n",
       "      <td>About Client:\\n\\nWe re associated with US Fi...</td>\n",
       "    </tr>\n",
       "    <tr>\n",
       "      <th>929</th>\n",
       "      <td>Genie Customer Management Services</td>\n",
       "      <td>Research Analyst - Mumbai</td>\n",
       "      <td>3.8</td>\n",
       "      <td>year</td>\n",
       "      <td>5.0</td>\n",
       "      <td>NaN</td>\n",
       "      <td>Mumbai</td>\n",
       "      <td>Full time</td>\n",
       "      <td>Job Description :\\n\\nJob Description:\\n\\nJob...</td>\n",
       "    </tr>\n",
       "  </tbody>\n",
       "</table>\n",
       "<p>930 rows × 9 columns</p>\n",
       "</div>"
      ],
      "text/plain": [
       "                           Company Name  \\\n",
       "0                               Telstra   \n",
       "1                               Arcadis   \n",
       "2                                Exusia   \n",
       "3           Sweans Technologies Pvt Ltd   \n",
       "4                          24-7 Intouch   \n",
       "..                                  ...   \n",
       "925      TATA Consultancy Services Ltd.   \n",
       "926                           TMF Group   \n",
       "927     ANI Calls India Private Limited   \n",
       "928     ANI Calls India Private Limited   \n",
       "929  Genie Customer Management Services   \n",
       "\n",
       "                                             Job Title Ratings salary_period  \\\n",
       "0                                         Data Analyst     3.9          year   \n",
       "1                             Data Engineering Analyst     3.9          year   \n",
       "2     Senior Data Analyst - Data Engineering/Analytics     3.9          year   \n",
       "3       Research Analyst - Looking for Fresh Graduates     3.9         month   \n",
       "4                             Data Analyst (Overnight)     3.9          year   \n",
       "..                                                 ...     ...           ...   \n",
       "925                                  Financial Analyst     3.5          year   \n",
       "926                         Data and Reporting Analyst     3.5          year   \n",
       "927                             Data Analyst / Modeler     3.5          year   \n",
       "928  Data Analyst -WAKAD-Pune sal: 2LPA to 4LPA Exp...     3.8          year   \n",
       "929                          Research Analyst - Mumbai     3.8          year   \n",
       "\n",
       "    Average Years of Experience   Location     Job Type  \\\n",
       "0       8.0                None  Bangalore    Full time   \n",
       "1      27.5                None  Hyderābād    Full time   \n",
       "2      20.5                   3  Bangalore    Full time   \n",
       "3        28                None    Calicut    Full time   \n",
       "4       3.5                None  Hyderābād  Night Shift   \n",
       "..      ...                 ...        ...          ...   \n",
       "925     3.0                 NaN     Mumbai    Full time   \n",
       "926    15.0                 NaN      Noida    Full time   \n",
       "927    11.5                 NaN     Mumbai    Full time   \n",
       "928     2.5                 NaN       Pune    Full time   \n",
       "929     5.0                 NaN     Mumbai    Full time   \n",
       "\n",
       "                                       Job Description  \n",
       "0      At Arcadis we focus on attracting  retaining...  \n",
       "1      Employment Type\\nPermanent\\nClosing Date\\n30...  \n",
       "2      Department: Sales and Delivery Team   Empowe...  \n",
       "3      Work closely with UK and US clients in Holly...  \n",
       "4      About 24 7 Intouch\\n24 7 Intouch is a global...  \n",
       "..                                                 ...  \n",
       "925    Job Description\\n            \\n    Qualifica...  \n",
       "926    Job Description :        \\n  Deadline orient...  \n",
       "927    Anicalls\\n\\nIndustry: IT\\n\\nTotal Positions:...  \n",
       "928    About Client:\\n\\nWe re associated with US Fi...  \n",
       "929    Job Description :\\n\\nJob Description:\\n\\nJob...  \n",
       "\n",
       "[930 rows x 9 columns]"
      ]
     },
     "execution_count": 148,
     "metadata": {},
     "output_type": "execute_result"
    }
   ],
   "source": [
    "df3"
   ]
  },
  {
   "cell_type": "code",
   "execution_count": 133,
   "id": "526d15e1-16cd-4104-b996-f55df444732d",
   "metadata": {},
   "outputs": [],
   "source": [
    "df3=df3.drop([' Links'],axis=1)"
   ]
  },
  {
   "cell_type": "code",
   "execution_count": 206,
   "id": "013f5dfd-dc2f-42e4-99d8-26743ce0dfd5",
   "metadata": {},
   "outputs": [
    {
     "data": {
      "text/plain": [
       "Company Name             0\n",
       "Job Title                0\n",
       "Ratings                  0\n",
       "salary_period           93\n",
       "Average                 93\n",
       "Years of Experience    713\n",
       "Location                 0\n",
       "Job Type                 0\n",
       "Job Description          0\n",
       "dtype: int64"
      ]
     },
     "execution_count": 206,
     "metadata": {},
     "output_type": "execute_result"
    }
   ],
   "source": [
    "df3.isna().sum()"
   ]
  },
  {
   "cell_type": "code",
   "execution_count": 188,
   "id": "0d5c2ffc-6f70-4022-b4ad-2bf77a249a35",
   "metadata": {},
   "outputs": [],
   "source": [
    "df3=df3.drop(['Unnamed: 0'],axis=1)"
   ]
  },
  {
   "cell_type": "code",
   "execution_count": 200,
   "id": "3314f027-d6bf-424a-b9f5-01f85caadc27",
   "metadata": {},
   "outputs": [],
   "source": [
    "c=df3['Job Description']\n",
    "k=0\n",
    "i=0\n",
    "for rows in c:\n",
    "    if(rows==None):\n",
    "        print(rows)\n",
    "    i=i+1"
   ]
  },
  {
   "cell_type": "code",
   "execution_count": 204,
   "id": "0cba798f-77c4-4c30-ab56-7e38dd7f9cbf",
   "metadata": {},
   "outputs": [
    {
     "data": {
      "text/plain": [
       "nan"
      ]
     },
     "execution_count": 204,
     "metadata": {},
     "output_type": "execute_result"
    }
   ],
   "source": [
    "df3['Job Description'][856]"
   ]
  },
  {
   "cell_type": "code",
   "execution_count": 205,
   "id": "d0ec4cbb-5f66-40eb-ba25-a8c656f5cc1d",
   "metadata": {},
   "outputs": [],
   "source": [
    "df3.drop([856], axis=0, inplace=True)"
   ]
  },
  {
   "cell_type": "code",
   "execution_count": 208,
   "id": "d2ec269d-ebc6-4af2-92fe-d6ae7e745838",
   "metadata": {},
   "outputs": [
    {
     "data": {
      "text/plain": [
       "6    60\n",
       "1    30\n",
       "5    30\n",
       "2    30\n",
       "3    30\n",
       "8    30\n",
       "Name: Years of Experience, dtype: int64"
      ]
     },
     "execution_count": 208,
     "metadata": {},
     "output_type": "execute_result"
    }
   ],
   "source": [
    "df3['Years of Experience']"
   ]
  },
  {
   "cell_type": "code",
   "execution_count": 209,
   "id": "27543fa3-0efe-4f47-9f9d-c75e218d436b",
   "metadata": {},
   "outputs": [
    {
     "data": {
      "text/plain": [
       "Data Scientist                                                            239\n",
       "Data Science Intern                                                        60\n",
       "Associate Data Scientist                                                   60\n",
       "Data scientist                                                             60\n",
       "Data Science                                                               30\n",
       "Data Scientist/Machine Learning                                            30\n",
       "Manager – Data Analytics & Scientific Computing @ L'Oreal, R&I, Mumbai     30\n",
       "Data Scientist - Data Science                                              30\n",
       "Associate Data Science Analyst                                             30\n",
       "Artificial Intelligence Internship                                         30\n",
       "DATA SCIENTIST                                                             30\n",
       "Data Analytics                                                             30\n",
       "Junior Data Scientist Mentor                                               30\n",
       "Senior Analyst- Research & Insights- Data Science, Data Analyst            30\n",
       "Experimentation Data Scientist - Chase                                     30\n",
       "Data scientist - Battery models                                            30\n",
       "Machine Learning Engineer                                                  30\n",
       "Data Scientist Intern                                                      30\n",
       "Junior Data Scientist                                                      30\n",
       "Sr. Data Scientist, Visa Consulting and Analytics                          30\n",
       "Name: Job Title, dtype: int64"
      ]
     },
     "execution_count": 209,
     "metadata": {},
     "output_type": "execute_result"
    }
   ],
   "source": [
    "df3['Job Title'].value_counts()"
   ]
  },
  {
   "cell_type": "code",
   "execution_count": 207,
   "id": "2cfe2478-a0b9-45cd-8c20-0139cc81ad69",
   "metadata": {},
   "outputs": [],
   "source": [
    "df3.to_csv('finalglassdoor2.csv')"
   ]
  },
  {
   "cell_type": "code",
   "execution_count": null,
   "id": "7f1c364a-4d7f-4b56-8f4f-466a1fc7c02b",
   "metadata": {},
   "outputs": [],
   "source": []
  }
 ],
 "metadata": {
  "kernelspec": {
   "display_name": "Python 3 (ipykernel)",
   "language": "python",
   "name": "python3"
  },
  "language_info": {
   "codemirror_mode": {
    "name": "ipython",
    "version": 3
   },
   "file_extension": ".py",
   "mimetype": "text/x-python",
   "name": "python",
   "nbconvert_exporter": "python",
   "pygments_lexer": "ipython3",
   "version": "3.10.7"
  }
 },
 "nbformat": 4,
 "nbformat_minor": 5
}
