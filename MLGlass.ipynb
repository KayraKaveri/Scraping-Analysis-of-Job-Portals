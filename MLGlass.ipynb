{
 "cells": [
  {
   "cell_type": "code",
   "execution_count": 1,
   "id": "6a508f63-adbb-422e-a484-7cb765edbfe9",
   "metadata": {},
   "outputs": [],
   "source": [
    "import requests\n",
    "from bs4 import BeautifulSoup\n",
    "import pandas as pd\n",
    "from selenium import webdriver\n",
    "import time\n",
    "from selenium.webdriver.common.keys import Keys\n",
    "from selenium.webdriver.common.by import By\n",
    "import numpy as np\n",
    "import re "
   ]
  },
  {
   "cell_type": "code",
   "execution_count": 2,
   "id": "bec563fc-db3b-46d3-a51f-6cabf9d8808e",
   "metadata": {},
   "outputs": [],
   "source": [
    "df= pd.read_csv('GlassDoor Machine Learnng.csv')"
   ]
  },
  {
   "cell_type": "code",
   "execution_count": 6,
   "id": "1bcd3869-ca6c-4965-9fb9-37675e924d44",
   "metadata": {},
   "outputs": [],
   "source": [
    "df=df.drop('Unnamed: 0',axis=1)"
   ]
  },
  {
   "cell_type": "code",
   "execution_count": 7,
   "id": "cb1de042-5b7d-40ba-b22c-0d13d8bb1586",
   "metadata": {},
   "outputs": [],
   "source": [
    "df2=df\n",
    "df3=df"
   ]
  },
  {
   "cell_type": "code",
   "execution_count": 8,
   "id": "c286393a-cd3b-4a80-b31d-10eb7fbff549",
   "metadata": {},
   "outputs": [
    {
     "data": {
      "text/html": [
       "<div>\n",
       "<style scoped>\n",
       "    .dataframe tbody tr th:only-of-type {\n",
       "        vertical-align: middle;\n",
       "    }\n",
       "\n",
       "    .dataframe tbody tr th {\n",
       "        vertical-align: top;\n",
       "    }\n",
       "\n",
       "    .dataframe thead th {\n",
       "        text-align: right;\n",
       "    }\n",
       "</style>\n",
       "<table border=\"1\" class=\"dataframe\">\n",
       "  <thead>\n",
       "    <tr style=\"text-align: right;\">\n",
       "      <th></th>\n",
       "      <th>Company Name</th>\n",
       "      <th>Job Title</th>\n",
       "      <th>Job Tocation</th>\n",
       "      <th>Salary</th>\n",
       "      <th>Ratings</th>\n",
       "      <th>Links</th>\n",
       "      <th>Description</th>\n",
       "    </tr>\n",
       "  </thead>\n",
       "  <tbody>\n",
       "    <tr>\n",
       "      <th>0</th>\n",
       "      <td>Google</td>\n",
       "      <td>Pre-Doctoral Researcher, University Graduate (...</td>\n",
       "      <td>Bangalore</td>\n",
       "      <td>₹4L (Employer Est.)</td>\n",
       "      <td>4.5</td>\n",
       "      <td>https://www.glassdoor.co.in/partner/jobListing...</td>\n",
       "      <td>[\"To start the application process, you will n...</td>\n",
       "    </tr>\n",
       "    <tr>\n",
       "      <th>1</th>\n",
       "      <td>Procter &amp; Gamble</td>\n",
       "      <td>.Net C# Developer for a Japanese company</td>\n",
       "      <td>Remote</td>\n",
       "      <td>₹21L - ₹22L (Glassdoor Est.)</td>\n",
       "      <td>NaN</td>\n",
       "      <td>https://www.glassdoor.co.in/partner/jobListing...</td>\n",
       "      <td>['About Andaze Japan', 'Our main business is c...</td>\n",
       "    </tr>\n",
       "    <tr>\n",
       "      <th>2</th>\n",
       "      <td>Andaze Japan Ltd.</td>\n",
       "      <td>Data Scientist - IT</td>\n",
       "      <td>Mumbai</td>\n",
       "      <td>₹8T (Employer Est.)</td>\n",
       "      <td>4.2</td>\n",
       "      <td>https://www.glassdoor.co.in/partner/jobListing...</td>\n",
       "      <td>['Job Location', '', 'Mumbai', '', '', 'Job De...</td>\n",
       "    </tr>\n",
       "    <tr>\n",
       "      <th>3</th>\n",
       "      <td>XIRCLS</td>\n",
       "      <td>Machine Learning Engineer</td>\n",
       "      <td>Mumbai</td>\n",
       "      <td>₹7L - ₹15L (Employer Est.)</td>\n",
       "      <td>NaN</td>\n",
       "      <td>https://www.glassdoor.co.in/partner/jobListing...</td>\n",
       "      <td>['This job is for final year students, fresher...</td>\n",
       "    </tr>\n",
       "    <tr>\n",
       "      <th>4</th>\n",
       "      <td>Finarkein Analytics Pvt. Ltd.</td>\n",
       "      <td>Machine Learning Engineer</td>\n",
       "      <td>Pune</td>\n",
       "      <td>₹2L - ₹2L (Employer Est.)</td>\n",
       "      <td>NaN</td>\n",
       "      <td>https://www.glassdoor.co.in/partner/jobListing...</td>\n",
       "      <td>['We are looking for a passionate Machine Lear...</td>\n",
       "    </tr>\n",
       "    <tr>\n",
       "      <th>...</th>\n",
       "      <td>...</td>\n",
       "      <td>...</td>\n",
       "      <td>...</td>\n",
       "      <td>...</td>\n",
       "      <td>...</td>\n",
       "      <td>...</td>\n",
       "      <td>...</td>\n",
       "    </tr>\n",
       "    <tr>\n",
       "      <th>925</th>\n",
       "      <td>SAP</td>\n",
       "      <td>Machine Learning Engineer - Innovation Center ...</td>\n",
       "      <td>Bangalore</td>\n",
       "      <td>₹21L - ₹22L (Glassdoor Est.)</td>\n",
       "      <td>NaN</td>\n",
       "      <td>https://www.glassdoor.co.in/partner/jobListing...</td>\n",
       "      <td>['What we offer\\nOur company culture is focuse...</td>\n",
       "    </tr>\n",
       "    <tr>\n",
       "      <th>926</th>\n",
       "      <td>NeuranceAI Technologies Private Limited</td>\n",
       "      <td>Machine Learning Engineer</td>\n",
       "      <td>Bangalore</td>\n",
       "      <td>₹8T (Employer Est.)</td>\n",
       "      <td>4.2</td>\n",
       "      <td>https://www.glassdoor.co.in/partner/jobListing...</td>\n",
       "      <td>['Eligibility Criteria', '2-5 yrs of proven ex...</td>\n",
       "    </tr>\n",
       "    <tr>\n",
       "      <th>927</th>\n",
       "      <td>Alpha Net Consulting</td>\n",
       "      <td>Data Scientist/Machine Learning</td>\n",
       "      <td>India</td>\n",
       "      <td>₹7L - ₹15L (Employer Est.)</td>\n",
       "      <td>NaN</td>\n",
       "      <td>https://www.glassdoor.co.in/partner/jobListing...</td>\n",
       "      <td>['', 'Data Scientist\\nPermanant WFH\\nStrong fu...</td>\n",
       "    </tr>\n",
       "    <tr>\n",
       "      <th>928</th>\n",
       "      <td>Predictive Research</td>\n",
       "      <td>Machine Learning, Data Engineer</td>\n",
       "      <td>Bangalore</td>\n",
       "      <td>₹2L - ₹2L (Employer Est.)</td>\n",
       "      <td>3.7</td>\n",
       "      <td>https://www.glassdoor.co.in/partner/jobListing...</td>\n",
       "      <td>['BE/ B tech ( Computer science Only no other ...</td>\n",
       "    </tr>\n",
       "    <tr>\n",
       "      <th>929</th>\n",
       "      <td>INKRONIX</td>\n",
       "      <td>Machine Learning Intern</td>\n",
       "      <td>New Delhi</td>\n",
       "      <td>₹2L - ₹2L (Employer Est.)</td>\n",
       "      <td>NaN</td>\n",
       "      <td>https://www.glassdoor.co.in/partner/jobListing...</td>\n",
       "      <td>['We are hiring interns for machine learning. ...</td>\n",
       "    </tr>\n",
       "  </tbody>\n",
       "</table>\n",
       "<p>930 rows × 7 columns</p>\n",
       "</div>"
      ],
      "text/plain": [
       "                                Company Name  \\\n",
       "0                                     Google   \n",
       "1                           Procter & Gamble   \n",
       "2                          Andaze Japan Ltd.   \n",
       "3                                     XIRCLS   \n",
       "4              Finarkein Analytics Pvt. Ltd.   \n",
       "..                                       ...   \n",
       "925                                      SAP   \n",
       "926  NeuranceAI Technologies Private Limited   \n",
       "927                     Alpha Net Consulting   \n",
       "928                      Predictive Research   \n",
       "929                                 INKRONIX   \n",
       "\n",
       "                                             Job Title Job Tocation  \\\n",
       "0    Pre-Doctoral Researcher, University Graduate (...    Bangalore   \n",
       "1             .Net C# Developer for a Japanese company       Remote   \n",
       "2                                  Data Scientist - IT       Mumbai   \n",
       "3                            Machine Learning Engineer       Mumbai   \n",
       "4                            Machine Learning Engineer         Pune   \n",
       "..                                                 ...          ...   \n",
       "925  Machine Learning Engineer - Innovation Center ...    Bangalore   \n",
       "926                          Machine Learning Engineer    Bangalore   \n",
       "927                    Data Scientist/Machine Learning        India   \n",
       "928                    Machine Learning, Data Engineer    Bangalore   \n",
       "929                            Machine Learning Intern    New Delhi   \n",
       "\n",
       "                           Salary Ratings  \\\n",
       "0             ₹4L (Employer Est.)     4.5   \n",
       "1    ₹21L - ₹22L (Glassdoor Est.)     NaN   \n",
       "2             ₹8T (Employer Est.)     4.2   \n",
       "3      ₹7L - ₹15L (Employer Est.)     NaN   \n",
       "4       ₹2L - ₹2L (Employer Est.)     NaN   \n",
       "..                            ...     ...   \n",
       "925  ₹21L - ₹22L (Glassdoor Est.)     NaN   \n",
       "926           ₹8T (Employer Est.)     4.2   \n",
       "927    ₹7L - ₹15L (Employer Est.)     NaN   \n",
       "928     ₹2L - ₹2L (Employer Est.)     3.7   \n",
       "929     ₹2L - ₹2L (Employer Est.)     NaN   \n",
       "\n",
       "                                                 Links  \\\n",
       "0    https://www.glassdoor.co.in/partner/jobListing...   \n",
       "1    https://www.glassdoor.co.in/partner/jobListing...   \n",
       "2    https://www.glassdoor.co.in/partner/jobListing...   \n",
       "3    https://www.glassdoor.co.in/partner/jobListing...   \n",
       "4    https://www.glassdoor.co.in/partner/jobListing...   \n",
       "..                                                 ...   \n",
       "925  https://www.glassdoor.co.in/partner/jobListing...   \n",
       "926  https://www.glassdoor.co.in/partner/jobListing...   \n",
       "927  https://www.glassdoor.co.in/partner/jobListing...   \n",
       "928  https://www.glassdoor.co.in/partner/jobListing...   \n",
       "929  https://www.glassdoor.co.in/partner/jobListing...   \n",
       "\n",
       "                                           Description  \n",
       "0    [\"To start the application process, you will n...  \n",
       "1    ['About Andaze Japan', 'Our main business is c...  \n",
       "2    ['Job Location', '', 'Mumbai', '', '', 'Job De...  \n",
       "3    ['This job is for final year students, fresher...  \n",
       "4    ['We are looking for a passionate Machine Lear...  \n",
       "..                                                 ...  \n",
       "925  ['What we offer\\nOur company culture is focuse...  \n",
       "926  ['Eligibility Criteria', '2-5 yrs of proven ex...  \n",
       "927  ['', 'Data Scientist\\nPermanant WFH\\nStrong fu...  \n",
       "928  ['BE/ B tech ( Computer science Only no other ...  \n",
       "929  ['We are hiring interns for machine learning. ...  \n",
       "\n",
       "[930 rows x 7 columns]"
      ]
     },
     "execution_count": 8,
     "metadata": {},
     "output_type": "execute_result"
    }
   ],
   "source": [
    "df3.replace('None', np.nan)"
   ]
  },
  {
   "cell_type": "code",
   "execution_count": 9,
   "id": "5ccb09df-c87b-4571-a1fe-5cc8a3cd680b",
   "metadata": {},
   "outputs": [],
   "source": [
    "df3 = df3.dropna(subset=['Job Title'])"
   ]
  },
  {
   "cell_type": "code",
   "execution_count": 10,
   "id": "cb27d8f3-bff9-4867-b3d8-b0b414ac6c06",
   "metadata": {},
   "outputs": [],
   "source": [
    "df3=df3.drop_duplicates()"
   ]
  },
  {
   "cell_type": "code",
   "execution_count": 11,
   "id": "8b3e0db3-3322-4259-b947-976ce4ebff32",
   "metadata": {},
   "outputs": [
    {
     "data": {
      "text/plain": [
       "(930, 7)"
      ]
     },
     "execution_count": 11,
     "metadata": {},
     "output_type": "execute_result"
    }
   ],
   "source": [
    "df3.shape"
   ]
  },
  {
   "cell_type": "code",
   "execution_count": 12,
   "id": "10c4b2e9-a9e7-486c-b5bd-4500fb785d63",
   "metadata": {},
   "outputs": [
    {
     "data": {
      "text/plain": [
       "₹2L - ₹3L (Employer Est.)       70\n",
       "₹4L (Employer Est.)             69\n",
       "₹2L - ₹2L (Employer Est.)       38\n",
       "₹7L - ₹15L (Employer Est.)      37\n",
       "₹11L - ₹12L (Glassdoor Est.)    36\n",
       "₹12L - ₹30L (Employer Est.)     36\n",
       "₹15T - ₹20T (Employer Est.)     36\n",
       "₹7L - ₹15L (Glassdoor Est.)     36\n",
       "₹2L - ₹3L (Glassdoor Est.)      36\n",
       "₹8T (Employer Est.)             35\n",
       "₹21L - ₹22L (Glassdoor Est.)    35\n",
       "₹6L - ₹8L (Employer Est.)       34\n",
       "₹10T (Employer Est.)            34\n",
       "₹10L - ₹50L (Employer Est.)     34\n",
       "₹6L (Employer Est.)             34\n",
       "₹15T - ₹30T (Employer Est.)     34\n",
       "₹6L - ₹13L (Glassdoor Est.)     34\n",
       "₹7L - ₹8L (Employer Est.)       34\n",
       "₹4L - ₹16L (Employer Est.)      34\n",
       "₹1L (Employer Est.)             34\n",
       "₹15L - ₹30L (Employer Est.)     34\n",
       "₹6L - ₹17L (Glassdoor Est.)     34\n",
       "₹8L - ₹12L (Employer Est.)      34\n",
       "₹26T - ₹61T (Employer Est.)     34\n",
       "₹19L - ₹22L (Glassdoor Est.)     2\n",
       "₹12T - ₹15T (Employer Est.)      2\n",
       "₹4L - ₹5L (Glassdoor Est.)       2\n",
       "₹24L - ₹28L (Glassdoor Est.)     2\n",
       "₹5L - ₹7L (Glassdoor Est.)       2\n",
       "₹11L - ₹34L (Glassdoor Est.)     2\n",
       "₹14L - ₹22L (Glassdoor Est.)     2\n",
       "₹4L - ₹26L (Glassdoor Est.)      2\n",
       "₹20L - ₹25L (Glassdoor Est.)     2\n",
       "₹8L - ₹19L (Glassdoor Est.)      2\n",
       "₹1T - ₹2T (Employer Est.)        2\n",
       "₹9L - ₹15L (Glassdoor Est.)      2\n",
       "Name: Salary, dtype: int64"
      ]
     },
     "execution_count": 12,
     "metadata": {},
     "output_type": "execute_result"
    }
   ],
   "source": [
    "df3['Salary'].value_counts()"
   ]
  },
  {
   "cell_type": "code",
   "execution_count": 13,
   "id": "a253eb4a-4e8b-4183-a11f-a32b939c76a1",
   "metadata": {},
   "outputs": [
    {
     "name": "stderr",
     "output_type": "stream",
     "text": [
      "C:\\Users\\Kaveri\\AppData\\Local\\Temp\\ipykernel_15532\\503854067.py:4: FutureWarning: The default value of regex will change from True to False in a future version.\n",
      "  df3['Salary'] = df3['Salary'].str.replace('(Employer Est.)','')\n",
      "C:\\Users\\Kaveri\\AppData\\Local\\Temp\\ipykernel_15532\\503854067.py:5: FutureWarning: The default value of regex will change from True to False in a future version.\n",
      "  df3['Salary'] = df3['Salary'].str.replace('(Glassdoor Est.)','')\n",
      "C:\\Users\\Kaveri\\AppData\\Local\\Temp\\ipykernel_15532\\503854067.py:6: FutureWarning: The default value of regex will change from True to False in a future version.\n",
      "  df3['Salary'] = df3['Salary'].str.replace('()','')\n"
     ]
    }
   ],
   "source": [
    "df3['Salary'] = df3['Salary'].str.replace('\\n', '')\n",
    "df3['Salary'] = df3['Salary'].str.replace(',', '')\n",
    "df3['Salary'] = df3['Salary'].str.replace('₹','')\n",
    "df3['Salary'] = df3['Salary'].str.replace('(Employer Est.)','')\n",
    "df3['Salary'] = df3['Salary'].str.replace('(Glassdoor Est.)','')\n",
    "df3['Salary'] = df3['Salary'].str.replace('()','')"
   ]
  },
  {
   "cell_type": "code",
   "execution_count": 14,
   "id": "43a1ac49-a929-413f-b3ed-f8cc8148ee73",
   "metadata": {},
   "outputs": [
    {
     "data": {
      "text/plain": [
       "2L - 3L ()      106\n",
       "7L - 15L ()      73\n",
       "4L ()            69\n",
       "2L - 2L ()       38\n",
       "11L - 12L ()     36\n",
       "12L - 30L ()     36\n",
       "15T - 20T ()     36\n",
       "8T ()            35\n",
       "21L - 22L ()     35\n",
       "7L - 8L ()       34\n",
       "10T ()           34\n",
       "10L - 50L ()     34\n",
       "6L ()            34\n",
       "15T - 30T ()     34\n",
       "6L - 8L ()       34\n",
       "6L - 13L ()      34\n",
       "26T - 61T ()     34\n",
       "1L ()            34\n",
       "15L - 30L ()     34\n",
       "6L - 17L ()      34\n",
       "8L - 12L ()      34\n",
       "4L - 16L ()      34\n",
       "19L - 22L ()      2\n",
       "12T - 15T ()      2\n",
       "4L - 5L ()        2\n",
       "24L - 28L ()      2\n",
       "5L - 7L ()        2\n",
       "20L - 25L ()      2\n",
       "14L - 22L ()      2\n",
       "4L - 26L ()       2\n",
       "11L - 34L ()      2\n",
       "8L - 19L ()       2\n",
       "1T - 2T ()        2\n",
       "9L - 15L ()       2\n",
       "Name: Salary, dtype: int64"
      ]
     },
     "execution_count": 14,
     "metadata": {},
     "output_type": "execute_result"
    }
   ],
   "source": [
    "df3['Salary'].value_counts()"
   ]
  },
  {
   "cell_type": "code",
   "execution_count": 15,
   "id": "cf91f4b8-1062-4b78-96aa-808db62f327d",
   "metadata": {},
   "outputs": [],
   "source": [
    "df3[\"salary_period\"]=np.nan"
   ]
  },
  {
   "cell_type": "code",
   "execution_count": 16,
   "id": "7093fb3f-3350-42e1-8f02-2c5a486bfedc",
   "metadata": {},
   "outputs": [
    {
     "name": "stderr",
     "output_type": "stream",
     "text": [
      "C:\\Users\\Kaveri\\AppData\\Local\\Temp\\ipykernel_15532\\1838717329.py:9: SettingWithCopyWarning: \n",
      "A value is trying to be set on a copy of a slice from a DataFrame\n",
      "\n",
      "See the caveats in the documentation: https://pandas.pydata.org/pandas-docs/stable/user_guide/indexing.html#returning-a-view-versus-a-copy\n",
      "  df3[\"salary_period\"][i]=\"year\"\n"
     ]
    }
   ],
   "source": [
    "import string\n",
    "df3[\"Salary\"].str.contains(\"year\")\n",
    "c=df3[\"Salary\"]\n",
    "i=0\n",
    "for rows in c:\n",
    "    \n",
    "    if(type(rows)==str):\n",
    "        if (rows.find(\"L\")!=-1):\n",
    "            df3[\"salary_period\"][i]=\"year\"\n",
    "        \n",
    "    i=i+1\n",
    "    "
   ]
  },
  {
   "cell_type": "code",
   "execution_count": 17,
   "id": "5823d8f5-fc7f-4343-a6d3-f1aa3e5faab5",
   "metadata": {},
   "outputs": [],
   "source": [
    "df3[\"Salary\"].str.contains(\"month\")\n",
    "c=df2[\"Salary\"]\n",
    "i=0\n",
    "for rows in c:\n",
    "    \n",
    "    if(type(rows)==str):\n",
    "        if (rows.find(\"T\")!=-1):\n",
    "            df3[\"salary_period\"][i]=\"month\"\n",
    "    i=i+1"
   ]
  },
  {
   "cell_type": "code",
   "execution_count": 18,
   "id": "e5381f00-5c2e-4d3e-bf0a-2b0a37b767a0",
   "metadata": {},
   "outputs": [
    {
     "data": {
      "text/plain": [
       "year     753\n",
       "month    177\n",
       "Name: salary_period, dtype: int64"
      ]
     },
     "execution_count": 18,
     "metadata": {},
     "output_type": "execute_result"
    }
   ],
   "source": [
    "df3[\"salary_period\"].value_counts()"
   ]
  },
  {
   "cell_type": "code",
   "execution_count": 19,
   "id": "31a319df-c343-47e0-ac41-23fb094ffacf",
   "metadata": {},
   "outputs": [],
   "source": [
    "df3[\"Average\"]=np.nan\n"
   ]
  },
  {
   "cell_type": "code",
   "execution_count": 20,
   "id": "37e452ea-ad6f-4317-b83e-53a3dba4572a",
   "metadata": {},
   "outputs": [],
   "source": [
    "df3['Salary2']=df3['Salary']"
   ]
  },
  {
   "cell_type": "code",
   "execution_count": 21,
   "id": "ef4c17b2-6609-4981-9cf7-28bd09059a97",
   "metadata": {},
   "outputs": [],
   "source": [
    "df3['Salary'] = df3['Salary'].str.replace('L','')\n",
    "df3['Salary'] = df3['Salary'].str.replace('-','')\n",
    "df3['Salary'] = df3['Salary'].str.replace('T','')"
   ]
  },
  {
   "cell_type": "code",
   "execution_count": 22,
   "id": "bdd458cc-e903-4bac-857c-8766952f8654",
   "metadata": {},
   "outputs": [
    {
     "data": {
      "text/plain": [
       "2  3 ()      106\n",
       "7  15 ()      73\n",
       "4 ()          69\n",
       "15  30 ()     68\n",
       "2  2 ()       38\n",
       "11  12 ()     36\n",
       "12  30 ()     36\n",
       "15  20 ()     36\n",
       "8 ()          35\n",
       "21  22 ()     35\n",
       "7  8 ()       34\n",
       "10 ()         34\n",
       "10  50 ()     34\n",
       "6 ()          34\n",
       "6  13 ()      34\n",
       "6  8 ()       34\n",
       "26  61 ()     34\n",
       "1 ()          34\n",
       "6  17 ()      34\n",
       "8  12 ()      34\n",
       "4  16 ()      34\n",
       "19  22 ()      2\n",
       "12  15 ()      2\n",
       "4  5 ()        2\n",
       "24  28 ()      2\n",
       "5  7 ()        2\n",
       "20  25 ()      2\n",
       "14  22 ()      2\n",
       "4  26 ()       2\n",
       "11  34 ()      2\n",
       "8  19 ()       2\n",
       "1  2 ()        2\n",
       "9  15 ()       2\n",
       "Name: Salary, dtype: int64"
      ]
     },
     "execution_count": 22,
     "metadata": {},
     "output_type": "execute_result"
    }
   ],
   "source": [
    "df3['Salary'].value_counts()"
   ]
  },
  {
   "cell_type": "code",
   "execution_count": 23,
   "id": "9788a5ee-7f3c-4d7a-bbae-d79a69af697e",
   "metadata": {},
   "outputs": [
    {
     "name": "stderr",
     "output_type": "stream",
     "text": [
      "C:\\Users\\Kaveri\\AppData\\Local\\Temp\\ipykernel_15532\\1617094531.py:20: SettingWithCopyWarning: \n",
      "A value is trying to be set on a copy of a slice from a DataFrame\n",
      "\n",
      "See the caveats in the documentation: https://pandas.pydata.org/pandas-docs/stable/user_guide/indexing.html#returning-a-view-versus-a-copy\n",
      "  df3['Average'][i]=rows[0]\n"
     ]
    }
   ],
   "source": [
    "def avg(a,b):\n",
    "    return (a+b)/2\n",
    "c=df3[\"Salary\"]\n",
    "\n",
    "av=0\n",
    "a=0\n",
    "b=0\n",
    "i=0\n",
    "for rows in c:\n",
    "    av=0\n",
    "    if(type(rows)==str):\n",
    "        rows=rows.split()\n",
    "        for item in range(0,len(rows)):\n",
    "            if(rows[item].isdigit()):\n",
    "                \n",
    "                av=av+1\n",
    "                \n",
    "    if(av==1):\n",
    "                \n",
    "        df3['Average'][i]=rows[0]\n",
    "            \n",
    "    i=i+1"
   ]
  },
  {
   "cell_type": "code",
   "execution_count": 24,
   "id": "87e8529b-778b-4765-a417-2a2fde4b7fa7",
   "metadata": {},
   "outputs": [],
   "source": [
    "def avg(a,b):\n",
    "    return (a+b)/2\n",
    "c=df3[\"Salary\"]\n",
    "\n",
    "av=0\n",
    "a=0\n",
    "b=0\n",
    "i=0\n",
    "for rows in c:\n",
    "    if(type(rows)==str):\n",
    "        rows=rows.split()\n",
    "        for item in range(0,len(rows)):\n",
    "            if(rows[item].isdigit() and rows[item+1].isdigit()):\n",
    "                av=avg(int(rows[0]),int(rows[1]))\n",
    "                df3[\"Average\"][i]=av\n",
    "    i=i+1"
   ]
  },
  {
   "cell_type": "code",
   "execution_count": 25,
   "id": "4f82a5d4-8106-4b55-a6c3-d7848f4f37c9",
   "metadata": {},
   "outputs": [
    {
     "data": {
      "text/plain": [
       "2.5     106\n",
       "11.0     73\n",
       "22.5     72\n",
       "11.5     70\n",
       "4        69\n",
       "10.0     68\n",
       "2.0      38\n",
       "21.0     36\n",
       "17.5     36\n",
       "8        35\n",
       "21.5     35\n",
       "9.5      34\n",
       "10       34\n",
       "30.0     34\n",
       "6        34\n",
       "7.0      34\n",
       "7.5      34\n",
       "43.5     34\n",
       "1        34\n",
       "13.5      4\n",
       "1.5       2\n",
       "15.0      2\n",
       "18.0      2\n",
       "20.5      2\n",
       "6.0       2\n",
       "26.0      2\n",
       "4.5       2\n",
       "12.0      2\n",
       "Name: Average, dtype: int64"
      ]
     },
     "execution_count": 25,
     "metadata": {},
     "output_type": "execute_result"
    }
   ],
   "source": [
    "df3[\"Average\"].value_counts()"
   ]
  },
  {
   "cell_type": "code",
   "execution_count": 30,
   "id": "79364fca-8886-4e0e-b6f2-db09955fb770",
   "metadata": {},
   "outputs": [],
   "source": [
    "df3['Job Description']=df3[' Description']"
   ]
  },
  {
   "cell_type": "code",
   "execution_count": 31,
   "id": "397eb5d8-b748-4946-9eb6-26d50f16ac0e",
   "metadata": {},
   "outputs": [
    {
     "name": "stderr",
     "output_type": "stream",
     "text": [
      "C:\\Users\\Kaveri\\AppData\\Local\\Temp\\ipykernel_15532\\3706144816.py:3: FutureWarning: The default value of regex will change from True to False in a future version. In addition, single character regular expressions will *not* be treated as literal strings when regex=True.\n",
      "  df3['Job Description'] = df3['Job Description'].str.replace(item, ' ')\n"
     ]
    }
   ],
   "source": [
    "cleaning_list = ['+','[',']',\"'\",'\"', '$','/',',','?','.',';','-','@','!','&','%','^','*',')','(', '\\n']\n",
    "for item in cleaning_list:\n",
    "    df3['Job Description'] = df3['Job Description'].str.replace(item, ' ')\n",
    "    \n"
   ]
  },
  {
   "cell_type": "code",
   "execution_count": 74,
   "id": "5364d65c-0fa6-4bd0-8a03-20bda30edb77",
   "metadata": {},
   "outputs": [],
   "source": [
    "exp=[]"
   ]
  },
  {
   "cell_type": "code",
   "execution_count": 75,
   "id": "2af16741-b0d7-4afb-b0d0-528d3922147c",
   "metadata": {},
   "outputs": [],
   "source": [
    "def desc(i):\n",
    "    l = df3[\"Job Description\"][i]\n",
    "    l=str(l)\n",
    "    p = l.split('\\n')\n",
    "    return p"
   ]
  },
  {
   "cell_type": "code",
   "execution_count": 76,
   "id": "169fea20-371d-4548-bc46-ce851d669409",
   "metadata": {},
   "outputs": [],
   "source": [
    "for i in range(0,930):\n",
    "    \n",
    "    p=desc(i)\n",
    "    for line in p:\n",
    "        y = re.findall('\\d+ [Yy]ears', line)\n",
    "        if y!= []:\n",
    "            exp.append(y)\n",
    "    \n",
    "   "
   ]
  },
  {
   "cell_type": "code",
   "execution_count": 88,
   "id": "0c9acbbb-bcc1-46d5-93df-2fbacfd32778",
   "metadata": {},
   "outputs": [],
   "source": [
    "exp2 = pd.DataFrame(exp)"
   ]
  },
  {
   "cell_type": "code",
   "execution_count": 89,
   "id": "5a38502c-262c-48b5-b7ae-c6ec2fac304f",
   "metadata": {},
   "outputs": [
    {
     "data": {
      "text/plain": [
       "[['2 Years'],\n",
       " ['180 years'],\n",
       " ['6 years'],\n",
       " ['3 years'],\n",
       " ['1 years'],\n",
       " ['5 years'],\n",
       " ['1 Years'],\n",
       " ['2 years'],\n",
       " ['2 years', '3 years'],\n",
       " ['4 years'],\n",
       " ['3 years'],\n",
       " ['3 years'],\n",
       " ['2 years', '2 years'],\n",
       " ['2 Years'],\n",
       " ['180 years'],\n",
       " ['6 years'],\n",
       " ['3 years'],\n",
       " ['1 years'],\n",
       " ['5 years'],\n",
       " ['1 Years'],\n",
       " ['2 years'],\n",
       " ['2 years', '3 years'],\n",
       " ['4 years'],\n",
       " ['3 years'],\n",
       " ['3 years'],\n",
       " ['2 years', '2 years'],\n",
       " ['2 Years'],\n",
       " ['180 years'],\n",
       " ['6 years'],\n",
       " ['3 years'],\n",
       " ['1 years'],\n",
       " ['5 years'],\n",
       " ['1 Years'],\n",
       " ['2 years'],\n",
       " ['2 years', '3 years'],\n",
       " ['4 years'],\n",
       " ['3 years'],\n",
       " ['3 years'],\n",
       " ['2 years', '2 years'],\n",
       " ['2 Years'],\n",
       " ['180 years'],\n",
       " ['6 years'],\n",
       " ['3 years'],\n",
       " ['1 years'],\n",
       " ['5 years'],\n",
       " ['1 Years'],\n",
       " ['2 years'],\n",
       " ['2 years', '3 years'],\n",
       " ['4 years'],\n",
       " ['3 years'],\n",
       " ['3 years'],\n",
       " ['2 years', '2 years'],\n",
       " ['2 Years'],\n",
       " ['180 years'],\n",
       " ['6 years'],\n",
       " ['3 years'],\n",
       " ['1 years'],\n",
       " ['5 years'],\n",
       " ['1 Years'],\n",
       " ['2 years'],\n",
       " ['2 years', '3 years'],\n",
       " ['4 years'],\n",
       " ['3 years'],\n",
       " ['3 years'],\n",
       " ['2 years', '2 years'],\n",
       " ['2 Years'],\n",
       " ['180 years'],\n",
       " ['6 years'],\n",
       " ['3 years'],\n",
       " ['1 years'],\n",
       " ['5 years'],\n",
       " ['1 Years'],\n",
       " ['2 years'],\n",
       " ['2 years', '3 years'],\n",
       " ['4 years'],\n",
       " ['3 years'],\n",
       " ['3 years'],\n",
       " ['2 years', '2 years'],\n",
       " ['2 Years'],\n",
       " ['180 years'],\n",
       " ['6 years'],\n",
       " ['3 years'],\n",
       " ['1 years'],\n",
       " ['5 years'],\n",
       " ['1 Years'],\n",
       " ['2 years'],\n",
       " ['2 years', '3 years'],\n",
       " ['4 years'],\n",
       " ['3 years'],\n",
       " ['3 years'],\n",
       " ['2 years', '2 years'],\n",
       " ['2 Years'],\n",
       " ['180 years'],\n",
       " ['6 years'],\n",
       " ['3 years'],\n",
       " ['1 years'],\n",
       " ['5 years'],\n",
       " ['1 Years'],\n",
       " ['2 years'],\n",
       " ['2 years', '3 years'],\n",
       " ['4 years'],\n",
       " ['3 years'],\n",
       " ['3 years'],\n",
       " ['2 years', '2 years'],\n",
       " ['180 years'],\n",
       " ['2 Years'],\n",
       " ['6 years'],\n",
       " ['3 years'],\n",
       " ['1 years'],\n",
       " ['1 Years'],\n",
       " ['5 years'],\n",
       " ['2 years'],\n",
       " ['2 years', '3 years'],\n",
       " ['4 years'],\n",
       " ['3 years'],\n",
       " ['3 years'],\n",
       " ['2 years', '2 years'],\n",
       " ['2 Years'],\n",
       " ['180 years'],\n",
       " ['6 years'],\n",
       " ['3 years'],\n",
       " ['1 years'],\n",
       " ['5 years'],\n",
       " ['1 Years'],\n",
       " ['2 years'],\n",
       " ['2 years', '3 years'],\n",
       " ['4 years'],\n",
       " ['3 years'],\n",
       " ['3 years'],\n",
       " ['2 years', '2 years'],\n",
       " ['2 Years'],\n",
       " ['180 years'],\n",
       " ['6 years'],\n",
       " ['3 years'],\n",
       " ['1 years'],\n",
       " ['5 years'],\n",
       " ['1 Years'],\n",
       " ['2 years'],\n",
       " ['2 years', '3 years'],\n",
       " ['4 years'],\n",
       " ['3 years'],\n",
       " ['3 years'],\n",
       " ['2 years', '2 years'],\n",
       " ['2 Years'],\n",
       " ['180 years'],\n",
       " ['6 years'],\n",
       " ['3 years'],\n",
       " ['1 years'],\n",
       " ['5 years'],\n",
       " ['1 Years'],\n",
       " ['2 years'],\n",
       " ['2 years', '3 years'],\n",
       " ['4 years'],\n",
       " ['3 years'],\n",
       " ['3 years'],\n",
       " ['2 years', '2 years'],\n",
       " ['2 Years'],\n",
       " ['180 years'],\n",
       " ['6 years'],\n",
       " ['3 years'],\n",
       " ['1 years'],\n",
       " ['5 years'],\n",
       " ['1 Years'],\n",
       " ['2 years'],\n",
       " ['2 years', '3 years'],\n",
       " ['4 years'],\n",
       " ['3 years'],\n",
       " ['3 years'],\n",
       " ['2 Years'],\n",
       " ['180 years'],\n",
       " ['6 years'],\n",
       " ['3 years'],\n",
       " ['1 years'],\n",
       " ['5 years'],\n",
       " ['1 Years'],\n",
       " ['2 years'],\n",
       " ['2 years', '3 years'],\n",
       " ['4 years'],\n",
       " ['3 years'],\n",
       " ['3 years'],\n",
       " ['2 years', '2 years'],\n",
       " ['2 Years'],\n",
       " ['180 years'],\n",
       " ['6 years'],\n",
       " ['3 years'],\n",
       " ['1 years'],\n",
       " ['5 years'],\n",
       " ['1 Years'],\n",
       " ['2 years'],\n",
       " ['2 years', '3 years'],\n",
       " ['4 years'],\n",
       " ['3 years'],\n",
       " ['3 years'],\n",
       " ['2 years', '2 years'],\n",
       " ['2 Years'],\n",
       " ['180 years'],\n",
       " ['6 years'],\n",
       " ['3 years'],\n",
       " ['1 years'],\n",
       " ['5 years'],\n",
       " ['1 Years'],\n",
       " ['2 years'],\n",
       " ['2 years', '3 years'],\n",
       " ['4 years'],\n",
       " ['3 years'],\n",
       " ['3 years'],\n",
       " ['2 years', '2 years'],\n",
       " ['2 Years'],\n",
       " ['180 years'],\n",
       " ['6 years'],\n",
       " ['3 years'],\n",
       " ['1 years'],\n",
       " ['5 years'],\n",
       " ['1 Years'],\n",
       " ['2 years'],\n",
       " ['2 years', '3 years'],\n",
       " ['4 years'],\n",
       " ['3 years'],\n",
       " ['3 years'],\n",
       " ['2 years', '2 years'],\n",
       " ['2 Years'],\n",
       " ['180 years'],\n",
       " ['6 years'],\n",
       " ['3 years'],\n",
       " ['1 years'],\n",
       " ['5 years'],\n",
       " ['1 Years'],\n",
       " ['2 years'],\n",
       " ['2 years', '3 years'],\n",
       " ['4 years'],\n",
       " ['3 years'],\n",
       " ['3 years'],\n",
       " ['2 years', '2 years'],\n",
       " ['2 Years'],\n",
       " ['180 years'],\n",
       " ['6 years'],\n",
       " ['3 years'],\n",
       " ['1 years'],\n",
       " ['5 years'],\n",
       " ['1 Years'],\n",
       " ['2 years'],\n",
       " ['2 years', '3 years'],\n",
       " ['4 years'],\n",
       " ['3 years'],\n",
       " ['3 years'],\n",
       " ['2 years', '2 years'],\n",
       " ['2 Years'],\n",
       " ['180 years'],\n",
       " ['6 years'],\n",
       " ['3 years'],\n",
       " ['1 years'],\n",
       " ['5 years'],\n",
       " ['1 Years'],\n",
       " ['2 years'],\n",
       " ['2 years', '3 years'],\n",
       " ['4 years'],\n",
       " ['3 years'],\n",
       " ['3 years'],\n",
       " ['2 years', '2 years'],\n",
       " ['2 Years'],\n",
       " ['180 years'],\n",
       " ['6 years'],\n",
       " ['3 years'],\n",
       " ['1 years'],\n",
       " ['5 years'],\n",
       " ['1 Years'],\n",
       " ['2 years'],\n",
       " ['2 years', '3 years'],\n",
       " ['4 years'],\n",
       " ['3 years'],\n",
       " ['3 years'],\n",
       " ['2 years', '2 years'],\n",
       " ['2 Years'],\n",
       " ['180 years'],\n",
       " ['6 years'],\n",
       " ['3 years'],\n",
       " ['1 years'],\n",
       " ['5 years'],\n",
       " ['1 Years'],\n",
       " ['2 years'],\n",
       " ['2 years', '3 years'],\n",
       " ['4 years'],\n",
       " ['3 years'],\n",
       " ['3 years'],\n",
       " ['2 years', '2 years'],\n",
       " ['2 Years'],\n",
       " ['180 years'],\n",
       " ['6 years'],\n",
       " ['3 years'],\n",
       " ['1 years'],\n",
       " ['5 years'],\n",
       " ['1 Years'],\n",
       " ['2 years'],\n",
       " ['2 years', '3 years'],\n",
       " ['4 years'],\n",
       " ['3 years'],\n",
       " ['3 years'],\n",
       " ['2 years', '2 years'],\n",
       " ['2 Years'],\n",
       " ['180 years'],\n",
       " ['6 years'],\n",
       " ['3 years'],\n",
       " ['1 years'],\n",
       " ['5 years'],\n",
       " ['1 Years'],\n",
       " ['2 years'],\n",
       " ['2 years', '3 years'],\n",
       " ['4 years'],\n",
       " ['3 years'],\n",
       " ['3 years'],\n",
       " ['2 years', '2 years'],\n",
       " ['2 Years'],\n",
       " ['180 years'],\n",
       " ['6 years'],\n",
       " ['3 years'],\n",
       " ['1 years'],\n",
       " ['5 years'],\n",
       " ['1 Years'],\n",
       " ['2 years'],\n",
       " ['2 years', '3 years'],\n",
       " ['4 years'],\n",
       " ['3 years'],\n",
       " ['3 years'],\n",
       " ['2 years', '2 years'],\n",
       " ['2 Years'],\n",
       " ['180 years'],\n",
       " ['6 years'],\n",
       " ['3 years'],\n",
       " ['1 years'],\n",
       " ['5 years'],\n",
       " ['1 Years'],\n",
       " ['2 years'],\n",
       " ['2 years', '3 years'],\n",
       " ['4 years'],\n",
       " ['3 years'],\n",
       " ['3 years'],\n",
       " ['2 years', '2 years'],\n",
       " ['2 Years'],\n",
       " ['180 years'],\n",
       " ['6 years'],\n",
       " ['3 years'],\n",
       " ['1 years'],\n",
       " ['5 years'],\n",
       " ['1 Years'],\n",
       " ['2 years'],\n",
       " ['2 years', '3 years'],\n",
       " ['4 years'],\n",
       " ['3 years'],\n",
       " ['3 years'],\n",
       " ['2 years', '2 years'],\n",
       " ['2 Years'],\n",
       " ['180 years'],\n",
       " ['6 years'],\n",
       " ['3 years'],\n",
       " ['1 years'],\n",
       " ['5 years'],\n",
       " ['1 Years'],\n",
       " ['2 years'],\n",
       " ['2 years', '3 years'],\n",
       " ['4 years'],\n",
       " ['3 years'],\n",
       " ['3 years'],\n",
       " ['2 years', '2 years'],\n",
       " ['2 Years'],\n",
       " ['180 years'],\n",
       " ['6 years'],\n",
       " ['3 years'],\n",
       " ['1 years'],\n",
       " ['5 years'],\n",
       " ['1 Years'],\n",
       " ['2 years'],\n",
       " ['2 years', '3 years'],\n",
       " ['4 years'],\n",
       " ['3 years'],\n",
       " ['3 years'],\n",
       " ['2 years', '2 years'],\n",
       " ['2 Years'],\n",
       " ['180 years'],\n",
       " ['6 years'],\n",
       " ['3 years'],\n",
       " ['1 years'],\n",
       " ['5 years'],\n",
       " ['1 Years'],\n",
       " ['2 years'],\n",
       " ['2 years', '3 years'],\n",
       " ['4 years'],\n",
       " ['3 years'],\n",
       " ['3 years'],\n",
       " ['2 years', '2 years'],\n",
       " ['2 Years'],\n",
       " ['180 years'],\n",
       " ['6 years'],\n",
       " ['3 years'],\n",
       " ['1 years'],\n",
       " ['5 years'],\n",
       " ['1 Years'],\n",
       " ['2 years'],\n",
       " ['2 years', '3 years'],\n",
       " ['4 years'],\n",
       " ['3 years'],\n",
       " ['3 years'],\n",
       " ['2 years', '2 years']]"
      ]
     },
     "execution_count": 89,
     "metadata": {},
     "output_type": "execute_result"
    }
   ],
   "source": [
    "exp"
   ]
  },
  {
   "cell_type": "code",
   "execution_count": 103,
   "id": "6b68fc32-4b4c-4dd8-9aad-77168c606962",
   "metadata": {},
   "outputs": [
    {
     "data": {
      "text/plain": [
       "(402, 1)"
      ]
     },
     "execution_count": 103,
     "metadata": {},
     "output_type": "execute_result"
    }
   ],
   "source": [
    "exp2.shape"
   ]
  },
  {
   "cell_type": "code",
   "execution_count": 102,
   "id": "32458f92-be58-4ffc-b0ac-5e3f5a26fdcd",
   "metadata": {},
   "outputs": [],
   "source": [
    "exp2=exp2.drop(1,axis=1)"
   ]
  },
  {
   "cell_type": "code",
   "execution_count": 81,
   "id": "b07d430a-46ce-4973-926a-d701debc22c0",
   "metadata": {},
   "outputs": [
    {
     "name": "stderr",
     "output_type": "stream",
     "text": [
      "C:\\Users\\Kaveri\\AppData\\Local\\Temp\\ipykernel_15532\\4236643827.py:3: FutureWarning: The default value of regex will change from True to False in a future version. In addition, single character regular expressions will *not* be treated as literal strings when regex=True.\n",
      "  exp2[0] = exp2[0].str.replace(item, ' ')\n"
     ]
    }
   ],
   "source": [
    "cleaning_list = ['+','[',']',\"'\",'\"', '$','/',',','?','.',';','-','@','!','&','%','^','*',')','(', '\\n']\n",
    "for item in cleaning_list:\n",
    "    exp2[0] = exp2[0].str.replace(item, ' ')\n",
    "    \n"
   ]
  },
  {
   "cell_type": "code",
   "execution_count": 104,
   "id": "76547daf-ebf3-4e16-9a54-f6bb1a5a7655",
   "metadata": {},
   "outputs": [],
   "source": [
    "df3['Years of Experience']=exp2"
   ]
  },
  {
   "cell_type": "code",
   "execution_count": 112,
   "id": "2e3b5e57-b722-4581-8cdf-e4784452792f",
   "metadata": {},
   "outputs": [],
   "source": [
    "c=df3['Years of Experience']\n",
    "i=0\n",
    "for rows in c:\n",
    "    if(type(rows)==str):\n",
    "        rows=rows.lower()\n",
    "        rows=rows.split()\n",
    "        if(int(rows[0])<20):\n",
    "            df3['Years of Experience'][i]=int(rows[0])\n",
    "        else:\n",
    "            df3['Years of Experience'][i]=None\n",
    "        \n",
    "    i=i+1\n",
    "            \n",
    "            "
   ]
  },
  {
   "cell_type": "code",
   "execution_count": 113,
   "id": "cecbe8c8-0d32-4d35-ac2d-9d9c7683bb8b",
   "metadata": {},
   "outputs": [
    {
     "data": {
      "text/plain": [
       "2    123\n",
       "3     93\n",
       "1     62\n",
       "6     31\n",
       "5     31\n",
       "4     31\n",
       "Name: Years of Experience, dtype: int64"
      ]
     },
     "execution_count": 113,
     "metadata": {},
     "output_type": "execute_result"
    }
   ],
   "source": [
    "df3['Years of Experience'].value_counts()"
   ]
  },
  {
   "cell_type": "code",
   "execution_count": 120,
   "id": "158469f5-570d-4a24-bcbb-a13a994f2727",
   "metadata": {},
   "outputs": [
    {
     "data": {
      "text/plain": [
       "Company Name             0\n",
       "Job Title                0\n",
       "Job Tocation             0\n",
       "Salary                   0\n",
       "Ratings                  0\n",
       " Links                   0\n",
       " Description             1\n",
       "salary_period            0\n",
       "Average                  0\n",
       "Salary2                  0\n",
       "Job Description          1\n",
       "Years of Experience    559\n",
       "Location                 0\n",
       "dtype: int64"
      ]
     },
     "execution_count": 120,
     "metadata": {},
     "output_type": "execute_result"
    }
   ],
   "source": [
    "df3.isna().sum()\n"
   ]
  },
  {
   "cell_type": "code",
   "execution_count": 115,
   "id": "b1d7c9c0-1324-47e1-874c-1dde6d3e7ef1",
   "metadata": {},
   "outputs": [
    {
     "data": {
      "text/plain": [
       "(930, 12)"
      ]
     },
     "execution_count": 115,
     "metadata": {},
     "output_type": "execute_result"
    }
   ],
   "source": [
    "df3.shape"
   ]
  },
  {
   "cell_type": "code",
   "execution_count": 116,
   "id": "588e5933-7d99-4102-8499-cdac24a6fd94",
   "metadata": {},
   "outputs": [],
   "source": [
    "df3['Location']=df3['Job Tocation']"
   ]
  },
  {
   "cell_type": "code",
   "execution_count": 117,
   "id": "941d516a-940a-4b4e-809a-daf69a36deea",
   "metadata": {},
   "outputs": [
    {
     "data": {
      "text/plain": [
       "Bangalore       308\n",
       "Pune            156\n",
       "Mumbai           94\n",
       "India            94\n",
       "Remote           92\n",
       "New Delhi        62\n",
       "Hyderābād        60\n",
       "Mohali           30\n",
       "Kālkāji Devi     30\n",
       "Ahmedabad         1\n",
       "Noida             1\n",
       "Chennai           1\n",
       "Cochin            1\n",
       "Name: Location, dtype: int64"
      ]
     },
     "execution_count": 117,
     "metadata": {},
     "output_type": "execute_result"
    }
   ],
   "source": [
    "df3['Location'].value_counts()"
   ]
  },
  {
   "cell_type": "code",
   "execution_count": 118,
   "id": "824aa97f-9dff-4e91-aecf-15be50c6fb85",
   "metadata": {},
   "outputs": [],
   "source": [
    "c=df3['Location']\n",
    "\n",
    "i=0\n",
    "\n",
    "for rows in c:\n",
    "    if(rows=='India' or rows== 'Remote' ):\n",
    "        df.drop(i,inplace=True)\n",
    "        \n",
    "    \n",
    "        \n",
    "    i=i+1"
   ]
  },
  {
   "cell_type": "code",
   "execution_count": 119,
   "id": "8f73c934-455d-4035-987a-2be70141129b",
   "metadata": {},
   "outputs": [
    {
     "data": {
      "text/plain": [
       "(930, 13)"
      ]
     },
     "execution_count": 119,
     "metadata": {},
     "output_type": "execute_result"
    }
   ],
   "source": [
    "df3.shape"
   ]
  },
  {
   "cell_type": "code",
   "execution_count": 121,
   "id": "53d4446b-5847-4d9b-bc66-dd6de822a119",
   "metadata": {},
   "outputs": [],
   "source": [
    "c=df3['Job Description']\n",
    "\n",
    "i=0\n",
    "\n",
    "for rows in c:\n",
    "    if(type(rows)==float ):\n",
    "        df.drop(i,inplace=True)\n",
    "        \n",
    "    \n",
    "        \n",
    "    i=i+1"
   ]
  },
  {
   "cell_type": "code",
   "execution_count": 126,
   "id": "3586965c-6195-4b5d-9fa5-e38c208e2fee",
   "metadata": {},
   "outputs": [],
   "source": [
    "\n",
    "df3=df3.drop(' Links',axis=1)\n",
    "df3=df3.drop(' Description',axis=1)\n",
    "df3=df3.drop('Salary2',axis=1)"
   ]
  },
  {
   "cell_type": "code",
   "execution_count": 133,
   "id": "cfa74b69-30e5-46e3-b660-25b2749f5117",
   "metadata": {},
   "outputs": [],
   "source": [
    "df3.to_csv('glass6.csv')"
   ]
  },
  {
   "cell_type": "code",
   "execution_count": 129,
   "id": "47a30e8c-ceca-4198-91b4-61f34c7e8d6a",
   "metadata": {},
   "outputs": [],
   "source": [
    "df3['Job Type']=np.nan"
   ]
  },
  {
   "cell_type": "code",
   "execution_count": 132,
   "id": "21aa78c3-975d-455e-bba4-5cc5f3476ef0",
   "metadata": {},
   "outputs": [
    {
     "data": {
      "text/plain": [
       "Full time    868\n",
       "Part Time     62\n",
       "Name: Job Type, dtype: int64"
      ]
     },
     "execution_count": 132,
     "metadata": {},
     "output_type": "execute_result"
    }
   ],
   "source": [
    "df3['Job Type'].value_counts()"
   ]
  },
  {
   "cell_type": "code",
   "execution_count": 131,
   "id": "843887ec-f10c-46a2-93b0-4522a58a8725",
   "metadata": {},
   "outputs": [
    {
     "name": "stderr",
     "output_type": "stream",
     "text": [
      "C:\\Users\\Kaveri\\AppData\\Local\\Temp\\ipykernel_15532\\2983545084.py:16: SettingWithCopyWarning: \n",
      "A value is trying to be set on a copy of a slice from a DataFrame\n",
      "\n",
      "See the caveats in the documentation: https://pandas.pydata.org/pandas-docs/stable/user_guide/indexing.html#returning-a-view-versus-a-copy\n",
      "  df3[\"Job Type\"][i] = \"Full time\"\n"
     ]
    }
   ],
   "source": [
    "c=df3[\"Job Title\"]\n",
    "i=0\n",
    "for rows in c:\n",
    "    if(type(rows)==str):\n",
    "        \n",
    "        rows=rows.split()\n",
    "        \n",
    "        \n",
    "        \n",
    "        e='Intern'\n",
    "            \n",
    "        if e in rows:\n",
    "            \n",
    "            df3[\"Job Type\"][i] = \"Part Time\"\n",
    "        else:\n",
    "            df3[\"Job Type\"][i] = \"Full time\"\n",
    "    i=i+1"
   ]
  },
  {
   "cell_type": "code",
   "execution_count": null,
   "id": "47ca8996-5797-4af5-ae3c-efde1dd66223",
   "metadata": {},
   "outputs": [],
   "source": []
  }
 ],
 "metadata": {
  "kernelspec": {
   "display_name": "Python 3 (ipykernel)",
   "language": "python",
   "name": "python3"
  },
  "language_info": {
   "codemirror_mode": {
    "name": "ipython",
    "version": 3
   },
   "file_extension": ".py",
   "mimetype": "text/x-python",
   "name": "python",
   "nbconvert_exporter": "python",
   "pygments_lexer": "ipython3",
   "version": "3.10.7"
  }
 },
 "nbformat": 4,
 "nbformat_minor": 5
}
