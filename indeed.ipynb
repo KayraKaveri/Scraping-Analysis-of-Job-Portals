{
 "cells": [
  {
   "cell_type": "code",
   "execution_count": 2,
   "id": "a2b8b414-f8f2-4514-85ea-9e15484aeac9",
   "metadata": {},
   "outputs": [],
   "source": [
    "import requests\n",
    "from bs4 import BeautifulSoup\n",
    "import pandas as pd\n",
    "from selenium import webdriver\n",
    "import time\n",
    "from selenium.webdriver.common.keys import Keys\n",
    "from selenium.webdriver.common.by import By\n",
    "import numpy as np\n",
    "import re \n",
    "HEADERS ={\"User-Agent\":\"Mozilla/5.0 (Windows NT 10.0; Win64; x64; rv:66.0) Gecko/20100101 Firefox/66.0\", \"Accept-Encoding\":\"gzip, deflate\", \"Accept\":\"text/html,application/xhtml+xml,application/xml;q=0.9,*/*;q=0.8\", \"DNT\":\"1\",\"Connection\":\"close\", \"Upgrade-Insecure-Requests\":\"1\"}"
   ]
  },
  {
   "cell_type": "code",
   "execution_count": null,
   "id": "3b273016-2728-432e-8059-dc88d9316f04",
   "metadata": {},
   "outputs": [],
   "source": []
  },
  {
   "cell_type": "code",
   "execution_count": 2,
   "id": "0f9a282c-9a6e-4535-b339-e29a84fdb065",
   "metadata": {},
   "outputs": [],
   "source": [
    "from urllib.parse import urljoin"
   ]
  },
  {
   "cell_type": "code",
   "execution_count": 3,
   "id": "a390aece-bb13-4cbe-b817-16141789d4a8",
   "metadata": {},
   "outputs": [],
   "source": [
    "def get_jobs(url):\n",
    "    driver = webdriver.Chrome(executable_path=r\"C:\\Users\\Kaveri\\Documents\\jupyter\\chromedriver.exe\")\n",
    "    driver.get(url)\n",
    "    soup = BeautifulSoup(driver.page_source,\"html.parser\")\n",
    "    soup.prettify()\n",
    "    driver.close()\n",
    "    \n",
    "    r = soup.find(\"ul\", {\"class\": \"jobsearch-ResultsList css-0\"})\n",
    "        \n",
    "    jp = [l.find(\"a\") for l in r]\n",
    "        \n",
    "    job_title = [j.text if j!= None else j  for j in jp]\n",
    "    \n",
    "    links = [urljoin(\"https://in.indeed.com/\", j.get('href')) if j!= None else j for j in jp]\n",
    "\n",
    "    job_desc = [] # list of job discripions\n",
    "    for l in links:\n",
    "        if l != None:\n",
    "            driver = webdriver.Chrome(executable_path=r\"C:\\Users\\Kaveri\\Documents\\jupyter\\chromedriver.exe\")\n",
    "            time.sleep(.2)\n",
    "            driver.get(l)\n",
    "            s = BeautifulSoup(driver.page_source,\"html.parser\")\n",
    "            s.prettify()\n",
    "            desc = s.find('div', {\"id\":\"jobDescriptionText\"}).text\n",
    "            job_desc.append(desc)\n",
    "            driver.close()\n",
    "        else:\n",
    "            job_desc.append(l)\n",
    "    \n",
    "        \n",
    "    cn = [c.find('span', class_='companyName') for c in r]\n",
    "    company_name = [c.string if c!= None else c for c in cn]\n",
    "        \n",
    "    cr = [c.find('span', class_ ='ratingNumber') for c in r]\n",
    "    rating = [float(c.text) if c!= None else c for c in cr]\n",
    "        \n",
    "    cl = [c.find('div', {'class': 'companyLocation'}) for c in r]\n",
    "    company_loc = [c.string if c!= None else c for c in cl]\n",
    "                     \n",
    "    js = [c.find('div', class_ = 'metadata salary-snippet-container') for c in r]\n",
    "    salary = [j.text if j!= None else j for j in js]\n",
    "                     \n",
    "    jt = [c.find_all('div', {'class': \"metadata\"}) for c in r]\n",
    "                     \n",
    "    j_type = []\n",
    "    for i in range(0, len(jt)):\n",
    "        j_type.append([t.text for t in jt[i]])\n",
    "                     \n",
    "    jd = [c.find('div', class_='job-snippet') for c in r]\n",
    "    job_snippet = [j.text.strip('\\n') if j!= None else j for j in jd]\n",
    "                     \n",
    "    job_list = pd.DataFrame()\n",
    "    job_list[\"Job Title\"] = job_title\n",
    "    job_list[\"Salary Estimate\"] = salary\n",
    "    job_list[\"Job Snippet\"] = job_snippet\n",
    "    job_list[\"Job Type\"] = j_type\n",
    "    job_list[\"Rating\"] = rating\n",
    "    job_list[\"Company Name\"] =company_name\n",
    "    job_list[\"Location\"] = company_loc\n",
    "    job_list[\"Links\"] = links\n",
    "    job_list[\"Job Description\"] = job_desc\n",
    "    \n",
    "    return job_list"
   ]
  },
  {
   "cell_type": "code",
   "execution_count": 4,
   "id": "fc08d415-583f-4198-9445-e5da6e650aff",
   "metadata": {},
   "outputs": [],
   "source": [
    "def base_site(keyword, pgs):\n",
    "    \n",
    "    columns= [\"Job Title\", \"Salary Estimate\", \"Job Snippet\", \"Job Type\", \"Rating\", \"Company Name\", \"Location\"]\n",
    "    df = pd.DataFrame(columns = columns)\n",
    "    for i in range(0,pgs):\n",
    "        url = \"https://in.indeed.com/jobs?q=\"+keyword+\"&sort=date&start={}0\".format(i)\n",
    "        print(url)\n",
    "        \n",
    "        records = get_jobs(url)\n",
    "        df = pd.concat([df, records], ignore_index=True)\n",
    "\n",
    "        time.sleep(.5)\n",
    "        \n",
    "    return df"
   ]
  },
  {
   "cell_type": "code",
   "execution_count": 5,
   "id": "b1759396-a6a1-47d7-8484-265c23bcebec",
   "metadata": {},
   "outputs": [
    {
     "name": "stdout",
     "output_type": "stream",
     "text": [
      "https://in.indeed.com/jobs?q=big+data+analyst&sort=date&start=00\n"
     ]
    },
    {
     "name": "stderr",
     "output_type": "stream",
     "text": [
      "C:\\Users\\Kaveri\\AppData\\Local\\Temp\\ipykernel_6936\\3932057697.py:2: DeprecationWarning: executable_path has been deprecated, please pass in a Service object\n",
      "  driver = webdriver.Chrome(executable_path=r\"C:\\Users\\Kaveri\\Documents\\jupyter\\chromedriver.exe\")\n",
      "C:\\Users\\Kaveri\\AppData\\Local\\Temp\\ipykernel_6936\\3932057697.py:19: DeprecationWarning: executable_path has been deprecated, please pass in a Service object\n",
      "  driver = webdriver.Chrome(executable_path=r\"C:\\Users\\Kaveri\\Documents\\jupyter\\chromedriver.exe\")\n"
     ]
    },
    {
     "name": "stdout",
     "output_type": "stream",
     "text": [
      "https://in.indeed.com/jobs?q=big+data+analyst&sort=date&start=10\n"
     ]
    },
    {
     "name": "stderr",
     "output_type": "stream",
     "text": [
      "C:\\Users\\Kaveri\\AppData\\Local\\Temp\\ipykernel_6936\\3932057697.py:2: DeprecationWarning: executable_path has been deprecated, please pass in a Service object\n",
      "  driver = webdriver.Chrome(executable_path=r\"C:\\Users\\Kaveri\\Documents\\jupyter\\chromedriver.exe\")\n",
      "C:\\Users\\Kaveri\\AppData\\Local\\Temp\\ipykernel_6936\\3932057697.py:19: DeprecationWarning: executable_path has been deprecated, please pass in a Service object\n",
      "  driver = webdriver.Chrome(executable_path=r\"C:\\Users\\Kaveri\\Documents\\jupyter\\chromedriver.exe\")\n"
     ]
    },
    {
     "name": "stdout",
     "output_type": "stream",
     "text": [
      "https://in.indeed.com/jobs?q=big+data+analyst&sort=date&start=20\n"
     ]
    },
    {
     "name": "stderr",
     "output_type": "stream",
     "text": [
      "C:\\Users\\Kaveri\\AppData\\Local\\Temp\\ipykernel_6936\\3932057697.py:2: DeprecationWarning: executable_path has been deprecated, please pass in a Service object\n",
      "  driver = webdriver.Chrome(executable_path=r\"C:\\Users\\Kaveri\\Documents\\jupyter\\chromedriver.exe\")\n",
      "C:\\Users\\Kaveri\\AppData\\Local\\Temp\\ipykernel_6936\\3932057697.py:19: DeprecationWarning: executable_path has been deprecated, please pass in a Service object\n",
      "  driver = webdriver.Chrome(executable_path=r\"C:\\Users\\Kaveri\\Documents\\jupyter\\chromedriver.exe\")\n"
     ]
    },
    {
     "name": "stdout",
     "output_type": "stream",
     "text": [
      "https://in.indeed.com/jobs?q=big+data+analyst&sort=date&start=30\n"
     ]
    },
    {
     "name": "stderr",
     "output_type": "stream",
     "text": [
      "C:\\Users\\Kaveri\\AppData\\Local\\Temp\\ipykernel_6936\\3932057697.py:2: DeprecationWarning: executable_path has been deprecated, please pass in a Service object\n",
      "  driver = webdriver.Chrome(executable_path=r\"C:\\Users\\Kaveri\\Documents\\jupyter\\chromedriver.exe\")\n",
      "C:\\Users\\Kaveri\\AppData\\Local\\Temp\\ipykernel_6936\\3932057697.py:19: DeprecationWarning: executable_path has been deprecated, please pass in a Service object\n",
      "  driver = webdriver.Chrome(executable_path=r\"C:\\Users\\Kaveri\\Documents\\jupyter\\chromedriver.exe\")\n"
     ]
    },
    {
     "name": "stdout",
     "output_type": "stream",
     "text": [
      "https://in.indeed.com/jobs?q=big+data+analyst&sort=date&start=40\n"
     ]
    },
    {
     "name": "stderr",
     "output_type": "stream",
     "text": [
      "C:\\Users\\Kaveri\\AppData\\Local\\Temp\\ipykernel_6936\\3932057697.py:2: DeprecationWarning: executable_path has been deprecated, please pass in a Service object\n",
      "  driver = webdriver.Chrome(executable_path=r\"C:\\Users\\Kaveri\\Documents\\jupyter\\chromedriver.exe\")\n",
      "C:\\Users\\Kaveri\\AppData\\Local\\Temp\\ipykernel_6936\\3932057697.py:19: DeprecationWarning: executable_path has been deprecated, please pass in a Service object\n",
      "  driver = webdriver.Chrome(executable_path=r\"C:\\Users\\Kaveri\\Documents\\jupyter\\chromedriver.exe\")\n"
     ]
    },
    {
     "name": "stdout",
     "output_type": "stream",
     "text": [
      "https://in.indeed.com/jobs?q=big+data+analyst&sort=date&start=50\n"
     ]
    },
    {
     "name": "stderr",
     "output_type": "stream",
     "text": [
      "C:\\Users\\Kaveri\\AppData\\Local\\Temp\\ipykernel_6936\\3932057697.py:2: DeprecationWarning: executable_path has been deprecated, please pass in a Service object\n",
      "  driver = webdriver.Chrome(executable_path=r\"C:\\Users\\Kaveri\\Documents\\jupyter\\chromedriver.exe\")\n",
      "C:\\Users\\Kaveri\\AppData\\Local\\Temp\\ipykernel_6936\\3932057697.py:19: DeprecationWarning: executable_path has been deprecated, please pass in a Service object\n",
      "  driver = webdriver.Chrome(executable_path=r\"C:\\Users\\Kaveri\\Documents\\jupyter\\chromedriver.exe\")\n"
     ]
    },
    {
     "name": "stdout",
     "output_type": "stream",
     "text": [
      "https://in.indeed.com/jobs?q=big+data+analyst&sort=date&start=60\n"
     ]
    },
    {
     "name": "stderr",
     "output_type": "stream",
     "text": [
      "C:\\Users\\Kaveri\\AppData\\Local\\Temp\\ipykernel_6936\\3932057697.py:2: DeprecationWarning: executable_path has been deprecated, please pass in a Service object\n",
      "  driver = webdriver.Chrome(executable_path=r\"C:\\Users\\Kaveri\\Documents\\jupyter\\chromedriver.exe\")\n",
      "C:\\Users\\Kaveri\\AppData\\Local\\Temp\\ipykernel_6936\\3932057697.py:19: DeprecationWarning: executable_path has been deprecated, please pass in a Service object\n",
      "  driver = webdriver.Chrome(executable_path=r\"C:\\Users\\Kaveri\\Documents\\jupyter\\chromedriver.exe\")\n"
     ]
    },
    {
     "name": "stdout",
     "output_type": "stream",
     "text": [
      "https://in.indeed.com/jobs?q=big+data+analyst&sort=date&start=70\n"
     ]
    },
    {
     "name": "stderr",
     "output_type": "stream",
     "text": [
      "C:\\Users\\Kaveri\\AppData\\Local\\Temp\\ipykernel_6936\\3932057697.py:2: DeprecationWarning: executable_path has been deprecated, please pass in a Service object\n",
      "  driver = webdriver.Chrome(executable_path=r\"C:\\Users\\Kaveri\\Documents\\jupyter\\chromedriver.exe\")\n",
      "C:\\Users\\Kaveri\\AppData\\Local\\Temp\\ipykernel_6936\\3932057697.py:19: DeprecationWarning: executable_path has been deprecated, please pass in a Service object\n",
      "  driver = webdriver.Chrome(executable_path=r\"C:\\Users\\Kaveri\\Documents\\jupyter\\chromedriver.exe\")\n"
     ]
    },
    {
     "name": "stdout",
     "output_type": "stream",
     "text": [
      "https://in.indeed.com/jobs?q=big+data+analyst&sort=date&start=80\n"
     ]
    },
    {
     "name": "stderr",
     "output_type": "stream",
     "text": [
      "C:\\Users\\Kaveri\\AppData\\Local\\Temp\\ipykernel_6936\\3932057697.py:2: DeprecationWarning: executable_path has been deprecated, please pass in a Service object\n",
      "  driver = webdriver.Chrome(executable_path=r\"C:\\Users\\Kaveri\\Documents\\jupyter\\chromedriver.exe\")\n",
      "C:\\Users\\Kaveri\\AppData\\Local\\Temp\\ipykernel_6936\\3932057697.py:19: DeprecationWarning: executable_path has been deprecated, please pass in a Service object\n",
      "  driver = webdriver.Chrome(executable_path=r\"C:\\Users\\Kaveri\\Documents\\jupyter\\chromedriver.exe\")\n"
     ]
    },
    {
     "name": "stdout",
     "output_type": "stream",
     "text": [
      "https://in.indeed.com/jobs?q=big+data+analyst&sort=date&start=90\n"
     ]
    },
    {
     "name": "stderr",
     "output_type": "stream",
     "text": [
      "C:\\Users\\Kaveri\\AppData\\Local\\Temp\\ipykernel_6936\\3932057697.py:2: DeprecationWarning: executable_path has been deprecated, please pass in a Service object\n",
      "  driver = webdriver.Chrome(executable_path=r\"C:\\Users\\Kaveri\\Documents\\jupyter\\chromedriver.exe\")\n",
      "C:\\Users\\Kaveri\\AppData\\Local\\Temp\\ipykernel_6936\\3932057697.py:19: DeprecationWarning: executable_path has been deprecated, please pass in a Service object\n",
      "  driver = webdriver.Chrome(executable_path=r\"C:\\Users\\Kaveri\\Documents\\jupyter\\chromedriver.exe\")\n"
     ]
    },
    {
     "name": "stdout",
     "output_type": "stream",
     "text": [
      "https://in.indeed.com/jobs?q=big+data+analyst&sort=date&start=100\n"
     ]
    },
    {
     "name": "stderr",
     "output_type": "stream",
     "text": [
      "C:\\Users\\Kaveri\\AppData\\Local\\Temp\\ipykernel_6936\\3932057697.py:2: DeprecationWarning: executable_path has been deprecated, please pass in a Service object\n",
      "  driver = webdriver.Chrome(executable_path=r\"C:\\Users\\Kaveri\\Documents\\jupyter\\chromedriver.exe\")\n",
      "C:\\Users\\Kaveri\\AppData\\Local\\Temp\\ipykernel_6936\\3932057697.py:19: DeprecationWarning: executable_path has been deprecated, please pass in a Service object\n",
      "  driver = webdriver.Chrome(executable_path=r\"C:\\Users\\Kaveri\\Documents\\jupyter\\chromedriver.exe\")\n"
     ]
    },
    {
     "name": "stdout",
     "output_type": "stream",
     "text": [
      "https://in.indeed.com/jobs?q=big+data+analyst&sort=date&start=110\n"
     ]
    },
    {
     "name": "stderr",
     "output_type": "stream",
     "text": [
      "C:\\Users\\Kaveri\\AppData\\Local\\Temp\\ipykernel_6936\\3932057697.py:2: DeprecationWarning: executable_path has been deprecated, please pass in a Service object\n",
      "  driver = webdriver.Chrome(executable_path=r\"C:\\Users\\Kaveri\\Documents\\jupyter\\chromedriver.exe\")\n",
      "C:\\Users\\Kaveri\\AppData\\Local\\Temp\\ipykernel_6936\\3932057697.py:19: DeprecationWarning: executable_path has been deprecated, please pass in a Service object\n",
      "  driver = webdriver.Chrome(executable_path=r\"C:\\Users\\Kaveri\\Documents\\jupyter\\chromedriver.exe\")\n"
     ]
    },
    {
     "name": "stdout",
     "output_type": "stream",
     "text": [
      "https://in.indeed.com/jobs?q=big+data+analyst&sort=date&start=120\n"
     ]
    },
    {
     "name": "stderr",
     "output_type": "stream",
     "text": [
      "C:\\Users\\Kaveri\\AppData\\Local\\Temp\\ipykernel_6936\\3932057697.py:2: DeprecationWarning: executable_path has been deprecated, please pass in a Service object\n",
      "  driver = webdriver.Chrome(executable_path=r\"C:\\Users\\Kaveri\\Documents\\jupyter\\chromedriver.exe\")\n",
      "C:\\Users\\Kaveri\\AppData\\Local\\Temp\\ipykernel_6936\\3932057697.py:19: DeprecationWarning: executable_path has been deprecated, please pass in a Service object\n",
      "  driver = webdriver.Chrome(executable_path=r\"C:\\Users\\Kaveri\\Documents\\jupyter\\chromedriver.exe\")\n"
     ]
    },
    {
     "name": "stdout",
     "output_type": "stream",
     "text": [
      "https://in.indeed.com/jobs?q=big+data+analyst&sort=date&start=130\n"
     ]
    },
    {
     "name": "stderr",
     "output_type": "stream",
     "text": [
      "C:\\Users\\Kaveri\\AppData\\Local\\Temp\\ipykernel_6936\\3932057697.py:2: DeprecationWarning: executable_path has been deprecated, please pass in a Service object\n",
      "  driver = webdriver.Chrome(executable_path=r\"C:\\Users\\Kaveri\\Documents\\jupyter\\chromedriver.exe\")\n",
      "C:\\Users\\Kaveri\\AppData\\Local\\Temp\\ipykernel_6936\\3932057697.py:19: DeprecationWarning: executable_path has been deprecated, please pass in a Service object\n",
      "  driver = webdriver.Chrome(executable_path=r\"C:\\Users\\Kaveri\\Documents\\jupyter\\chromedriver.exe\")\n"
     ]
    },
    {
     "name": "stdout",
     "output_type": "stream",
     "text": [
      "https://in.indeed.com/jobs?q=big+data+analyst&sort=date&start=140\n"
     ]
    },
    {
     "name": "stderr",
     "output_type": "stream",
     "text": [
      "C:\\Users\\Kaveri\\AppData\\Local\\Temp\\ipykernel_6936\\3932057697.py:2: DeprecationWarning: executable_path has been deprecated, please pass in a Service object\n",
      "  driver = webdriver.Chrome(executable_path=r\"C:\\Users\\Kaveri\\Documents\\jupyter\\chromedriver.exe\")\n",
      "C:\\Users\\Kaveri\\AppData\\Local\\Temp\\ipykernel_6936\\3932057697.py:19: DeprecationWarning: executable_path has been deprecated, please pass in a Service object\n",
      "  driver = webdriver.Chrome(executable_path=r\"C:\\Users\\Kaveri\\Documents\\jupyter\\chromedriver.exe\")\n"
     ]
    },
    {
     "name": "stdout",
     "output_type": "stream",
     "text": [
      "https://in.indeed.com/jobs?q=big+data+analyst&sort=date&start=150\n"
     ]
    },
    {
     "name": "stderr",
     "output_type": "stream",
     "text": [
      "C:\\Users\\Kaveri\\AppData\\Local\\Temp\\ipykernel_6936\\3932057697.py:2: DeprecationWarning: executable_path has been deprecated, please pass in a Service object\n",
      "  driver = webdriver.Chrome(executable_path=r\"C:\\Users\\Kaveri\\Documents\\jupyter\\chromedriver.exe\")\n",
      "C:\\Users\\Kaveri\\AppData\\Local\\Temp\\ipykernel_6936\\3932057697.py:19: DeprecationWarning: executable_path has been deprecated, please pass in a Service object\n",
      "  driver = webdriver.Chrome(executable_path=r\"C:\\Users\\Kaveri\\Documents\\jupyter\\chromedriver.exe\")\n"
     ]
    },
    {
     "name": "stdout",
     "output_type": "stream",
     "text": [
      "https://in.indeed.com/jobs?q=big+data+analyst&sort=date&start=160\n"
     ]
    },
    {
     "name": "stderr",
     "output_type": "stream",
     "text": [
      "C:\\Users\\Kaveri\\AppData\\Local\\Temp\\ipykernel_6936\\3932057697.py:2: DeprecationWarning: executable_path has been deprecated, please pass in a Service object\n",
      "  driver = webdriver.Chrome(executable_path=r\"C:\\Users\\Kaveri\\Documents\\jupyter\\chromedriver.exe\")\n",
      "C:\\Users\\Kaveri\\AppData\\Local\\Temp\\ipykernel_6936\\3932057697.py:19: DeprecationWarning: executable_path has been deprecated, please pass in a Service object\n",
      "  driver = webdriver.Chrome(executable_path=r\"C:\\Users\\Kaveri\\Documents\\jupyter\\chromedriver.exe\")\n"
     ]
    },
    {
     "name": "stdout",
     "output_type": "stream",
     "text": [
      "https://in.indeed.com/jobs?q=big+data+analyst&sort=date&start=170\n"
     ]
    },
    {
     "name": "stderr",
     "output_type": "stream",
     "text": [
      "C:\\Users\\Kaveri\\AppData\\Local\\Temp\\ipykernel_6936\\3932057697.py:2: DeprecationWarning: executable_path has been deprecated, please pass in a Service object\n",
      "  driver = webdriver.Chrome(executable_path=r\"C:\\Users\\Kaveri\\Documents\\jupyter\\chromedriver.exe\")\n",
      "C:\\Users\\Kaveri\\AppData\\Local\\Temp\\ipykernel_6936\\3932057697.py:19: DeprecationWarning: executable_path has been deprecated, please pass in a Service object\n",
      "  driver = webdriver.Chrome(executable_path=r\"C:\\Users\\Kaveri\\Documents\\jupyter\\chromedriver.exe\")\n"
     ]
    },
    {
     "name": "stdout",
     "output_type": "stream",
     "text": [
      "https://in.indeed.com/jobs?q=big+data+analyst&sort=date&start=180\n"
     ]
    },
    {
     "name": "stderr",
     "output_type": "stream",
     "text": [
      "C:\\Users\\Kaveri\\AppData\\Local\\Temp\\ipykernel_6936\\3932057697.py:2: DeprecationWarning: executable_path has been deprecated, please pass in a Service object\n",
      "  driver = webdriver.Chrome(executable_path=r\"C:\\Users\\Kaveri\\Documents\\jupyter\\chromedriver.exe\")\n",
      "C:\\Users\\Kaveri\\AppData\\Local\\Temp\\ipykernel_6936\\3932057697.py:19: DeprecationWarning: executable_path has been deprecated, please pass in a Service object\n",
      "  driver = webdriver.Chrome(executable_path=r\"C:\\Users\\Kaveri\\Documents\\jupyter\\chromedriver.exe\")\n"
     ]
    },
    {
     "name": "stdout",
     "output_type": "stream",
     "text": [
      "https://in.indeed.com/jobs?q=big+data+analyst&sort=date&start=190\n"
     ]
    },
    {
     "name": "stderr",
     "output_type": "stream",
     "text": [
      "C:\\Users\\Kaveri\\AppData\\Local\\Temp\\ipykernel_6936\\3932057697.py:2: DeprecationWarning: executable_path has been deprecated, please pass in a Service object\n",
      "  driver = webdriver.Chrome(executable_path=r\"C:\\Users\\Kaveri\\Documents\\jupyter\\chromedriver.exe\")\n",
      "C:\\Users\\Kaveri\\AppData\\Local\\Temp\\ipykernel_6936\\3932057697.py:19: DeprecationWarning: executable_path has been deprecated, please pass in a Service object\n",
      "  driver = webdriver.Chrome(executable_path=r\"C:\\Users\\Kaveri\\Documents\\jupyter\\chromedriver.exe\")\n"
     ]
    },
    {
     "name": "stdout",
     "output_type": "stream",
     "text": [
      "https://in.indeed.com/jobs?q=big+data+analyst&sort=date&start=200\n"
     ]
    },
    {
     "name": "stderr",
     "output_type": "stream",
     "text": [
      "C:\\Users\\Kaveri\\AppData\\Local\\Temp\\ipykernel_6936\\3932057697.py:2: DeprecationWarning: executable_path has been deprecated, please pass in a Service object\n",
      "  driver = webdriver.Chrome(executable_path=r\"C:\\Users\\Kaveri\\Documents\\jupyter\\chromedriver.exe\")\n",
      "C:\\Users\\Kaveri\\AppData\\Local\\Temp\\ipykernel_6936\\3932057697.py:19: DeprecationWarning: executable_path has been deprecated, please pass in a Service object\n",
      "  driver = webdriver.Chrome(executable_path=r\"C:\\Users\\Kaveri\\Documents\\jupyter\\chromedriver.exe\")\n"
     ]
    },
    {
     "name": "stdout",
     "output_type": "stream",
     "text": [
      "https://in.indeed.com/jobs?q=big+data+analyst&sort=date&start=210\n"
     ]
    },
    {
     "name": "stderr",
     "output_type": "stream",
     "text": [
      "C:\\Users\\Kaveri\\AppData\\Local\\Temp\\ipykernel_6936\\3932057697.py:2: DeprecationWarning: executable_path has been deprecated, please pass in a Service object\n",
      "  driver = webdriver.Chrome(executable_path=r\"C:\\Users\\Kaveri\\Documents\\jupyter\\chromedriver.exe\")\n",
      "C:\\Users\\Kaveri\\AppData\\Local\\Temp\\ipykernel_6936\\3932057697.py:19: DeprecationWarning: executable_path has been deprecated, please pass in a Service object\n",
      "  driver = webdriver.Chrome(executable_path=r\"C:\\Users\\Kaveri\\Documents\\jupyter\\chromedriver.exe\")\n"
     ]
    },
    {
     "name": "stdout",
     "output_type": "stream",
     "text": [
      "https://in.indeed.com/jobs?q=big+data+analyst&sort=date&start=220\n"
     ]
    },
    {
     "name": "stderr",
     "output_type": "stream",
     "text": [
      "C:\\Users\\Kaveri\\AppData\\Local\\Temp\\ipykernel_6936\\3932057697.py:2: DeprecationWarning: executable_path has been deprecated, please pass in a Service object\n",
      "  driver = webdriver.Chrome(executable_path=r\"C:\\Users\\Kaveri\\Documents\\jupyter\\chromedriver.exe\")\n",
      "C:\\Users\\Kaveri\\AppData\\Local\\Temp\\ipykernel_6936\\3932057697.py:19: DeprecationWarning: executable_path has been deprecated, please pass in a Service object\n",
      "  driver = webdriver.Chrome(executable_path=r\"C:\\Users\\Kaveri\\Documents\\jupyter\\chromedriver.exe\")\n"
     ]
    },
    {
     "name": "stdout",
     "output_type": "stream",
     "text": [
      "https://in.indeed.com/jobs?q=big+data+analyst&sort=date&start=230\n"
     ]
    },
    {
     "name": "stderr",
     "output_type": "stream",
     "text": [
      "C:\\Users\\Kaveri\\AppData\\Local\\Temp\\ipykernel_6936\\3932057697.py:2: DeprecationWarning: executable_path has been deprecated, please pass in a Service object\n",
      "  driver = webdriver.Chrome(executable_path=r\"C:\\Users\\Kaveri\\Documents\\jupyter\\chromedriver.exe\")\n",
      "C:\\Users\\Kaveri\\AppData\\Local\\Temp\\ipykernel_6936\\3932057697.py:19: DeprecationWarning: executable_path has been deprecated, please pass in a Service object\n",
      "  driver = webdriver.Chrome(executable_path=r\"C:\\Users\\Kaveri\\Documents\\jupyter\\chromedriver.exe\")\n"
     ]
    },
    {
     "name": "stdout",
     "output_type": "stream",
     "text": [
      "https://in.indeed.com/jobs?q=big+data+analyst&sort=date&start=240\n"
     ]
    },
    {
     "name": "stderr",
     "output_type": "stream",
     "text": [
      "C:\\Users\\Kaveri\\AppData\\Local\\Temp\\ipykernel_6936\\3932057697.py:2: DeprecationWarning: executable_path has been deprecated, please pass in a Service object\n",
      "  driver = webdriver.Chrome(executable_path=r\"C:\\Users\\Kaveri\\Documents\\jupyter\\chromedriver.exe\")\n",
      "C:\\Users\\Kaveri\\AppData\\Local\\Temp\\ipykernel_6936\\3932057697.py:19: DeprecationWarning: executable_path has been deprecated, please pass in a Service object\n",
      "  driver = webdriver.Chrome(executable_path=r\"C:\\Users\\Kaveri\\Documents\\jupyter\\chromedriver.exe\")\n"
     ]
    },
    {
     "name": "stdout",
     "output_type": "stream",
     "text": [
      "https://in.indeed.com/jobs?q=big+data+analyst&sort=date&start=250\n"
     ]
    },
    {
     "name": "stderr",
     "output_type": "stream",
     "text": [
      "C:\\Users\\Kaveri\\AppData\\Local\\Temp\\ipykernel_6936\\3932057697.py:2: DeprecationWarning: executable_path has been deprecated, please pass in a Service object\n",
      "  driver = webdriver.Chrome(executable_path=r\"C:\\Users\\Kaveri\\Documents\\jupyter\\chromedriver.exe\")\n",
      "C:\\Users\\Kaveri\\AppData\\Local\\Temp\\ipykernel_6936\\3932057697.py:19: DeprecationWarning: executable_path has been deprecated, please pass in a Service object\n",
      "  driver = webdriver.Chrome(executable_path=r\"C:\\Users\\Kaveri\\Documents\\jupyter\\chromedriver.exe\")\n"
     ]
    },
    {
     "name": "stdout",
     "output_type": "stream",
     "text": [
      "https://in.indeed.com/jobs?q=big+data+analyst&sort=date&start=260\n"
     ]
    },
    {
     "name": "stderr",
     "output_type": "stream",
     "text": [
      "C:\\Users\\Kaveri\\AppData\\Local\\Temp\\ipykernel_6936\\3932057697.py:2: DeprecationWarning: executable_path has been deprecated, please pass in a Service object\n",
      "  driver = webdriver.Chrome(executable_path=r\"C:\\Users\\Kaveri\\Documents\\jupyter\\chromedriver.exe\")\n",
      "C:\\Users\\Kaveri\\AppData\\Local\\Temp\\ipykernel_6936\\3932057697.py:19: DeprecationWarning: executable_path has been deprecated, please pass in a Service object\n",
      "  driver = webdriver.Chrome(executable_path=r\"C:\\Users\\Kaveri\\Documents\\jupyter\\chromedriver.exe\")\n"
     ]
    },
    {
     "name": "stdout",
     "output_type": "stream",
     "text": [
      "https://in.indeed.com/jobs?q=big+data+analyst&sort=date&start=270\n"
     ]
    },
    {
     "name": "stderr",
     "output_type": "stream",
     "text": [
      "C:\\Users\\Kaveri\\AppData\\Local\\Temp\\ipykernel_6936\\3932057697.py:2: DeprecationWarning: executable_path has been deprecated, please pass in a Service object\n",
      "  driver = webdriver.Chrome(executable_path=r\"C:\\Users\\Kaveri\\Documents\\jupyter\\chromedriver.exe\")\n",
      "C:\\Users\\Kaveri\\AppData\\Local\\Temp\\ipykernel_6936\\3932057697.py:19: DeprecationWarning: executable_path has been deprecated, please pass in a Service object\n",
      "  driver = webdriver.Chrome(executable_path=r\"C:\\Users\\Kaveri\\Documents\\jupyter\\chromedriver.exe\")\n"
     ]
    },
    {
     "name": "stdout",
     "output_type": "stream",
     "text": [
      "https://in.indeed.com/jobs?q=big+data+analyst&sort=date&start=280\n"
     ]
    },
    {
     "name": "stderr",
     "output_type": "stream",
     "text": [
      "C:\\Users\\Kaveri\\AppData\\Local\\Temp\\ipykernel_6936\\3932057697.py:2: DeprecationWarning: executable_path has been deprecated, please pass in a Service object\n",
      "  driver = webdriver.Chrome(executable_path=r\"C:\\Users\\Kaveri\\Documents\\jupyter\\chromedriver.exe\")\n",
      "C:\\Users\\Kaveri\\AppData\\Local\\Temp\\ipykernel_6936\\3932057697.py:19: DeprecationWarning: executable_path has been deprecated, please pass in a Service object\n",
      "  driver = webdriver.Chrome(executable_path=r\"C:\\Users\\Kaveri\\Documents\\jupyter\\chromedriver.exe\")\n"
     ]
    },
    {
     "name": "stdout",
     "output_type": "stream",
     "text": [
      "https://in.indeed.com/jobs?q=big+data+analyst&sort=date&start=290\n"
     ]
    },
    {
     "name": "stderr",
     "output_type": "stream",
     "text": [
      "C:\\Users\\Kaveri\\AppData\\Local\\Temp\\ipykernel_6936\\3932057697.py:2: DeprecationWarning: executable_path has been deprecated, please pass in a Service object\n",
      "  driver = webdriver.Chrome(executable_path=r\"C:\\Users\\Kaveri\\Documents\\jupyter\\chromedriver.exe\")\n",
      "C:\\Users\\Kaveri\\AppData\\Local\\Temp\\ipykernel_6936\\3932057697.py:19: DeprecationWarning: executable_path has been deprecated, please pass in a Service object\n",
      "  driver = webdriver.Chrome(executable_path=r\"C:\\Users\\Kaveri\\Documents\\jupyter\\chromedriver.exe\")\n"
     ]
    },
    {
     "name": "stdout",
     "output_type": "stream",
     "text": [
      "https://in.indeed.com/jobs?q=big+data+analyst&sort=date&start=300\n"
     ]
    },
    {
     "name": "stderr",
     "output_type": "stream",
     "text": [
      "C:\\Users\\Kaveri\\AppData\\Local\\Temp\\ipykernel_6936\\3932057697.py:2: DeprecationWarning: executable_path has been deprecated, please pass in a Service object\n",
      "  driver = webdriver.Chrome(executable_path=r\"C:\\Users\\Kaveri\\Documents\\jupyter\\chromedriver.exe\")\n",
      "C:\\Users\\Kaveri\\AppData\\Local\\Temp\\ipykernel_6936\\3932057697.py:19: DeprecationWarning: executable_path has been deprecated, please pass in a Service object\n",
      "  driver = webdriver.Chrome(executable_path=r\"C:\\Users\\Kaveri\\Documents\\jupyter\\chromedriver.exe\")\n"
     ]
    },
    {
     "name": "stdout",
     "output_type": "stream",
     "text": [
      "https://in.indeed.com/jobs?q=big+data+analyst&sort=date&start=310\n"
     ]
    },
    {
     "name": "stderr",
     "output_type": "stream",
     "text": [
      "C:\\Users\\Kaveri\\AppData\\Local\\Temp\\ipykernel_6936\\3932057697.py:2: DeprecationWarning: executable_path has been deprecated, please pass in a Service object\n",
      "  driver = webdriver.Chrome(executable_path=r\"C:\\Users\\Kaveri\\Documents\\jupyter\\chromedriver.exe\")\n",
      "C:\\Users\\Kaveri\\AppData\\Local\\Temp\\ipykernel_6936\\3932057697.py:19: DeprecationWarning: executable_path has been deprecated, please pass in a Service object\n",
      "  driver = webdriver.Chrome(executable_path=r\"C:\\Users\\Kaveri\\Documents\\jupyter\\chromedriver.exe\")\n"
     ]
    },
    {
     "name": "stdout",
     "output_type": "stream",
     "text": [
      "https://in.indeed.com/jobs?q=big+data+analyst&sort=date&start=320\n"
     ]
    },
    {
     "name": "stderr",
     "output_type": "stream",
     "text": [
      "C:\\Users\\Kaveri\\AppData\\Local\\Temp\\ipykernel_6936\\3932057697.py:2: DeprecationWarning: executable_path has been deprecated, please pass in a Service object\n",
      "  driver = webdriver.Chrome(executable_path=r\"C:\\Users\\Kaveri\\Documents\\jupyter\\chromedriver.exe\")\n",
      "C:\\Users\\Kaveri\\AppData\\Local\\Temp\\ipykernel_6936\\3932057697.py:19: DeprecationWarning: executable_path has been deprecated, please pass in a Service object\n",
      "  driver = webdriver.Chrome(executable_path=r\"C:\\Users\\Kaveri\\Documents\\jupyter\\chromedriver.exe\")\n"
     ]
    },
    {
     "name": "stdout",
     "output_type": "stream",
     "text": [
      "https://in.indeed.com/jobs?q=big+data+analyst&sort=date&start=330\n"
     ]
    },
    {
     "name": "stderr",
     "output_type": "stream",
     "text": [
      "C:\\Users\\Kaveri\\AppData\\Local\\Temp\\ipykernel_6936\\3932057697.py:2: DeprecationWarning: executable_path has been deprecated, please pass in a Service object\n",
      "  driver = webdriver.Chrome(executable_path=r\"C:\\Users\\Kaveri\\Documents\\jupyter\\chromedriver.exe\")\n",
      "C:\\Users\\Kaveri\\AppData\\Local\\Temp\\ipykernel_6936\\3932057697.py:19: DeprecationWarning: executable_path has been deprecated, please pass in a Service object\n",
      "  driver = webdriver.Chrome(executable_path=r\"C:\\Users\\Kaveri\\Documents\\jupyter\\chromedriver.exe\")\n"
     ]
    },
    {
     "name": "stdout",
     "output_type": "stream",
     "text": [
      "https://in.indeed.com/jobs?q=big+data+analyst&sort=date&start=340\n"
     ]
    },
    {
     "name": "stderr",
     "output_type": "stream",
     "text": [
      "C:\\Users\\Kaveri\\AppData\\Local\\Temp\\ipykernel_6936\\3932057697.py:2: DeprecationWarning: executable_path has been deprecated, please pass in a Service object\n",
      "  driver = webdriver.Chrome(executable_path=r\"C:\\Users\\Kaveri\\Documents\\jupyter\\chromedriver.exe\")\n",
      "C:\\Users\\Kaveri\\AppData\\Local\\Temp\\ipykernel_6936\\3932057697.py:19: DeprecationWarning: executable_path has been deprecated, please pass in a Service object\n",
      "  driver = webdriver.Chrome(executable_path=r\"C:\\Users\\Kaveri\\Documents\\jupyter\\chromedriver.exe\")\n"
     ]
    },
    {
     "name": "stdout",
     "output_type": "stream",
     "text": [
      "https://in.indeed.com/jobs?q=big+data+analyst&sort=date&start=350\n"
     ]
    },
    {
     "name": "stderr",
     "output_type": "stream",
     "text": [
      "C:\\Users\\Kaveri\\AppData\\Local\\Temp\\ipykernel_6936\\3932057697.py:2: DeprecationWarning: executable_path has been deprecated, please pass in a Service object\n",
      "  driver = webdriver.Chrome(executable_path=r\"C:\\Users\\Kaveri\\Documents\\jupyter\\chromedriver.exe\")\n",
      "C:\\Users\\Kaveri\\AppData\\Local\\Temp\\ipykernel_6936\\3932057697.py:19: DeprecationWarning: executable_path has been deprecated, please pass in a Service object\n",
      "  driver = webdriver.Chrome(executable_path=r\"C:\\Users\\Kaveri\\Documents\\jupyter\\chromedriver.exe\")\n"
     ]
    },
    {
     "name": "stdout",
     "output_type": "stream",
     "text": [
      "https://in.indeed.com/jobs?q=big+data+analyst&sort=date&start=360\n"
     ]
    },
    {
     "name": "stderr",
     "output_type": "stream",
     "text": [
      "C:\\Users\\Kaveri\\AppData\\Local\\Temp\\ipykernel_6936\\3932057697.py:2: DeprecationWarning: executable_path has been deprecated, please pass in a Service object\n",
      "  driver = webdriver.Chrome(executable_path=r\"C:\\Users\\Kaveri\\Documents\\jupyter\\chromedriver.exe\")\n",
      "C:\\Users\\Kaveri\\AppData\\Local\\Temp\\ipykernel_6936\\3932057697.py:19: DeprecationWarning: executable_path has been deprecated, please pass in a Service object\n",
      "  driver = webdriver.Chrome(executable_path=r\"C:\\Users\\Kaveri\\Documents\\jupyter\\chromedriver.exe\")\n"
     ]
    },
    {
     "name": "stdout",
     "output_type": "stream",
     "text": [
      "https://in.indeed.com/jobs?q=big+data+analyst&sort=date&start=370\n"
     ]
    },
    {
     "name": "stderr",
     "output_type": "stream",
     "text": [
      "C:\\Users\\Kaveri\\AppData\\Local\\Temp\\ipykernel_6936\\3932057697.py:2: DeprecationWarning: executable_path has been deprecated, please pass in a Service object\n",
      "  driver = webdriver.Chrome(executable_path=r\"C:\\Users\\Kaveri\\Documents\\jupyter\\chromedriver.exe\")\n",
      "C:\\Users\\Kaveri\\AppData\\Local\\Temp\\ipykernel_6936\\3932057697.py:19: DeprecationWarning: executable_path has been deprecated, please pass in a Service object\n",
      "  driver = webdriver.Chrome(executable_path=r\"C:\\Users\\Kaveri\\Documents\\jupyter\\chromedriver.exe\")\n"
     ]
    },
    {
     "name": "stdout",
     "output_type": "stream",
     "text": [
      "https://in.indeed.com/jobs?q=big+data+analyst&sort=date&start=380\n"
     ]
    },
    {
     "name": "stderr",
     "output_type": "stream",
     "text": [
      "C:\\Users\\Kaveri\\AppData\\Local\\Temp\\ipykernel_6936\\3932057697.py:2: DeprecationWarning: executable_path has been deprecated, please pass in a Service object\n",
      "  driver = webdriver.Chrome(executable_path=r\"C:\\Users\\Kaveri\\Documents\\jupyter\\chromedriver.exe\")\n",
      "C:\\Users\\Kaveri\\AppData\\Local\\Temp\\ipykernel_6936\\3932057697.py:19: DeprecationWarning: executable_path has been deprecated, please pass in a Service object\n",
      "  driver = webdriver.Chrome(executable_path=r\"C:\\Users\\Kaveri\\Documents\\jupyter\\chromedriver.exe\")\n"
     ]
    },
    {
     "name": "stdout",
     "output_type": "stream",
     "text": [
      "https://in.indeed.com/jobs?q=big+data+analyst&sort=date&start=390\n"
     ]
    },
    {
     "name": "stderr",
     "output_type": "stream",
     "text": [
      "C:\\Users\\Kaveri\\AppData\\Local\\Temp\\ipykernel_6936\\3932057697.py:2: DeprecationWarning: executable_path has been deprecated, please pass in a Service object\n",
      "  driver = webdriver.Chrome(executable_path=r\"C:\\Users\\Kaveri\\Documents\\jupyter\\chromedriver.exe\")\n",
      "C:\\Users\\Kaveri\\AppData\\Local\\Temp\\ipykernel_6936\\3932057697.py:19: DeprecationWarning: executable_path has been deprecated, please pass in a Service object\n",
      "  driver = webdriver.Chrome(executable_path=r\"C:\\Users\\Kaveri\\Documents\\jupyter\\chromedriver.exe\")\n"
     ]
    },
    {
     "name": "stdout",
     "output_type": "stream",
     "text": [
      "https://in.indeed.com/jobs?q=big+data+analyst&sort=date&start=400\n"
     ]
    },
    {
     "name": "stderr",
     "output_type": "stream",
     "text": [
      "C:\\Users\\Kaveri\\AppData\\Local\\Temp\\ipykernel_6936\\3932057697.py:2: DeprecationWarning: executable_path has been deprecated, please pass in a Service object\n",
      "  driver = webdriver.Chrome(executable_path=r\"C:\\Users\\Kaveri\\Documents\\jupyter\\chromedriver.exe\")\n",
      "C:\\Users\\Kaveri\\AppData\\Local\\Temp\\ipykernel_6936\\3932057697.py:19: DeprecationWarning: executable_path has been deprecated, please pass in a Service object\n",
      "  driver = webdriver.Chrome(executable_path=r\"C:\\Users\\Kaveri\\Documents\\jupyter\\chromedriver.exe\")\n"
     ]
    },
    {
     "name": "stdout",
     "output_type": "stream",
     "text": [
      "https://in.indeed.com/jobs?q=big+data+analyst&sort=date&start=410\n"
     ]
    },
    {
     "name": "stderr",
     "output_type": "stream",
     "text": [
      "C:\\Users\\Kaveri\\AppData\\Local\\Temp\\ipykernel_6936\\3932057697.py:2: DeprecationWarning: executable_path has been deprecated, please pass in a Service object\n",
      "  driver = webdriver.Chrome(executable_path=r\"C:\\Users\\Kaveri\\Documents\\jupyter\\chromedriver.exe\")\n",
      "C:\\Users\\Kaveri\\AppData\\Local\\Temp\\ipykernel_6936\\3932057697.py:19: DeprecationWarning: executable_path has been deprecated, please pass in a Service object\n",
      "  driver = webdriver.Chrome(executable_path=r\"C:\\Users\\Kaveri\\Documents\\jupyter\\chromedriver.exe\")\n"
     ]
    },
    {
     "name": "stdout",
     "output_type": "stream",
     "text": [
      "https://in.indeed.com/jobs?q=big+data+analyst&sort=date&start=420\n"
     ]
    },
    {
     "name": "stderr",
     "output_type": "stream",
     "text": [
      "C:\\Users\\Kaveri\\AppData\\Local\\Temp\\ipykernel_6936\\3932057697.py:2: DeprecationWarning: executable_path has been deprecated, please pass in a Service object\n",
      "  driver = webdriver.Chrome(executable_path=r\"C:\\Users\\Kaveri\\Documents\\jupyter\\chromedriver.exe\")\n",
      "C:\\Users\\Kaveri\\AppData\\Local\\Temp\\ipykernel_6936\\3932057697.py:19: DeprecationWarning: executable_path has been deprecated, please pass in a Service object\n",
      "  driver = webdriver.Chrome(executable_path=r\"C:\\Users\\Kaveri\\Documents\\jupyter\\chromedriver.exe\")\n"
     ]
    },
    {
     "name": "stdout",
     "output_type": "stream",
     "text": [
      "https://in.indeed.com/jobs?q=big+data+analyst&sort=date&start=430\n"
     ]
    },
    {
     "name": "stderr",
     "output_type": "stream",
     "text": [
      "C:\\Users\\Kaveri\\AppData\\Local\\Temp\\ipykernel_6936\\3932057697.py:2: DeprecationWarning: executable_path has been deprecated, please pass in a Service object\n",
      "  driver = webdriver.Chrome(executable_path=r\"C:\\Users\\Kaveri\\Documents\\jupyter\\chromedriver.exe\")\n",
      "C:\\Users\\Kaveri\\AppData\\Local\\Temp\\ipykernel_6936\\3932057697.py:19: DeprecationWarning: executable_path has been deprecated, please pass in a Service object\n",
      "  driver = webdriver.Chrome(executable_path=r\"C:\\Users\\Kaveri\\Documents\\jupyter\\chromedriver.exe\")\n"
     ]
    },
    {
     "name": "stdout",
     "output_type": "stream",
     "text": [
      "https://in.indeed.com/jobs?q=big+data+analyst&sort=date&start=440\n"
     ]
    },
    {
     "name": "stderr",
     "output_type": "stream",
     "text": [
      "C:\\Users\\Kaveri\\AppData\\Local\\Temp\\ipykernel_6936\\3932057697.py:2: DeprecationWarning: executable_path has been deprecated, please pass in a Service object\n",
      "  driver = webdriver.Chrome(executable_path=r\"C:\\Users\\Kaveri\\Documents\\jupyter\\chromedriver.exe\")\n",
      "C:\\Users\\Kaveri\\AppData\\Local\\Temp\\ipykernel_6936\\3932057697.py:19: DeprecationWarning: executable_path has been deprecated, please pass in a Service object\n",
      "  driver = webdriver.Chrome(executable_path=r\"C:\\Users\\Kaveri\\Documents\\jupyter\\chromedriver.exe\")\n"
     ]
    },
    {
     "name": "stdout",
     "output_type": "stream",
     "text": [
      "https://in.indeed.com/jobs?q=big+data+analyst&sort=date&start=450\n"
     ]
    },
    {
     "name": "stderr",
     "output_type": "stream",
     "text": [
      "C:\\Users\\Kaveri\\AppData\\Local\\Temp\\ipykernel_6936\\3932057697.py:2: DeprecationWarning: executable_path has been deprecated, please pass in a Service object\n",
      "  driver = webdriver.Chrome(executable_path=r\"C:\\Users\\Kaveri\\Documents\\jupyter\\chromedriver.exe\")\n",
      "C:\\Users\\Kaveri\\AppData\\Local\\Temp\\ipykernel_6936\\3932057697.py:19: DeprecationWarning: executable_path has been deprecated, please pass in a Service object\n",
      "  driver = webdriver.Chrome(executable_path=r\"C:\\Users\\Kaveri\\Documents\\jupyter\\chromedriver.exe\")\n"
     ]
    },
    {
     "name": "stdout",
     "output_type": "stream",
     "text": [
      "https://in.indeed.com/jobs?q=big+data+analyst&sort=date&start=460\n"
     ]
    },
    {
     "name": "stderr",
     "output_type": "stream",
     "text": [
      "C:\\Users\\Kaveri\\AppData\\Local\\Temp\\ipykernel_6936\\3932057697.py:2: DeprecationWarning: executable_path has been deprecated, please pass in a Service object\n",
      "  driver = webdriver.Chrome(executable_path=r\"C:\\Users\\Kaveri\\Documents\\jupyter\\chromedriver.exe\")\n",
      "C:\\Users\\Kaveri\\AppData\\Local\\Temp\\ipykernel_6936\\3932057697.py:19: DeprecationWarning: executable_path has been deprecated, please pass in a Service object\n",
      "  driver = webdriver.Chrome(executable_path=r\"C:\\Users\\Kaveri\\Documents\\jupyter\\chromedriver.exe\")\n"
     ]
    },
    {
     "name": "stdout",
     "output_type": "stream",
     "text": [
      "https://in.indeed.com/jobs?q=big+data+analyst&sort=date&start=470\n"
     ]
    },
    {
     "name": "stderr",
     "output_type": "stream",
     "text": [
      "C:\\Users\\Kaveri\\AppData\\Local\\Temp\\ipykernel_6936\\3932057697.py:2: DeprecationWarning: executable_path has been deprecated, please pass in a Service object\n",
      "  driver = webdriver.Chrome(executable_path=r\"C:\\Users\\Kaveri\\Documents\\jupyter\\chromedriver.exe\")\n",
      "C:\\Users\\Kaveri\\AppData\\Local\\Temp\\ipykernel_6936\\3932057697.py:19: DeprecationWarning: executable_path has been deprecated, please pass in a Service object\n",
      "  driver = webdriver.Chrome(executable_path=r\"C:\\Users\\Kaveri\\Documents\\jupyter\\chromedriver.exe\")\n"
     ]
    },
    {
     "name": "stdout",
     "output_type": "stream",
     "text": [
      "https://in.indeed.com/jobs?q=big+data+analyst&sort=date&start=480\n"
     ]
    },
    {
     "name": "stderr",
     "output_type": "stream",
     "text": [
      "C:\\Users\\Kaveri\\AppData\\Local\\Temp\\ipykernel_6936\\3932057697.py:2: DeprecationWarning: executable_path has been deprecated, please pass in a Service object\n",
      "  driver = webdriver.Chrome(executable_path=r\"C:\\Users\\Kaveri\\Documents\\jupyter\\chromedriver.exe\")\n",
      "C:\\Users\\Kaveri\\AppData\\Local\\Temp\\ipykernel_6936\\3932057697.py:19: DeprecationWarning: executable_path has been deprecated, please pass in a Service object\n",
      "  driver = webdriver.Chrome(executable_path=r\"C:\\Users\\Kaveri\\Documents\\jupyter\\chromedriver.exe\")\n"
     ]
    },
    {
     "name": "stdout",
     "output_type": "stream",
     "text": [
      "https://in.indeed.com/jobs?q=big+data+analyst&sort=date&start=490\n"
     ]
    },
    {
     "name": "stderr",
     "output_type": "stream",
     "text": [
      "C:\\Users\\Kaveri\\AppData\\Local\\Temp\\ipykernel_6936\\3932057697.py:2: DeprecationWarning: executable_path has been deprecated, please pass in a Service object\n",
      "  driver = webdriver.Chrome(executable_path=r\"C:\\Users\\Kaveri\\Documents\\jupyter\\chromedriver.exe\")\n",
      "C:\\Users\\Kaveri\\AppData\\Local\\Temp\\ipykernel_6936\\3932057697.py:19: DeprecationWarning: executable_path has been deprecated, please pass in a Service object\n",
      "  driver = webdriver.Chrome(executable_path=r\"C:\\Users\\Kaveri\\Documents\\jupyter\\chromedriver.exe\")\n"
     ]
    },
    {
     "name": "stdout",
     "output_type": "stream",
     "text": [
      "https://in.indeed.com/jobs?q=big+data+analyst&sort=date&start=500\n"
     ]
    },
    {
     "name": "stderr",
     "output_type": "stream",
     "text": [
      "C:\\Users\\Kaveri\\AppData\\Local\\Temp\\ipykernel_6936\\3932057697.py:2: DeprecationWarning: executable_path has been deprecated, please pass in a Service object\n",
      "  driver = webdriver.Chrome(executable_path=r\"C:\\Users\\Kaveri\\Documents\\jupyter\\chromedriver.exe\")\n",
      "C:\\Users\\Kaveri\\AppData\\Local\\Temp\\ipykernel_6936\\3932057697.py:19: DeprecationWarning: executable_path has been deprecated, please pass in a Service object\n",
      "  driver = webdriver.Chrome(executable_path=r\"C:\\Users\\Kaveri\\Documents\\jupyter\\chromedriver.exe\")\n"
     ]
    },
    {
     "name": "stdout",
     "output_type": "stream",
     "text": [
      "https://in.indeed.com/jobs?q=big+data+analyst&sort=date&start=510\n"
     ]
    },
    {
     "name": "stderr",
     "output_type": "stream",
     "text": [
      "C:\\Users\\Kaveri\\AppData\\Local\\Temp\\ipykernel_6936\\3932057697.py:2: DeprecationWarning: executable_path has been deprecated, please pass in a Service object\n",
      "  driver = webdriver.Chrome(executable_path=r\"C:\\Users\\Kaveri\\Documents\\jupyter\\chromedriver.exe\")\n",
      "C:\\Users\\Kaveri\\AppData\\Local\\Temp\\ipykernel_6936\\3932057697.py:19: DeprecationWarning: executable_path has been deprecated, please pass in a Service object\n",
      "  driver = webdriver.Chrome(executable_path=r\"C:\\Users\\Kaveri\\Documents\\jupyter\\chromedriver.exe\")\n"
     ]
    },
    {
     "name": "stdout",
     "output_type": "stream",
     "text": [
      "https://in.indeed.com/jobs?q=big+data+analyst&sort=date&start=520\n"
     ]
    },
    {
     "name": "stderr",
     "output_type": "stream",
     "text": [
      "C:\\Users\\Kaveri\\AppData\\Local\\Temp\\ipykernel_6936\\3932057697.py:2: DeprecationWarning: executable_path has been deprecated, please pass in a Service object\n",
      "  driver = webdriver.Chrome(executable_path=r\"C:\\Users\\Kaveri\\Documents\\jupyter\\chromedriver.exe\")\n",
      "C:\\Users\\Kaveri\\AppData\\Local\\Temp\\ipykernel_6936\\3932057697.py:19: DeprecationWarning: executable_path has been deprecated, please pass in a Service object\n",
      "  driver = webdriver.Chrome(executable_path=r\"C:\\Users\\Kaveri\\Documents\\jupyter\\chromedriver.exe\")\n"
     ]
    },
    {
     "name": "stdout",
     "output_type": "stream",
     "text": [
      "https://in.indeed.com/jobs?q=big+data+analyst&sort=date&start=530\n"
     ]
    },
    {
     "name": "stderr",
     "output_type": "stream",
     "text": [
      "C:\\Users\\Kaveri\\AppData\\Local\\Temp\\ipykernel_6936\\3932057697.py:2: DeprecationWarning: executable_path has been deprecated, please pass in a Service object\n",
      "  driver = webdriver.Chrome(executable_path=r\"C:\\Users\\Kaveri\\Documents\\jupyter\\chromedriver.exe\")\n",
      "C:\\Users\\Kaveri\\AppData\\Local\\Temp\\ipykernel_6936\\3932057697.py:19: DeprecationWarning: executable_path has been deprecated, please pass in a Service object\n",
      "  driver = webdriver.Chrome(executable_path=r\"C:\\Users\\Kaveri\\Documents\\jupyter\\chromedriver.exe\")\n"
     ]
    },
    {
     "name": "stdout",
     "output_type": "stream",
     "text": [
      "https://in.indeed.com/jobs?q=big+data+analyst&sort=date&start=540\n"
     ]
    },
    {
     "name": "stderr",
     "output_type": "stream",
     "text": [
      "C:\\Users\\Kaveri\\AppData\\Local\\Temp\\ipykernel_6936\\3932057697.py:2: DeprecationWarning: executable_path has been deprecated, please pass in a Service object\n",
      "  driver = webdriver.Chrome(executable_path=r\"C:\\Users\\Kaveri\\Documents\\jupyter\\chromedriver.exe\")\n",
      "C:\\Users\\Kaveri\\AppData\\Local\\Temp\\ipykernel_6936\\3932057697.py:19: DeprecationWarning: executable_path has been deprecated, please pass in a Service object\n",
      "  driver = webdriver.Chrome(executable_path=r\"C:\\Users\\Kaveri\\Documents\\jupyter\\chromedriver.exe\")\n"
     ]
    },
    {
     "name": "stdout",
     "output_type": "stream",
     "text": [
      "https://in.indeed.com/jobs?q=big+data+analyst&sort=date&start=550\n"
     ]
    },
    {
     "name": "stderr",
     "output_type": "stream",
     "text": [
      "C:\\Users\\Kaveri\\AppData\\Local\\Temp\\ipykernel_6936\\3932057697.py:2: DeprecationWarning: executable_path has been deprecated, please pass in a Service object\n",
      "  driver = webdriver.Chrome(executable_path=r\"C:\\Users\\Kaveri\\Documents\\jupyter\\chromedriver.exe\")\n",
      "C:\\Users\\Kaveri\\AppData\\Local\\Temp\\ipykernel_6936\\3932057697.py:19: DeprecationWarning: executable_path has been deprecated, please pass in a Service object\n",
      "  driver = webdriver.Chrome(executable_path=r\"C:\\Users\\Kaveri\\Documents\\jupyter\\chromedriver.exe\")\n"
     ]
    },
    {
     "name": "stdout",
     "output_type": "stream",
     "text": [
      "https://in.indeed.com/jobs?q=big+data+analyst&sort=date&start=560\n"
     ]
    },
    {
     "name": "stderr",
     "output_type": "stream",
     "text": [
      "C:\\Users\\Kaveri\\AppData\\Local\\Temp\\ipykernel_6936\\3932057697.py:2: DeprecationWarning: executable_path has been deprecated, please pass in a Service object\n",
      "  driver = webdriver.Chrome(executable_path=r\"C:\\Users\\Kaveri\\Documents\\jupyter\\chromedriver.exe\")\n",
      "C:\\Users\\Kaveri\\AppData\\Local\\Temp\\ipykernel_6936\\3932057697.py:19: DeprecationWarning: executable_path has been deprecated, please pass in a Service object\n",
      "  driver = webdriver.Chrome(executable_path=r\"C:\\Users\\Kaveri\\Documents\\jupyter\\chromedriver.exe\")\n"
     ]
    },
    {
     "name": "stdout",
     "output_type": "stream",
     "text": [
      "https://in.indeed.com/jobs?q=big+data+analyst&sort=date&start=570\n"
     ]
    },
    {
     "name": "stderr",
     "output_type": "stream",
     "text": [
      "C:\\Users\\Kaveri\\AppData\\Local\\Temp\\ipykernel_6936\\3932057697.py:2: DeprecationWarning: executable_path has been deprecated, please pass in a Service object\n",
      "  driver = webdriver.Chrome(executable_path=r\"C:\\Users\\Kaveri\\Documents\\jupyter\\chromedriver.exe\")\n",
      "C:\\Users\\Kaveri\\AppData\\Local\\Temp\\ipykernel_6936\\3932057697.py:19: DeprecationWarning: executable_path has been deprecated, please pass in a Service object\n",
      "  driver = webdriver.Chrome(executable_path=r\"C:\\Users\\Kaveri\\Documents\\jupyter\\chromedriver.exe\")\n"
     ]
    },
    {
     "name": "stdout",
     "output_type": "stream",
     "text": [
      "https://in.indeed.com/jobs?q=big+data+analyst&sort=date&start=580\n"
     ]
    },
    {
     "name": "stderr",
     "output_type": "stream",
     "text": [
      "C:\\Users\\Kaveri\\AppData\\Local\\Temp\\ipykernel_6936\\3932057697.py:2: DeprecationWarning: executable_path has been deprecated, please pass in a Service object\n",
      "  driver = webdriver.Chrome(executable_path=r\"C:\\Users\\Kaveri\\Documents\\jupyter\\chromedriver.exe\")\n",
      "C:\\Users\\Kaveri\\AppData\\Local\\Temp\\ipykernel_6936\\3932057697.py:19: DeprecationWarning: executable_path has been deprecated, please pass in a Service object\n",
      "  driver = webdriver.Chrome(executable_path=r\"C:\\Users\\Kaveri\\Documents\\jupyter\\chromedriver.exe\")\n"
     ]
    },
    {
     "name": "stdout",
     "output_type": "stream",
     "text": [
      "https://in.indeed.com/jobs?q=big+data+analyst&sort=date&start=590\n"
     ]
    },
    {
     "name": "stderr",
     "output_type": "stream",
     "text": [
      "C:\\Users\\Kaveri\\AppData\\Local\\Temp\\ipykernel_6936\\3932057697.py:2: DeprecationWarning: executable_path has been deprecated, please pass in a Service object\n",
      "  driver = webdriver.Chrome(executable_path=r\"C:\\Users\\Kaveri\\Documents\\jupyter\\chromedriver.exe\")\n",
      "C:\\Users\\Kaveri\\AppData\\Local\\Temp\\ipykernel_6936\\3932057697.py:19: DeprecationWarning: executable_path has been deprecated, please pass in a Service object\n",
      "  driver = webdriver.Chrome(executable_path=r\"C:\\Users\\Kaveri\\Documents\\jupyter\\chromedriver.exe\")\n"
     ]
    }
   ],
   "source": [
    "df1 = base_site('big+data+analyst', 60)"
   ]
  },
  {
   "cell_type": "code",
   "execution_count": 4,
   "id": "0be29694-9a7f-4aa1-a8ae-ee09f826da23",
   "metadata": {},
   "outputs": [
    {
     "ename": "NameError",
     "evalue": "name 'df1' is not defined",
     "output_type": "error",
     "traceback": [
      "\u001b[1;31m---------------------------------------------------------------------------\u001b[0m",
      "\u001b[1;31mNameError\u001b[0m                                 Traceback (most recent call last)",
      "Cell \u001b[1;32mIn [4], line 1\u001b[0m\n\u001b[1;32m----> 1\u001b[0m \u001b[43mdf1\u001b[49m\n",
      "\u001b[1;31mNameError\u001b[0m: name 'df1' is not defined"
     ]
    }
   ],
   "source": [
    "df1"
   ]
  },
  {
   "cell_type": "code",
   "execution_count": 5,
   "id": "5c088b45-ff8a-45ee-b88f-8b9c8d0a6d6c",
   "metadata": {},
   "outputs": [
    {
     "ename": "NameError",
     "evalue": "name 'df1' is not defined",
     "output_type": "error",
     "traceback": [
      "\u001b[1;31m---------------------------------------------------------------------------\u001b[0m",
      "\u001b[1;31mNameError\u001b[0m                                 Traceback (most recent call last)",
      "Cell \u001b[1;32mIn [5], line 1\u001b[0m\n\u001b[1;32m----> 1\u001b[0m \u001b[43mdf1\u001b[49m\n",
      "\u001b[1;31mNameError\u001b[0m: name 'df1' is not defined"
     ]
    }
   ],
   "source": [
    "df1"
   ]
  },
  {
   "cell_type": "code",
   "execution_count": 243,
   "id": "20e95900-f1ab-4200-8995-e712c102827d",
   "metadata": {},
   "outputs": [],
   "source": [
    "df3=df1\n",
    "df4=df1"
   ]
  },
  {
   "cell_type": "code",
   "execution_count": 6,
   "id": "d3b7661e-da6f-4990-8be4-0a9b17be7908",
   "metadata": {},
   "outputs": [
    {
     "ename": "NameError",
     "evalue": "name 'df1' is not defined",
     "output_type": "error",
     "traceback": [
      "\u001b[1;31m---------------------------------------------------------------------------\u001b[0m",
      "\u001b[1;31mNameError\u001b[0m                                 Traceback (most recent call last)",
      "Cell \u001b[1;32mIn [6], line 1\u001b[0m\n\u001b[1;32m----> 1\u001b[0m df2\u001b[38;5;241m=\u001b[39m\u001b[43mdf1\u001b[49m\n",
      "\u001b[1;31mNameError\u001b[0m: name 'df1' is not defined"
     ]
    }
   ],
   "source": [
    "df2=df1"
   ]
  },
  {
   "cell_type": "code",
   "execution_count": 302,
   "id": "606cf6aa-3565-4355-955d-fa4d76f68562",
   "metadata": {},
   "outputs": [
    {
     "data": {
      "text/html": [
       "<div>\n",
       "<style scoped>\n",
       "    .dataframe tbody tr th:only-of-type {\n",
       "        vertical-align: middle;\n",
       "    }\n",
       "\n",
       "    .dataframe tbody tr th {\n",
       "        vertical-align: top;\n",
       "    }\n",
       "\n",
       "    .dataframe thead th {\n",
       "        text-align: right;\n",
       "    }\n",
       "</style>\n",
       "<table border=\"1\" class=\"dataframe\">\n",
       "  <thead>\n",
       "    <tr style=\"text-align: right;\">\n",
       "      <th></th>\n",
       "      <th>Job Title</th>\n",
       "      <th>Salary Estimate</th>\n",
       "      <th>Job Snippet</th>\n",
       "      <th>Job Type</th>\n",
       "      <th>Rating</th>\n",
       "      <th>Company Name</th>\n",
       "      <th>Location</th>\n",
       "      <th>Links</th>\n",
       "      <th>Job Description</th>\n",
       "    </tr>\n",
       "  </thead>\n",
       "  <tbody>\n",
       "    <tr>\n",
       "      <th>0</th>\n",
       "      <td>Sr Coal Analyst</td>\n",
       "      <td>None</td>\n",
       "      <td>You will ensure that we embrace new technologi...</td>\n",
       "      <td>'Full-time'</td>\n",
       "      <td>4.0</td>\n",
       "      <td>Wood Mackenzie</td>\n",
       "      <td>Delhi, Delhi</td>\n",
       "      <td>https://in.indeed.com/rc/clk?jk=c9dd2495cb27e7...</td>\n",
       "      <td>\\n Company Description\\n  Wood Mackenzie is th...</td>\n",
       "    </tr>\n",
       "    <tr>\n",
       "      <th>1</th>\n",
       "      <td>Analyst/Senior Analyst-Accounting and Reporting</td>\n",
       "      <td>None</td>\n",
       "      <td>Analyst / Sr Analyst, Accounting and Reporting...</td>\n",
       "      <td></td>\n",
       "      <td>3.9</td>\n",
       "      <td>Colt Technology Services</td>\n",
       "      <td>Gurgaon, Haryana</td>\n",
       "      <td>https://in.indeed.com/rc/clk?jk=e17828ded29c1d...</td>\n",
       "      <td>\\nColt provides network, voice and data centre...</td>\n",
       "    </tr>\n",
       "    <tr>\n",
       "      <th>2</th>\n",
       "      <td>Business Analyst - TMO</td>\n",
       "      <td>None</td>\n",
       "      <td>Develop project updates and internal communica...</td>\n",
       "      <td>'Full-time'</td>\n",
       "      <td>3.9</td>\n",
       "      <td>Palo Alto Networks</td>\n",
       "      <td>Bengaluru, Karnataka</td>\n",
       "      <td>https://in.indeed.com/rc/clk?jk=3fd01db848de19...</td>\n",
       "      <td>\\n Company Description\\n  Our Mission\\n At Pal...</td>\n",
       "    </tr>\n",
       "    <tr>\n",
       "      <th>3</th>\n",
       "      <td>IND Business Analyst II</td>\n",
       "      <td>None</td>\n",
       "      <td>Present financial data to the Business.\\nWorkd...</td>\n",
       "      <td></td>\n",
       "      <td>3.1</td>\n",
       "      <td>Alight</td>\n",
       "      <td>Gurgaon, Haryana</td>\n",
       "      <td>https://in.indeed.com/rc/clk?jk=9351fe35129328...</td>\n",
       "      <td>\\nOur story:\\n\\n At Alight, we believe a compa...</td>\n",
       "    </tr>\n",
       "    <tr>\n",
       "      <th>4</th>\n",
       "      <td>Business Analyst</td>\n",
       "      <td>None</td>\n",
       "      <td>Experience with techniques such as use case an...</td>\n",
       "      <td>'Full-time'</td>\n",
       "      <td>3.6</td>\n",
       "      <td>Toll Group</td>\n",
       "      <td>Pune, Maharashtra</td>\n",
       "      <td>https://in.indeed.com/rc/clk?jk=67b47815612fb2...</td>\n",
       "      <td>\\n Company Description\\n  At Toll, we do more ...</td>\n",
       "    </tr>\n",
       "    <tr>\n",
       "      <th>...</th>\n",
       "      <td>...</td>\n",
       "      <td>...</td>\n",
       "      <td>...</td>\n",
       "      <td>...</td>\n",
       "      <td>...</td>\n",
       "      <td>...</td>\n",
       "      <td>...</td>\n",
       "      <td>...</td>\n",
       "      <td>...</td>\n",
       "    </tr>\n",
       "    <tr>\n",
       "      <th>1073</th>\n",
       "      <td>Associate, RES</td>\n",
       "      <td>None</td>\n",
       "      <td>Optimize analyst resources and ensure that all...</td>\n",
       "      <td></td>\n",
       "      <td>3.7</td>\n",
       "      <td>Gartner</td>\n",
       "      <td>Mumbai, Maharashtra</td>\n",
       "      <td>https://in.indeed.com/rc/clk?jk=2f15aac84d10c8...</td>\n",
       "      <td>\\nDescription\\nAbout the role: \\nProvide admin...</td>\n",
       "    </tr>\n",
       "    <tr>\n",
       "      <th>1074</th>\n",
       "      <td>Senior Analyst - Procurement Analytics</td>\n",
       "      <td>None</td>\n",
       "      <td>You will be working as a part of Procurement A...</td>\n",
       "      <td>'Full-time', 'Rotational shift'</td>\n",
       "      <td>4.0</td>\n",
       "      <td>Accenture</td>\n",
       "      <td>Hyderabad, Telangana</td>\n",
       "      <td>https://in.indeed.com/rc/clk?jk=c996b1de0238f3...</td>\n",
       "      <td>\\n\\nSkill required: Procurement Analytics - Ca...</td>\n",
       "    </tr>\n",
       "    <tr>\n",
       "      <th>1075</th>\n",
       "      <td>Data Science Sr Analyst</td>\n",
       "      <td>None</td>\n",
       "      <td>Show expertise for data at all levels: low-lat...</td>\n",
       "      <td></td>\n",
       "      <td>3.8</td>\n",
       "      <td>PepsiCo</td>\n",
       "      <td>None</td>\n",
       "      <td>https://in.indeed.com/rc/clk?jk=063ee815a04212...</td>\n",
       "      <td>\\n Responsibilities: \\n Main Purpose: \\n\\n Pep...</td>\n",
       "    </tr>\n",
       "    <tr>\n",
       "      <th>1076</th>\n",
       "      <td>Sr. Supply Chain Analyst</td>\n",
       "      <td>None</td>\n",
       "      <td>Communication - follow test protocols, how to ...</td>\n",
       "      <td>'Full-time'</td>\n",
       "      <td>3.8</td>\n",
       "      <td>Western Digital</td>\n",
       "      <td>Bengaluru, Karnataka</td>\n",
       "      <td>https://in.indeed.com/rc/clk?jk=7397d7fa90e177...</td>\n",
       "      <td>\\n Company Description\\n  The future. It’s on ...</td>\n",
       "    </tr>\n",
       "    <tr>\n",
       "      <th>1077</th>\n",
       "      <td>None</td>\n",
       "      <td>None</td>\n",
       "      <td>None</td>\n",
       "      <td></td>\n",
       "      <td>NaN</td>\n",
       "      <td>None</td>\n",
       "      <td>None</td>\n",
       "      <td>None</td>\n",
       "      <td>None</td>\n",
       "    </tr>\n",
       "  </tbody>\n",
       "</table>\n",
       "<p>1078 rows × 9 columns</p>\n",
       "</div>"
      ],
      "text/plain": [
       "                                            Job Title Salary Estimate  \\\n",
       "0                                     Sr Coal Analyst            None   \n",
       "1     Analyst/Senior Analyst-Accounting and Reporting            None   \n",
       "2                              Business Analyst - TMO            None   \n",
       "3                             IND Business Analyst II            None   \n",
       "4                                    Business Analyst            None   \n",
       "...                                               ...             ...   \n",
       "1073                                   Associate, RES            None   \n",
       "1074           Senior Analyst - Procurement Analytics            None   \n",
       "1075                          Data Science Sr Analyst            None   \n",
       "1076                         Sr. Supply Chain Analyst            None   \n",
       "1077                                             None            None   \n",
       "\n",
       "                                            Job Snippet  \\\n",
       "0     You will ensure that we embrace new technologi...   \n",
       "1     Analyst / Sr Analyst, Accounting and Reporting...   \n",
       "2     Develop project updates and internal communica...   \n",
       "3     Present financial data to the Business.\\nWorkd...   \n",
       "4     Experience with techniques such as use case an...   \n",
       "...                                                 ...   \n",
       "1073  Optimize analyst resources and ensure that all...   \n",
       "1074  You will be working as a part of Procurement A...   \n",
       "1075  Show expertise for data at all levels: low-lat...   \n",
       "1076  Communication - follow test protocols, how to ...   \n",
       "1077                                               None   \n",
       "\n",
       "                             Job Type  Rating              Company Name  \\\n",
       "0                         'Full-time'     4.0            Wood Mackenzie   \n",
       "1                                         3.9  Colt Technology Services   \n",
       "2                         'Full-time'     3.9        Palo Alto Networks   \n",
       "3                                         3.1                    Alight   \n",
       "4                         'Full-time'     3.6                Toll Group   \n",
       "...                               ...     ...                       ...   \n",
       "1073                                      3.7                   Gartner   \n",
       "1074  'Full-time', 'Rotational shift'     4.0                 Accenture   \n",
       "1075                                      3.8                   PepsiCo   \n",
       "1076                      'Full-time'     3.8           Western Digital   \n",
       "1077                                      NaN                      None   \n",
       "\n",
       "                  Location                                              Links  \\\n",
       "0             Delhi, Delhi  https://in.indeed.com/rc/clk?jk=c9dd2495cb27e7...   \n",
       "1         Gurgaon, Haryana  https://in.indeed.com/rc/clk?jk=e17828ded29c1d...   \n",
       "2     Bengaluru, Karnataka  https://in.indeed.com/rc/clk?jk=3fd01db848de19...   \n",
       "3         Gurgaon, Haryana  https://in.indeed.com/rc/clk?jk=9351fe35129328...   \n",
       "4        Pune, Maharashtra  https://in.indeed.com/rc/clk?jk=67b47815612fb2...   \n",
       "...                    ...                                                ...   \n",
       "1073   Mumbai, Maharashtra  https://in.indeed.com/rc/clk?jk=2f15aac84d10c8...   \n",
       "1074  Hyderabad, Telangana  https://in.indeed.com/rc/clk?jk=c996b1de0238f3...   \n",
       "1075                  None  https://in.indeed.com/rc/clk?jk=063ee815a04212...   \n",
       "1076  Bengaluru, Karnataka  https://in.indeed.com/rc/clk?jk=7397d7fa90e177...   \n",
       "1077                  None                                               None   \n",
       "\n",
       "                                        Job Description  \n",
       "0     \\n Company Description\\n  Wood Mackenzie is th...  \n",
       "1     \\nColt provides network, voice and data centre...  \n",
       "2     \\n Company Description\\n  Our Mission\\n At Pal...  \n",
       "3     \\nOur story:\\n\\n At Alight, we believe a compa...  \n",
       "4     \\n Company Description\\n  At Toll, we do more ...  \n",
       "...                                                 ...  \n",
       "1073  \\nDescription\\nAbout the role: \\nProvide admin...  \n",
       "1074  \\n\\nSkill required: Procurement Analytics - Ca...  \n",
       "1075  \\n Responsibilities: \\n Main Purpose: \\n\\n Pep...  \n",
       "1076  \\n Company Description\\n  The future. It’s on ...  \n",
       "1077                                               None  \n",
       "\n",
       "[1078 rows x 9 columns]"
      ]
     },
     "execution_count": 302,
     "metadata": {},
     "output_type": "execute_result"
    }
   ],
   "source": [
    "df2.replace('None', np.nan)"
   ]
  },
  {
   "cell_type": "code",
   "execution_count": 303,
   "id": "9e605fe3-4dfb-4968-b611-5079ae1f6773",
   "metadata": {},
   "outputs": [
    {
     "name": "stderr",
     "output_type": "stream",
     "text": [
      "C:\\Users\\Kaveri\\AppData\\Local\\Temp\\ipykernel_6936\\2075091974.py:1: FutureWarning: The default value of regex will change from True to False in a future version.\n",
      "  df2[\"Job Type\"] = df2[\"Job Type\"].astype(str).str.replace(\"[\\]\\[]\",'').astype(str)\n"
     ]
    }
   ],
   "source": [
    "\n",
    "df2[\"Job Type\"] = df2[\"Job Type\"].astype(str).str.replace(\"[\\]\\[]\",'').astype(str)"
   ]
  },
  {
   "cell_type": "code",
   "execution_count": 304,
   "id": "b9cc6b89-212c-45b5-ad9e-a0d57dc8d89d",
   "metadata": {},
   "outputs": [],
   "source": [
    "import replace"
   ]
  },
  {
   "cell_type": "code",
   "execution_count": 305,
   "id": "d5f90f53-9b94-4f9b-8f2b-9e28576a3740",
   "metadata": {},
   "outputs": [],
   "source": [
    "\n",
    "df2[\"Job Type\"] = df2[\"Job Type\"].astype(str).str.replace(\"''\",'').astype(str)"
   ]
  },
  {
   "cell_type": "code",
   "execution_count": 306,
   "id": "3aefa318-5c8a-4fca-8b24-8a2204743442",
   "metadata": {},
   "outputs": [
    {
     "data": {
      "text/html": [
       "<div>\n",
       "<style scoped>\n",
       "    .dataframe tbody tr th:only-of-type {\n",
       "        vertical-align: middle;\n",
       "    }\n",
       "\n",
       "    .dataframe tbody tr th {\n",
       "        vertical-align: top;\n",
       "    }\n",
       "\n",
       "    .dataframe thead th {\n",
       "        text-align: right;\n",
       "    }\n",
       "</style>\n",
       "<table border=\"1\" class=\"dataframe\">\n",
       "  <thead>\n",
       "    <tr style=\"text-align: right;\">\n",
       "      <th></th>\n",
       "      <th>Job Title</th>\n",
       "      <th>Salary Estimate</th>\n",
       "      <th>Job Snippet</th>\n",
       "      <th>Job Type</th>\n",
       "      <th>Rating</th>\n",
       "      <th>Company Name</th>\n",
       "      <th>Location</th>\n",
       "      <th>Links</th>\n",
       "      <th>Job Description</th>\n",
       "    </tr>\n",
       "  </thead>\n",
       "  <tbody>\n",
       "    <tr>\n",
       "      <th>0</th>\n",
       "      <td>Sr Coal Analyst</td>\n",
       "      <td>None</td>\n",
       "      <td>You will ensure that we embrace new technologi...</td>\n",
       "      <td>'Full-time'</td>\n",
       "      <td>4.0</td>\n",
       "      <td>Wood Mackenzie</td>\n",
       "      <td>Delhi, Delhi</td>\n",
       "      <td>https://in.indeed.com/rc/clk?jk=c9dd2495cb27e7...</td>\n",
       "      <td>\\n Company Description\\n  Wood Mackenzie is th...</td>\n",
       "    </tr>\n",
       "    <tr>\n",
       "      <th>1</th>\n",
       "      <td>Analyst/Senior Analyst-Accounting and Reporting</td>\n",
       "      <td>None</td>\n",
       "      <td>Analyst / Sr Analyst, Accounting and Reporting...</td>\n",
       "      <td></td>\n",
       "      <td>3.9</td>\n",
       "      <td>Colt Technology Services</td>\n",
       "      <td>Gurgaon, Haryana</td>\n",
       "      <td>https://in.indeed.com/rc/clk?jk=e17828ded29c1d...</td>\n",
       "      <td>\\nColt provides network, voice and data centre...</td>\n",
       "    </tr>\n",
       "    <tr>\n",
       "      <th>2</th>\n",
       "      <td>Business Analyst - TMO</td>\n",
       "      <td>None</td>\n",
       "      <td>Develop project updates and internal communica...</td>\n",
       "      <td>'Full-time'</td>\n",
       "      <td>3.9</td>\n",
       "      <td>Palo Alto Networks</td>\n",
       "      <td>Bengaluru, Karnataka</td>\n",
       "      <td>https://in.indeed.com/rc/clk?jk=3fd01db848de19...</td>\n",
       "      <td>\\n Company Description\\n  Our Mission\\n At Pal...</td>\n",
       "    </tr>\n",
       "    <tr>\n",
       "      <th>3</th>\n",
       "      <td>IND Business Analyst II</td>\n",
       "      <td>None</td>\n",
       "      <td>Present financial data to the Business.\\nWorkd...</td>\n",
       "      <td></td>\n",
       "      <td>3.1</td>\n",
       "      <td>Alight</td>\n",
       "      <td>Gurgaon, Haryana</td>\n",
       "      <td>https://in.indeed.com/rc/clk?jk=9351fe35129328...</td>\n",
       "      <td>\\nOur story:\\n\\n At Alight, we believe a compa...</td>\n",
       "    </tr>\n",
       "    <tr>\n",
       "      <th>4</th>\n",
       "      <td>Business Analyst</td>\n",
       "      <td>None</td>\n",
       "      <td>Experience with techniques such as use case an...</td>\n",
       "      <td>'Full-time'</td>\n",
       "      <td>3.6</td>\n",
       "      <td>Toll Group</td>\n",
       "      <td>Pune, Maharashtra</td>\n",
       "      <td>https://in.indeed.com/rc/clk?jk=67b47815612fb2...</td>\n",
       "      <td>\\n Company Description\\n  At Toll, we do more ...</td>\n",
       "    </tr>\n",
       "    <tr>\n",
       "      <th>...</th>\n",
       "      <td>...</td>\n",
       "      <td>...</td>\n",
       "      <td>...</td>\n",
       "      <td>...</td>\n",
       "      <td>...</td>\n",
       "      <td>...</td>\n",
       "      <td>...</td>\n",
       "      <td>...</td>\n",
       "      <td>...</td>\n",
       "    </tr>\n",
       "    <tr>\n",
       "      <th>1073</th>\n",
       "      <td>Associate, RES</td>\n",
       "      <td>None</td>\n",
       "      <td>Optimize analyst resources and ensure that all...</td>\n",
       "      <td></td>\n",
       "      <td>3.7</td>\n",
       "      <td>Gartner</td>\n",
       "      <td>Mumbai, Maharashtra</td>\n",
       "      <td>https://in.indeed.com/rc/clk?jk=2f15aac84d10c8...</td>\n",
       "      <td>\\nDescription\\nAbout the role: \\nProvide admin...</td>\n",
       "    </tr>\n",
       "    <tr>\n",
       "      <th>1074</th>\n",
       "      <td>Senior Analyst - Procurement Analytics</td>\n",
       "      <td>None</td>\n",
       "      <td>You will be working as a part of Procurement A...</td>\n",
       "      <td>'Full-time', 'Rotational shift'</td>\n",
       "      <td>4.0</td>\n",
       "      <td>Accenture</td>\n",
       "      <td>Hyderabad, Telangana</td>\n",
       "      <td>https://in.indeed.com/rc/clk?jk=c996b1de0238f3...</td>\n",
       "      <td>\\n\\nSkill required: Procurement Analytics - Ca...</td>\n",
       "    </tr>\n",
       "    <tr>\n",
       "      <th>1075</th>\n",
       "      <td>Data Science Sr Analyst</td>\n",
       "      <td>None</td>\n",
       "      <td>Show expertise for data at all levels: low-lat...</td>\n",
       "      <td></td>\n",
       "      <td>3.8</td>\n",
       "      <td>PepsiCo</td>\n",
       "      <td>None</td>\n",
       "      <td>https://in.indeed.com/rc/clk?jk=063ee815a04212...</td>\n",
       "      <td>\\n Responsibilities: \\n Main Purpose: \\n\\n Pep...</td>\n",
       "    </tr>\n",
       "    <tr>\n",
       "      <th>1076</th>\n",
       "      <td>Sr. Supply Chain Analyst</td>\n",
       "      <td>None</td>\n",
       "      <td>Communication - follow test protocols, how to ...</td>\n",
       "      <td>'Full-time'</td>\n",
       "      <td>3.8</td>\n",
       "      <td>Western Digital</td>\n",
       "      <td>Bengaluru, Karnataka</td>\n",
       "      <td>https://in.indeed.com/rc/clk?jk=7397d7fa90e177...</td>\n",
       "      <td>\\n Company Description\\n  The future. It’s on ...</td>\n",
       "    </tr>\n",
       "    <tr>\n",
       "      <th>1077</th>\n",
       "      <td>None</td>\n",
       "      <td>None</td>\n",
       "      <td>None</td>\n",
       "      <td></td>\n",
       "      <td>NaN</td>\n",
       "      <td>None</td>\n",
       "      <td>None</td>\n",
       "      <td>None</td>\n",
       "      <td>None</td>\n",
       "    </tr>\n",
       "  </tbody>\n",
       "</table>\n",
       "<p>1078 rows × 9 columns</p>\n",
       "</div>"
      ],
      "text/plain": [
       "                                            Job Title Salary Estimate  \\\n",
       "0                                     Sr Coal Analyst            None   \n",
       "1     Analyst/Senior Analyst-Accounting and Reporting            None   \n",
       "2                              Business Analyst - TMO            None   \n",
       "3                             IND Business Analyst II            None   \n",
       "4                                    Business Analyst            None   \n",
       "...                                               ...             ...   \n",
       "1073                                   Associate, RES            None   \n",
       "1074           Senior Analyst - Procurement Analytics            None   \n",
       "1075                          Data Science Sr Analyst            None   \n",
       "1076                         Sr. Supply Chain Analyst            None   \n",
       "1077                                             None            None   \n",
       "\n",
       "                                            Job Snippet  \\\n",
       "0     You will ensure that we embrace new technologi...   \n",
       "1     Analyst / Sr Analyst, Accounting and Reporting...   \n",
       "2     Develop project updates and internal communica...   \n",
       "3     Present financial data to the Business.\\nWorkd...   \n",
       "4     Experience with techniques such as use case an...   \n",
       "...                                                 ...   \n",
       "1073  Optimize analyst resources and ensure that all...   \n",
       "1074  You will be working as a part of Procurement A...   \n",
       "1075  Show expertise for data at all levels: low-lat...   \n",
       "1076  Communication - follow test protocols, how to ...   \n",
       "1077                                               None   \n",
       "\n",
       "                             Job Type  Rating              Company Name  \\\n",
       "0                         'Full-time'     4.0            Wood Mackenzie   \n",
       "1                                         3.9  Colt Technology Services   \n",
       "2                         'Full-time'     3.9        Palo Alto Networks   \n",
       "3                                         3.1                    Alight   \n",
       "4                         'Full-time'     3.6                Toll Group   \n",
       "...                               ...     ...                       ...   \n",
       "1073                                      3.7                   Gartner   \n",
       "1074  'Full-time', 'Rotational shift'     4.0                 Accenture   \n",
       "1075                                      3.8                   PepsiCo   \n",
       "1076                      'Full-time'     3.8           Western Digital   \n",
       "1077                                      NaN                      None   \n",
       "\n",
       "                  Location                                              Links  \\\n",
       "0             Delhi, Delhi  https://in.indeed.com/rc/clk?jk=c9dd2495cb27e7...   \n",
       "1         Gurgaon, Haryana  https://in.indeed.com/rc/clk?jk=e17828ded29c1d...   \n",
       "2     Bengaluru, Karnataka  https://in.indeed.com/rc/clk?jk=3fd01db848de19...   \n",
       "3         Gurgaon, Haryana  https://in.indeed.com/rc/clk?jk=9351fe35129328...   \n",
       "4        Pune, Maharashtra  https://in.indeed.com/rc/clk?jk=67b47815612fb2...   \n",
       "...                    ...                                                ...   \n",
       "1073   Mumbai, Maharashtra  https://in.indeed.com/rc/clk?jk=2f15aac84d10c8...   \n",
       "1074  Hyderabad, Telangana  https://in.indeed.com/rc/clk?jk=c996b1de0238f3...   \n",
       "1075                  None  https://in.indeed.com/rc/clk?jk=063ee815a04212...   \n",
       "1076  Bengaluru, Karnataka  https://in.indeed.com/rc/clk?jk=7397d7fa90e177...   \n",
       "1077                  None                                               None   \n",
       "\n",
       "                                        Job Description  \n",
       "0     \\n Company Description\\n  Wood Mackenzie is th...  \n",
       "1     \\nColt provides network, voice and data centre...  \n",
       "2     \\n Company Description\\n  Our Mission\\n At Pal...  \n",
       "3     \\nOur story:\\n\\n At Alight, we believe a compa...  \n",
       "4     \\n Company Description\\n  At Toll, we do more ...  \n",
       "...                                                 ...  \n",
       "1073  \\nDescription\\nAbout the role: \\nProvide admin...  \n",
       "1074  \\n\\nSkill required: Procurement Analytics - Ca...  \n",
       "1075  \\n Responsibilities: \\n Main Purpose: \\n\\n Pep...  \n",
       "1076  \\n Company Description\\n  The future. It’s on ...  \n",
       "1077                                               None  \n",
       "\n",
       "[1078 rows x 9 columns]"
      ]
     },
     "execution_count": 306,
     "metadata": {},
     "output_type": "execute_result"
    }
   ],
   "source": [
    "df2"
   ]
  },
  {
   "cell_type": "code",
   "execution_count": 307,
   "id": "ffe0b835-33c9-4b67-a47d-36ed09f1337d",
   "metadata": {},
   "outputs": [],
   "source": [
    "df2 = df2.dropna(subset=['Job Title'])"
   ]
  },
  {
   "cell_type": "code",
   "execution_count": 308,
   "id": "a3f0a72c-026a-436f-9057-708e59c087ab",
   "metadata": {},
   "outputs": [
    {
     "data": {
      "text/html": [
       "<div>\n",
       "<style scoped>\n",
       "    .dataframe tbody tr th:only-of-type {\n",
       "        vertical-align: middle;\n",
       "    }\n",
       "\n",
       "    .dataframe tbody tr th {\n",
       "        vertical-align: top;\n",
       "    }\n",
       "\n",
       "    .dataframe thead th {\n",
       "        text-align: right;\n",
       "    }\n",
       "</style>\n",
       "<table border=\"1\" class=\"dataframe\">\n",
       "  <thead>\n",
       "    <tr style=\"text-align: right;\">\n",
       "      <th></th>\n",
       "      <th>Job Title</th>\n",
       "      <th>Salary Estimate</th>\n",
       "      <th>Job Snippet</th>\n",
       "      <th>Job Type</th>\n",
       "      <th>Rating</th>\n",
       "      <th>Company Name</th>\n",
       "      <th>Location</th>\n",
       "      <th>Links</th>\n",
       "      <th>Job Description</th>\n",
       "    </tr>\n",
       "  </thead>\n",
       "  <tbody>\n",
       "    <tr>\n",
       "      <th>0</th>\n",
       "      <td>Sr Coal Analyst</td>\n",
       "      <td>None</td>\n",
       "      <td>You will ensure that we embrace new technologi...</td>\n",
       "      <td>'Full-time'</td>\n",
       "      <td>4.0</td>\n",
       "      <td>Wood Mackenzie</td>\n",
       "      <td>Delhi, Delhi</td>\n",
       "      <td>https://in.indeed.com/rc/clk?jk=c9dd2495cb27e7...</td>\n",
       "      <td>\\n Company Description\\n  Wood Mackenzie is th...</td>\n",
       "    </tr>\n",
       "    <tr>\n",
       "      <th>1</th>\n",
       "      <td>Analyst/Senior Analyst-Accounting and Reporting</td>\n",
       "      <td>None</td>\n",
       "      <td>Analyst / Sr Analyst, Accounting and Reporting...</td>\n",
       "      <td></td>\n",
       "      <td>3.9</td>\n",
       "      <td>Colt Technology Services</td>\n",
       "      <td>Gurgaon, Haryana</td>\n",
       "      <td>https://in.indeed.com/rc/clk?jk=e17828ded29c1d...</td>\n",
       "      <td>\\nColt provides network, voice and data centre...</td>\n",
       "    </tr>\n",
       "    <tr>\n",
       "      <th>2</th>\n",
       "      <td>Business Analyst - TMO</td>\n",
       "      <td>None</td>\n",
       "      <td>Develop project updates and internal communica...</td>\n",
       "      <td>'Full-time'</td>\n",
       "      <td>3.9</td>\n",
       "      <td>Palo Alto Networks</td>\n",
       "      <td>Bengaluru, Karnataka</td>\n",
       "      <td>https://in.indeed.com/rc/clk?jk=3fd01db848de19...</td>\n",
       "      <td>\\n Company Description\\n  Our Mission\\n At Pal...</td>\n",
       "    </tr>\n",
       "    <tr>\n",
       "      <th>3</th>\n",
       "      <td>IND Business Analyst II</td>\n",
       "      <td>None</td>\n",
       "      <td>Present financial data to the Business.\\nWorkd...</td>\n",
       "      <td></td>\n",
       "      <td>3.1</td>\n",
       "      <td>Alight</td>\n",
       "      <td>Gurgaon, Haryana</td>\n",
       "      <td>https://in.indeed.com/rc/clk?jk=9351fe35129328...</td>\n",
       "      <td>\\nOur story:\\n\\n At Alight, we believe a compa...</td>\n",
       "    </tr>\n",
       "    <tr>\n",
       "      <th>4</th>\n",
       "      <td>Business Analyst</td>\n",
       "      <td>None</td>\n",
       "      <td>Experience with techniques such as use case an...</td>\n",
       "      <td>'Full-time'</td>\n",
       "      <td>3.6</td>\n",
       "      <td>Toll Group</td>\n",
       "      <td>Pune, Maharashtra</td>\n",
       "      <td>https://in.indeed.com/rc/clk?jk=67b47815612fb2...</td>\n",
       "      <td>\\n Company Description\\n  At Toll, we do more ...</td>\n",
       "    </tr>\n",
       "    <tr>\n",
       "      <th>...</th>\n",
       "      <td>...</td>\n",
       "      <td>...</td>\n",
       "      <td>...</td>\n",
       "      <td>...</td>\n",
       "      <td>...</td>\n",
       "      <td>...</td>\n",
       "      <td>...</td>\n",
       "      <td>...</td>\n",
       "      <td>...</td>\n",
       "    </tr>\n",
       "    <tr>\n",
       "      <th>1072</th>\n",
       "      <td>Program Manager</td>\n",
       "      <td>None</td>\n",
       "      <td>Experience in handling big data with an hands ...</td>\n",
       "      <td>'Full-time'</td>\n",
       "      <td>3.5</td>\n",
       "      <td>Amazon Dev Center India - Hyd</td>\n",
       "      <td>Hyderabad, Telangana</td>\n",
       "      <td>https://in.indeed.com/rc/clk?jk=57386952bcc9ad...</td>\n",
       "      <td>\\n\\n2  years experience in program or project ...</td>\n",
       "    </tr>\n",
       "    <tr>\n",
       "      <th>1073</th>\n",
       "      <td>Associate, RES</td>\n",
       "      <td>None</td>\n",
       "      <td>Optimize analyst resources and ensure that all...</td>\n",
       "      <td></td>\n",
       "      <td>3.7</td>\n",
       "      <td>Gartner</td>\n",
       "      <td>Mumbai, Maharashtra</td>\n",
       "      <td>https://in.indeed.com/rc/clk?jk=2f15aac84d10c8...</td>\n",
       "      <td>\\nDescription\\nAbout the role: \\nProvide admin...</td>\n",
       "    </tr>\n",
       "    <tr>\n",
       "      <th>1074</th>\n",
       "      <td>Senior Analyst - Procurement Analytics</td>\n",
       "      <td>None</td>\n",
       "      <td>You will be working as a part of Procurement A...</td>\n",
       "      <td>'Full-time', 'Rotational shift'</td>\n",
       "      <td>4.0</td>\n",
       "      <td>Accenture</td>\n",
       "      <td>Hyderabad, Telangana</td>\n",
       "      <td>https://in.indeed.com/rc/clk?jk=c996b1de0238f3...</td>\n",
       "      <td>\\n\\nSkill required: Procurement Analytics - Ca...</td>\n",
       "    </tr>\n",
       "    <tr>\n",
       "      <th>1075</th>\n",
       "      <td>Data Science Sr Analyst</td>\n",
       "      <td>None</td>\n",
       "      <td>Show expertise for data at all levels: low-lat...</td>\n",
       "      <td></td>\n",
       "      <td>3.8</td>\n",
       "      <td>PepsiCo</td>\n",
       "      <td>None</td>\n",
       "      <td>https://in.indeed.com/rc/clk?jk=063ee815a04212...</td>\n",
       "      <td>\\n Responsibilities: \\n Main Purpose: \\n\\n Pep...</td>\n",
       "    </tr>\n",
       "    <tr>\n",
       "      <th>1076</th>\n",
       "      <td>Sr. Supply Chain Analyst</td>\n",
       "      <td>None</td>\n",
       "      <td>Communication - follow test protocols, how to ...</td>\n",
       "      <td>'Full-time'</td>\n",
       "      <td>3.8</td>\n",
       "      <td>Western Digital</td>\n",
       "      <td>Bengaluru, Karnataka</td>\n",
       "      <td>https://in.indeed.com/rc/clk?jk=7397d7fa90e177...</td>\n",
       "      <td>\\n Company Description\\n  The future. It’s on ...</td>\n",
       "    </tr>\n",
       "  </tbody>\n",
       "</table>\n",
       "<p>899 rows × 9 columns</p>\n",
       "</div>"
      ],
      "text/plain": [
       "                                            Job Title Salary Estimate  \\\n",
       "0                                     Sr Coal Analyst            None   \n",
       "1     Analyst/Senior Analyst-Accounting and Reporting            None   \n",
       "2                              Business Analyst - TMO            None   \n",
       "3                             IND Business Analyst II            None   \n",
       "4                                    Business Analyst            None   \n",
       "...                                               ...             ...   \n",
       "1072                                  Program Manager            None   \n",
       "1073                                   Associate, RES            None   \n",
       "1074           Senior Analyst - Procurement Analytics            None   \n",
       "1075                          Data Science Sr Analyst            None   \n",
       "1076                         Sr. Supply Chain Analyst            None   \n",
       "\n",
       "                                            Job Snippet  \\\n",
       "0     You will ensure that we embrace new technologi...   \n",
       "1     Analyst / Sr Analyst, Accounting and Reporting...   \n",
       "2     Develop project updates and internal communica...   \n",
       "3     Present financial data to the Business.\\nWorkd...   \n",
       "4     Experience with techniques such as use case an...   \n",
       "...                                                 ...   \n",
       "1072  Experience in handling big data with an hands ...   \n",
       "1073  Optimize analyst resources and ensure that all...   \n",
       "1074  You will be working as a part of Procurement A...   \n",
       "1075  Show expertise for data at all levels: low-lat...   \n",
       "1076  Communication - follow test protocols, how to ...   \n",
       "\n",
       "                             Job Type  Rating                   Company Name  \\\n",
       "0                         'Full-time'     4.0                 Wood Mackenzie   \n",
       "1                                         3.9       Colt Technology Services   \n",
       "2                         'Full-time'     3.9             Palo Alto Networks   \n",
       "3                                         3.1                         Alight   \n",
       "4                         'Full-time'     3.6                     Toll Group   \n",
       "...                               ...     ...                            ...   \n",
       "1072                      'Full-time'     3.5  Amazon Dev Center India - Hyd   \n",
       "1073                                      3.7                        Gartner   \n",
       "1074  'Full-time', 'Rotational shift'     4.0                      Accenture   \n",
       "1075                                      3.8                        PepsiCo   \n",
       "1076                      'Full-time'     3.8                Western Digital   \n",
       "\n",
       "                  Location                                              Links  \\\n",
       "0             Delhi, Delhi  https://in.indeed.com/rc/clk?jk=c9dd2495cb27e7...   \n",
       "1         Gurgaon, Haryana  https://in.indeed.com/rc/clk?jk=e17828ded29c1d...   \n",
       "2     Bengaluru, Karnataka  https://in.indeed.com/rc/clk?jk=3fd01db848de19...   \n",
       "3         Gurgaon, Haryana  https://in.indeed.com/rc/clk?jk=9351fe35129328...   \n",
       "4        Pune, Maharashtra  https://in.indeed.com/rc/clk?jk=67b47815612fb2...   \n",
       "...                    ...                                                ...   \n",
       "1072  Hyderabad, Telangana  https://in.indeed.com/rc/clk?jk=57386952bcc9ad...   \n",
       "1073   Mumbai, Maharashtra  https://in.indeed.com/rc/clk?jk=2f15aac84d10c8...   \n",
       "1074  Hyderabad, Telangana  https://in.indeed.com/rc/clk?jk=c996b1de0238f3...   \n",
       "1075                  None  https://in.indeed.com/rc/clk?jk=063ee815a04212...   \n",
       "1076  Bengaluru, Karnataka  https://in.indeed.com/rc/clk?jk=7397d7fa90e177...   \n",
       "\n",
       "                                        Job Description  \n",
       "0     \\n Company Description\\n  Wood Mackenzie is th...  \n",
       "1     \\nColt provides network, voice and data centre...  \n",
       "2     \\n Company Description\\n  Our Mission\\n At Pal...  \n",
       "3     \\nOur story:\\n\\n At Alight, we believe a compa...  \n",
       "4     \\n Company Description\\n  At Toll, we do more ...  \n",
       "...                                                 ...  \n",
       "1072  \\n\\n2  years experience in program or project ...  \n",
       "1073  \\nDescription\\nAbout the role: \\nProvide admin...  \n",
       "1074  \\n\\nSkill required: Procurement Analytics - Ca...  \n",
       "1075  \\n Responsibilities: \\n Main Purpose: \\n\\n Pep...  \n",
       "1076  \\n Company Description\\n  The future. It’s on ...  \n",
       "\n",
       "[899 rows x 9 columns]"
      ]
     },
     "execution_count": 308,
     "metadata": {},
     "output_type": "execute_result"
    }
   ],
   "source": [
    "df2"
   ]
  },
  {
   "cell_type": "code",
   "execution_count": 309,
   "id": "666a25f3-1775-432c-af3b-ddd739772b49",
   "metadata": {},
   "outputs": [
    {
     "name": "stdout",
     "output_type": "stream",
     "text": [
      "['', ' Company Description', '  Wood Mackenzie is the global leader in data, analysis and consulting across the energy, chemicals, metals, mining, power and renewables sectors.', ' Founded in 1973, our success has always been underpinned by the simple principle of providing trusted research and advice that makes a difference to our customers. Today we have over 2,000 customers ranging from the largest global energy companies and financial institutions to governments as well as smaller market specialists.', ' Our teams are located around the world. This enables us to stay closely connected with customers and the markets and sectors we cover. Collectively this allows us to offer a compelling combination of global commodity analysis with detailed local market knowledge.', ' We are committed to supporting our people to grow and thrive. We value different perspectives and aspire to create an inclusive environment that encourages diversity and fosters a sense of belonging. We are committed to creating a workplace that works for you and encourage everyone to get involved in our Wellness, Diversity and Inclusion, and Community Engagement initiatives. We actively support flexible working and are happy to consider alternative work patterns, taking into account your needs and the needs of the team or division that you are looking to join.', ' Hear what our team has to say about working with us:', ' https://www.woodmac.com/careers/our-people/', ' We are proud to be a part of the Verisk family of companies!', ' At the heart of what we do is help clients manage risk. Verisk (Nasdaq: VRSK) provides data and insights to our customers in insurance, energy and the financial services markets so they can make faster and more informed decisions.', ' Our global team uses AI, machine learning, automation, and other emerging technologies to collect and analyze billions of records. We provide advanced decision-support to prevent credit, lending, and cyber risks. In addition, we monitor and advise companies on complex global matters such as climate change, catastrophes, and geopolitical issues.', ' But why we do our work is what sets us apart. It stems from a commitment to making the world better, safer and stronger.', ' It’s the reason Verisk is part of the UN Global Compact sustainability initiative. It’s why we made a commitment to balancing 100 percent of our carbon emissions. It’s the aim of our “returnship” program for experienced professionals rejoining the workforce after time away. And, it’s what drives our annual Innovation Day, where we identify our next first-to-market innovations to solve our customers’ problems.', ' At its core, Verisk uses data to minimize risk and maximize value. But far bigger, is why we do what we do.', ' At Verisk you can build an exciting career with meaningful work; create positive and lasting impact on business; and find the support, coaching, and training you need to advance your career. We have received the Great Place to Work® Certification for the fifth consecutive year. We’ve been recognized by Forbes as a World’s Best Employer and a Best Employer for Women, testaments to our culture of engagement and the value we place on an inclusive and diverse workforce. Verisk’s Statement on Racial Equity and Diversity supports our commitment to these values and affecting positive and lasting change in the communities where we live and work.', '', ' #LI-MS1', '', '', '', ' Job Description', ' ', ' We are looking for a Senior Coal Analyst to join our Bulks Assets team. This role will be based in either Delhi or Mumbai, India, joining a global team of well-established experts. As part of the Metals and Mining Research Unit, the Bulks Assets team is responsible for delivering comprehensive research coverage of global coal, iron ore and steel assets, including analyses on production, costs, mining parameters and operational risks. Wood Mackenzie’s high-quality Bulks Assets research provides value to our clients, by providing a guide to the rapidly transitioning energy and natural resources sector and assisting clients in making the best commercial decisions to secure their business success.', ' Along with other analysts, you will be responsible for the coverage of the coal assets in Australia, India and Indonesia.', ' About the role', ' You will join a team of analysts and subject matter experts that provide comprehensive and thought-provoking research on the Coal mining industry. You will be adept at modelling coal assets and understanding the key metrics that feed the models. You will also form opinions on corporate strategies, business environment, project economics and government mining policy.', ' A key part of your role is to develop relationships with the Bulks natural resources community. These strong relationships will enable you to gather intelligence that will enrich the quality and timeliness of our research solutions. You will also become a go-to expert for clients and media. You will work closely with our sales and consulting colleagues in supporting clients. This will involve regularly sharing and presenting data and informed views on the coal mining sector and demonstrating how our insight and solutions help clients make better decisions.', ' You will be able to prioritise what matters to clients and the team and have regular interaction with senior business stakeholders. Your focus will be to champion change, fostering an open, innovative and dynamic team environment. You will ensure that we embrace new technologies and techniques to improve data processes and workflow. You will also work with client management and consulting to generate new research, sales and consulting opportunities.', ' #LI MS1', '', '', '', ' Qualifications', ' ', ' About you and how you can excel in this role', ' You are degree-qualified in a relevant discipline (Economics, Business, Mining, Geology, Engineering etc.) and have experience in the metals and mining and/or energy sectors. Your previous experience includes reviewing coal assets as well as conducting competitor analysis and benchmarking. You may also have experience in coal exploration, operational workflows and trade and marketing.', ' You also understand the big picture, which enables you to analyse and form clear and coherent conclusions from various datasets and pieces of information. You find it easy to communicate complex or technical information and deliver messages that are easily understood. You thrive in a collaborative, commercial and client-centric environment.', ' You have a thorough understanding of the Microsoft Office suite of products. Programming skills are also desirable.', ' You are thoughtful, intellectually curious, creative and comfortable presenting to public audiences and interacting with small groups of executives.', ' You have a proven track record of fostering strong working relationships, developing networks and influencing others. The way you work is productive and driven, striving to be the best in class. You often share ideas, find better ways of working and make things happen.', '', ' Additional Information', '  Verisk Analytics is an equal opportunity employer.', \" All members of the Verisk Analytics family of companies are equal opportunity employers. We consider all qualified applicants for employment without regard to race, religion, color, national origin, citizenship, sex, gender identity and/or expression, sexual orientation, veteran's status, age or disability.\", ' http://www.verisk.com/careers.html', ' Unsolicited resumes sent to Verisk, including unsolicited resumes sent to a Verisk business mailing address, fax machine or email address, or directly to Verisk employees, will be considered Verisk property. Verisk will NOT pay a fee for any placement resulting from the receipt of an unsolicited resume.', ' Consumer Privacy Notice', '']\n"
     ]
    }
   ],
   "source": [
    "l = df2[\"Job Description\"][0]\n",
    "p = l.split('\\n')\n",
    "print(p)"
   ]
  },
  {
   "cell_type": "code",
   "execution_count": 310,
   "id": "a6a4ffc2-cadc-4910-b0a2-992b16a94fcb",
   "metadata": {},
   "outputs": [
    {
     "name": "stdout",
     "output_type": "stream",
     "text": [
      "['100 percent of our carbon emissions. It’s the aim of our “returnship” program for experience']\n"
     ]
    }
   ],
   "source": [
    "import re\n",
    "for line in p:\n",
    "    y = re.findall('\\d+ .+ [Ee]xperience', line)\n",
    "    if y!= []:\n",
    "        print(y)"
   ]
  },
  {
   "cell_type": "code",
   "execution_count": 311,
   "id": "0c792fbf-7253-43bc-9b42-bfe07288f61d",
   "metadata": {},
   "outputs": [
    {
     "data": {
      "text/plain": [
       "(899, 9)"
      ]
     },
     "execution_count": 311,
     "metadata": {},
     "output_type": "execute_result"
    }
   ],
   "source": [
    "df2.shape"
   ]
  },
  {
   "cell_type": "code",
   "execution_count": 312,
   "id": "0d346d27-f0e2-448e-a690-7194d018ad46",
   "metadata": {},
   "outputs": [],
   "source": [
    "df2=df2.drop_duplicates()"
   ]
  },
  {
   "cell_type": "code",
   "execution_count": 313,
   "id": "e2495a7a-b2cd-4cda-b769-57bc843badc1",
   "metadata": {},
   "outputs": [],
   "source": [
    "df2.reset_index(drop=True, inplace=True)"
   ]
  },
  {
   "cell_type": "code",
   "execution_count": 314,
   "id": "3daa7d78-b574-4be4-a9db-2cd2e79895b8",
   "metadata": {},
   "outputs": [
    {
     "data": {
      "text/plain": [
       "(843, 9)"
      ]
     },
     "execution_count": 314,
     "metadata": {},
     "output_type": "execute_result"
    }
   ],
   "source": [
    "df2.shape"
   ]
  },
  {
   "cell_type": "code",
   "execution_count": 7,
   "id": "202e1e8f-999f-4ae4-b809-93607e3e3c5e",
   "metadata": {},
   "outputs": [
    {
     "ename": "NameError",
     "evalue": "name 'df2' is not defined",
     "output_type": "error",
     "traceback": [
      "\u001b[1;31m---------------------------------------------------------------------------\u001b[0m",
      "\u001b[1;31mNameError\u001b[0m                                 Traceback (most recent call last)",
      "Cell \u001b[1;32mIn [7], line 1\u001b[0m\n\u001b[1;32m----> 1\u001b[0m \u001b[43mdf2\u001b[49m\u001b[38;5;241m.\u001b[39mshape\n",
      "\u001b[1;31mNameError\u001b[0m: name 'df2' is not defined"
     ]
    }
   ],
   "source": [
    "df2.shape"
   ]
  },
  {
   "cell_type": "code",
   "execution_count": 315,
   "id": "bd37c44a-e4be-4fb7-bdaf-53358ab5ab3b",
   "metadata": {},
   "outputs": [
    {
     "data": {
      "text/plain": [
       "₹12,00,000 - ₹15,00,000 a year    3\n",
       "₹10,00,000 - ₹15,00,000 a year    2\n",
       "₹23,00,000 a year                 1\n",
       "₹3,00,000 - ₹8,00,000 a year      1\n",
       "₹20,000 - ₹30,000 a month         1\n",
       "₹30 an hour                       1\n",
       "Up to ₹3,60,000 a year            1\n",
       "₹4,80,000 a year                  1\n",
       "From ₹32,00,000 a year            1\n",
       "₹30,000 - ₹55,000 a month         1\n",
       "₹2,00,000 - ₹4,00,000 a year      1\n",
       "₹16,00,000 - ₹22,00,000 a year    1\n",
       "₹4,00,000 - ₹6,00,000 a year      1\n",
       "₹3,00,000 - ₹5,00,000 a year      1\n",
       "₹9,00,000 a year                  1\n",
       "₹1,50,000 - ₹5,00,000 a month     1\n",
       "₹15,00,000 - ₹25,00,000 a year    1\n",
       "₹21,00,000 - ₹35,00,000 a year    1\n",
       "₹50,000 - ₹1,25,000 a year        1\n",
       "₹10,00,000 - ₹17,00,000 a year    1\n",
       "₹7,00,000 - ₹9,00,000 a year      1\n",
       "From ₹33,000 a month              1\n",
       "₹5,00,000 - ₹12,00,000 a year     1\n",
       "₹7,50,000 - ₹12,00,000 a year     1\n",
       "₹6,00,000 - ₹9,00,000 a year      1\n",
       "₹2,50,000 - ₹8,00,000 a year      1\n",
       "₹10,00,000 - ₹20,00,000 a year    1\n",
       "Up to ₹4,00,000 a year            1\n",
       "₹3,50,000 - ₹7,50,000 a year      1\n",
       "₹5,00,000 - ₹25,00,000 a year     1\n",
       "₹18,241 - ₹25,793 a month         1\n",
       "₹40,000 - ₹45,000 a month         1\n",
       "₹10,00,000 a year                 1\n",
       "₹7,00,000 - ₹20,00,000 a year     1\n",
       "₹3,19,586 - ₹14,26,568 a year     1\n",
       "₹2,40,000 - ₹4,80,000 a year      1\n",
       "From ₹5,000 a month               1\n",
       "₹12,00,000 - ₹16,00,000 a year    1\n",
       "₹20,00,000 - ₹23,00,000 a year    1\n",
       "₹8,00,000 - ₹13,00,000 a year     1\n",
       "₹20,00,000 - ₹25,00,000 a year    1\n",
       "Up to ₹5,50,000 a year            1\n",
       "₹25,000 - ₹50,000 a month         1\n",
       "₹25,000 - ₹45,000 a month         1\n",
       "₹3,00,000 - ₹4,00,000 a year      1\n",
       "₹2,00,000 - ₹5,00,000 a year      1\n",
       "₹20,00,000 - ₹30,00,000 a year    1\n",
       "₹5,27,913 - ₹16,33,059 a year     1\n",
       "Name: Salary Estimate, dtype: int64"
      ]
     },
     "execution_count": 315,
     "metadata": {},
     "output_type": "execute_result"
    }
   ],
   "source": [
    "df2['Salary Estimate'].value_counts()"
   ]
  },
  {
   "cell_type": "code",
   "execution_count": 316,
   "id": "b9599429-c19a-4cfb-9520-3ce564418a23",
   "metadata": {},
   "outputs": [
    {
     "name": "stderr",
     "output_type": "stream",
     "text": [
      "C:\\Users\\Kaveri\\AppData\\Local\\Temp\\ipykernel_6936\\1734485250.py:1: SettingWithCopyWarning: \n",
      "A value is trying to be set on a copy of a slice from a DataFrame.\n",
      "Try using .loc[row_indexer,col_indexer] = value instead\n",
      "\n",
      "See the caveats in the documentation: https://pandas.pydata.org/pandas-docs/stable/user_guide/indexing.html#returning-a-view-versus-a-copy\n",
      "  df2['Salary Estimate'] = df2['Salary Estimate'].str.replace('\\n', '')\n",
      "C:\\Users\\Kaveri\\AppData\\Local\\Temp\\ipykernel_6936\\1734485250.py:2: SettingWithCopyWarning: \n",
      "A value is trying to be set on a copy of a slice from a DataFrame.\n",
      "Try using .loc[row_indexer,col_indexer] = value instead\n",
      "\n",
      "See the caveats in the documentation: https://pandas.pydata.org/pandas-docs/stable/user_guide/indexing.html#returning-a-view-versus-a-copy\n",
      "  df2['Salary Estimate'] = df2['Salary Estimate'].str.replace(',', '')\n",
      "C:\\Users\\Kaveri\\AppData\\Local\\Temp\\ipykernel_6936\\1734485250.py:3: SettingWithCopyWarning: \n",
      "A value is trying to be set on a copy of a slice from a DataFrame.\n",
      "Try using .loc[row_indexer,col_indexer] = value instead\n",
      "\n",
      "See the caveats in the documentation: https://pandas.pydata.org/pandas-docs/stable/user_guide/indexing.html#returning-a-view-versus-a-copy\n",
      "  df2['Salary Estimate'] = df2['Salary Estimate'].str.replace('₹','')\n"
     ]
    }
   ],
   "source": [
    "df2['Salary Estimate'] = df2['Salary Estimate'].str.replace('\\n', '')\n",
    "df2['Salary Estimate'] = df2['Salary Estimate'].str.replace(',', '')\n",
    "df2['Salary Estimate'] = df2['Salary Estimate'].str.replace('₹','')"
   ]
  },
  {
   "cell_type": "code",
   "execution_count": 317,
   "id": "579a2c48-7b30-4ba2-ae44-7abda3aa26e7",
   "metadata": {},
   "outputs": [
    {
     "data": {
      "text/plain": [
       "1200000 - 1500000 a year    3\n",
       "1000000 - 1500000 a year    2\n",
       "2300000 a year              1\n",
       "300000 - 800000 a year      1\n",
       "20000 - 30000 a month       1\n",
       "30 an hour                  1\n",
       "Up to 360000 a year         1\n",
       "480000 a year               1\n",
       "From 3200000 a year         1\n",
       "30000 - 55000 a month       1\n",
       "200000 - 400000 a year      1\n",
       "1600000 - 2200000 a year    1\n",
       "400000 - 600000 a year      1\n",
       "300000 - 500000 a year      1\n",
       "900000 a year               1\n",
       "150000 - 500000 a month     1\n",
       "1500000 - 2500000 a year    1\n",
       "2100000 - 3500000 a year    1\n",
       "50000 - 125000 a year       1\n",
       "1000000 - 1700000 a year    1\n",
       "700000 - 900000 a year      1\n",
       "From 33000 a month          1\n",
       "500000 - 1200000 a year     1\n",
       "750000 - 1200000 a year     1\n",
       "600000 - 900000 a year      1\n",
       "250000 - 800000 a year      1\n",
       "1000000 - 2000000 a year    1\n",
       "Up to 400000 a year         1\n",
       "350000 - 750000 a year      1\n",
       "500000 - 2500000 a year     1\n",
       "18241 - 25793 a month       1\n",
       "40000 - 45000 a month       1\n",
       "1000000 a year              1\n",
       "700000 - 2000000 a year     1\n",
       "319586 - 1426568 a year     1\n",
       "240000 - 480000 a year      1\n",
       "From 5000 a month           1\n",
       "1200000 - 1600000 a year    1\n",
       "2000000 - 2300000 a year    1\n",
       "800000 - 1300000 a year     1\n",
       "2000000 - 2500000 a year    1\n",
       "Up to 550000 a year         1\n",
       "25000 - 50000 a month       1\n",
       "25000 - 45000 a month       1\n",
       "300000 - 400000 a year      1\n",
       "200000 - 500000 a year      1\n",
       "2000000 - 3000000 a year    1\n",
       "527913 - 1633059 a year     1\n",
       "Name: Salary Estimate, dtype: int64"
      ]
     },
     "execution_count": 317,
     "metadata": {},
     "output_type": "execute_result"
    }
   ],
   "source": [
    "df2['Salary Estimate'].value_counts()"
   ]
  },
  {
   "cell_type": "code",
   "execution_count": null,
   "id": "402eac94-f290-48d2-9f3c-d074546795bf",
   "metadata": {},
   "outputs": [],
   "source": [
    "\n"
   ]
  },
  {
   "cell_type": "code",
   "execution_count": 318,
   "id": "10f20632-e7c2-44ce-97e7-4ae099a9d071",
   "metadata": {},
   "outputs": [
    {
     "name": "stdout",
     "output_type": "stream",
     "text": [
      "Job Title           object\n",
      "Salary Estimate     object\n",
      "Job Snippet         object\n",
      "Job Type            object\n",
      "Rating             float64\n",
      "Company Name        object\n",
      "Location            object\n",
      "Links               object\n",
      "Job Description     object\n",
      "dtype: object\n"
     ]
    },
    {
     "name": "stderr",
     "output_type": "stream",
     "text": [
      "C:\\Users\\Kaveri\\AppData\\Local\\Temp\\ipykernel_6936\\3065894333.py:1: SettingWithCopyWarning: \n",
      "A value is trying to be set on a copy of a slice from a DataFrame.\n",
      "Try using .loc[row_indexer,col_indexer] = value instead\n",
      "\n",
      "See the caveats in the documentation: https://pandas.pydata.org/pandas-docs/stable/user_guide/indexing.html#returning-a-view-versus-a-copy\n",
      "  df2['Salary Estimate'] = df2['Salary Estimate'].astype(str)\n"
     ]
    }
   ],
   "source": [
    "\n",
    "df2['Salary Estimate'] = df2['Salary Estimate'].astype(str) \n",
    "\n",
    "print(df2.dtypes)"
   ]
  },
  {
   "cell_type": "code",
   "execution_count": 319,
   "id": "cff9d56e-5809-4a45-a381-c3d62e00175b",
   "metadata": {},
   "outputs": [
    {
     "name": "stderr",
     "output_type": "stream",
     "text": [
      "C:\\Users\\Kaveri\\AppData\\Local\\Temp\\ipykernel_6936\\2646013535.py:1: SettingWithCopyWarning: \n",
      "A value is trying to be set on a copy of a slice from a DataFrame.\n",
      "Try using .loc[row_indexer,col_indexer] = value instead\n",
      "\n",
      "See the caveats in the documentation: https://pandas.pydata.org/pandas-docs/stable/user_guide/indexing.html#returning-a-view-versus-a-copy\n",
      "  df2['salary_period'] = np.nan\n"
     ]
    },
    {
     "ename": "AttributeError",
     "evalue": "'Series' object has no attribute 'contains'",
     "output_type": "error",
     "traceback": [
      "\u001b[1;31m---------------------------------------------------------------------------\u001b[0m",
      "\u001b[1;31mAttributeError\u001b[0m                            Traceback (most recent call last)",
      "Cell \u001b[1;32mIn [319], line 3\u001b[0m\n\u001b[0;32m      1\u001b[0m df2[\u001b[38;5;124m'\u001b[39m\u001b[38;5;124msalary_period\u001b[39m\u001b[38;5;124m'\u001b[39m] \u001b[38;5;241m=\u001b[39m np\u001b[38;5;241m.\u001b[39mnan\n\u001b[1;32m----> 3\u001b[0m df2\u001b[38;5;241m.\u001b[39miloc[\u001b[43mdf2\u001b[49m\u001b[43m[\u001b[49m\u001b[38;5;124;43m'\u001b[39;49m\u001b[38;5;124;43mSalary Estimate\u001b[39;49m\u001b[38;5;124;43m'\u001b[39;49m\u001b[43m]\u001b[49m\u001b[38;5;241;43m.\u001b[39;49m\u001b[43mcontains\u001b[49m(\u001b[38;5;124m'\u001b[39m\u001b[38;5;124m year\u001b[39m\u001b[38;5;124m'\u001b[39m),\u001b[38;5;124m'\u001b[39m\u001b[38;5;124msalary_period\u001b[39m\u001b[38;5;124m'\u001b[39m] \u001b[38;5;241m=\u001b[39m \u001b[38;5;124m'\u001b[39m\u001b[38;5;124myear\u001b[39m\u001b[38;5;124m'\u001b[39m\n\u001b[0;32m      4\u001b[0m df2\u001b[38;5;241m.\u001b[39miloc[df2[\u001b[38;5;124m'\u001b[39m\u001b[38;5;124mSalary Estimate\u001b[39m\u001b[38;5;124m'\u001b[39m]\u001b[38;5;241m.\u001b[39mcontains(\u001b[38;5;124m'\u001b[39m\u001b[38;5;124mmonth\u001b[39m\u001b[38;5;124m'\u001b[39m), \u001b[38;5;124m'\u001b[39m\u001b[38;5;124msalary_period\u001b[39m\u001b[38;5;124m'\u001b[39m] \u001b[38;5;241m=\u001b[39m \u001b[38;5;124m'\u001b[39m\u001b[38;5;124mmonth\u001b[39m\u001b[38;5;124m'\u001b[39m\n",
      "File \u001b[1;32m~\\AppData\\Local\\Programs\\Python\\Python310\\lib\\site-packages\\pandas\\core\\generic.py:5907\u001b[0m, in \u001b[0;36mNDFrame.__getattr__\u001b[1;34m(self, name)\u001b[0m\n\u001b[0;32m   5900\u001b[0m \u001b[38;5;28;01mif\u001b[39;00m (\n\u001b[0;32m   5901\u001b[0m     name \u001b[38;5;129;01mnot\u001b[39;00m \u001b[38;5;129;01min\u001b[39;00m \u001b[38;5;28mself\u001b[39m\u001b[38;5;241m.\u001b[39m_internal_names_set\n\u001b[0;32m   5902\u001b[0m     \u001b[38;5;129;01mand\u001b[39;00m name \u001b[38;5;129;01mnot\u001b[39;00m \u001b[38;5;129;01min\u001b[39;00m \u001b[38;5;28mself\u001b[39m\u001b[38;5;241m.\u001b[39m_metadata\n\u001b[0;32m   5903\u001b[0m     \u001b[38;5;129;01mand\u001b[39;00m name \u001b[38;5;129;01mnot\u001b[39;00m \u001b[38;5;129;01min\u001b[39;00m \u001b[38;5;28mself\u001b[39m\u001b[38;5;241m.\u001b[39m_accessors\n\u001b[0;32m   5904\u001b[0m     \u001b[38;5;129;01mand\u001b[39;00m \u001b[38;5;28mself\u001b[39m\u001b[38;5;241m.\u001b[39m_info_axis\u001b[38;5;241m.\u001b[39m_can_hold_identifiers_and_holds_name(name)\n\u001b[0;32m   5905\u001b[0m ):\n\u001b[0;32m   5906\u001b[0m     \u001b[38;5;28;01mreturn\u001b[39;00m \u001b[38;5;28mself\u001b[39m[name]\n\u001b[1;32m-> 5907\u001b[0m \u001b[38;5;28;01mreturn\u001b[39;00m \u001b[38;5;28;43mobject\u001b[39;49m\u001b[38;5;241;43m.\u001b[39;49m\u001b[38;5;21;43m__getattribute__\u001b[39;49m\u001b[43m(\u001b[49m\u001b[38;5;28;43mself\u001b[39;49m\u001b[43m,\u001b[49m\u001b[43m \u001b[49m\u001b[43mname\u001b[49m\u001b[43m)\u001b[49m\n",
      "\u001b[1;31mAttributeError\u001b[0m: 'Series' object has no attribute 'contains'"
     ]
    }
   ],
   "source": [
    "df2['salary_period'] = np.nan\n",
    "\n",
    "df2.iloc[df2['Salary Estimate'].contains(' year'),'salary_period'] = 'year'\n",
    "df2.iloc[df2['Salary Estimate'].contains('month'), 'salary_period'] = 'month'\n"
   ]
  },
  {
   "cell_type": "code",
   "execution_count": 320,
   "id": "12bea4af-40aa-4ce0-9884-66af109bb4a8",
   "metadata": {},
   "outputs": [
    {
     "data": {
      "text/html": [
       "<div>\n",
       "<style scoped>\n",
       "    .dataframe tbody tr th:only-of-type {\n",
       "        vertical-align: middle;\n",
       "    }\n",
       "\n",
       "    .dataframe tbody tr th {\n",
       "        vertical-align: top;\n",
       "    }\n",
       "\n",
       "    .dataframe thead th {\n",
       "        text-align: right;\n",
       "    }\n",
       "</style>\n",
       "<table border=\"1\" class=\"dataframe\">\n",
       "  <thead>\n",
       "    <tr style=\"text-align: right;\">\n",
       "      <th></th>\n",
       "      <th>Job Title</th>\n",
       "      <th>Salary Estimate</th>\n",
       "      <th>Job Snippet</th>\n",
       "      <th>Job Type</th>\n",
       "      <th>Rating</th>\n",
       "      <th>Company Name</th>\n",
       "      <th>Location</th>\n",
       "      <th>Links</th>\n",
       "      <th>Job Description</th>\n",
       "      <th>salary_period</th>\n",
       "    </tr>\n",
       "  </thead>\n",
       "  <tbody>\n",
       "    <tr>\n",
       "      <th>0</th>\n",
       "      <td>Sr Coal Analyst</td>\n",
       "      <td>None</td>\n",
       "      <td>You will ensure that we embrace new technologi...</td>\n",
       "      <td>'Full-time'</td>\n",
       "      <td>4.0</td>\n",
       "      <td>Wood Mackenzie</td>\n",
       "      <td>Delhi, Delhi</td>\n",
       "      <td>https://in.indeed.com/rc/clk?jk=c9dd2495cb27e7...</td>\n",
       "      <td>\\n Company Description\\n  Wood Mackenzie is th...</td>\n",
       "      <td>NaN</td>\n",
       "    </tr>\n",
       "    <tr>\n",
       "      <th>1</th>\n",
       "      <td>Analyst/Senior Analyst-Accounting and Reporting</td>\n",
       "      <td>None</td>\n",
       "      <td>Analyst / Sr Analyst, Accounting and Reporting...</td>\n",
       "      <td></td>\n",
       "      <td>3.9</td>\n",
       "      <td>Colt Technology Services</td>\n",
       "      <td>Gurgaon, Haryana</td>\n",
       "      <td>https://in.indeed.com/rc/clk?jk=e17828ded29c1d...</td>\n",
       "      <td>\\nColt provides network, voice and data centre...</td>\n",
       "      <td>NaN</td>\n",
       "    </tr>\n",
       "    <tr>\n",
       "      <th>2</th>\n",
       "      <td>Business Analyst - TMO</td>\n",
       "      <td>None</td>\n",
       "      <td>Develop project updates and internal communica...</td>\n",
       "      <td>'Full-time'</td>\n",
       "      <td>3.9</td>\n",
       "      <td>Palo Alto Networks</td>\n",
       "      <td>Bengaluru, Karnataka</td>\n",
       "      <td>https://in.indeed.com/rc/clk?jk=3fd01db848de19...</td>\n",
       "      <td>\\n Company Description\\n  Our Mission\\n At Pal...</td>\n",
       "      <td>NaN</td>\n",
       "    </tr>\n",
       "    <tr>\n",
       "      <th>3</th>\n",
       "      <td>IND Business Analyst II</td>\n",
       "      <td>None</td>\n",
       "      <td>Present financial data to the Business.\\nWorkd...</td>\n",
       "      <td></td>\n",
       "      <td>3.1</td>\n",
       "      <td>Alight</td>\n",
       "      <td>Gurgaon, Haryana</td>\n",
       "      <td>https://in.indeed.com/rc/clk?jk=9351fe35129328...</td>\n",
       "      <td>\\nOur story:\\n\\n At Alight, we believe a compa...</td>\n",
       "      <td>NaN</td>\n",
       "    </tr>\n",
       "    <tr>\n",
       "      <th>4</th>\n",
       "      <td>Business Analyst</td>\n",
       "      <td>None</td>\n",
       "      <td>Experience with techniques such as use case an...</td>\n",
       "      <td>'Full-time'</td>\n",
       "      <td>3.6</td>\n",
       "      <td>Toll Group</td>\n",
       "      <td>Pune, Maharashtra</td>\n",
       "      <td>https://in.indeed.com/rc/clk?jk=67b47815612fb2...</td>\n",
       "      <td>\\n Company Description\\n  At Toll, we do more ...</td>\n",
       "      <td>NaN</td>\n",
       "    </tr>\n",
       "    <tr>\n",
       "      <th>...</th>\n",
       "      <td>...</td>\n",
       "      <td>...</td>\n",
       "      <td>...</td>\n",
       "      <td>...</td>\n",
       "      <td>...</td>\n",
       "      <td>...</td>\n",
       "      <td>...</td>\n",
       "      <td>...</td>\n",
       "      <td>...</td>\n",
       "      <td>...</td>\n",
       "    </tr>\n",
       "    <tr>\n",
       "      <th>838</th>\n",
       "      <td>Program Manager</td>\n",
       "      <td>None</td>\n",
       "      <td>Experience in handling big data with an hands ...</td>\n",
       "      <td>'Full-time'</td>\n",
       "      <td>3.5</td>\n",
       "      <td>Amazon Dev Center India - Hyd</td>\n",
       "      <td>Hyderabad, Telangana</td>\n",
       "      <td>https://in.indeed.com/rc/clk?jk=57386952bcc9ad...</td>\n",
       "      <td>\\n\\n2  years experience in program or project ...</td>\n",
       "      <td>NaN</td>\n",
       "    </tr>\n",
       "    <tr>\n",
       "      <th>839</th>\n",
       "      <td>Associate, RES</td>\n",
       "      <td>None</td>\n",
       "      <td>Optimize analyst resources and ensure that all...</td>\n",
       "      <td></td>\n",
       "      <td>3.7</td>\n",
       "      <td>Gartner</td>\n",
       "      <td>Mumbai, Maharashtra</td>\n",
       "      <td>https://in.indeed.com/rc/clk?jk=2f15aac84d10c8...</td>\n",
       "      <td>\\nDescription\\nAbout the role: \\nProvide admin...</td>\n",
       "      <td>NaN</td>\n",
       "    </tr>\n",
       "    <tr>\n",
       "      <th>840</th>\n",
       "      <td>Senior Analyst - Procurement Analytics</td>\n",
       "      <td>None</td>\n",
       "      <td>You will be working as a part of Procurement A...</td>\n",
       "      <td>'Full-time', 'Rotational shift'</td>\n",
       "      <td>4.0</td>\n",
       "      <td>Accenture</td>\n",
       "      <td>Hyderabad, Telangana</td>\n",
       "      <td>https://in.indeed.com/rc/clk?jk=c996b1de0238f3...</td>\n",
       "      <td>\\n\\nSkill required: Procurement Analytics - Ca...</td>\n",
       "      <td>NaN</td>\n",
       "    </tr>\n",
       "    <tr>\n",
       "      <th>841</th>\n",
       "      <td>Data Science Sr Analyst</td>\n",
       "      <td>None</td>\n",
       "      <td>Show expertise for data at all levels: low-lat...</td>\n",
       "      <td></td>\n",
       "      <td>3.8</td>\n",
       "      <td>PepsiCo</td>\n",
       "      <td>None</td>\n",
       "      <td>https://in.indeed.com/rc/clk?jk=063ee815a04212...</td>\n",
       "      <td>\\n Responsibilities: \\n Main Purpose: \\n\\n Pep...</td>\n",
       "      <td>NaN</td>\n",
       "    </tr>\n",
       "    <tr>\n",
       "      <th>842</th>\n",
       "      <td>Sr. Supply Chain Analyst</td>\n",
       "      <td>None</td>\n",
       "      <td>Communication - follow test protocols, how to ...</td>\n",
       "      <td>'Full-time'</td>\n",
       "      <td>3.8</td>\n",
       "      <td>Western Digital</td>\n",
       "      <td>Bengaluru, Karnataka</td>\n",
       "      <td>https://in.indeed.com/rc/clk?jk=7397d7fa90e177...</td>\n",
       "      <td>\\n Company Description\\n  The future. It’s on ...</td>\n",
       "      <td>NaN</td>\n",
       "    </tr>\n",
       "  </tbody>\n",
       "</table>\n",
       "<p>843 rows × 10 columns</p>\n",
       "</div>"
      ],
      "text/plain": [
       "                                           Job Title Salary Estimate  \\\n",
       "0                                    Sr Coal Analyst            None   \n",
       "1    Analyst/Senior Analyst-Accounting and Reporting            None   \n",
       "2                             Business Analyst - TMO            None   \n",
       "3                            IND Business Analyst II            None   \n",
       "4                                   Business Analyst            None   \n",
       "..                                               ...             ...   \n",
       "838                                  Program Manager            None   \n",
       "839                                   Associate, RES            None   \n",
       "840           Senior Analyst - Procurement Analytics            None   \n",
       "841                          Data Science Sr Analyst            None   \n",
       "842                         Sr. Supply Chain Analyst            None   \n",
       "\n",
       "                                           Job Snippet  \\\n",
       "0    You will ensure that we embrace new technologi...   \n",
       "1    Analyst / Sr Analyst, Accounting and Reporting...   \n",
       "2    Develop project updates and internal communica...   \n",
       "3    Present financial data to the Business.\\nWorkd...   \n",
       "4    Experience with techniques such as use case an...   \n",
       "..                                                 ...   \n",
       "838  Experience in handling big data with an hands ...   \n",
       "839  Optimize analyst resources and ensure that all...   \n",
       "840  You will be working as a part of Procurement A...   \n",
       "841  Show expertise for data at all levels: low-lat...   \n",
       "842  Communication - follow test protocols, how to ...   \n",
       "\n",
       "                            Job Type  Rating                   Company Name  \\\n",
       "0                        'Full-time'     4.0                 Wood Mackenzie   \n",
       "1                                        3.9       Colt Technology Services   \n",
       "2                        'Full-time'     3.9             Palo Alto Networks   \n",
       "3                                        3.1                         Alight   \n",
       "4                        'Full-time'     3.6                     Toll Group   \n",
       "..                               ...     ...                            ...   \n",
       "838                      'Full-time'     3.5  Amazon Dev Center India - Hyd   \n",
       "839                                      3.7                        Gartner   \n",
       "840  'Full-time', 'Rotational shift'     4.0                      Accenture   \n",
       "841                                      3.8                        PepsiCo   \n",
       "842                      'Full-time'     3.8                Western Digital   \n",
       "\n",
       "                 Location                                              Links  \\\n",
       "0            Delhi, Delhi  https://in.indeed.com/rc/clk?jk=c9dd2495cb27e7...   \n",
       "1        Gurgaon, Haryana  https://in.indeed.com/rc/clk?jk=e17828ded29c1d...   \n",
       "2    Bengaluru, Karnataka  https://in.indeed.com/rc/clk?jk=3fd01db848de19...   \n",
       "3        Gurgaon, Haryana  https://in.indeed.com/rc/clk?jk=9351fe35129328...   \n",
       "4       Pune, Maharashtra  https://in.indeed.com/rc/clk?jk=67b47815612fb2...   \n",
       "..                    ...                                                ...   \n",
       "838  Hyderabad, Telangana  https://in.indeed.com/rc/clk?jk=57386952bcc9ad...   \n",
       "839   Mumbai, Maharashtra  https://in.indeed.com/rc/clk?jk=2f15aac84d10c8...   \n",
       "840  Hyderabad, Telangana  https://in.indeed.com/rc/clk?jk=c996b1de0238f3...   \n",
       "841                  None  https://in.indeed.com/rc/clk?jk=063ee815a04212...   \n",
       "842  Bengaluru, Karnataka  https://in.indeed.com/rc/clk?jk=7397d7fa90e177...   \n",
       "\n",
       "                                       Job Description  salary_period  \n",
       "0    \\n Company Description\\n  Wood Mackenzie is th...            NaN  \n",
       "1    \\nColt provides network, voice and data centre...            NaN  \n",
       "2    \\n Company Description\\n  Our Mission\\n At Pal...            NaN  \n",
       "3    \\nOur story:\\n\\n At Alight, we believe a compa...            NaN  \n",
       "4    \\n Company Description\\n  At Toll, we do more ...            NaN  \n",
       "..                                                 ...            ...  \n",
       "838  \\n\\n2  years experience in program or project ...            NaN  \n",
       "839  \\nDescription\\nAbout the role: \\nProvide admin...            NaN  \n",
       "840  \\n\\nSkill required: Procurement Analytics - Ca...            NaN  \n",
       "841  \\n Responsibilities: \\n Main Purpose: \\n\\n Pep...            NaN  \n",
       "842  \\n Company Description\\n  The future. It’s on ...            NaN  \n",
       "\n",
       "[843 rows x 10 columns]"
      ]
     },
     "execution_count": 320,
     "metadata": {},
     "output_type": "execute_result"
    }
   ],
   "source": [
    "df2"
   ]
  },
  {
   "cell_type": "code",
   "execution_count": 321,
   "id": "476dee4d-5856-493a-aec4-bc91e5e7cebd",
   "metadata": {},
   "outputs": [],
   "source": [
    "df3=df2"
   ]
  },
  {
   "cell_type": "code",
   "execution_count": 322,
   "id": "41535383-ff25-43d2-9268-c490f792f04a",
   "metadata": {},
   "outputs": [],
   "source": [
    "def split_sal(i):\n",
    " try:\n",
    "   splt = i.split(' — ',1)\n",
    "   first = float(splt[0])\n",
    "   second = float(splt[1])\n",
    "   return (first + second)/2\n",
    " except:\n",
    "   return float(i)"
   ]
  },
  {
   "cell_type": "code",
   "execution_count": null,
   "id": "f16a166d-94b4-49e1-a047-638d232fab3c",
   "metadata": {},
   "outputs": [],
   "source": []
  },
  {
   "cell_type": "code",
   "execution_count": 323,
   "id": "e37c1e30-6b6d-41d2-8e14-ce7826af1cfd",
   "metadata": {},
   "outputs": [
    {
     "data": {
      "text/plain": [
       "0      \\n Company Description\\n  Wood Mackenzie is th...\n",
       "1      \\nColt provides network, voice and data centre...\n",
       "2      \\n Company Description\\n  Our Mission\\n At Pal...\n",
       "3      \\nOur story:\\n\\n At Alight, we believe a compa...\n",
       "4      \\n Company Description\\n  At Toll, we do more ...\n",
       "                             ...                        \n",
       "838    \\n\\n2  years experience in program or project ...\n",
       "839    \\nDescription\\nAbout the role: \\nProvide admin...\n",
       "840    \\n\\nSkill required: Procurement Analytics - Ca...\n",
       "841    \\n Responsibilities: \\n Main Purpose: \\n\\n Pep...\n",
       "842    \\n Company Description\\n  The future. It’s on ...\n",
       "Name: Job Description, Length: 843, dtype: object"
      ]
     },
     "execution_count": 323,
     "metadata": {},
     "output_type": "execute_result"
    }
   ],
   "source": [
    " df2['Job Description']"
   ]
  },
  {
   "cell_type": "code",
   "execution_count": 9,
   "id": "f1ba5f0e-f49e-4e6a-aae1-7e98e4a44b19",
   "metadata": {},
   "outputs": [],
   "source": [
    "def desc(i):\n",
    "    l = df2[\"Job Description\"][i]\n",
    "    p = l.split('\\n')\n",
    "    return p"
   ]
  },
  {
   "cell_type": "code",
   "execution_count": 355,
   "id": "638ab7ff-a3ad-4f24-b9ab-69cb49dca3a8",
   "metadata": {},
   "outputs": [],
   "source": [
    "exp=[]"
   ]
  },
  {
   "cell_type": "code",
   "execution_count": 8,
   "id": "368e3c8a-7481-4226-9004-ebddea834070",
   "metadata": {},
   "outputs": [
    {
     "ename": "NameError",
     "evalue": "name 'desc' is not defined",
     "output_type": "error",
     "traceback": [
      "\u001b[1;31m---------------------------------------------------------------------------\u001b[0m",
      "\u001b[1;31mNameError\u001b[0m                                 Traceback (most recent call last)",
      "Cell \u001b[1;32mIn [8], line 2\u001b[0m\n\u001b[0;32m      1\u001b[0m \u001b[38;5;28;01mfor\u001b[39;00m i \u001b[38;5;129;01min\u001b[39;00m \u001b[38;5;28mrange\u001b[39m(\u001b[38;5;241m0\u001b[39m,\u001b[38;5;241m843\u001b[39m):\n\u001b[1;32m----> 2\u001b[0m     p\u001b[38;5;241m=\u001b[39m\u001b[43mdesc\u001b[49m(i)\n\u001b[0;32m      3\u001b[0m     \u001b[38;5;28;01mfor\u001b[39;00m line \u001b[38;5;129;01min\u001b[39;00m p:\n\u001b[0;32m      4\u001b[0m         y \u001b[38;5;241m=\u001b[39m re\u001b[38;5;241m.\u001b[39mfindall(\u001b[38;5;124m'\u001b[39m\u001b[38;5;124m\\\u001b[39m\u001b[38;5;124md+ .+ [Ee]xperience\u001b[39m\u001b[38;5;124m'\u001b[39m, line)\n",
      "\u001b[1;31mNameError\u001b[0m: name 'desc' is not defined"
     ]
    }
   ],
   "source": [
    "for i in range(0,843):\n",
    "    p=desc(i)\n",
    "    for line in p:\n",
    "        y = re.findall('\\d+ .+ [Ee]xperience', line)\n",
    "        if y!= []:\n",
    "            exp.append(y)\n",
    "      "
   ]
  },
  {
   "cell_type": "code",
   "execution_count": 357,
   "id": "7018694b-5b2b-48c8-80ca-42c28703ab97",
   "metadata": {},
   "outputs": [
    {
     "data": {
      "text/plain": [
       "[['100 percent of our carbon emissions. It’s the aim of our “returnship” program for experience'],\n",
       " ['5 years’ experience'],\n",
       " ['3  years of progressive experience managing projects and process improvements within the Finance function with 2  years’ experience with Finance Transformation related experience'],\n",
       " ['3  years of finance experience'],\n",
       " ['000 team members can help solve any logistics, transport, or supply chain challenge – big or small. We have been supporting our customers for more than 130 years. Today, we support more than 20,000 customers worldwide with 500 sites in 25 countries, and a forwarding network spanning 150 countries.  Play an important role in our strategic journey at Toll Technology Centre (TTC) in Pune, India. As a progressive technology hub, we strive to continuously improve how we work. As a progressive technology hub renowned supply chain and logistics leader we are committed to delivering on $420 million in technological investments. Working closely with customers, help us transform our core systems, platforms, automations and interfaces for the better. Enjoy a secure, stable and safe environment, collaborating with teams of specialists in a positive team culture. Take on challenges that will grow your problem-solving skills with plenty of on-the-job learning experience'],\n",
       " ['2 /PMBOK or equivalent certification desirable. IIBA Certification CBAP or comparable experience'],\n",
       " ['5  years’ experience). Experience working with 3rd party IT providers and/or system integrators in country, regional and possibly globally. Experience'],\n",
       " ['2 / PMBoK project management methodology or equivalent. Experience with techniques such as use case analysis, data/process flow diagramming, process mapping and detailed business and functional requirements documentation. Experience in CW1 & Freight Forwarding experience'],\n",
       " ['4 years of experience'],\n",
       " ['000  customers including some of the world’s most recognizable resort, casino and cruise line brands. We specialize in market-leading point-of-sale, property management, inventory and procurement, and mobile and wireless solutions that are designed to streamline operations, improve efficiency and enhance the guest experience'],\n",
       " ['4  years hard core programing experience'],\n",
       " ['5  years of relevant tax and/or tax accounting experience, preferably with a combination of in-house experience with a large multinational enterprise and relevant Big 4 experience'],\n",
       " ['3 roles in a year for the best candidate experience'],\n",
       " ['4 years of relevant experience'],\n",
       " ['100 years of experience'],\n",
       " ['2  years of engineering experience'],\n",
       " ['2  years of experience'],\n",
       " ['1  years of hands-on GCP experience'],\n",
       " ['4  years of progressive experience'],\n",
       " ['3 years of experience'],\n",
       " ['4 years of hands-on experience'],\n",
       " ['5  years of experience'],\n",
       " ['6 Years of experience'],\n",
       " ['2 years experience'],\n",
       " ['5 years of data and/or analytics experience'],\n",
       " ['2  years of experience'],\n",
       " ['2 to 8 years of relevant experience'],\n",
       " ['6  years of experience'],\n",
       " ['5 years of relevant professional work experience'],\n",
       " ['000 companies - from startups to public companies - around the world use Freshworks software-as-a-service to enable a better customer experience (CRM) and employee experience'],\n",
       " ['10  years of work experience'],\n",
       " ['000 team members can help solve any logistics, transport, or supply chain challenge – big or small. We have been supporting our customers for more than 130 years. Today, we support more than 20,000 customers worldwide with 500 sites in 25 countries, and a forwarding network spanning 150 countries.  Play an important role in our strategic journey at Toll Technology Centre (TTC) in Pune, India. As a progressive technology hub, we strive to continuously improve how we work. As a progressive technology hub renowned supply chain and logistics leader we are committed to delivering on $420 million in technological investments. Working closely with customers, help us transform our core systems, platforms, automations and interfaces for the better. Enjoy a secure, stable and safe environment, collaborating with teams of specialists in a positive team culture. Take on challenges that will grow your problem-solving skills with plenty of on-the-job learning experience'],\n",
       " ['5  years of WMS Support experience with 2  years of hands on experience'],\n",
       " ['4 incidents (experience with 3rd Party Logistics Providers, multi vertical advantageous E.g. Retail, FMCG, Telecoms preferred). 4  years of experience'],\n",
       " ['6  years kdb  experience'],\n",
       " ['5 years of experience'],\n",
       " ['000 companies - from startups to public companies - around the world use Freshworks software-as-a-service to enable a better customer experience ]CRM) and employee experience'],\n",
       " ['5  years of experience'],\n",
       " ['5 years of experience'],\n",
       " ['8  years of progressive experience in FP&A and prior experience building a team from the ground up. Previous experience'],\n",
       " ['10  years of progress Corporate Finance experience'],\n",
       " ['6  years of experience'],\n",
       " ['3 years of experience'],\n",
       " ['4  years of experience'],\n",
       " ['2  years of experience'],\n",
       " ['4 to 6 years in financial analysis, Dashboard reporting and finance business partnering roleb) Prior experience of working on HFM/ One stream application and smart view, Advanced working knowledge of HFM/ One streamc) Computer literate (Windows) & Strong MS Excel skills (v-lookup, Pivots, Complex formulae) and MS PowerPointd) Excellent communication skills (English) – Fluent Oral & Writtene) Analytical & Problem-Solving ability for trouble shootingf) Prior experience'],\n",
       " ['1 – 3 years of experience'],\n",
       " ['3 Years) in IT related functionalities (Ex-Computer Science, IT, Electronics and Communication. Etc). We can also consider the experience'],\n",
       " ['2 years, our goal is to transform the travel experience'],\n",
       " ['3 years of total experience'],\n",
       " ['4 years of relevant experience'],\n",
       " ['1 years of relevant professional experience'],\n",
       " ['4  years of experience'],\n",
       " ['5 - 7 years of experience'],\n",
       " ['7  years of experience'],\n",
       " ['5  years of work experience'],\n",
       " ['5  years of experience'],\n",
       " ['13  years of experience'],\n",
       " ['8 -12 years of Application development experience'],\n",
       " ['8 years of relevant experience Experience in systems analysis and programming of software applications Experience'],\n",
       " ['3  years of experience'],\n",
       " ['2 years experience in providing customer service via phone as well as excellent written email, chat and social media skills. Prior experience'],\n",
       " ['7 years of Salesforce Service Cloud experience'],\n",
       " ['6 and above years of expert experience'],\n",
       " ['740 and FIN48), including a mixture of Big 4 and industry experience'],\n",
       " ['2  years experience'],\n",
       " ['8 to 12 years of experience'],\n",
       " ['2  year of data analysis or research experience'],\n",
       " ['4 years of relevant work experience'],\n",
       " ['5   years’ experience'],\n",
       " ['3   years’ experience in performing data modeling/data design, hands-on relational, dimensional, and/or analytic experience'],\n",
       " ['8  years of experience'],\n",
       " ['5 years of people leadership experience'],\n",
       " ['5  years of experience'],\n",
       " ['8  years of experience'],\n",
       " ['3  years of relevant experience'],\n",
       " ['12 Years of Experience'],\n",
       " ['2  years relevant industry experience'],\n",
       " ['6 years of directly applicable research and data analysis experience'],\n",
       " ['02 – Senior Analyst What we’ll bring: A work environment that encourages collaboration and innovation. We consistently explore new technologies and tools to be agile. Workplace flexibility, an environment that welcomes continued professional growth through support of tuition reimbursement, conferences and seminars. Our culture encourages our people to hone current skills and build new capabilities while discovering their genius. We provide a modern computing environment based on best-in-class \"big data\" and cloud computing technologies and the freedom to explore new data sources and statistical and machine learning methodologies. Our Analytics team is home to some of the most brilliant minds in the market. Here, we will not only understand your stats jokes, we’ll appreciate them. What you’ll bring: Bachelors (4 year) degree in statistics, applied mathematics, financial mathematics, engineering, operations research, or another highly quantitative field. And, at least three (3) year of professional experience performing analytic work in Financial Services or related industries Strong analytical, critical thinking, and creative problem-solving skills Advanced programming skills; proficiency with a statistical language such as R; experience using other programming and data manipulation languages preferred (SQL, Hive, Pig, Python, C/C  , Java); high level of familiarity with Microsoft Office tools Multiple examples of demonstrated success in similar solution integration and optimisation roles over a period of at least two (2) years. Strong written a verbal communication skills: ability to clearly articulate ideas to both technical and non-technical audiences, strong presentation skills with comfort presenting to multiple levels within the organisation. Strong analytical, critical thinking, and creative problem solving skills. Mastery of programming languages and analytical tools such as R and Python, Spark and SQL. Strong analytical, critical thinking, and creative problem solving skills. Operates (with some supervision) in a complex, dynamic, matrixed environment. Strong project management skills with the ability to work on multiple assignments at one time. What we\\'d prefer to see: Master’s (2 years) or PhD degree in statistics, applied mathematics, financial mathematics, engineering, operations research, or another highly quantitative field. And, at least one (1) year of professional experience performing analytic work in Financial Services or related industries Familiarity with credit bureau data and business practices Experienced with Tableau or other visualization tools Advanced skills using Excel formulas, macros, and pivot tables to provide detailed analytical reports. Operates under modest supervision in a complex and dynamic, matrixed environment Experienced working in a company with a global presence Experience'],\n",
       " ['6 years relevant Analytical experience'],\n",
       " ['000 employees, _VOIS India supports global markets and group functions of Vodafone, and delivers best-in-class customer experience'],\n",
       " ['5  years of relevant work experience'],\n",
       " ['10  years of relevant experience'],\n",
       " ['8 years of relevant experience'],\n",
       " ['7 years of total experience, with at least 2 years’ experience'],\n",
       " ['7 years of experience'],\n",
       " ['5  years of experience'],\n",
       " ['4 to 6  years of experience'],\n",
       " ['3 billion in annual revenue, and more than 8,000 team members across more than 30 countries. You’ll be backed by a culture that is centered on fostering your creative potential, and experience'],\n",
       " ['7 years industry/ IT experience'],\n",
       " ['7 or more years Information Technology (IT) experience'],\n",
       " ['2  years of experience'],\n",
       " ['2  years of experience'],\n",
       " ['500 IT experience'],\n",
       " ['8 years of accounting experience'],\n",
       " ['5 years of experience'],\n",
       " ['2019 global Codie Award for HCM that is specifically built for crafted employee experience'],\n",
       " [\"3 – 6 years of experience with an MBA and a Bachelor's degree in Engineering is preferred. Past experience\"],\n",
       " ['5 or more years Information Technology (IT) experience'],\n",
       " ['1  years of experience'],\n",
       " ['1  years of experience'],\n",
       " ['500 IT experience'],\n",
       " ['4 ) years demonstrated experience'],\n",
       " ['9 years of experience'],\n",
       " ['5 years of experience'],\n",
       " ['000 passionate people who work across 190 locations in over 50 countries delivering exceptional customer experience'],\n",
       " ['5 years’ post qualification experience'],\n",
       " ['6  years of work experience'],\n",
       " ['10  Years of experience'],\n",
       " ['10  years of experience'],\n",
       " ['10  years SQL development experience'],\n",
       " ['5  years of business experience; product management experience'],\n",
       " ['3  years of experience'],\n",
       " ['10 years of relevant experience'],\n",
       " ['6  years of experience'],\n",
       " ['6  years SQL development experience'],\n",
       " ['10 to 12 years of programming experience'],\n",
       " ['5 to 6 years of strong experience'],\n",
       " ['4 to 5 years of Development experience'],\n",
       " ['10  years of IT experience and equivalent blend of education and experience'],\n",
       " ['7  years of experience'],\n",
       " ['7  years of data engineering or architecture experience'],\n",
       " ['7  years of hands-on relational, dimensional, and/or analytic experience'],\n",
       " ['7  years of experience'],\n",
       " ['7  years of experience'],\n",
       " ['7  years of experience'],\n",
       " ['5  years of architecture and build experience'],\n",
       " ['2 - 3 years of experience'],\n",
       " ['7 years of progressive auditing experience'],\n",
       " ['10 years of relevant experience'],\n",
       " ['5 to 10 years of industry experience'],\n",
       " ['2 years of experience'],\n",
       " ['4 years of experience in software testing with at least 2 years in test delivery management i) Strong knowledge and hands on experience'],\n",
       " ['5 years of experience'],\n",
       " ['5 plus years of experience'],\n",
       " ['800 professionals across the United States, Chile,Colombia, India, Pakistan and Canada. A preferred advisor to leading Fortune 500 brands, Nisum enables clients to achieve direct business growth by building the advanced technology they need to reach end customers in today’s world, with immersive and seamless experience'],\n",
       " ['5  years of experience'],\n",
       " ['3 years experience'],\n",
       " ['5 to 7 years professional experience in an analytical role; Experience'],\n",
       " ['3 years of experience'],\n",
       " ['3  years of finance experience'],\n",
       " ['5  years of relevant experience'],\n",
       " ['6  years professional experience'],\n",
       " [\"5 years' experience\"],\n",
       " ['2000 staff and contractors. As our Shell businesses drive value from Data & Digitalization, our IT Services and Operations need to be ahead of the curve in providing the foundational IT services and tools that enable our business to get value from their data and digital opportunities. Additionally, we need to move towards providing a great IT User Experience for our Shell user community in keeping with their consumer user experience'],\n",
       " ['10  years of relevant experience in IT Operations, with additional experience'],\n",
       " ['5  years of progressive experience'],\n",
       " ['2 years of relevant experience'],\n",
       " ['10 years related business, Risk & Control experience'],\n",
       " ['3 years’ experience'],\n",
       " ['8 years experience'],\n",
       " ['8 years of strong Application production support experience'],\n",
       " ['4 - 6 years of experience'],\n",
       " ['2 years of relevant experience'],\n",
       " ['200 years of experience'],\n",
       " ['7 (0-5 for C11) years of professional or academic experience'],\n",
       " ['10 - 12 years of experience in Retail & Wealth management business. Experience in functions such as marketing / product / analytics / customer experience / Sales with exposure of working in a bank is critical. Cross functional experience'],\n",
       " ['2 to 3 years experience leading a modeling delivery team. At least 3 years hands on experience'],\n",
       " ['3 - 6 years of experience in Java, Spring, Hibernate, CI and CD tools, Configuration and Release Management, deployments and troubleshooting environments. Experience'],\n",
       " ['3  Years of relevant work experience'],\n",
       " ['8  years of total professional experience'],\n",
       " ['6  years of data, analytics or AI solution design or implementation experience'],\n",
       " ['200 years of experience'],\n",
       " ['7 (5-7 for C12) years of professional or academic experience'],\n",
       " ['20 countries and territories. Our business outside of the U.S. mostly focuses on providing banking services for large corporate, government and financial institution clients. We have worldwide expertise and services to help our customers improve earnings, manage risk, and develop opportunities in the global marketplace. Our global reach offers many opportunities for you to develop a career with Wells Fargo. Join our diverse and inclusive team where you will feel valued and inspired to contribute your unique skills and experience'],\n",
       " ['2 - 5 years of relevant hands on experience'],\n",
       " ['6 months -2 Years of experience'],\n",
       " ['1 to 3 years of relevant work experience'],\n",
       " ['5  years of experience'],\n",
       " ['4 Implementation experience'],\n",
       " ['10 years of overall experience with proven working experience'],\n",
       " ['4 to 6 years of Industry-relevant experience maintaining SAP Master Data in vendor and/or customer data domains or equivalent SAP Analyst experience'],\n",
       " ['2  years experience'],\n",
       " ['3  years of experience'],\n",
       " ['1 to 4 years multifunctional Supply Chain experience'],\n",
       " ['7 years programing experience'],\n",
       " ['2  years of experience'],\n",
       " ['1  year of experience'],\n",
       " ['1  year of experience'],\n",
       " ['5 to 7 Years of relevant Experience'],\n",
       " ['5 to 7 years of relevant industry experience'],\n",
       " ['5 to 7 years of relevant industry experience'],\n",
       " ['4 to 7 years of experience'],\n",
       " ['4 years of Financial reporting / corporate accounting experience'],\n",
       " ['4 Hana experience'],\n",
       " ['3 years of experience'],\n",
       " ['10 yeards of relevant experience'],\n",
       " ['8 Yrs. of experience'],\n",
       " ['10 years of experience'],\n",
       " ['500 customers. You will leverage your wide range of experience'],\n",
       " ['7  years direct experience'],\n",
       " ['6  years of experience as a product manager or development manager in gaming industry in a senior role with atleast 3 mobile games experience'],\n",
       " ['15 years of progressive auditing experience, ideally in financial services and/or Big 4 firms• Certification as a Certified Internal Auditor (CIA) or Chartered Financial Analyst (CFA) candidate is preferred.• Familiarity with FRB laws and SEC standards related to the Financial Services Industry is preferred. • Experience'],\n",
       " ['4 years experience'],\n",
       " ['2 years experience'],\n",
       " ['3 years of relevant experience'],\n",
       " ['6 years of audit, compliance testing or monitoring, or relevant Compliance experience'],\n",
       " ['1 to 2 years of experience'],\n",
       " [\"3 years of experience in an analytical role |OR| Master's degree in a relevant field, with internship/full-time experience\"],\n",
       " ['6  years of FP&A (or related) experience'],\n",
       " ['4 years work experience'],\n",
       " ['4 years of minimum relevant experience'],\n",
       " ['1 year work experience'],\n",
       " ['2 (-Requestor Sourav Sen atish Pundla) 1) 8 to 10 years in data Engineering. 2) String hands on experience on Python and SQL. 3) Good expereince in Glue, Redshift and lambda. 4) Build, test and maintain optimal Data Pipeline architecture. 5) A ssemble large, complex datasets that meet functional and NFR. 6) Work with fellow Developers, Data analysts and Architects on the project deliverables. 7) Good understanding on DevOps. 8) Good communication and interpersonal skills. C2 (-Reque stor Sourav Sen atish Pundla) 1) 8 to 10 years in data Engineering. 2) String hands on experience on Python and SQL. 3) Good expereince in Glue, Redshift and lambda. 4) Build, test and maintain optimal Data Pipeline architecture. 5) Assemble large, complex datasets that meet functional and NFR. 6) Work with fellow Developers, Data analysts and Architects on the project deliverables. 7) Good understanding on DevOps. 8) Good communication and interpersonal skills. C2 (-Requestor Sourav S en atish Pundla) 1) 8 to 10 years in data Engineering. 2) String hands on experience'],\n",
       " ['3 years of experience'],\n",
       " ['4 years’ experience in strategy, business analysis, industry research, management consulting or business performance, etc. Experience'],\n",
       " ['3  years’ experience'],\n",
       " ['5 years of relevant work experience, or a master’s degree in a quantitative field with 2-3 years of relevant work experience'],\n",
       " ['400 (SAVLIB, SAVOBJ)and windows servers. Taking 4. Full System Backup (Entire System Backup). 5. Doing Restoration, Journal Backup, manage Tape drives, documents etc. 6. Creation, Enable & Disable User ID in AS400 Servers. 7. Prepare Taking daily health checkups in Production, DR & Development Server. like ASP,CPU Utilization, Subsystems, Active jobs. 8. Maintaining & monitoring disk space(ASP), Spools, Error Messages, Problem logs. 9. Handling problems in AS400 server and dealing with support team. 10. Clearing the Jobs from MSGW. 11. AS-400 user profile management (Dealing with user profile ) 12. Taking incremental backup on Daily basis, all user library backup on Weekly basis & Entire system back up on Monthly basis 13. Give online help to user when required. Escalate to on call application support group. 14. Involve in EOD (End of day), EOW(End of Week), and EOM (End of Month) process. 15. Taking Full System Backup (Entire System Backup) 16. Shifting Tape Drive between Partitions for Data Backup and Restoration. 17. Ensure smooth functioning of EOD (End-of-the-Day) and BOD (Beginning-of-the-Day) Activities. 18. Generating of Reports as part of SOD, BOD and EOD Activity. 19. Replication monitoring & troubleshooting. Monitoring disk status. Deletion of audit journals receivers. Deletion of user spool files from outq. Core Responsibilities 1. Ensure smooth functioning of EOD (End-of-the-Day) and BOD (Beginning-of-the-Day) Activities. 2. Creation, Enable & Disable User ID in AS/400 Servers. Provide Bank Code Access to users. 3. Good knowledge and Hands on experience'],\n",
       " ['000 colleagues, all with a common goal to deliver an exceptional customer experience'],\n",
       " ['1  years of work experience'],\n",
       " ['6 years of experience'],\n",
       " ['1 year of experience'],\n",
       " ['13 years of experience'],\n",
       " ['5 Years of overall experience with 3  years WFM experience'],\n",
       " ['7 year’s prior work experience'],\n",
       " ['5 years of related business experience including at least one-year supervisory experience'],\n",
       " ['2008 and based in San Francisco, California, Airbnb is a trusted community marketplace for people to list, discover, and book unique travel experiences around the world. Whether an apartment for a night, a castle for a week or a villa for a month, Airbnb allows people to Belong Anywhere through unique travel experience'],\n",
       " ['2017 in Gurgaon to service the global Airbnb community. We are a fast-growing, up-and-coming office and home to the most hospitable people you will ever meet! Our small and extremely capable team of Gurgaon-based colleagues strive to make the impossible happen for our inbound and outbound travelers within this big and diverse market. Airbnb Capability Center is providing varied services under Community Support thereby providing world-class customer experience'],\n",
       " ['4 years of overall experience'],\n",
       " ['4  years of work experience'],\n",
       " ['4 years of software development experience'],\n",
       " ['2 to 3 years of experience'],\n",
       " ['12  years of experience'],\n",
       " ['5  years of Indian indirect tax experience'],\n",
       " ['5  years of progressively complex experience in Digital Analytics; financial industry experience'],\n",
       " ['3  years of experience in US Tax Laws (Big Four experience'],\n",
       " ['5 to 7 years of experience'],\n",
       " ['6  years of proven experience'],\n",
       " ['3  years relevant work experience'],\n",
       " ['3  years’ experience'],\n",
       " ['3 years of experience'],\n",
       " ['3 years of experience'],\n",
       " ['2  years of work experience'],\n",
       " ['4   years of relevant analytics experience'],\n",
       " ['3  years of experience'],\n",
       " ['6 years of work experience'],\n",
       " ['6 years of overall business/functional analysis experience, with at least 4-6 years of experience on the Oracle Big Machines CPQ platform. Candidates with scripting language experience'],\n",
       " ['8 years’ experience'],\n",
       " ['1  years in Salesforce CPQ (Steelbrik) hands-on experience'],\n",
       " ['5 to 7 years’ experience'],\n",
       " ['6  years top tier analyst or consulting experience'],\n",
       " ['3  years in management experience'],\n",
       " ['5 years of knowledge and experience'],\n",
       " ['5 years of relevant experience'],\n",
       " ['11 years of experience'],\n",
       " ['9 years of experience'],\n",
       " ['7 years overall experience; 2  years professional experience working directly on the design and development of intelligent automation solutions; 2  years of experience'],\n",
       " ['3 years of work experience'],\n",
       " ['2008 and based in San Francisco, California, Airbnb is a trusted community marketplace for people to list, discover, and book unique travel experiences around the world. Whether an apartment for a night, a castle for a week or a villa for a month, Airbnb allows people to Belong Anywhere through unique travel experience'],\n",
       " ['6  years of experience'],\n",
       " ['8 years of software-related negotiation experience'],\n",
       " ['8 years of years of post-qualification experience'],\n",
       " ['5 - 6 years of relevant work experience'],\n",
       " ['8   years of experience'],\n",
       " ['5  years experience'],\n",
       " ['8  years of relevant experience'],\n",
       " ['1 seeks an experience'],\n",
       " ['3 years’ experience'],\n",
       " ['5 years of digital agency experience'],\n",
       " ['8 years of experience in data analytics, or Master’s Degree with 4-8 years of experience'],\n",
       " ['1 8. Knowledge on making Objective C applications run on Windows by using GNUstep 9. Shell script 10. Knowledge on macOS application A Technical Specialist coordinates technology use in a project and streamlines processes to effectively meet business requirements. A person in this role interfaces with several stakeholders including project and delivery teams as wellas technical leads and architect to ensure alignment of technical requirements and architecture. They are responsible for ensuring quality, timeliness, and efficiency of deliverables by bridging architecture, design, and implementation processes. They facilitate specialized technical implementation of the architecture as per the b usiness requirements. JOB RESPONSIBILITIES # Ability to design and develop BI dashboards and reports by connecting to varied data sources # Work closely with business stakeholder, data analysts and data engineering team to perform data transformation # Strong problem-solving skills to troubleshoot and resolve data issues # Ability to organize and lead meetings with business and operational data owners # Ability to make right visual choices, build & use of data blending features # Experience'],\n",
       " ['8 years of experience'],\n",
       " ['10  years of experience'],\n",
       " ['6  years of experience in Software or Data Engineering, building high quality production software Experience'],\n",
       " ['180 countries. Since inception, Eventbrite has been at the center of the experience economy, transforming the way people organize and attend events. The company was founded by Julia Hartz, Kevin Hartz and Renaud Visage, with a vision to build a self-service platform that would make it possible for anyone to create and sell tickets to live experience'],\n",
       " ['10  years of proven experience'],\n",
       " ['5 Years of Hands-on Experience'],\n",
       " ['3 End to End Projects Implementation experience'],\n",
       " ['5  years’ experience'],\n",
       " ['5 years of progressive experience'],\n",
       " ['5  Years of Experience'],\n",
       " ['2  Years of Experience'],\n",
       " ['5 years general ledger accounting experience'],\n",
       " ['5  YEARS Experience'],\n",
       " ['8 years of industry experience'],\n",
       " ['5  years of business analyst experience'],\n",
       " ['5 years of experience'],\n",
       " ['3 roles in a year for the best candidate experience'],\n",
       " ['4 to 7 years hands-on experience'],\n",
       " ['8  years of work experience'],\n",
       " ['8 years of software development experience'],\n",
       " ['3 to 4 years of experience'],\n",
       " ['8  years of experience'],\n",
       " ['2008 and based in San Francisco, California, Airbnb is a trusted community marketplace for people to list, discover, and book unique travel experiences around the world. Whether an apartment for a night, a castle for a week or a villa for a month, Airbnb allows people to Belong Anywhere through unique travel experience'],\n",
       " ['2017 in Gurgaon to service the global Airbnb community. We are a fast-growing, up-and-coming office and home to the most hospitable people you will ever meet! Our small and extremely capable team of Gurgaon-based colleagues strive to make the impossible happen for our inbound and outbound travellers within this big and diverse market. Airbnb Capability Center is providing varied services under Community Support thereby providing world-class customer experience'],\n",
       " ['6  years top tier analyst or consulting experience'],\n",
       " ['191 countries, with 75 currencies, through a complex ecosystem of payments partners. We build and maintain our own in-house global payments platform because no solution exists with the global reach needed. As the platform grows we’ll be adding new payment partners, global licenses, compliance and regulation controls, and building new payment experience'],\n",
       " ['12  years of industry experience'],\n",
       " ['8   relevant industry experience'],\n",
       " ['6  years of technology management and leadership experience, with at least 2 years of hands-on systems architecture experience'],\n",
       " ['3 years of high-level Technical Support experience with an additional 2 years of experience'],\n",
       " ['12 , 5  years of marketing programme management and/or demand gen campaign experience.• Knowledge of creating integrated marketing campaigns for a B2B technology or IT services organisation.• Should be able to work well in a team and have excellent communication abilities.• Candidates should have experience successfully leading and carrying out projects with cross-functional virtual teams across time zones.• High-energy self-starter with a can-do mentality who is able to learn rapidly, operate in a hyper-growth atmosphere, develop strategy with the CMI leadership team, and dive into the details to do the job.• Knowledge of digital strategy, including podcasting, ad-tech, landing pages, analytics, and nurturing.• Proactive pursuits marketing and large deal marketing experience.• Candidates should have excellent instincts for strong, incisive, and creative messaging as it relates to promotional content (landing pages, advertising, social media postings, etc.), and they should be able to give the team strategic direction and advise on the content mix required to support the campaign. Experience managing big events and budgets is required.• Experience managing theme-based campaigns centred around Cloud, AI, Blockchain, and other technology markets, as well as knowledge of CMI, supply chain, logistics, and these markets.• Having a lot of first-hand experience using collaboration and marketing automation platforms like SFDC, Marketo, Demandbase, ABM Programs (ITSMA, etc.), Windows Suite, Adobe, etc.• Manage both real-world and online events. It would be crucial to have experience'],\n",
       " ['10  years experience'],\n",
       " ['10 - 12 years of experience in designing and developing Java/J2EE applications using frameworks like Spring Boot, Spring XD and Hibernate • Experience with Big data platforms such as Hadoop and Apache Spark • Experience with CI/CD tools such as Jenkins • Provide technical design or approach for business problems • Use analytic skills to interpret complex information and adapt; participate with the Enterprise Architecture team to evaluate solution design and also collaborate and provide feedback to the product development team; participate in projects with other IT professionals, deliver quality applications and components within scope, on time, and within budget; • Participate in business continuous improvement efforts outside of the customer focused teams; and provide guidance and direction to distributed teams, including onshore and offshore resources. • Responsible for creating and maintaining all technical artifacts on the Platform. • Provide technical guidance to onshore/offshore development teams For this role, we value: • The ability to adapt quickly to a fast-paced environment • Excellent written and oral communication skills • A critical thinker that challenges assumptions and seeks new ideas • Proactive sharing of accomplishments, knowledge, lessons, and updates across the organization • Experience designing, building, testing and releasing software solutions in a complex, large organization • Demonstrated functional and technical leadership • Demonstrated analytical and problem-solving skills (ability to identify, formulate, and solve engineering problems) • Experience with Azure, AWS or other Cloud-based PaaS/SaaS environments. Must Have: At least 10 plus years of experience, 3 plus experience'],\n",
       " ['20  years of AI legacy and experience in the industry. Once you join us, you will get to innovate and experience'],\n",
       " ['13 years, with a hands-on experience'],\n",
       " ['13 years of experience'],\n",
       " ['15 years in IT Experience'],\n",
       " ['5 years experience'],\n",
       " ['5 years experience'],\n",
       " ['5 years experience'],\n",
       " ['3 years experience'],\n",
       " ['2 years experience'],\n",
       " ['8  years experience'],\n",
       " ['6 years of overall experience'],\n",
       " [\"15 years; Vice President, Business Analyst, Investment and Trading Technology - (WD44453) The Vice President, Business Analyst, Investment and Trading Technology Business Function Group Technology and Operations (T&O) strategically focuses on productivity, quality & control, technology, people capability, and innovation to enable and empower the bank with an effective, nimble, and resilient infrastructure. The majority of the Bank's operational procedures are managed by Group T&O, and we strive to please our business partners through a variety of financial delivery channels. Working with stakeholders to understand and identify requirements for trading systems is one of one's responsibilities. Another is to plan and take part in co-creation sessions with stakeholders to gather requirements. Business and user needs should be elicited, documented, and then converted into user stories for development requirements through regular walkthroughs with stakeholders, which serve to define and review them.Work closely with the project manager and product owner on the project schedule, issues, and escalation Ability to manage multiple work-streams concurrently and effectively resolve issues or conflicts Coaching and mentoring other Business Analysts and bringing them up to speed on the Capital Markets domain Drive business process change requests on gaps identified and manage a project's scope and schedule Work with business users and user experience designers (UXDs) to plan, organise, and track the adoption of UAT. Work with the development team to comprehend the data model and create the mapping logic, and make sure all paperwork is in order to make software useable. development. Investigate the needs of the business, assess them, and offer a plan or proposal for implementation.Requirements Business/banking knowledge, i.e. Capital markets are a big plus. Complete understanding of and expertise using Capital Markets software solutions, including Calypso, Gloss, Summit, etc., FIS Sunguard (Ambit Treasury, Quantum Treasury, FA), MiSys, Bancs/Quartz (TCS), Summit, Finacle Treasury, CharlesRiver, TradeWeb, Markit, Sophis, etc. Extensive experience as a business analyst with a quality-first attitude Good business analyst experience in Agile projects/development Experiences with the implementation of web-based and business process software systems Capability to work effectively and independently under pressure, meet deadlines, and prioritise tasks effectively User-story development skills are required, as are effective teamwork, communication, and the ability to manage stakeholders' expectations. Additionally, strong Excel, data analysis, and SQL skills are required, as is the ability to understand and interpret requirements leading to technical implementation.With training in agile project delivery methodologies and the use of one of the agile delivery methods like Scrum or Kanban, one can provide input to the development team for implementation and do system testing. Excellent interpersonal and communication skills Capable of handling stressful situations and juggling several priorities Minimum of 12 years of BA experience\"],\n",
       " ['5 years of relevant experience'],\n",
       " ['11 years of experience'],\n",
       " ['9 years of experience'],\n",
       " ['9 years overall experience; 3  years professional experience working directly on the design and development of intelligent automation solutions; 3  years of experience'],\n",
       " ['8  years of relevant Ecommerce or Enterprise-level development experience ? At least 3-5  years of experience in planning, designing, developing, architecting, and implementing cloud solutions on AWS platforms ? Experience in API architecture and performance optimization of highly scalable e-commerce platforms ? Develop different AWS services, including API, RDS instance, and Lambda to build serverless applications ? Work jointly with the IT team and other departments to migrate web applications to AWS ? Comfortable working on tight timelines, when required ? Experiences with web services, like API, REST, and RPC ? Experience with Docker and Kubernetes ? Experience in Java, Springboot, GraphQL, Redis, Cassandra, Postgres, DynamoDB ? Good understanding of integration and database. ? Understanding of core AWS services uses, and AWS architecture best practices ? Hands-on experience in different domains, like database architecture, business intelligence, machine learning, advanced analytics, big data, etc. ? Substantial knowledge of Linux/Unix administration ? Expertise in collaborating with multi-disciplinary teams of business analysts, data scientists, subject matter experts, and developers ? Ability to quickly identify and resolve issues in distributed systems ? Proven ability in leading small teams to efficiently execute in delivery of mobile applications end to end ? Ability to diagnose and solve technical problems related to mobile applications implementation including debugging performance issues related to web page load times ? Ability to interact with users and product managers to create end-to-end specifications for mobile applications ? Provide guidance and production support. Develop tools to assist the development process (eg. CI/CD, scripting) ? Knowledge of version control systems (GITHUB), experience with AWS, RESTful APIs to connect mobile applications to back-end services, Jenkins, node.js ? Experience'],\n",
       " [\"5 - 8 years' work experience\"],\n",
       " ['8 years of experience'],\n",
       " ['8 years of demonstrated ability in IT or a related field, with 3 years of additional experience'],\n",
       " ['5 years of proven experience'],\n",
       " ['6  years of experience'],\n",
       " ['2  years of experience'],\n",
       " ['5 to 7 year(s) of experience'],\n",
       " ['2 to 6 Yrs of experience'],\n",
       " ['1  years of relevant experience'],\n",
       " ['6 years relevant experience in telecoms, Network / Radio experience is good but not vital. You must be able to demonstrate experience'],\n",
       " ['8  Years of experience, 4  years of experience'],\n",
       " ['3  years’ work experience'],\n",
       " ['2  years of strong Data Profiling experience'],\n",
       " ['6  years of experience'],\n",
       " ['6  years of experience'],\n",
       " ['9 years of experience'],\n",
       " ['2  years of experience'],\n",
       " ['3 years of work experience'],\n",
       " ['2 to 3 years of hand’s on data analytics or data science experience'],\n",
       " ['7 years of relevant experience'],\n",
       " ['3  years of relevant work experience'],\n",
       " ['2 to 4 years of experience'],\n",
       " ['7 years Quality Assurance (QA) experience'],\n",
       " ['2 years of work experience'],\n",
       " ['2 years of data pipeline and data product design, development, delivery experience'],\n",
       " ['2 years of hands-on experience'],\n",
       " ['3  years of experience'],\n",
       " ['3 to 5 years of experience'],\n",
       " ['2 years of relevant experience'],\n",
       " ['2 years of applicable industry / analytics and/or consulting experience'],\n",
       " ['8  years of relevant experience'],\n",
       " ['3  years relevant experience'],\n",
       " ['6  years of relevant experience'],\n",
       " ['3  years of proven experience'],\n",
       " ['4 years of work experience'],\n",
       " ['5 years of relevant experience'],\n",
       " ['8 years’ experience'],\n",
       " ['7 years of experience'],\n",
       " ['10 years’ experience in Power /RE and Oil & Gas and must have a demonstrated experience'],\n",
       " ['5  years of audit experience'],\n",
       " ['4  years of experience'],\n",
       " ['3  years of experience'],\n",
       " ['24 months of prior work experience with minimum 2Year relevant experience'],\n",
       " ['3  year on Python or R experience'],\n",
       " ['1  year experience'],\n",
       " ['2  year on use experience'],\n",
       " ['1 - 2 years of work experience'],\n",
       " ['2 years of work experience'],\n",
       " ['3  years of experience'],\n",
       " ['4 - 8 Years of previous experience'],\n",
       " ['3 - 5 years of experience'],\n",
       " ['5  years of experience'],\n",
       " ['4 years of work experience'],\n",
       " ['0 GPA OR functional degree   technical higher degree or in lieu of degree may substitute 4 years professional experience'],\n",
       " ['10 years of overall experience with 1  yrs recent hands on experience'],\n",
       " ['4 years’ experience'],\n",
       " [\"15  years' experience including at-least 8-10 years of People Management experience\"],\n",
       " ['5  years’ experience'],\n",
       " ['5  years of solid experience'],\n",
       " ['5  years of end to end US corporate multistate indirect tax compliance and settlement experience'],\n",
       " ['4 and OneSource Sales &amp - Use Tax Compliance Software experience'],\n",
       " ['6  years’ experience'],\n",
       " ['3 years of work experience'],\n",
       " ['10 years of experience'],\n",
       " ['24 x 7 Shift rotations – Including weekends. Application Support experience'],\n",
       " ['1  years of experience'],\n",
       " ['3  years of relevant experience'],\n",
       " ['4  years of overall technology experience'],\n",
       " ['3  years of experience'],\n",
       " ['3  years of experience in SQL optimization and performance tuning, and development experience'],\n",
       " ['2  years in cloud data engineering experience'],\n",
       " ['8 Years of International tax and Mergers and Acquisition tax experience. Mandatory that the candidate has a prior experience'],\n",
       " ['4 - 6 years experience individual with a piece of good working knowledge and auditing experience'],\n",
       " ['7 years’ professional IT experience'],\n",
       " ['8  Years of Experience'],\n",
       " ['8 years of experience'],\n",
       " ['2  years of working experience'],\n",
       " ['2  years of Experience'],\n",
       " ['9 years of experience'],\n",
       " ['000 team members can help solve any logistics, transport, or supply chain challenge – big or small. We have been supporting our customers for more than 130 years. Today, we support more than 20,000 customers worldwide with 500 sites in 25 countries, and a forwarding network spanning 150 countries.  Play an important role in our strategic journey at Toll Technology Centre (TTC) in Pune, India. As a progressive technology hub, we strive to continuously improve how we work. As a progressive technology hub renowned supply chain and logistics leader we are committed to delivering on $420 million in technological investments. Working closely with customers, help us transform our core systems, platforms, automations and interfaces for the better. Enjoy a secure, stable and safe environment, collaborating with teams of specialists in a positive team culture. Take on challenges that will grow your problem-solving skills with plenty of on-the-job learning experience'],\n",
       " ['10  years of overall experience'],\n",
       " ['6 years of professional experience'],\n",
       " ['8  years of experience'],\n",
       " ['7  years of experience'],\n",
       " ['5  years of architecture and build experience'],\n",
       " ['5 years of experience'],\n",
       " ['10 years of relevant architecture experience'],\n",
       " ['5 years of software development experience'],\n",
       " ['4 years of experience'],\n",
       " ['5 years of relevant experience in the Financial Service industry Intermediate level experience'],\n",
       " ['2  years of experience'],\n",
       " [\"8 - 10 years' work experience\"],\n",
       " ['5 years of experience'],\n",
       " ['3 years of experience'],\n",
       " ['10  years of experience for Electrical and Automation in manufacturing industry of which at least 2-4 years of experience'],\n",
       " ['9 years of Banking / Financial services experience'],\n",
       " ['3 to 5 years of experience'],\n",
       " ['9 years of relevant experience'],\n",
       " ['5  years of experience'],\n",
       " ['7 years of work experience'],\n",
       " ['12 years of experience'],\n",
       " ['6  years’ experience'],\n",
       " ['7  years of experience'],\n",
       " ['4 years experience with Core products or five years experience with Applications products and have a technical degree i.e., BS Computer Science/Management Information Systems/Science/ Engineering/Math/Physics/Chemistry with a 3.0 GPA OR (for Applications) proven professional/ technical experience'],\n",
       " [\"5 - 7 years' work experience\"],\n",
       " ['000  global businesses, including 85 of the 100 largest corporations in the world, to deliver extraordinary customer experience'],\n",
       " ['5 to 8 years of overall Financial Markets IT industry experience'],\n",
       " ['5  years of experience'],\n",
       " ['8  years of experience . 2-3 years of experience in managing and publishing dashboards · Ability to handle confidential information appropriately · Certified Lean Six Sigma Black Belt · Advanced degree in Engineering, Statistics, Economics, MS or MBA · Process, manufacturing, or engineering background with an ability to understand process workflow and throughput through the operation · Knowledge of SQL, Power-Bi, Tableau and Python · Demonstrated experience'],\n",
       " ['12  years of work experience with at least 5  years of experience'],\n",
       " ['2 to 5 years of professional experience is required, including 5  years’ experience'],\n",
       " ['6  years of Software Engineering experience'],\n",
       " [\"5 yrs. in IT and 3  years' experience\"],\n",
       " ['4  years of experience'],\n",
       " ['4  years of experience'],\n",
       " ['6 years of experience in Technology and or Research and Technology Industry experience'],\n",
       " ['2 to 4 years of relevant work experience'],\n",
       " ['5 years of audit experience'],\n",
       " ['5 to 7 years of experience'],\n",
       " ['10 years’ experience in Transportation strategy, business analysis, industry research, management consulting or business performance, etc. Experience'],\n",
       " ['8 years of experience'],\n",
       " ['2  years leading a SOC or Technical Support team in a cybersecurity SaaS organization, experience'],\n",
       " ['2 to 5 years prior experience'],\n",
       " [\"5 - 8 years' work experience\"],\n",
       " ['9 years of experience'],\n",
       " ['10 years of overall experience with 1  yrs recent hands on experience'],\n",
       " ['8 Years of International tax and Mergers and Acquisition tax experience. Mandatory that the candidate has a prior experience'],\n",
       " ['8 years of experience'],\n",
       " ['9 years of Banking / Financial services experience'],\n",
       " ['7 years of experience'],\n",
       " ['7  years’ solid grasp of HRIS SaaS applications with hands-on experience'],\n",
       " ['6   years of experience'],\n",
       " ['6  years’ experience'],\n",
       " ['6   years of experience'],\n",
       " ['2  years of work experience'],\n",
       " ['1  years of work experience'],\n",
       " ['8 years of experience'],\n",
       " ['5  years of relevant experience'],\n",
       " ['2  yrs. of work experience'],\n",
       " ['5  years of industry experience'],\n",
       " ['5  years of experience'],\n",
       " ['2 years of experience'],\n",
       " ['3   years experience'],\n",
       " ['2   years’ data mining and machine learning experience'],\n",
       " ['15  years of relevant data experience'],\n",
       " ['3  years of experience'],\n",
       " ['3  years of experience'],\n",
       " ['3  years of experience'],\n",
       " ['5 year experience in (big) data projects - requirement gathering - data analysis & data definitions - data modelling skills - data selection/querying skills - data governance & quality experience - reporting and/or AI knowlegde - GDPR knowledge (masking, tokenisation, …) - helping/coaching other teammembers - focus on quality and the right documentation - English - Agile / SAFe - Experience'],\n",
       " ['3 years of related work experience'],\n",
       " ['8  years of overall technology experience'],\n",
       " ['3  years of experience'],\n",
       " ['4  years of experience'],\n",
       " ['3 roles in a year for the best candidate experience'],\n",
       " ['4 year) degree in statistics, applied mathematics, financial mathematics, engineering, operations research, or another highly quantitative field. And, at least five (5) year of professional experience'],\n",
       " ['2 years) or PhD degree in statistics, applied mathematics, financial mathematics, engineering, operations research, or another highly quantitative field. And, at least two (2) year of professional experience'],\n",
       " ['7 years of experience'],\n",
       " ['8 years experience'],\n",
       " ['4 or more years related statistical modeling, quantitative, analytical, or actuarial work experience'],\n",
       " ['4 years experience with Core products or five years experience with Applications products and have a technical degree i.e., BS Computer Science/Management Information Systems/Science/ Engineering/Math/Physics/Chemistry with a 3.0 GPA OR (for Applications) proven professional/ technical experience'],\n",
       " ['10 Years of experience'],\n",
       " ['000 colleagues, all with a common goal to deliver an exceptional customer experience'],\n",
       " ['4  year of experience'],\n",
       " ['2 to 4 years of hands-on IT development and experience'],\n",
       " ['8  (6  years with a Masters) years experience'],\n",
       " ['10 years of experience'],\n",
       " ['7  years of professional experience'],\n",
       " [\"5 years' experience\"],\n",
       " ['3  years of experience'],\n",
       " [\"2 years' experience\"],\n",
       " ['8  (6  years with a Masters) years experience'],\n",
       " ['3  years of experience'],\n",
       " ['6 years of business process experience with strong knowledge of CPQ. Primary focus on gathering requirements, process improvements and solution design. Extensive experience as a business analyst in the Quote to Cash lifecyle, with CPQ as the core. Strong business partnership experience'],\n",
       " ['10 years of experience'],\n",
       " ['10  Years of overall experience'],\n",
       " ['5  years of leadership experience'],\n",
       " ['5  years of technology or technology sales experience'],\n",
       " ['3  years of experience'],\n",
       " ['3  years of experience'],\n",
       " ['3  years of experience'],\n",
       " ['5 years of overall experience in relevant functional or technical roles. Undergraduate degree or equivalent experience'],\n",
       " ['6 - 10 years of experience in OBIEE/Hyperion/Oracle Analytics Cloud, Data Warehouse, and SQL experience'],\n",
       " ['6  years relevant experience'],\n",
       " ['6 yrs. testing experience'],\n",
       " ['25 years of experience'],\n",
       " ['4 years’ experience'],\n",
       " ['4 years of work experience'],\n",
       " ['20 years’ experience'],\n",
       " ['6 years of work experience; previous tech / product / UX design experience'],\n",
       " ['4 years’ minimum experience development experience'],\n",
       " ['420 million in technological investments. Working closely with customers, help us transform our core systems, platforms, automations and interfaces for the better. Enjoy a secure, stable and safe environment, collaborating with teams of specialists in a positive team culture. Take on challenges that will grow your problem-solving skills with plenty of on-the-job learning experience'],\n",
       " ['3 years of work experience'],\n",
       " ['7  years of relevant experience'],\n",
       " ['3  years of industry experience'],\n",
       " ['10  Years of industry experience'],\n",
       " ['3  years of experience in Information Technology in hands on technical role OR in lieu of the Bachelor, minimum 5  years of experience'],\n",
       " ['8  years’ experience'],\n",
       " ['6 yrs. testing experience'],\n",
       " ['7  years of related work experience in Information Security Governance, Risk and Compliance (GRC) or relevant Compliance roles in the tech industry. Big 4 consulting experience'],\n",
       " ['2 - 3 years experience'],\n",
       " ['7  years of experience'],\n",
       " ['2 to 4 years of relevant work experience'],\n",
       " ['5 to 8 years of overall IT industry experience'],\n",
       " ['5  years of experience'],\n",
       " ['000  global businesses, including 85 of the 100 largest corporations in the world, to deliver extraordinary customer experience'],\n",
       " ['8  years of experience'],\n",
       " ['5  years of professional experience'],\n",
       " ['8 years’ related experience. ADDITIONAL POSITION-SPECIFIC MINIMUM QUALIFICATIONS: 7  years’ working in SAP Business Objects Data Services (BODS) – or, one of the leading enterprise ETL tools, such as Informatica PowerCenter, Microsoft SSIS, IBM InfoSphere DataStage, Pentaho or Talend – for designing and development ETL solutions. SAP Business Objects Data Services (BODS) proficiency needs to include: o Develop ETL logic utilizing various features available in the Data Integrator component, including: § Audit Rules § Built-in Functions § Interactive Debugger § Transforms, such as Query, Key Generation, Table Comparison, History Preserving and Validation Expert in SQL and stored procedure for development, debugging and implementing complex transformation Needs to be a self-starter and able to lead ETL projects or ETL activities within a project Familiarity with Systems Development Life Cycle (SDLC) and software development best practices Development experience with two ore more of the following: SQL, PL/SQL, TSQL, PERL, SQL Server, Oracle Experience in the implementation of Web applications in a Unix/Linux environment, including knowledge of scripting languages and standard tools and utilities Demonstrated ability to work in a fast-paced, deadline driven environment Demonstrated excellence in a variety of competencies including teamwork/collaboration, analytical thinking, communication and influencing skills, and technical expertise Experience collaborating with DevOps, Security, Network, Systems and other IT teams Excellent written and verbal communication skills Ability to work with changing priorities and with multiple projects Ability to be precise and attentive to detail is essential Ability to work with minimal supervision PREFERRED QUALIFICATIONS: Experience in Higher Education a plus Knowledge in Perl, C or Python to create ETL solutions Knowledge in SAP Business Objects Web Intelligence and Crystal Reports Knowledge in emerging technologies, such as Big Data, Cloud computing (AWS or Azure) Experience in agile software development methodology Experience with Django framework Utilizes SDLC, Change Management best practices: o Exposure to ITIL methodology o Experience in best practices established in application development auditing standards o Experience'],\n",
       " ['8 years (for “Technical Product Analyst” openings) / 8-12 years (for “Technical Product Manager” openings) of industry experience'],\n",
       " ['12 years of Banking / Financial services experience'],\n",
       " ['6 years of extensive experience'],\n",
       " ['7 years of experience'],\n",
       " ['2 years of relevant experience'],\n",
       " ['3 roles in a year for the best candidate experience'],\n",
       " ['8  years of application and infrastructure integration experience'],\n",
       " ['2 years of experience'],\n",
       " ['3 years of relevant work experience'],\n",
       " ['5 years of Software Development Experience or a Masters degree with 2 years of Software Development Experience'],\n",
       " [\"6 to 8 years' work experience\"],\n",
       " ['6 yrs. testing experience'],\n",
       " ['5 - 7 years work experience'],\n",
       " ['9  years experience'],\n",
       " ['14  years of relevant work experience'],\n",
       " [\"6 to 8 years' work experience\"],\n",
       " ['2  years of overall technology experience'],\n",
       " ['2  years of experience in SQL optimization and performance tuning, and development experience'],\n",
       " ['1  years in cloud data engineering experience'],\n",
       " ['10  years of FP&A (or related) experience'],\n",
       " ['8 years of experience'],\n",
       " [\"000 colleagues, that touches the lives of millions every year across five vibrant global markets. So, whether you're an experience\"],\n",
       " ['3 years of experience'],\n",
       " ['5 years of experience in data science or business analytics with proven experience using data mining techniques and building data science models and an additional 2-3 years of audit experience'],\n",
       " ['4  years of overall technology experience'],\n",
       " ['3  years of experience'],\n",
       " ['3  years of experience in SQL optimization and performance tuning, and development experience'],\n",
       " ['2  years in cloud data engineering experience'],\n",
       " ['3  years of work experience in Analytics/ Business Intelligence/ Statistical analysis or related experience'],\n",
       " ['4 to 5 years experience'],\n",
       " ['6 years of relevant work experience'],\n",
       " ['8 years of experience'],\n",
       " ['13 years of relevant experience'],\n",
       " ['4  years of proven experience'],\n",
       " ['000 colleagues, all with a common goal to deliver an exceptional customer experience'],\n",
       " ['3 years of experience'],\n",
       " ['2 to 5 years is required. Experience'],\n",
       " ['2 years’ Experience'],\n",
       " ['2 to 5 years experience'],\n",
       " ['2 - 3 years of post-qualification experience'],\n",
       " ['2 - 3 years of post-qualification experience'],\n",
       " ['7 years – analytics experience; experience'],\n",
       " ['6  years – analytics experience; experience'],\n",
       " ['000 colleagues, all with a common goal to deliver an exceptional customer experience'],\n",
       " ['000 colleagues, all with a common goal to deliver an exceptional customer experience'],\n",
       " ['4  years hands-on experience'],\n",
       " ['6 to 9 years of relevant experience'],\n",
       " ['2 years of team lead experience'],\n",
       " ['5 years of consolidated work experience'],\n",
       " ['8  years (5  with advanced degree) experience'],\n",
       " ['4 to 5 yrs. of development experience'],\n",
       " ['1 to 2 yrs. of relevant experience'],\n",
       " ['7  years of experience'],\n",
       " ['5  years of experience'],\n",
       " ['3  years of experience'],\n",
       " ['3  years of experience'],\n",
       " ['10 years of relevant experience'],\n",
       " ['5  years’ experience'],\n",
       " ['4 – 7 years of experience'],\n",
       " ['5  years relevant experience'],\n",
       " ['4 Consulting firms \\uf0d8 Experience building and analysing models using various statistical tools for predictive modelling \\uf0d8 Familiarity with theory and practice of machine learning \\uf0d8 Experience'],\n",
       " ['3 years of experience'],\n",
       " ['12 years of experience working extensively in MYSQL and other databases development across software products and application projects. ➢ Must have Coding Experience of 7  years in end to end MYSQL development on versions 5.6, 5.7 and above preferably in an ERP/Accounting Product or Application development project. ➢ Must have Strong Hands on experience in writing complex MySQL Queries, Stored procedures, Functions, Views, Cursors and Triggers etc throughout the career. ➢ Having experience of other relational and non-relational database systems such as Oracle, SQL Server, RDS and Mongo DB etc will be given advantage. ➢ Strong understanding in database design, implementation, troubleshooting and maintenance. ➢ Strong understanding of Query analysis, Query optimization and Database Performance Tuning. ➢ Experience in Cleansing/normalizing/importing data techniques or tools. ➢ Must have strong analytical and troubleshooting skills along with ability to write complex business logics as per Industry Best Practices. ➢ Having experience'],\n",
       " ['12 years of strong hands on experience on MySQL and other Database systems. ➢ Must have excellent analytical skills, presentations skills and communication skills. ➢ Must have consistently good academic records and consistency in educational/work background. ➢ Preference will be given to candidates with experience'],\n",
       " ['1 to 2 years of relevant work experience'],\n",
       " ['4 consultants or with MNC with relevant work experience. Hands on work experience preparing financials for India entities, co-ordination for statutory, Tax and TP and other compliance related matter for India. lCA with 4/5 years of experience'],\n",
       " ['3  years of work experience : Prefer prior experience'],\n",
       " ['5  years of experience'],\n",
       " ['3  years of experience in engineering with experience'],\n",
       " ['8  years of total work experience'],\n",
       " ['3  years. Candidates with technology industry experience'],\n",
       " ['5 years of product building experience'],\n",
       " ['4  years of experience'],\n",
       " ['4  years of Anaplan model building experience'],\n",
       " ['4  Extensive hands-on experience'],\n",
       " ['3 years of IT business analysis experience'],\n",
       " ['5  years of experience'],\n",
       " ['2  year of experience'],\n",
       " ['2  years of educational or professional experience'],\n",
       " ['5 - 6  years’ experience'],\n",
       " ['3 years of internal or external IT risk assessment and auditing experience'],\n",
       " ['2 year work experience'],\n",
       " ['4 years’ experience'],\n",
       " ['3 years of internal or external IT risk assessment and auditing experience'],\n",
       " ['2 year work experience'],\n",
       " ['7 years of a “Big 4” or professional firm or professional industry experience'],\n",
       " ['4 years of experience in software testing with at least 2 years in test delivery management i) Strong knowledge and hands on experience'],\n",
       " ['8 years of experience with minimum 2  years of experience as Solution Architect role and a minimum of 4  years of experience'],\n",
       " ['2 years complex Anaplan model building experience'],\n",
       " ['5 or more years of related experience'],\n",
       " ['10 to 15 years experience'],\n",
       " ['5  years commercial insights experience'],\n",
       " ['3  years commercial insights and we analytics experience'],\n",
       " ['5 - 7 years work experience'],\n",
       " [\"10  years' Business Intelligence / Analyst experience\"],\n",
       " ['100 million transactions and terabytes of data per day, leverage open-source technologies, and work on challenging and business-impacting projects. Responsibilities: You will be Designing and developing NextGen Security Analytics Product in the cloud from ground-up. Primary focus is on highly scalable search and aggregation framework design on top of search platform. Produce high quality software following good architecture and design principles that you and your team will find easy to work with in the future. Working with Big Data technologies Kafka and Elasticsearch or any other Search and DB technologies To develop search operators which will help analyst to use it. Design, develop, maintain products to build large scale tera bytes of indexes while giving fast searching in Java. Researching and implementing for code design, adoption of new technologies and skills. You will be creating high-performance Restful APIs to be consumed by external partners. You will be building highly scalable Micro-services that interacts with Qualys Cloud Platform Qualifications: Bachelors/Masters in Computer Science or equivalent. 8 years of JAVA development experience with microservices architecture. 5 years of experience in Spring/Spring-boot. 4 years of experience in Elastic Search/Solr/Lucene. 3 years of experience in Docker/Kubernetes. 1 year of experience in distribute DB query engine. Experience in create search operators. Experience in Linux and shell scripting. Strong logical skills for code design and implementation. Writing high-performance, reliable and maintainable code. Experience'],\n",
       " ['1  years of experience'],\n",
       " ['2  years of non-internship professional software development experience'],\n",
       " ['1  years of experience'],\n",
       " ['3 years of experience in process automation or as a process analyst with an additional 2-3 years audit experience'],\n",
       " [\"3  years' experience\"],\n",
       " ['5  years of experience'],\n",
       " ['3  years of experience in engineering with experience'],\n",
       " ['3  years experience'],\n",
       " ['3  years experience'],\n",
       " ['3  years experience'],\n",
       " ['5  years experience of relevant experience'],\n",
       " ['5  Years commercial digital experience'],\n",
       " ['7 years’ in Java/J2EE web application development: ➢ Must have strong hands on experience in Core Java, JDBC, MVC, Servlets, JSPs etc. ➢ Must have strong working experience on Java IDEs like Eclipse or Net beans, Build and version control tools like Maven, Ant, SVN, Github etc. ➢ Having past hands-on experience of ZK and ZUL Frameworks or Event driven web application programming will be a big plus and will be given preference. ➢ Having experience'],\n",
       " ['7 years of strong hands on Java/J2EE experience. ➢ Must have excellent analytical skills, presentations skills and communication skills. ➢ Must have consistently good academic records and consistency in educational/work background. ➢ Preference will be given to candidates with experience'],\n",
       " ['5 to 8 year(s) of experience'],\n",
       " ['5  years of experience'],\n",
       " ['4  years software, high tech, or management consulting experience'],\n",
       " ['4 years of professional data analysis experience'],\n",
       " ['10  years of experience'],\n",
       " ['12 years of relevant experience'],\n",
       " ['10 years of overall relevant work experience'],\n",
       " ['000 colleagues, all with a common goal to deliver an exceptional customer experience'],\n",
       " ['3 to 5 years of relevant experience'],\n",
       " ['4 audit background and/ internal audit experience'],\n",
       " ['2 years of experience in HR systems operations, preferably Workday HCM, including experience'],\n",
       " ['15  years of experience'],\n",
       " ['5  years of Team management experience'],\n",
       " ['2 - 9 years of experience'],\n",
       " ['1  year experience'],\n",
       " ['5  years of overall technology experience'],\n",
       " ['1  years of experience'],\n",
       " ['3  years of experience'],\n",
       " ['3 to 5 years of experience'],\n",
       " ['10 years of experience'],\n",
       " ['4  Years of relevant work experience (Business Intelligence tools, Data Analysis) and Prior experience'],\n",
       " ['4  years top tier analyst or consulting experience'],\n",
       " ['2  years of analytics experience'],\n",
       " ['4 years of experience'],\n",
       " ['2 years of experience'],\n",
       " ['3 Years experience'],\n",
       " [\"2  years of industry experience required and if Bachelor's degree, a minimum of 2  years of industry experience\"],\n",
       " ['5  years of industry experience'],\n",
       " ['10  years of relevant experience'],\n",
       " ['15  years of experience'],\n",
       " ['10  years of experience developing complex reporting dashboards with at least 2  years of experience'],\n",
       " ['12 years of overall proven experience'],\n",
       " ['4 years of supervisory experience'],\n",
       " ['5 years relevant experience'],\n",
       " ['7  years of experience'],\n",
       " ['3  years experience'],\n",
       " ['5 ad creation experience'],\n",
       " ['2 to 6 year(s) of experience'],\n",
       " ['3 yrs experience'],\n",
       " ['15  years of experience'],\n",
       " ['5 years of hands-on experience'],\n",
       " ['9   years of progressive business experience'],\n",
       " ['5 years of experience in consulting, business intelligence, analytics, or an equivalent analyst position with experience'],\n",
       " ['3 to 8 years of experience'],\n",
       " ['2  years of experience'],\n",
       " ['3  years of experience'],\n",
       " ['7  years of experience'],\n",
       " ['2 years of working experience as a database engineering support personnel or a database engineering administrator within a fast-paced a complex business setting. The candidate will also have had experience'],\n",
       " ['15 years of marketing experience'],\n",
       " ['5 years people management experience'],\n",
       " ['7 years of relevant experience'],\n",
       " ['2 years’ experience work experience'],\n",
       " ['000 team members can help solve any logistics, transport, or supply chain challenge – big or small. We have been supporting our customers for more than 130 years. Today, we support more than 20,000 customers worldwide with 500 sites in 25 countries, and a forwarding network spanning 150 countries.  Play an important role in our strategic journey at Toll Technology Centre (TTC) in Pune, India. As a progressive technology hub, we strive to continuously improve how we work. As a progressive technology hub renowned supply chain and logistics leader we are committed to delivering on $420 million in technological investments. Working closely with customers, help us transform our core systems, platforms, automations and interfaces for the better. Enjoy a secure, stable and safe environment, collaborating with teams of specialists in a positive team culture. Take on challenges that will grow your problem-solving skills with plenty of on-the-job learning experience'],\n",
       " ['7  years of WMS Support experience with hands on experience'],\n",
       " ['4  years of experience'],\n",
       " ['10  years of experience'],\n",
       " ['5  years of hands-on experience'],\n",
       " ['10  years of data engineering experience'],\n",
       " ['10  years of IT experience'],\n",
       " ['12  years of combined experience'],\n",
       " ['3  years of technical management experience'],\n",
       " ['7  years of hands-on software development experience'],\n",
       " ['5  years of data analytics experience'],\n",
       " ['6 years of professional experience'],\n",
       " ['10 years of relevant architecture experience'],\n",
       " ['5 years of software development experience'],\n",
       " ['8 years   industry experience with an educational background in MS or advanced degree in Computer Science, Computer Engineering, Math, Statistics, Engineering, a related field, or practical experience'],\n",
       " ['4  years of experience'],\n",
       " ['6 years of experience'],\n",
       " ['8  years’ experience'],\n",
       " ['8  years experience'],\n",
       " ['1 up to and including vR8X) and troubleshooting experience'],\n",
       " ['6 years of experience'],\n",
       " ['8 -10 years experience'],\n",
       " ['2  years of work experience'],\n",
       " ['2  years of non-analytics marketing experience'],\n",
       " ['5 years of strong programming experience'],\n",
       " ['5 years of experience'],\n",
       " ['000 people worldwide and our people share a common aspiration to be the very best. Whether serving our customers, working as a team or contributing to the community, we are working to build a unique company. A company that delivers unparalleled products created and supported by people with a wealth of different cultures and experience'],\n",
       " ['11  years working experience'],\n",
       " ['1 to 4 years overall experience with 2  years experience'],\n",
       " ['1 to 4 years overall experience'],\n",
       " ['10  DB SQL programming experience'],\n",
       " ['000 team members can help solve any logistics, transport, or supply chain challenge – big or small. We have been supporting our customers for more than 130 years. Today, we support more than 20,000 customers worldwide with 500 sites in 25 countries, and a forwarding network spanning 150 countries.  Play an important role in our strategic journey at Toll Technology Centre (TTC) in Pune, India. As a progressive technology hub, we strive to continuously improve how we work. As a progressive technology hub renowned supply chain and logistics leader we are committed to delivering on $420 million in technological investments. Working closely with customers, help us transform our core systems, platforms, automations and interfaces for the better. Enjoy a secure, stable and safe environment, collaborating with teams of specialists in a positive team culture. Take on challenges that will grow your problem-solving skills with plenty of on-the-job learning experience'],\n",
       " ['6 years experience'],\n",
       " ['12 YearsRemuneration:  Commensurate with your experience'],\n",
       " ['5 to 7 years of relevant experience'],\n",
       " ['5 to 7 years of relevant experience'],\n",
       " ['3 years of industry experience'],\n",
       " ['0 to 1 years of relevant work experience'],\n",
       " ['6  years of professional experience'],\n",
       " ['6  years of additional relevant professional experience'],\n",
       " ['5 years of experience'],\n",
       " ['3  Years of experience'],\n",
       " ['8  years of cross-functional experience'],\n",
       " ['4  years relevant industry accounting experience, including process and system experience'],\n",
       " ['5 years of relevant work experience'],\n",
       " ['8 years of relevant experience'],\n",
       " ['4  Years of relevant work experience (Business Intelligence tools, Data Analysis) and Prior experience'],\n",
       " ['5  years of experience'],\n",
       " ['10 years of relevant experience'],\n",
       " ['1 seeks an experience'],\n",
       " ['5 years’ experience'],\n",
       " ['2  years of experience in relevant domain experience'],\n",
       " ['000 companies - from startups to public companies - around the world use Freshworks software-as-a-service to enable a better customer experience ]CRM) and employee experience'],\n",
       " ['7  years of core product management experience in building features for developer facing or deep tech or B2B software products. Experience'],\n",
       " ['4  years of experience'],\n",
       " ['2 to 7 year(s) of experience'],\n",
       " ['2 – 3 years of relevant experience'],\n",
       " ['10 years’ experience as a Web Experience'],\n",
       " ['4  years of Experience'],\n",
       " ['4  years of hands-on experience'],\n",
       " ['8 years of professional experience'],\n",
       " ['2  years of experience'],\n",
       " ['2  years of experience'],\n",
       " ['2  years of lead experience'],\n",
       " ['2  years of experience'],\n",
       " ['1000 companies through quality solutions and services. Headquartered in Boca Raton, Florida, we help organizations simplify data management, secure business processes, and deliver insights – all in an effort to drive business outcomes and enhance the customer experience'],\n",
       " ['7  years of experience'],\n",
       " ['5  years of technical program management experience'],\n",
       " ['6  years experience'],\n",
       " ['6  years of hands-on experience'],\n",
       " ['3 to 5 years of experience'],\n",
       " ['100 million transactions and terabytes of data per day, leverage open-source technologies, and work on challenging and business-impacting projects. Responsibilities: You will be doing Application support for 24/7 of NextGen Security Analytics Product in the cloud from ground-up. You will be monitoring performance of highly scalable microservices and data processing pipelines. You will be supporting on Java based microservices , ELK , Kafka, Hadoop components Researching, implementing, Adoption of new monitoring technologies. Qualifications: Bachelors/Masters/Doctorate in Computer Science or equivalent 6 years of experience in supporting SaaS applications. 2 years of experience in supporting Java, Kafka related application. 2 years of experience in supporting Kubernetes, Docker based application. 2 years of experience in Elastic search . Strong logical skills for debugging and implementation. Experience in streaming applications and delivering scalable solutions. Experience'],\n",
       " ['1 seeks an experience'],\n",
       " ['3 years’ experience'],\n",
       " [\"10 data storage vendor faster than any other company in history. We continue to take market share while achieving record-setting customer satisfaction scores for the enterprise technology industry. For more information, check out our corporate fact sheet here. Topping the Bay Area's Best Places to Work lists for 5 years running, we've built a team that has a rich and diverse set of experience\"],\n",
       " ['7  years of software development experience'],\n",
       " ['1  years experience with Jenkins including development with Groovy, or similar experience'],\n",
       " ['6  years, banking transaction data experience'],\n",
       " ['15  years of experience'],\n",
       " ['5 years of hands-on experience'],\n",
       " ['6 years of experience'],\n",
       " ['1000 companies through quality solutions and services. Headquartered in Boca Raton, Florida, we help organizations simplify data management, secure business processes, and deliver insights – all in an effort to drive business outcomes and enhance the customer experience'],\n",
       " ['0 - 2 years of work experience'],\n",
       " ['2 years of professional data operations experience'],\n",
       " ['3  years of relevant experience'],\n",
       " ['3  years of experience'],\n",
       " ['2 years experience'],\n",
       " ['4  years experience in programming languages and latest technologies such Java, Javascript frameworks, RESTful Services, Spark, Scala, Python, Linux, Hive, Kafka, Redis, and Hortonworks • 1  years of hands on experience in integrating OTLP and ERP systems with big data/data lake repositories using ELT/ETL tools, preferably Informatica and Oracle • 1  year of hands on experience in implementing and using CI/CD framework technologies such as Jenkins or Bamboo • Experience with technologies and frameworks such as Hadoop, MapReduce, Pig, Hive, HBase, Flume, ZooKeeper, MongoDB, NoSQL and Cassandra • Experience with Data warehousing and data mining is a must • SQL is must to have • 3  years of experience working as a member of an Agile team • Understanding of strategic data planning, standards, procedures, and governance For this role, we value: • The ability to adapt quickly to a fast-paced environment • Excellent written and oral communication skills • A critical thinker that challenges assumptions and seeks new ideas • Proactive sharing of accomplishments, knowledge, lessons, and updates across the organization • Experience designing, building, testing and releasing software solutions in a complex, large organization • Demonstrated functional and technical leadership • Demonstrated analytical and problem-solving skills (ability to identify, formulate, and solve engineering problems) • Demonstrated understanding of Algorithms, Data Structures, Object Oriented Design, Databases (SQL / NoSQL) • JavaScript and Java development experience • Experience with RESTful Web Service Design • Experience with Azure, AWS or other Cloud-based PaaS/SaaS environments Overall Experience'],\n",
       " ['2  years of proven experience'],\n",
       " ['75 years. People at Boeing have been supporting mission readiness and modernization of India’s defense forces, and enabling connected, safer, and smarter flying experience'],\n",
       " ['12  years’ experience'],\n",
       " ['3  years relevant experience'],\n",
       " ['3  years of relevant experience in a business analyst, data analyst or statistical analysis role · Advanced technical or business degree (BE/Btech) · Experience'],\n",
       " ['5 years of relevant experience'],\n",
       " ['1 Linux basics Knowledge of Big Data ingestion, compute and orchestration such as Spark, Airflow, database connectors, Kafka Knowledge of SQL , NoSQL and Graph databases particularly PL/SQL and Vertica SQL 2 Knowledge of data modelling techniques and have experience in creating data models Conduct code review and experience with git workflows 3 Experience with unified query engines Trino/Presto or similar Technical Experience : 1 Experience with unit testing and integration/component testing Good to have 2 Experience developing applications with high volume transactions Experience with microservices and REST API development 3 Experience'],\n",
       " ['5  years of experience in a Data Engineer role, who has attained a Graduate degree in Computer Science, Statistics, Informatics, Information Systems or another quantitative field. They should also have experience'],\n",
       " ['2 -3 years of working experience'],\n",
       " ['7 years experience'],\n",
       " ['3 to 5 years of experience'],\n",
       " ['5 to 8 year(s) of experience'],\n",
       " ['4 to 5 years of relevant work experience'],\n",
       " ['8 years’ experience'],\n",
       " ['31 teams in over 22 countries to create a unique skillset for each client. We spark ingenuity with global creative sprints that cross time zones and borders and spur on the best of our talent. That includes exceptional brand consulting and strategic design, brilliance in experience'],\n",
       " ['6  yrs experience'],\n",
       " ['7  years’ experience in Supply Chain Management and 3  years of experience'],\n",
       " ['2 years of experience. Experience'],\n",
       " ['4 to 5 years of relevant work experience'],\n",
       " ['3 to 5 years of hands on experience in delivering data quality solutions, with at least 1 year experience'],\n",
       " ['5 to 8 years of Overall IT Experience'],\n",
       " ['5 years of Product Management experience. Experience'],\n",
       " ['2 years’ experience'],\n",
       " ['8 and above) development experience'],\n",
       " ['12 months of experience'],\n",
       " ['5 to 7 years of experience'],\n",
       " ['7 years experience with Core products or eight years experience with Applications products, BS Computer Science/Management Information Systems/Science/ Engineering/Math/Physics/Chemistry with 3.0 GPA OR (for Applications) proven professional/ technical experience'],\n",
       " ['3  years of experience'],\n",
       " ['3  years of experience'],\n",
       " ['5 to 7 years of IT experience'],\n",
       " ['12  years of product development experience'],\n",
       " ['8 years of professional experience'],\n",
       " ['10 - 15 years of experience'],\n",
       " ['5 years relevant experience'],\n",
       " ['4  years of documented experience'],\n",
       " ['2  years of PowerBI Development and Administration experience'],\n",
       " ['4 years of BI experience'],\n",
       " ['3  years of professional experience'],\n",
       " ['3 years of database design, modelling and integration experience'],\n",
       " ['4  years of experience as a Data or BI Engineer dealing with large complex data scenarios. For transitioned data-engineers, overall experience'],\n",
       " ['2  years of experience'],\n",
       " ['3  years of tax experience'],\n",
       " ['740 income tax accounting and experience'],\n",
       " ['4 and/or technology industry experience'],\n",
       " ['200 years of experience'],\n",
       " ['2  year of experience'],\n",
       " ['7  years of experience'],\n",
       " ['6 years of experience'],\n",
       " ['4 year of experience'],\n",
       " ['4 years of relevant work experience'],\n",
       " ['4 years of client-side JavaScript experience'],\n",
       " ['3 years of CSS experience'],\n",
       " ['3 year of HTML5 experience'],\n",
       " ['5  years of professional experience'],\n",
       " ['12 years of experience'],\n",
       " ['4  years of experience'],\n",
       " ['5 years relevant experience'],\n",
       " ['4 years of work experience'],\n",
       " ['8 years of experience in Technology organization (Internal Audit) or one of the Big 4 consulting firms with experience'],\n",
       " ['6 to 8 years working experience'],\n",
       " ['5 years of consulting, analytics delivery experience'],\n",
       " ['7  years of hands-on relational, dimensional, and/or analytic experience'],\n",
       " ['6 - 10  years of relevant experience'],\n",
       " ['4 years IT experience'],\n",
       " ['1 to 4 years of post-qualification experience in risk advisory/related ITGC audit experience/external audit experience'],\n",
       " ['6  yrs experience'],\n",
       " ['5 years of experience'],\n",
       " ['2  Years of experience'],\n",
       " ['10  years of professional experience as a hands-on software developer, with a considerable experience'],\n",
       " ['8   relevant industry experience'],\n",
       " ['3 to 5 years of experience'],\n",
       " ['5 years of work experience'],\n",
       " ['8  years of professional software development experience'],\n",
       " ['6  years of experience'],\n",
       " ['5  years of experience'],\n",
       " ['8 years of experience'],\n",
       " ['4 consulting firms with experience'],\n",
       " ['5 to 10 year(s) of experience'],\n",
       " ['5  years of programming or data warehousing experience'],\n",
       " ['5  years of experience'],\n",
       " ['15 to 22 year(s) of experience'],\n",
       " ['15 years plus experience'],\n",
       " ['10  years of Audit, Control, Risk or similar experience'],\n",
       " ['10  years of experience'],\n",
       " ['0 - 2 years of work experience'],\n",
       " ['5 - 8 years’ experience'],\n",
       " ['000 team members can help solve any logistics, transport, or supply chain challenge – big or small. We have been supporting our customers for more than 130 years. Today, we support more than 20,000 customers worldwide with 500 sites in 25 countries, and a forwarding network spanning 150 countries.  Play an important role in our strategic journey at Toll Technology Centre (TTC) in Pune, India. As a progressive technology hub, we strive to continuously improve how we work. As a progressive technology hub renowned supply chain and logistics leader we are committed to delivering on $420 million in technological investments. Working closely with customers, help us transform our core systems, platforms, automations and interfaces for the better. Enjoy a secure, stable and safe environment, collaborating with teams of specialists in a positive team culture. Take on challenges that will grow your problem-solving skills with plenty of on-the-job learning experience'],\n",
       " ['7 years relevant work experience'],\n",
       " ['3  years of technical experience'],\n",
       " [\"2 years' experience\"],\n",
       " ['1  years of experience'],\n",
       " ['10  years of experience'],\n",
       " ['0 to 1 years of relevant work experience'],\n",
       " ['1 to 3 years of relevant work experience'],\n",
       " ['6 years of post-qualification experience, across corporate finance and business finance · Results-oriented, highly energetic, dynamic individual with hands-on mentality · Advanced analytical skills and the ability to get into the details, while also seeing and understanding the big picture · Ability to work independently with staff at all levels of the organization · Demonstrated experience'],\n",
       " ['4 years of experience'],\n",
       " ['12 schools to engage the people they serve through programs and events, raise funds to enable their mission, and manage their financials and operations. Our family of brands are bound by a common purpose to serve the organizations that make our communities a better place to live. With over 1,600 employees in the US, Canada, UK, Australia, India, and the Philippines, we know that our success is driven entirely by the people of Community Brands. Through professional opportunity, we strive to give each person a clear path to success and personal growth. We embrace diversity and believe that our differences in experience'],\n",
       " ['3  years supply chain related functions, having tech sourcing experience'],\n",
       " ['3  years’ Consumer Credit experience in Analytics or in lieu of a degree, minimum 5  years’ Consumer Credit experience'],\n",
       " ['3  years hand on experience'],\n",
       " ['5 to 8 year(s) of experience'],\n",
       " ['8 years of experience'],\n",
       " ['7  years’ experience of Oracle Applications programming and analysis experience'],\n",
       " ['2 years of experience on Oracle Cloud SaaS with HCM/PAY, FIN and PPM or with Oracle eBusiness suite experience'],\n",
       " ['5 years of progressive experience'],\n",
       " ['3  years of experience'],\n",
       " [\"40 industries,we offer Strategy and Consulting,Technology and Operations Services, and Accenture Song - all powered by the world's largest network of Advanced Technology and Intelligent Operations centers. Our 699,000 people deliver on the promise of technology and human ingenuity every day, serving clients in more than 120 countries. We embrace the power of change to create value and shared success for our clients, people, shareholders, partners and communities. Visit us at www.accenture.com  Management Consultant - Travelandlt;br or andgt; andlt;br or andgt; Find endless opportunities to solve the most pressing client needs and challenges especially during the backdrop of a global pandemic as we adapt to the new normal. andlt;br or andgt; andlt;br or andgt; Practice: Industry Consulting Capability Network I Areas of Work: Travel | Level: Analyst or Consultant | Location: Delhi Gurgaon Mumbai Bangalore| Years of Exp: 2-7 years andlt;br or andgt; andlt;br or andgt; Explore an Exciting Career at Accentureandlt;br or andgt; andlt;br or andgt; Are you an outcome-oriented problem solver. Do you enjoy working on transformation strategies for global clients. Does working in an inclusive and collaborative environment spark your interest. andlt;br or andgt; andlt;br or andgt; Then Accenture Strategy and Consulting is the right place for you to explore limitless possibilities.andlt;br or andgt; andlt;br or andgt; As a part of the Travel Consulting practice you will work with a team of leading practitioners across travel-aligned industries such as Hospitality Aviation Cargo Airports Cruise and more. andlt;br or andgt; andlt;br or andgt; Our practitioners bring in the right blend of strategic operational and industry experience to help the travel industry transform to win tomorrow’s customer. As a part of the Capability Network team you’ll help drive the following:andlt;br or andgt; andlt;br or andgt; • Identify and structure key issues into an issue-tree and set of hypotheses and plan and conduct research and analyses that address the most appropriate issues.andlt;br or andgt; • Understand company’s key strategic and operational issues spanning market definition industry trends and so on.andlt;br or andgt; • Develop innovative fact-based and achievable strategies and operating models after evaluation of multiple strategic options.andlt;br or andgt; • Utilize industry knowledge to be able to make implementation-oriented recommendations.andlt;br or andgt; • Develop business case elements to highlight the financial implication of recommendations.andlt;br or andgt; • Identify industry specific operating metrics and link them to relevant financial metrics to identify the key value drivers for a client.andlt;br or andgt; • Develop knowledge of prevailing trends financials and operating drivers across multiple industry segments.andlt;br or andgt; • Compile data conduct analyses of data to build a business case and model business scenarios.andlt;br or andgt; • Leverage data and information to develop a well-structured cohesive presentation; apply strong PowerPoint or document creation skills to structure and create client-ready deliverables.andlt;br or andgt; • Demonstrate good judgement in how to engage with senior stakeholders regarding follow ups.andlt;br or andgt; andlt;br or andgt; Bring your best skills forward to excel in the role:andlt;br or andgt; • Ability to conduct primary and secondary research to unearth facts and generate actionable insightsandlt;br or andgt; • Data-driven consulting and visualization skills - Ability to create data visualizations and derive analytical insights using PowerBI or Tableau or R or Python or Alteryx andlt;br or andgt; • In-depth knowledge of digital offerings in Strategy Marketing Sales or Operationsandlt;br or andgt; • Familiarity with platforms such as Amadeus Adobe Experience\"],\n",
       " ['1 or Tier 2 business school • Strong travel industry experience in business consulting or IT Consulting in any of the following sub-segments:o Hospitality .Hotels or Cruises.o Travel .Airlines or Cargo or Airport.o Travel services .Tour andamp; Travel Services or Rental Services.• Experience in specific functional areas within the above industries:o Airlines: Ticketing andamp; Reservations Pricing andamp; Revenue Management Procurement for Airline Operations Ground Operations and Airlines Loyalty Managemento Airports: Airport Management Systems Passenger experience management o Hotels: Property management systems Guest experience and Loyalty Managemento Air Cargo: Operations Reservation Systems Pricing and Revenue Managemento Travel Services: Travel Payments Travel Insurance Customer Experience Management• Deep experience across multiple technology strategy areas such as: Digital andamp; Technology Strategy Operating Model Design Sourcing Strategy IT Shared Services Strategy Process Transformation Value case or business case formulation Agile ways of working and Enterprise Architecture.• Experience in areas such as Forecasting Classification and advanced statistical and AI or ML modelling using various approaches is desirable.• Certifications in Agile methodology and or or IATA-approved Travel andamp; Hospitality courses desired• Project delivery experience'],\n",
       " ['1 Minimum 2  years relevant experience'],\n",
       " ['2 Must have at least 2 years of experience'],\n",
       " ['3 Must have excellent oral and written communication skills and have extensive experience'],\n",
       " ['5 Must have experience'],\n",
       " ['4 - 9 years of experience'],\n",
       " ['0 - 2 years of relevant professional experience'],\n",
       " ['12 years overall experience; 5  years of experience working directly on the design and development of intelligent automation tools; 5  years of experience'],\n",
       " ['2  years experience'],\n",
       " ['3 years of administrative experience'],\n",
       " ['10 years of overall technology experience'],\n",
       " ['5  years of experience'],\n",
       " ['5  years of experience'],\n",
       " ['5  years in cloud data engineering experience'],\n",
       " ['5  years of experience'],\n",
       " ['10  years of experience'],\n",
       " ['10 years   of Functional Experience']]"
      ]
     },
     "execution_count": 357,
     "metadata": {},
     "output_type": "execute_result"
    }
   ],
   "source": [
    "exp"
   ]
  },
  {
   "cell_type": "code",
   "execution_count": 359,
   "id": "2ebbda22-b58c-47ea-9936-dba9e20e4759",
   "metadata": {},
   "outputs": [
    {
     "data": {
      "text/plain": [
       "895"
      ]
     },
     "execution_count": 359,
     "metadata": {},
     "output_type": "execute_result"
    }
   ],
   "source": [
    "len(exp)"
   ]
  },
  {
   "cell_type": "code",
   "execution_count": 3,
   "id": "727c27fc-e381-4fe8-912e-1dde3e8fbe3e",
   "metadata": {},
   "outputs": [
    {
     "ename": "NameError",
     "evalue": "name 'exp' is not defined",
     "output_type": "error",
     "traceback": [
      "\u001b[1;31m---------------------------------------------------------------------------\u001b[0m",
      "\u001b[1;31mNameError\u001b[0m                                 Traceback (most recent call last)",
      "Cell \u001b[1;32mIn [3], line 1\u001b[0m\n\u001b[1;32m----> 1\u001b[0m df2[\u001b[38;5;124m'\u001b[39m\u001b[38;5;124mYears of Experience\u001b[39m\u001b[38;5;124m'\u001b[39m] \u001b[38;5;241m=\u001b[39m  np\u001b[38;5;241m.\u001b[39marray(\u001b[43mexp\u001b[49m)\n",
      "\u001b[1;31mNameError\u001b[0m: name 'exp' is not defined"
     ]
    }
   ],
   "source": [
    "df2['Years of Experience'] =  np.array(exp)\n"
   ]
  },
  {
   "cell_type": "code",
   "execution_count": 360,
   "id": "d0ef5bb5-3406-4d7e-b5d5-0f300b2d3934",
   "metadata": {},
   "outputs": [
    {
     "data": {
      "text/plain": [
       "(843, 10)"
      ]
     },
     "execution_count": 360,
     "metadata": {},
     "output_type": "execute_result"
    }
   ],
   "source": [
    "df2.shape"
   ]
  },
  {
   "cell_type": "code",
   "execution_count": null,
   "id": "0077b025-7bf5-44e9-8a17-69eaf6547334",
   "metadata": {},
   "outputs": [],
   "source": []
  }
 ],
 "metadata": {
  "kernelspec": {
   "display_name": "Python 3 (ipykernel)",
   "language": "python",
   "name": "python3"
  },
  "language_info": {
   "codemirror_mode": {
    "name": "ipython",
    "version": 3
   },
   "file_extension": ".py",
   "mimetype": "text/x-python",
   "name": "python",
   "nbconvert_exporter": "python",
   "pygments_lexer": "ipython3",
   "version": "3.10.7"
  }
 },
 "nbformat": 4,
 "nbformat_minor": 5
}
