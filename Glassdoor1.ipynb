{
 "cells": [
  {
   "cell_type": "code",
   "execution_count": 110,
   "id": "962cf346-b2d4-44aa-974a-23030668eda7",
   "metadata": {},
   "outputs": [],
   "source": [
    "import requests\n",
    "from bs4 import BeautifulSoup\n",
    "import pandas as pd\n",
    "from selenium import webdriver\n",
    "import time\n",
    "from selenium.webdriver.common.keys import Keys\n",
    "from selenium.webdriver.common.by import By\n",
    "import numpy as np\n",
    "import re "
   ]
  },
  {
   "cell_type": "code",
   "execution_count": 111,
   "id": "a36635eb-e6f6-4438-85ea-006e824d9f23",
   "metadata": {},
   "outputs": [],
   "source": [
    "df= pd.read_csv('glassdoor1.csv')\n",
    "df2=df\n",
    "df3=df"
   ]
  },
  {
   "cell_type": "code",
   "execution_count": 112,
   "id": "0ec87ba9-6640-4391-9942-d7d86c0dbe21",
   "metadata": {},
   "outputs": [
    {
     "data": {
      "text/html": [
       "<div>\n",
       "<style scoped>\n",
       "    .dataframe tbody tr th:only-of-type {\n",
       "        vertical-align: middle;\n",
       "    }\n",
       "\n",
       "    .dataframe tbody tr th {\n",
       "        vertical-align: top;\n",
       "    }\n",
       "\n",
       "    .dataframe thead th {\n",
       "        text-align: right;\n",
       "    }\n",
       "</style>\n",
       "<table border=\"1\" class=\"dataframe\">\n",
       "  <thead>\n",
       "    <tr style=\"text-align: right;\">\n",
       "      <th></th>\n",
       "      <th>Unnamed: 0</th>\n",
       "      <th>Company Name</th>\n",
       "      <th>Job Title</th>\n",
       "      <th>Job Tocation</th>\n",
       "      <th>Ratings</th>\n",
       "      <th>Salary</th>\n",
       "      <th>Links</th>\n",
       "      <th>Skills</th>\n",
       "    </tr>\n",
       "  </thead>\n",
       "  <tbody>\n",
       "    <tr>\n",
       "      <th>0</th>\n",
       "      <td>0</td>\n",
       "      <td>Larsen &amp; Toubro Infotech Limited</td>\n",
       "      <td>Data Science</td>\n",
       "      <td>Mumbai</td>\n",
       "      <td>3.8</td>\n",
       "      <td>₹5L - ₹8L (Glassdoor Est.)</td>\n",
       "      <td>https://www.glassdoor.co.in/partner/jobListing...</td>\n",
       "      <td>['Job Location Mumbai', '', '', 'Job Descripti...</td>\n",
       "    </tr>\n",
       "    <tr>\n",
       "      <th>1</th>\n",
       "      <td>1</td>\n",
       "      <td>Deloitte</td>\n",
       "      <td>Senior Analyst- Research &amp; Insights- Data Scie...</td>\n",
       "      <td>Hyderābād</td>\n",
       "      <td>4.1</td>\n",
       "      <td>₹5L - ₹8L (Glassdoor Est.)</td>\n",
       "      <td>https://www.glassdoor.co.in/partner/jobListing...</td>\n",
       "      <td>['Job Location Bhopal', '', '', 'Job Descripti...</td>\n",
       "    </tr>\n",
       "    <tr>\n",
       "      <th>2</th>\n",
       "      <td>2</td>\n",
       "      <td>Flairmid Software Pvt Ltd</td>\n",
       "      <td>Junior Data Scientist</td>\n",
       "      <td>Pune</td>\n",
       "      <td>None</td>\n",
       "      <td>₹2L (Employer Est.)</td>\n",
       "      <td>https://www.glassdoor.co.in/partner/jobListing...</td>\n",
       "      <td>['Job Location Katha Baddi', '', '', 'Job Desc...</td>\n",
       "    </tr>\n",
       "    <tr>\n",
       "      <th>3</th>\n",
       "      <td>3</td>\n",
       "      <td>Shell</td>\n",
       "      <td>Associate Data Scientist</td>\n",
       "      <td>Chennai</td>\n",
       "      <td>4.1</td>\n",
       "      <td>₹10L - ₹20L (Glassdoor Est.)</td>\n",
       "      <td>https://www.glassdoor.co.in/partner/jobListing...</td>\n",
       "      <td>['', \"At Boeing, we innovate and collaborate t...</td>\n",
       "    </tr>\n",
       "    <tr>\n",
       "      <th>4</th>\n",
       "      <td>4</td>\n",
       "      <td>Brimming Grace Capital Pvt Ltd</td>\n",
       "      <td>Data Scientist Intern</td>\n",
       "      <td>Gurgaon</td>\n",
       "      <td>None</td>\n",
       "      <td>₹7L - ₹15L (Employer Est.)</td>\n",
       "      <td>https://www.glassdoor.co.in/partner/jobListing...</td>\n",
       "      <td>['Our client Successful SA technology group is...</td>\n",
       "    </tr>\n",
       "    <tr>\n",
       "      <th>...</th>\n",
       "      <td>...</td>\n",
       "      <td>...</td>\n",
       "      <td>...</td>\n",
       "      <td>...</td>\n",
       "      <td>...</td>\n",
       "      <td>...</td>\n",
       "      <td>...</td>\n",
       "      <td>...</td>\n",
       "    </tr>\n",
       "    <tr>\n",
       "      <th>895</th>\n",
       "      <td>895</td>\n",
       "      <td>L'Oreal</td>\n",
       "      <td>Associate Data Scientist</td>\n",
       "      <td>Mumbai</td>\n",
       "      <td>None</td>\n",
       "      <td>₹8L - ₹18L (Glassdoor Est.)</td>\n",
       "      <td>https://www.glassdoor.co.in/partner/jobListing...</td>\n",
       "      <td>['Job Title:\\nData Scientist - Data Science\\nJ...</td>\n",
       "    </tr>\n",
       "    <tr>\n",
       "      <th>896</th>\n",
       "      <td>896</td>\n",
       "      <td>Alpha Net Consulting</td>\n",
       "      <td>Data Scientist/Machine Learning</td>\n",
       "      <td>India</td>\n",
       "      <td>4.1</td>\n",
       "      <td>₹6L - ₹14L (Employer Est.)</td>\n",
       "      <td>https://www.glassdoor.co.in/partner/jobListing...</td>\n",
       "      <td>[\"About the Role\\n\\nNumerator is a data and te...</td>\n",
       "    </tr>\n",
       "    <tr>\n",
       "      <th>897</th>\n",
       "      <td>897</td>\n",
       "      <td>Visa</td>\n",
       "      <td>Sr. Data Scientist, Visa Consulting and Analytics</td>\n",
       "      <td>Bangalore</td>\n",
       "      <td>5</td>\n",
       "      <td>₹3L - ₹5L (Employer Est.)</td>\n",
       "      <td>https://www.glassdoor.co.in/partner/jobListing...</td>\n",
       "      <td>['Hello', 'There are job openings for Data Sci...</td>\n",
       "    </tr>\n",
       "    <tr>\n",
       "      <th>898</th>\n",
       "      <td>898</td>\n",
       "      <td>prwatech technologies</td>\n",
       "      <td>Artificial Intelligence Internship</td>\n",
       "      <td>Pune</td>\n",
       "      <td>4</td>\n",
       "      <td>₹2L - ₹7L (Glassdoor Est.)</td>\n",
       "      <td>https://www.glassdoor.co.in/partner/jobListing...</td>\n",
       "      <td>['Shape Your Future With Us\\nGeneral Re Corpor...</td>\n",
       "    </tr>\n",
       "    <tr>\n",
       "      <th>899</th>\n",
       "      <td>899</td>\n",
       "      <td>Tanishq Enterprises pvt ltd</td>\n",
       "      <td>Data Science Intern</td>\n",
       "      <td>Pune</td>\n",
       "      <td>4.4</td>\n",
       "      <td>₹4L - ₹6L (Glassdoor Est.)</td>\n",
       "      <td>https://www.glassdoor.co.in/partner/jobListing...</td>\n",
       "      <td>['A Natural Language Processing (NLP) expert w...</td>\n",
       "    </tr>\n",
       "  </tbody>\n",
       "</table>\n",
       "<p>900 rows × 8 columns</p>\n",
       "</div>"
      ],
      "text/plain": [
       "     Unnamed: 0                      Company Name  \\\n",
       "0             0  Larsen & Toubro Infotech Limited   \n",
       "1             1                          Deloitte   \n",
       "2             2         Flairmid Software Pvt Ltd   \n",
       "3             3                             Shell   \n",
       "4             4    Brimming Grace Capital Pvt Ltd   \n",
       "..          ...                               ...   \n",
       "895         895                           L'Oreal   \n",
       "896         896              Alpha Net Consulting   \n",
       "897         897                              Visa   \n",
       "898         898             prwatech technologies   \n",
       "899         899       Tanishq Enterprises pvt ltd   \n",
       "\n",
       "                                             Job Title Job Tocation Ratings  \\\n",
       "0                                         Data Science       Mumbai     3.8   \n",
       "1    Senior Analyst- Research & Insights- Data Scie...    Hyderābād     4.1   \n",
       "2                                Junior Data Scientist         Pune    None   \n",
       "3                             Associate Data Scientist      Chennai     4.1   \n",
       "4                                Data Scientist Intern      Gurgaon    None   \n",
       "..                                                 ...          ...     ...   \n",
       "895                           Associate Data Scientist       Mumbai    None   \n",
       "896                    Data Scientist/Machine Learning        India     4.1   \n",
       "897  Sr. Data Scientist, Visa Consulting and Analytics    Bangalore       5   \n",
       "898                 Artificial Intelligence Internship         Pune       4   \n",
       "899                                Data Science Intern         Pune     4.4   \n",
       "\n",
       "                           Salary  \\\n",
       "0      ₹5L - ₹8L (Glassdoor Est.)   \n",
       "1      ₹5L - ₹8L (Glassdoor Est.)   \n",
       "2             ₹2L (Employer Est.)   \n",
       "3    ₹10L - ₹20L (Glassdoor Est.)   \n",
       "4      ₹7L - ₹15L (Employer Est.)   \n",
       "..                            ...   \n",
       "895   ₹8L - ₹18L (Glassdoor Est.)   \n",
       "896    ₹6L - ₹14L (Employer Est.)   \n",
       "897     ₹3L - ₹5L (Employer Est.)   \n",
       "898    ₹2L - ₹7L (Glassdoor Est.)   \n",
       "899    ₹4L - ₹6L (Glassdoor Est.)   \n",
       "\n",
       "                                                 Links  \\\n",
       "0    https://www.glassdoor.co.in/partner/jobListing...   \n",
       "1    https://www.glassdoor.co.in/partner/jobListing...   \n",
       "2    https://www.glassdoor.co.in/partner/jobListing...   \n",
       "3    https://www.glassdoor.co.in/partner/jobListing...   \n",
       "4    https://www.glassdoor.co.in/partner/jobListing...   \n",
       "..                                                 ...   \n",
       "895  https://www.glassdoor.co.in/partner/jobListing...   \n",
       "896  https://www.glassdoor.co.in/partner/jobListing...   \n",
       "897  https://www.glassdoor.co.in/partner/jobListing...   \n",
       "898  https://www.glassdoor.co.in/partner/jobListing...   \n",
       "899  https://www.glassdoor.co.in/partner/jobListing...   \n",
       "\n",
       "                                                Skills  \n",
       "0    ['Job Location Mumbai', '', '', 'Job Descripti...  \n",
       "1    ['Job Location Bhopal', '', '', 'Job Descripti...  \n",
       "2    ['Job Location Katha Baddi', '', '', 'Job Desc...  \n",
       "3    ['', \"At Boeing, we innovate and collaborate t...  \n",
       "4    ['Our client Successful SA technology group is...  \n",
       "..                                                 ...  \n",
       "895  ['Job Title:\\nData Scientist - Data Science\\nJ...  \n",
       "896  [\"About the Role\\n\\nNumerator is a data and te...  \n",
       "897  ['Hello', 'There are job openings for Data Sci...  \n",
       "898  ['Shape Your Future With Us\\nGeneral Re Corpor...  \n",
       "899  ['A Natural Language Processing (NLP) expert w...  \n",
       "\n",
       "[900 rows x 8 columns]"
      ]
     },
     "execution_count": 112,
     "metadata": {},
     "output_type": "execute_result"
    }
   ],
   "source": [
    "df2"
   ]
  },
  {
   "cell_type": "code",
   "execution_count": 114,
   "id": "3cf64903-4ee4-4d3d-ae7f-72a46a3bb32c",
   "metadata": {},
   "outputs": [
    {
     "data": {
      "text/html": [
       "<div>\n",
       "<style scoped>\n",
       "    .dataframe tbody tr th:only-of-type {\n",
       "        vertical-align: middle;\n",
       "    }\n",
       "\n",
       "    .dataframe tbody tr th {\n",
       "        vertical-align: top;\n",
       "    }\n",
       "\n",
       "    .dataframe thead th {\n",
       "        text-align: right;\n",
       "    }\n",
       "</style>\n",
       "<table border=\"1\" class=\"dataframe\">\n",
       "  <thead>\n",
       "    <tr style=\"text-align: right;\">\n",
       "      <th></th>\n",
       "      <th>Unnamed: 0</th>\n",
       "      <th>Company Name</th>\n",
       "      <th>Job Title</th>\n",
       "      <th>Job Tocation</th>\n",
       "      <th>Ratings</th>\n",
       "      <th>Salary</th>\n",
       "      <th>Links</th>\n",
       "      <th>Skills</th>\n",
       "    </tr>\n",
       "  </thead>\n",
       "  <tbody>\n",
       "    <tr>\n",
       "      <th>0</th>\n",
       "      <td>0</td>\n",
       "      <td>Larsen &amp; Toubro Infotech Limited</td>\n",
       "      <td>Data Science</td>\n",
       "      <td>Mumbai</td>\n",
       "      <td>3.8</td>\n",
       "      <td>₹5L - ₹8L (Glassdoor Est.)</td>\n",
       "      <td>https://www.glassdoor.co.in/partner/jobListing...</td>\n",
       "      <td>['Job Location Mumbai', '', '', 'Job Descripti...</td>\n",
       "    </tr>\n",
       "    <tr>\n",
       "      <th>1</th>\n",
       "      <td>1</td>\n",
       "      <td>Deloitte</td>\n",
       "      <td>Senior Analyst- Research &amp; Insights- Data Scie...</td>\n",
       "      <td>Hyderābād</td>\n",
       "      <td>4.1</td>\n",
       "      <td>₹5L - ₹8L (Glassdoor Est.)</td>\n",
       "      <td>https://www.glassdoor.co.in/partner/jobListing...</td>\n",
       "      <td>['Job Location Bhopal', '', '', 'Job Descripti...</td>\n",
       "    </tr>\n",
       "    <tr>\n",
       "      <th>2</th>\n",
       "      <td>2</td>\n",
       "      <td>Flairmid Software Pvt Ltd</td>\n",
       "      <td>Junior Data Scientist</td>\n",
       "      <td>Pune</td>\n",
       "      <td>NaN</td>\n",
       "      <td>₹2L (Employer Est.)</td>\n",
       "      <td>https://www.glassdoor.co.in/partner/jobListing...</td>\n",
       "      <td>['Job Location Katha Baddi', '', '', 'Job Desc...</td>\n",
       "    </tr>\n",
       "    <tr>\n",
       "      <th>3</th>\n",
       "      <td>3</td>\n",
       "      <td>Shell</td>\n",
       "      <td>Associate Data Scientist</td>\n",
       "      <td>Chennai</td>\n",
       "      <td>4.1</td>\n",
       "      <td>₹10L - ₹20L (Glassdoor Est.)</td>\n",
       "      <td>https://www.glassdoor.co.in/partner/jobListing...</td>\n",
       "      <td>['', \"At Boeing, we innovate and collaborate t...</td>\n",
       "    </tr>\n",
       "    <tr>\n",
       "      <th>4</th>\n",
       "      <td>4</td>\n",
       "      <td>Brimming Grace Capital Pvt Ltd</td>\n",
       "      <td>Data Scientist Intern</td>\n",
       "      <td>Gurgaon</td>\n",
       "      <td>NaN</td>\n",
       "      <td>₹7L - ₹15L (Employer Est.)</td>\n",
       "      <td>https://www.glassdoor.co.in/partner/jobListing...</td>\n",
       "      <td>['Our client Successful SA technology group is...</td>\n",
       "    </tr>\n",
       "    <tr>\n",
       "      <th>...</th>\n",
       "      <td>...</td>\n",
       "      <td>...</td>\n",
       "      <td>...</td>\n",
       "      <td>...</td>\n",
       "      <td>...</td>\n",
       "      <td>...</td>\n",
       "      <td>...</td>\n",
       "      <td>...</td>\n",
       "    </tr>\n",
       "    <tr>\n",
       "      <th>895</th>\n",
       "      <td>895</td>\n",
       "      <td>L'Oreal</td>\n",
       "      <td>Associate Data Scientist</td>\n",
       "      <td>Mumbai</td>\n",
       "      <td>NaN</td>\n",
       "      <td>₹8L - ₹18L (Glassdoor Est.)</td>\n",
       "      <td>https://www.glassdoor.co.in/partner/jobListing...</td>\n",
       "      <td>['Job Title:\\nData Scientist - Data Science\\nJ...</td>\n",
       "    </tr>\n",
       "    <tr>\n",
       "      <th>896</th>\n",
       "      <td>896</td>\n",
       "      <td>Alpha Net Consulting</td>\n",
       "      <td>Data Scientist/Machine Learning</td>\n",
       "      <td>India</td>\n",
       "      <td>4.1</td>\n",
       "      <td>₹6L - ₹14L (Employer Est.)</td>\n",
       "      <td>https://www.glassdoor.co.in/partner/jobListing...</td>\n",
       "      <td>[\"About the Role\\n\\nNumerator is a data and te...</td>\n",
       "    </tr>\n",
       "    <tr>\n",
       "      <th>897</th>\n",
       "      <td>897</td>\n",
       "      <td>Visa</td>\n",
       "      <td>Sr. Data Scientist, Visa Consulting and Analytics</td>\n",
       "      <td>Bangalore</td>\n",
       "      <td>5</td>\n",
       "      <td>₹3L - ₹5L (Employer Est.)</td>\n",
       "      <td>https://www.glassdoor.co.in/partner/jobListing...</td>\n",
       "      <td>['Hello', 'There are job openings for Data Sci...</td>\n",
       "    </tr>\n",
       "    <tr>\n",
       "      <th>898</th>\n",
       "      <td>898</td>\n",
       "      <td>prwatech technologies</td>\n",
       "      <td>Artificial Intelligence Internship</td>\n",
       "      <td>Pune</td>\n",
       "      <td>4</td>\n",
       "      <td>₹2L - ₹7L (Glassdoor Est.)</td>\n",
       "      <td>https://www.glassdoor.co.in/partner/jobListing...</td>\n",
       "      <td>['Shape Your Future With Us\\nGeneral Re Corpor...</td>\n",
       "    </tr>\n",
       "    <tr>\n",
       "      <th>899</th>\n",
       "      <td>899</td>\n",
       "      <td>Tanishq Enterprises pvt ltd</td>\n",
       "      <td>Data Science Intern</td>\n",
       "      <td>Pune</td>\n",
       "      <td>4.4</td>\n",
       "      <td>₹4L - ₹6L (Glassdoor Est.)</td>\n",
       "      <td>https://www.glassdoor.co.in/partner/jobListing...</td>\n",
       "      <td>['A Natural Language Processing (NLP) expert w...</td>\n",
       "    </tr>\n",
       "  </tbody>\n",
       "</table>\n",
       "<p>900 rows × 8 columns</p>\n",
       "</div>"
      ],
      "text/plain": [
       "     Unnamed: 0                      Company Name  \\\n",
       "0             0  Larsen & Toubro Infotech Limited   \n",
       "1             1                          Deloitte   \n",
       "2             2         Flairmid Software Pvt Ltd   \n",
       "3             3                             Shell   \n",
       "4             4    Brimming Grace Capital Pvt Ltd   \n",
       "..          ...                               ...   \n",
       "895         895                           L'Oreal   \n",
       "896         896              Alpha Net Consulting   \n",
       "897         897                              Visa   \n",
       "898         898             prwatech technologies   \n",
       "899         899       Tanishq Enterprises pvt ltd   \n",
       "\n",
       "                                             Job Title Job Tocation Ratings  \\\n",
       "0                                         Data Science       Mumbai     3.8   \n",
       "1    Senior Analyst- Research & Insights- Data Scie...    Hyderābād     4.1   \n",
       "2                                Junior Data Scientist         Pune     NaN   \n",
       "3                             Associate Data Scientist      Chennai     4.1   \n",
       "4                                Data Scientist Intern      Gurgaon     NaN   \n",
       "..                                                 ...          ...     ...   \n",
       "895                           Associate Data Scientist       Mumbai     NaN   \n",
       "896                    Data Scientist/Machine Learning        India     4.1   \n",
       "897  Sr. Data Scientist, Visa Consulting and Analytics    Bangalore       5   \n",
       "898                 Artificial Intelligence Internship         Pune       4   \n",
       "899                                Data Science Intern         Pune     4.4   \n",
       "\n",
       "                           Salary  \\\n",
       "0      ₹5L - ₹8L (Glassdoor Est.)   \n",
       "1      ₹5L - ₹8L (Glassdoor Est.)   \n",
       "2             ₹2L (Employer Est.)   \n",
       "3    ₹10L - ₹20L (Glassdoor Est.)   \n",
       "4      ₹7L - ₹15L (Employer Est.)   \n",
       "..                            ...   \n",
       "895   ₹8L - ₹18L (Glassdoor Est.)   \n",
       "896    ₹6L - ₹14L (Employer Est.)   \n",
       "897     ₹3L - ₹5L (Employer Est.)   \n",
       "898    ₹2L - ₹7L (Glassdoor Est.)   \n",
       "899    ₹4L - ₹6L (Glassdoor Est.)   \n",
       "\n",
       "                                                 Links  \\\n",
       "0    https://www.glassdoor.co.in/partner/jobListing...   \n",
       "1    https://www.glassdoor.co.in/partner/jobListing...   \n",
       "2    https://www.glassdoor.co.in/partner/jobListing...   \n",
       "3    https://www.glassdoor.co.in/partner/jobListing...   \n",
       "4    https://www.glassdoor.co.in/partner/jobListing...   \n",
       "..                                                 ...   \n",
       "895  https://www.glassdoor.co.in/partner/jobListing...   \n",
       "896  https://www.glassdoor.co.in/partner/jobListing...   \n",
       "897  https://www.glassdoor.co.in/partner/jobListing...   \n",
       "898  https://www.glassdoor.co.in/partner/jobListing...   \n",
       "899  https://www.glassdoor.co.in/partner/jobListing...   \n",
       "\n",
       "                                                Skills  \n",
       "0    ['Job Location Mumbai', '', '', 'Job Descripti...  \n",
       "1    ['Job Location Bhopal', '', '', 'Job Descripti...  \n",
       "2    ['Job Location Katha Baddi', '', '', 'Job Desc...  \n",
       "3    ['', \"At Boeing, we innovate and collaborate t...  \n",
       "4    ['Our client Successful SA technology group is...  \n",
       "..                                                 ...  \n",
       "895  ['Job Title:\\nData Scientist - Data Science\\nJ...  \n",
       "896  [\"About the Role\\n\\nNumerator is a data and te...  \n",
       "897  ['Hello', 'There are job openings for Data Sci...  \n",
       "898  ['Shape Your Future With Us\\nGeneral Re Corpor...  \n",
       "899  ['A Natural Language Processing (NLP) expert w...  \n",
       "\n",
       "[900 rows x 8 columns]"
      ]
     },
     "execution_count": 114,
     "metadata": {},
     "output_type": "execute_result"
    }
   ],
   "source": [
    "df3.replace('None', np.nan)"
   ]
  },
  {
   "cell_type": "code",
   "execution_count": 115,
   "id": "c7a4e1ad-7f26-40f1-b2ef-c6b1be0b9bde",
   "metadata": {},
   "outputs": [],
   "source": [
    "df3 = df3.dropna(subset=['Job Title'])"
   ]
  },
  {
   "cell_type": "code",
   "execution_count": 116,
   "id": "5d1c45ba-366b-4ac3-ab6e-218b6d37a219",
   "metadata": {},
   "outputs": [],
   "source": [
    "df3=df3.drop_duplicates()"
   ]
  },
  {
   "cell_type": "code",
   "execution_count": 117,
   "id": "32dd5a06-3f96-41e6-b146-61e3a1b60cd8",
   "metadata": {},
   "outputs": [],
   "source": [
    "df3.reset_index(drop=True, inplace=True)"
   ]
  },
  {
   "cell_type": "code",
   "execution_count": 118,
   "id": "5e7e4bf5-aee8-4bee-8bad-d5dcd2fe6756",
   "metadata": {},
   "outputs": [
    {
     "data": {
      "text/plain": [
       "(900, 8)"
      ]
     },
     "execution_count": 118,
     "metadata": {},
     "output_type": "execute_result"
    }
   ],
   "source": [
    "df3.shape"
   ]
  },
  {
   "cell_type": "code",
   "execution_count": 119,
   "id": "eec1156b-dfdb-4836-8c40-a6fb2c81823b",
   "metadata": {},
   "outputs": [
    {
     "data": {
      "text/plain": [
       "₹5L - ₹8L (Glassdoor Est.)                   70\n",
       "₹2L - ₹3L (Employer Est.)                    35\n",
       "₹4L - ₹6L (Glassdoor Est.)                   35\n",
       "₹2L (Employer Est.)                          35\n",
       "₹3L - ₹5L (Employer Est.)                    35\n",
       "₹6L - ₹14L (Employer Est.)                   35\n",
       "₹8L - ₹18L (Glassdoor Est.)                  35\n",
       "₹5L - ₹8L (Employer Est.)                    35\n",
       "₹2L - ₹7L (Glassdoor Est.)                   35\n",
       "₹5L - ₹15L (Employer Est.)                   35\n",
       "₹6L - ₹15L (Glassdoor Est.)                  35\n",
       "₹692.31 - ₹923.08 Per Hour(Employer Est.)    35\n",
       "₹7L - ₹15L (Employer Est.)                   35\n",
       "₹10L - ₹20L (Glassdoor Est.)                 35\n",
       "₹2L - ₹5L (Glassdoor Est.)                   35\n",
       "₹2L - ₹6L (Glassdoor Est.)                   34\n",
       "₹5T (Employer Est.)                          34\n",
       "₹8L - ₹35L (Glassdoor Est.)                  34\n",
       "₹10L - ₹50L (Employer Est.)                  34\n",
       "₹7T (Employer Est.)                          34\n",
       "₹5L - ₹14L (Glassdoor Est.)                  34\n",
       "₹80T (Employer Est.)                         34\n",
       "₹10L - ₹16L (Employer Est.)                  34\n",
       "₹15L (Employer Est.)                         34\n",
       "₹9T - ₹18T (Employer Est.)                   33\n",
       "₹12T (Employer Est.)                          1\n",
       "Name: Salary, dtype: int64"
      ]
     },
     "execution_count": 119,
     "metadata": {},
     "output_type": "execute_result"
    }
   ],
   "source": [
    "df3['Salary'].value_counts()"
   ]
  },
  {
   "cell_type": "code",
   "execution_count": 120,
   "id": "3bc27ca0-6a9c-481b-9f30-4ce57d2102ff",
   "metadata": {},
   "outputs": [
    {
     "name": "stderr",
     "output_type": "stream",
     "text": [
      "C:\\Users\\Kaveri\\AppData\\Local\\Temp\\ipykernel_41668\\503854067.py:4: FutureWarning: The default value of regex will change from True to False in a future version.\n",
      "  df3['Salary'] = df3['Salary'].str.replace('(Employer Est.)','')\n",
      "C:\\Users\\Kaveri\\AppData\\Local\\Temp\\ipykernel_41668\\503854067.py:5: FutureWarning: The default value of regex will change from True to False in a future version.\n",
      "  df3['Salary'] = df3['Salary'].str.replace('(Glassdoor Est.)','')\n",
      "C:\\Users\\Kaveri\\AppData\\Local\\Temp\\ipykernel_41668\\503854067.py:6: FutureWarning: The default value of regex will change from True to False in a future version.\n",
      "  df3['Salary'] = df3['Salary'].str.replace('()','')\n"
     ]
    }
   ],
   "source": [
    "df3['Salary'] = df3['Salary'].str.replace('\\n', '')\n",
    "df3['Salary'] = df3['Salary'].str.replace(',', '')\n",
    "df3['Salary'] = df3['Salary'].str.replace('₹','')\n",
    "df3['Salary'] = df3['Salary'].str.replace('(Employer Est.)','')\n",
    "df3['Salary'] = df3['Salary'].str.replace('(Glassdoor Est.)','')\n",
    "df3['Salary'] = df3['Salary'].str.replace('()','')"
   ]
  },
  {
   "cell_type": "code",
   "execution_count": 121,
   "id": "4acf982f-cb3a-485a-888e-26885c17988c",
   "metadata": {},
   "outputs": [
    {
     "data": {
      "text/plain": [
       "5L - 8L ()                    105\n",
       "2L - 3L ()                     35\n",
       "4L - 6L ()                     35\n",
       "2L ()                          35\n",
       "3L - 5L ()                     35\n",
       "6L - 14L ()                    35\n",
       "8L - 18L ()                    35\n",
       "2L - 7L ()                     35\n",
       "5L - 15L ()                    35\n",
       "6L - 15L ()                    35\n",
       "692.31 - 923.08 Per Hour()     35\n",
       "7L - 15L ()                    35\n",
       "10L - 20L ()                   35\n",
       "2L - 5L ()                     35\n",
       "2L - 6L ()                     34\n",
       "5T ()                          34\n",
       "8L - 35L ()                    34\n",
       "10L - 50L ()                   34\n",
       "7T ()                          34\n",
       "5L - 14L ()                    34\n",
       "80T ()                         34\n",
       "10L - 16L ()                   34\n",
       "15L ()                         34\n",
       "9T - 18T ()                    33\n",
       "12T ()                          1\n",
       "Name: Salary, dtype: int64"
      ]
     },
     "execution_count": 121,
     "metadata": {},
     "output_type": "execute_result"
    }
   ],
   "source": [
    "df3['Salary'].value_counts()"
   ]
  },
  {
   "cell_type": "code",
   "execution_count": 122,
   "id": "d40924df-2c2c-4b6a-bf48-b0f79f63db58",
   "metadata": {},
   "outputs": [],
   "source": [
    "df3[\"salary_period\"]=np.nan"
   ]
  },
  {
   "cell_type": "code",
   "execution_count": 123,
   "id": "077b9688-e6a0-4475-9da2-5dea27593572",
   "metadata": {},
   "outputs": [
    {
     "name": "stderr",
     "output_type": "stream",
     "text": [
      "C:\\Users\\Kaveri\\AppData\\Local\\Temp\\ipykernel_41668\\1838717329.py:9: SettingWithCopyWarning: \n",
      "A value is trying to be set on a copy of a slice from a DataFrame\n",
      "\n",
      "See the caveats in the documentation: https://pandas.pydata.org/pandas-docs/stable/user_guide/indexing.html#returning-a-view-versus-a-copy\n",
      "  df3[\"salary_period\"][i]=\"year\"\n"
     ]
    }
   ],
   "source": [
    "import string\n",
    "df3[\"Salary\"].str.contains(\"year\")\n",
    "c=df3[\"Salary\"]\n",
    "i=0\n",
    "for rows in c:\n",
    "    \n",
    "    if(type(rows)==str):\n",
    "        if (rows.find(\"L\")!=-1):\n",
    "            df3[\"salary_period\"][i]=\"year\"\n",
    "        \n",
    "    i=i+1\n",
    "    "
   ]
  },
  {
   "cell_type": "code",
   "execution_count": 124,
   "id": "1a831f9f-7239-43bf-a65e-cb376c7871a9",
   "metadata": {},
   "outputs": [],
   "source": [
    "df3[\"Salary\"].str.contains(\"month\")\n",
    "c=df2[\"Salary\"]\n",
    "i=0\n",
    "for rows in c:\n",
    "    \n",
    "    if(type(rows)==str):\n",
    "        if (rows.find(\"T\")!=-1):\n",
    "            df3[\"salary_period\"][i]=\"month\"\n",
    "    i=i+1"
   ]
  },
  {
   "cell_type": "code",
   "execution_count": 125,
   "id": "90f5e84b-c05f-4315-8818-ecb960358c57",
   "metadata": {},
   "outputs": [],
   "source": [
    "c=df3[\"Salary\"]\n",
    "i=0\n",
    "for rows in c:\n",
    "    \n",
    "    if(type(rows)==str):\n",
    "        if (rows.find(\"Hour\")!=-1):\n",
    "            df3[\"salary_period\"][i]=\"hour\"\n",
    "    i=i+1"
   ]
  },
  {
   "cell_type": "code",
   "execution_count": 126,
   "id": "3f874675-3fcb-4a51-99de-779e24721fed",
   "metadata": {},
   "outputs": [
    {
     "data": {
      "text/plain": [
       "year     729\n",
       "month    136\n",
       "hour      35\n",
       "Name: salary_period, dtype: int64"
      ]
     },
     "execution_count": 126,
     "metadata": {},
     "output_type": "execute_result"
    }
   ],
   "source": [
    "df3[\"salary_period\"].value_counts()"
   ]
  },
  {
   "cell_type": "code",
   "execution_count": 127,
   "id": "634e283a-7091-4406-82cf-9a322afe36d9",
   "metadata": {},
   "outputs": [],
   "source": [
    "df3[\"Average\"]=np.nan\n"
   ]
  },
  {
   "cell_type": "code",
   "execution_count": 128,
   "id": "aab87eb9-332a-4662-83f1-762d4f9fbf0f",
   "metadata": {},
   "outputs": [],
   "source": [
    "df3['Salary2']=df3['Salary']"
   ]
  },
  {
   "cell_type": "code",
   "execution_count": 129,
   "id": "af6fda4a-c1bc-421d-9bf2-641cbc37db7a",
   "metadata": {},
   "outputs": [],
   "source": [
    "df3['Salary'] = df3['Salary'].str.replace('L','')\n",
    "df3['Salary'] = df3['Salary'].str.replace('-','')\n",
    "df3['Salary'] = df3['Salary'].str.replace('T','')"
   ]
  },
  {
   "cell_type": "code",
   "execution_count": 130,
   "id": "7b1776a6-d35d-4f79-af87-ac01804dd9f6",
   "metadata": {},
   "outputs": [
    {
     "data": {
      "text/plain": [
       "5  8 ()                      105\n",
       "2  3 ()                       35\n",
       "4  6 ()                       35\n",
       "2 ()                          35\n",
       "3  5 ()                       35\n",
       "6  14 ()                      35\n",
       "8  18 ()                      35\n",
       "2  7 ()                       35\n",
       "5  15 ()                      35\n",
       "6  15 ()                      35\n",
       "692.31  923.08 Per Hour()     35\n",
       "7  15 ()                      35\n",
       "10  20 ()                     35\n",
       "2  5 ()                       35\n",
       "2  6 ()                       34\n",
       "5 ()                          34\n",
       "8  35 ()                      34\n",
       "10  50 ()                     34\n",
       "7 ()                          34\n",
       "5  14 ()                      34\n",
       "80 ()                         34\n",
       "10  16 ()                     34\n",
       "15 ()                         34\n",
       "9  18 ()                      33\n",
       "12 ()                          1\n",
       "Name: Salary, dtype: int64"
      ]
     },
     "execution_count": 130,
     "metadata": {},
     "output_type": "execute_result"
    }
   ],
   "source": [
    "df3['Salary'].value_counts()"
   ]
  },
  {
   "cell_type": "code",
   "execution_count": 131,
   "id": "f424ec17-e883-4c82-b82a-0bf2aa85d9b6",
   "metadata": {},
   "outputs": [
    {
     "name": "stderr",
     "output_type": "stream",
     "text": [
      "C:\\Users\\Kaveri\\AppData\\Local\\Temp\\ipykernel_41668\\1617094531.py:20: SettingWithCopyWarning: \n",
      "A value is trying to be set on a copy of a slice from a DataFrame\n",
      "\n",
      "See the caveats in the documentation: https://pandas.pydata.org/pandas-docs/stable/user_guide/indexing.html#returning-a-view-versus-a-copy\n",
      "  df3['Average'][i]=rows[0]\n"
     ]
    }
   ],
   "source": [
    "def avg(a,b):\n",
    "    return (a+b)/2\n",
    "c=df3[\"Salary\"]\n",
    "\n",
    "av=0\n",
    "a=0\n",
    "b=0\n",
    "i=0\n",
    "for rows in c:\n",
    "    av=0\n",
    "    if(type(rows)==str):\n",
    "        rows=rows.split()\n",
    "        for item in range(0,len(rows)):\n",
    "            if(rows[item].isdigit()):\n",
    "                \n",
    "                av=av+1\n",
    "                \n",
    "    if(av==1):\n",
    "                \n",
    "        df3['Average'][i]=rows[0]\n",
    "            \n",
    "    i=i+1"
   ]
  },
  {
   "cell_type": "code",
   "execution_count": 132,
   "id": "b95fe526-658b-464d-b1f9-1e65ff4a748a",
   "metadata": {},
   "outputs": [],
   "source": [
    "def avg(a,b):\n",
    "    return (a+b)/2\n",
    "c=df3[\"Salary\"]\n",
    "\n",
    "av=0\n",
    "a=0\n",
    "b=0\n",
    "i=0\n",
    "for rows in c:\n",
    "    if(type(rows)==str):\n",
    "        rows=rows.split()\n",
    "        for item in range(0,len(rows)):\n",
    "            if(rows[item].isdigit() and rows[item+1].isdigit()):\n",
    "                av=avg(int(rows[0]),int(rows[1]))\n",
    "                df3[\"Average\"][i]=av\n",
    "    i=i+1"
   ]
  },
  {
   "cell_type": "code",
   "execution_count": 133,
   "id": "8bfc5c7d-58c1-4df1-bb48-43691ed01fec",
   "metadata": {},
   "outputs": [],
   "source": [
    "def avg(a,b):\n",
    "    return (a+b)/2\n",
    "c=df3[\"Salary\"]\n",
    "\n",
    "av=0\n",
    "a=0\n",
    "b=0\n",
    "i=0\n",
    "for rows in c:\n",
    "    if(type(rows)==str):\n",
    "        rows=rows.split()\n",
    "        if(float(rows[0])==692.31):\n",
    "            df3['Average'][i]=807.695\n",
    "    i=i+1"
   ]
  },
  {
   "cell_type": "code",
   "execution_count": 134,
   "id": "6407a510-9de3-4ce5-bccf-ef20caa4cf1b",
   "metadata": {},
   "outputs": [
    {
     "data": {
      "text/plain": [
       "6.5        105\n",
       "10.0        70\n",
       "4.0         69\n",
       "13.0        69\n",
       "5.0         35\n",
       "2           35\n",
       "2.5         35\n",
       "4.5         35\n",
       "3.5         35\n",
       "10.5        35\n",
       "807.695     35\n",
       "11.0        35\n",
       "15.0        35\n",
       "15          34\n",
       "7           34\n",
       "80          34\n",
       "9.5         34\n",
       "30.0        34\n",
       "21.5        34\n",
       "5           34\n",
       "13.5        33\n",
       "12           1\n",
       "Name: Average, dtype: int64"
      ]
     },
     "execution_count": 134,
     "metadata": {},
     "output_type": "execute_result"
    }
   ],
   "source": [
    "df3[\"Average\"].value_counts()"
   ]
  },
  {
   "cell_type": "code",
   "execution_count": 135,
   "id": "7d724a4f-e444-4e4a-8153-1d4969a1b070",
   "metadata": {},
   "outputs": [],
   "source": [
    "df3['Job Description']=df3['Skills']"
   ]
  },
  {
   "cell_type": "code",
   "execution_count": 136,
   "id": "9b873ea0-4d01-4769-9ebd-4a5a70da564d",
   "metadata": {},
   "outputs": [
    {
     "name": "stderr",
     "output_type": "stream",
     "text": [
      "C:\\Users\\Kaveri\\AppData\\Local\\Temp\\ipykernel_41668\\3706144816.py:3: FutureWarning: The default value of regex will change from True to False in a future version. In addition, single character regular expressions will *not* be treated as literal strings when regex=True.\n",
      "  df3['Job Description'] = df3['Job Description'].str.replace(item, ' ')\n"
     ]
    }
   ],
   "source": [
    "cleaning_list = ['+','[',']',\"'\",'\"', '$','/',',','?','.',';','-','@','!','&','%','^','*',')','(', '\\n']\n",
    "for item in cleaning_list:\n",
    "    df3['Job Description'] = df3['Job Description'].str.replace(item, ' ')\n",
    "    \n"
   ]
  },
  {
   "cell_type": "code",
   "execution_count": 137,
   "id": "2e5edfb8-c64a-42f6-b91c-21b6aac289f6",
   "metadata": {},
   "outputs": [
    {
     "data": {
      "text/plain": [
       "0        Job Location Mumbai            Job Descripti...\n",
       "1        Job Location Bhopal            Job Descripti...\n",
       "2        Job Location Katha Baddi            Job Desc...\n",
       "3            At Boeing  we innovate and collaborate t...\n",
       "4        Our client Successful SA technology group is...\n",
       "                             ...                        \n",
       "895      Job Title:\\nData Scientist   Data Science\\nJ...\n",
       "896      About the Role\\n\\nNumerator is a data and te...\n",
       "897      Hello    There are job openings for Data Sci...\n",
       "898      Shape Your Future With Us\\nGeneral Re Corpor...\n",
       "899      A Natural Language Processing  NLP  expert w...\n",
       "Name: Job Description, Length: 900, dtype: object"
      ]
     },
     "execution_count": 137,
     "metadata": {},
     "output_type": "execute_result"
    }
   ],
   "source": [
    "df3['Job Description']"
   ]
  },
  {
   "cell_type": "code",
   "execution_count": 138,
   "id": "28822e7a-8e3b-4110-84c2-1d7fb76e60ac",
   "metadata": {},
   "outputs": [],
   "source": [
    "exp=[]"
   ]
  },
  {
   "cell_type": "code",
   "execution_count": 139,
   "id": "abe8f046-4bc7-41f9-9db3-904cecf5ad12",
   "metadata": {},
   "outputs": [],
   "source": [
    "def desc(i):\n",
    "    l = df3[\"Skills\"][i]\n",
    "    l=str(l)\n",
    "    p = l.split('\\n')\n",
    "    return p"
   ]
  },
  {
   "cell_type": "code",
   "execution_count": 140,
   "id": "76340fb0-8de5-40fc-af15-08aafda74591",
   "metadata": {},
   "outputs": [],
   "source": [
    "for i in range(0,900):\n",
    "    \n",
    "    p=desc(i)\n",
    "    for line in p:\n",
    "        y = re.findall('\\d+ .+ [Ee]xperience', line)\n",
    "        if y!= []:\n",
    "            exp.append(y)\n",
    "    \n",
    "   "
   ]
  },
  {
   "cell_type": "code",
   "execution_count": 141,
   "id": "37430fc2-0fec-4f33-9a99-88882c86d3ec",
   "metadata": {},
   "outputs": [
    {
     "data": {
      "text/plain": [
       "(449, 1)"
      ]
     },
     "execution_count": 141,
     "metadata": {},
     "output_type": "execute_result"
    }
   ],
   "source": [
    "exp2.shape"
   ]
  },
  {
   "cell_type": "code",
   "execution_count": 142,
   "id": "7805c71d-ebfa-4084-a5e9-f3405c20c675",
   "metadata": {},
   "outputs": [],
   "source": [
    "exp2 = pd.DataFrame(exp)"
   ]
  },
  {
   "cell_type": "code",
   "execution_count": 143,
   "id": "94355767-a13d-4c92-9156-63c6f8a8d194",
   "metadata": {},
   "outputs": [],
   "source": [
    "df3['Years of Experience']=exp2"
   ]
  },
  {
   "cell_type": "code",
   "execution_count": 144,
   "id": "1d394a64-ad73-409d-961c-64b4ee30aa37",
   "metadata": {},
   "outputs": [
    {
     "data": {
      "text/plain": [
       "0      180 years ago as a simple soap and candle comp...\n",
       "1      180 years ago as a simple soap and candle comp...\n",
       "2      180 years ago as a simple soap and candle comp...\n",
       "3      75 years. People at Boeing have been supportin...\n",
       "4      5 years of strong, hands-on professional exper...\n",
       "                             ...                        \n",
       "895                                                  NaN\n",
       "896                                                  NaN\n",
       "897                                                  NaN\n",
       "898                                                  NaN\n",
       "899                                                  NaN\n",
       "Name: Years of Experience, Length: 900, dtype: object"
      ]
     },
     "execution_count": 144,
     "metadata": {},
     "output_type": "execute_result"
    }
   ],
   "source": [
    "df3['Years of Experience']"
   ]
  },
  {
   "cell_type": "code",
   "execution_count": 145,
   "id": "632dd96f-882c-4e2a-9dc9-3769d1fbac7c",
   "metadata": {},
   "outputs": [
    {
     "name": "stderr",
     "output_type": "stream",
     "text": [
      "C:\\Users\\Kaveri\\AppData\\Local\\Temp\\ipykernel_41668\\4028248349.py:3: FutureWarning: The default value of regex will change from True to False in a future version. In addition, single character regular expressions will *not* be treated as literal strings when regex=True.\n",
      "  df3['Years of Experience'] = df3['Years of Experience'].str.replace(item, ' ')\n"
     ]
    }
   ],
   "source": [
    "cleaning_list = ['+','[',']',\"'\",'\"', '$','/',',','?','.',';','-','@','!','&','%','^','*',')','(', '\\n']\n",
    "for item in cleaning_list:\n",
    "    df3['Years of Experience'] = df3['Years of Experience'].str.replace(item, ' ')\n",
    "    \n"
   ]
  },
  {
   "cell_type": "code",
   "execution_count": 146,
   "id": "6ece081e-4a8b-43ec-a4f2-2f2436d714f7",
   "metadata": {},
   "outputs": [
    {
     "name": "stderr",
     "output_type": "stream",
     "text": [
      "C:\\Users\\Kaveri\\AppData\\Local\\Temp\\ipykernel_41668\\46524393.py:13: SettingWithCopyWarning: \n",
      "A value is trying to be set on a copy of a slice from a DataFrame\n",
      "\n",
      "See the caveats in the documentation: https://pandas.pydata.org/pandas-docs/stable/user_guide/indexing.html#returning-a-view-versus-a-copy\n",
      "  df3['Years of Experience'][i]=None\n"
     ]
    }
   ],
   "source": [
    "c=df3['Years of Experience']\n",
    "i=0\n",
    "for rows in c:\n",
    "    if(type(rows)==str):\n",
    "        rows=rows.lower()\n",
    "        rows=rows.split()\n",
    "        a='year'\n",
    "        b='years'\n",
    "        c='experience'\n",
    "        if( (a in rows or b in rows) and c in rows):\n",
    "            pass\n",
    "        else:\n",
    "            df3['Years of Experience'][i]=None\n",
    "    i=i+1\n",
    "            \n",
    "            "
   ]
  },
  {
   "cell_type": "code",
   "execution_count": 147,
   "id": "b70c541a-9e0d-41fe-977a-b095d2035b29",
   "metadata": {},
   "outputs": [
    {
     "name": "stderr",
     "output_type": "stream",
     "text": [
      "C:\\Users\\Kaveri\\AppData\\Local\\Temp\\ipykernel_41668\\2373104083.py:21: SettingWithCopyWarning: \n",
      "A value is trying to be set on a copy of a slice from a DataFrame\n",
      "\n",
      "See the caveats in the documentation: https://pandas.pydata.org/pandas-docs/stable/user_guide/indexing.html#returning-a-view-versus-a-copy\n",
      "  df3['Years of Experience'][i]=None\n",
      "C:\\Users\\Kaveri\\AppData\\Local\\Temp\\ipykernel_41668\\2373104083.py:19: SettingWithCopyWarning: \n",
      "A value is trying to be set on a copy of a slice from a DataFrame\n",
      "\n",
      "See the caveats in the documentation: https://pandas.pydata.org/pandas-docs/stable/user_guide/indexing.html#returning-a-view-versus-a-copy\n",
      "  df3['Years of Experience'][i]=rows[t]\n"
     ]
    }
   ],
   "source": [
    "c=df3['Years of Experience']\n",
    "i=0\n",
    "d=0\n",
    "k=[]\n",
    "for rows in c:\n",
    "    \n",
    "    if(type(rows)==str):\n",
    "        rows=rows.lower()\n",
    "        rows=rows.split()\n",
    "        \n",
    "        a='years'\n",
    "        c='year'\n",
    "        b='experience'\n",
    "        if (a in rows or c in rows) and b in rows:\n",
    "            for t in range(0,len(rows)):\n",
    "                if(rows[t].isdigit()):\n",
    "                    if(int(rows[t])<=20):                \n",
    "                        if(rows[t+1]=='years' or rows[t+1]=='year' or rows[t-1]=='year' or rows[t-1]=='years'):\n",
    "                            df3['Years of Experience'][i]=rows[t]\n",
    "                    else:\n",
    "                            df3['Years of Experience'][i]=None\n",
    "            \n",
    "    i=i+1\n",
    "                        "
   ]
  },
  {
   "cell_type": "code",
   "execution_count": 148,
   "id": "a8e607e9-65fa-4948-8059-baa02dcb7033",
   "metadata": {},
   "outputs": [
    {
     "data": {
      "text/plain": [
       "690"
      ]
     },
     "execution_count": 148,
     "metadata": {},
     "output_type": "execute_result"
    }
   ],
   "source": [
    "df3['Years of Experience'].isna().sum()"
   ]
  },
  {
   "cell_type": "code",
   "execution_count": 149,
   "id": "aaca89d8-c93a-444d-ac61-f35c11603ffb",
   "metadata": {},
   "outputs": [
    {
     "data": {
      "text/plain": [
       "6    60\n",
       "1    30\n",
       "5    30\n",
       "2    30\n",
       "3    30\n",
       "8    30\n",
       "Name: Years of Experience, dtype: int64"
      ]
     },
     "execution_count": 149,
     "metadata": {},
     "output_type": "execute_result"
    }
   ],
   "source": [
    "df3['Years of Experience'].value_counts()"
   ]
  },
  {
   "cell_type": "code",
   "execution_count": 150,
   "id": "030600c9-e2a8-41a7-982e-3d1a1764f058",
   "metadata": {},
   "outputs": [],
   "source": [
    "df3['Location']=df3['Job Tocation']"
   ]
  },
  {
   "cell_type": "code",
   "execution_count": 151,
   "id": "57d5cefa-ca32-4b18-94e2-bc3622a100d6",
   "metadata": {},
   "outputs": [
    {
     "data": {
      "text/plain": [
       "Mumbai       300\n",
       "Pune         180\n",
       "Bangalore     90\n",
       "Hyderābād     60\n",
       "India         60\n",
       "Chennai       30\n",
       "Gurgaon       30\n",
       "Ludhiana      30\n",
       "Remote        30\n",
       "Delhi         30\n",
       "Nashik        30\n",
       "Vadodara      30\n",
       "Name: Location, dtype: int64"
      ]
     },
     "execution_count": 151,
     "metadata": {},
     "output_type": "execute_result"
    }
   ],
   "source": [
    "df3['Location'].value_counts()"
   ]
  },
  {
   "cell_type": "code",
   "execution_count": 162,
   "id": "dafd12b4-b225-487c-a977-ad6d275dcbef",
   "metadata": {},
   "outputs": [
    {
     "data": {
      "text/plain": [
       "4.2    356\n",
       "3.8     90\n",
       "4.2     90\n",
       "4.1     79\n",
       "5       60\n",
       "3.9     60\n",
       "4.4     45\n",
       "4.3     30\n",
       "4.8     30\n",
       "3.4     30\n",
       "4.6     15\n",
       "4       15\n",
       "Name: Ratings, dtype: int64"
      ]
     },
     "execution_count": 162,
     "metadata": {},
     "output_type": "execute_result"
    }
   ],
   "source": [
    "df3['Ratings'].value_counts()"
   ]
  },
  {
   "cell_type": "code",
   "execution_count": 153,
   "id": "c348b358-664e-405c-a3f5-3f254ecd060f",
   "metadata": {},
   "outputs": [],
   "source": [
    "\n",
    "c=df3['Ratings']\n",
    "i=0\n",
    "s=0\n",
    "c=0\n",
    "for i in range(0,len(df3['Ratings'])):\n",
    "    if(df3['Ratings'][i]!=None and df3['Ratings'][i]!='None' ):\n",
    "        s=s+float(df3['Ratings'][i])\n",
    "        c=c+1\n",
    "        "
   ]
  },
  {
   "cell_type": "code",
   "execution_count": 154,
   "id": "1b4bfed3-f94c-4044-bbd4-c1132cd77df6",
   "metadata": {},
   "outputs": [
    {
     "data": {
      "text/plain": [
       "2279.9000000000015"
      ]
     },
     "execution_count": 154,
     "metadata": {},
     "output_type": "execute_result"
    }
   ],
   "source": [
    "s"
   ]
  },
  {
   "cell_type": "code",
   "execution_count": 155,
   "id": "bebeb782-f136-4cf8-a282-f3416c9833c9",
   "metadata": {},
   "outputs": [
    {
     "data": {
      "text/plain": [
       "544"
      ]
     },
     "execution_count": 155,
     "metadata": {},
     "output_type": "execute_result"
    }
   ],
   "source": [
    "c"
   ]
  },
  {
   "cell_type": "code",
   "execution_count": 102,
   "id": "aa9bcff8-de90-4b2e-b9d0-556205b2ee13",
   "metadata": {},
   "outputs": [],
   "source": [
    "avg = s/c"
   ]
  },
  {
   "cell_type": "code",
   "execution_count": 103,
   "id": "801f805b-9e9f-45ae-939a-acc0e670e001",
   "metadata": {},
   "outputs": [
    {
     "data": {
      "text/plain": [
       "4.190992647058827"
      ]
     },
     "execution_count": 157,
     "metadata": {},
     "output_type": "execute_result"
    }
   ],
   "source": [
    "avg"
   ]
  },
  {
   "cell_type": "code",
   "execution_count": 161,
   "id": "de16b5c9-43e4-4614-aabf-c0dc65637039",
   "metadata": {},
   "outputs": [
    {
     "name": "stderr",
     "output_type": "stream",
     "text": [
      "C:\\Users\\Kaveri\\AppData\\Local\\Temp\\ipykernel_41668\\1994662077.py:7: SettingWithCopyWarning: \n",
      "A value is trying to be set on a copy of a slice from a DataFrame\n",
      "\n",
      "See the caveats in the documentation: https://pandas.pydata.org/pandas-docs/stable/user_guide/indexing.html#returning-a-view-versus-a-copy\n",
      "  df3['Ratings'][i]=4.2\n"
     ]
    }
   ],
   "source": [
    "c=df3['Ratings']\n",
    "i=0\n",
    "s=0\n",
    "c=0\n",
    "for i in range(0,len(df3['Ratings'])):\n",
    "    if(df3['Ratings'][i]==None or df3['Ratings'][i]=='None' ):\n",
    "        df3['Ratings'][i]=4.2\n",
    "        \n",
    "        "
   ]
  },
  {
   "cell_type": "code",
   "execution_count": 163,
   "id": "e2b7c10b-3e9f-4e70-97a3-a83580c1eaae",
   "metadata": {},
   "outputs": [],
   "source": [
    "df3['Job Type']=np.nan"
   ]
  },
  {
   "cell_type": "code",
   "execution_count": 170,
   "id": "6de11008-ad99-458a-a717-44a926b963df",
   "metadata": {},
   "outputs": [
    {
     "data": {
      "text/plain": [
       "Data Scientist                                                            240\n",
       "Data Science Intern                                                        60\n",
       "Associate Data Scientist                                                   60\n",
       "Data scientist                                                             60\n",
       "Data Science                                                               30\n",
       "Data Scientist/Machine Learning                                            30\n",
       "Manager – Data Analytics & Scientific Computing @ L'Oreal, R&I, Mumbai     30\n",
       "Data Scientist - Data Science                                              30\n",
       "Associate Data Science Analyst                                             30\n",
       "Artificial Intelligence Internship                                         30\n",
       "DATA SCIENTIST                                                             30\n",
       "Data Analytics                                                             30\n",
       "Junior Data Scientist Mentor                                               30\n",
       "Senior Analyst- Research & Insights- Data Science, Data Analyst            30\n",
       "Experimentation Data Scientist - Chase                                     30\n",
       "Data scientist - Battery models                                            30\n",
       "Machine Learning Engineer                                                  30\n",
       "Data Scientist Intern                                                      30\n",
       "Junior Data Scientist                                                      30\n",
       "Sr. Data Scientist, Visa Consulting and Analytics                          30\n",
       "Name: Job Title, dtype: int64"
      ]
     },
     "execution_count": 170,
     "metadata": {},
     "output_type": "execute_result"
    }
   ],
   "source": [
    "df3['Job Title'].value_counts()"
   ]
  },
  {
   "cell_type": "code",
   "execution_count": 171,
   "id": "5b68faf1-25e4-4e28-9bbf-8b496549b7a9",
   "metadata": {},
   "outputs": [],
   "source": [
    "c=df3[\"Job Title\"]\n",
    "i=0\n",
    "for rows in c:\n",
    "    if(type(rows)==str):\n",
    "        rows=rows.lower()\n",
    "        rows=rows.split()\n",
    "        \n",
    "        c='intern'\n",
    "        \n",
    "        e='internship'\n",
    "            \n",
    "        if c in rows or e in rows:\n",
    "            \n",
    "            df3[\"Job Type\"][i] = \"Part time\"\n",
    "        else:\n",
    "            df3[\"Job Type\"][i] = \"Full time\"\n",
    "    i=i+1"
   ]
  },
  {
   "cell_type": "code",
   "execution_count": 172,
   "id": "119ff3c4-0283-4b98-bffc-6fbae5636303",
   "metadata": {},
   "outputs": [
    {
     "data": {
      "text/plain": [
       "Full time    780\n",
       "Part time    120\n",
       "Name: Job Type, dtype: int64"
      ]
     },
     "execution_count": 172,
     "metadata": {},
     "output_type": "execute_result"
    }
   ],
   "source": [
    "df3['Job Type'].value_counts()"
   ]
  },
  {
   "cell_type": "code",
   "execution_count": 198,
   "id": "23c7ff06-27aa-44a2-85f3-5e1431ec523e",
   "metadata": {},
   "outputs": [],
   "source": [
    "df3=df3.drop(['Skills'],axis=1)"
   ]
  },
  {
   "cell_type": "code",
   "execution_count": 182,
   "id": "526d15e1-16cd-4104-b996-f55df444732d",
   "metadata": {},
   "outputs": [
    {
     "data": {
      "text/plain": [
       "Unnamed: 0               0\n",
       "Company Name             0\n",
       "Job Title                0\n",
       "Job Tocation             0\n",
       "Ratings                  0\n",
       " Links                   0\n",
       "Skills                   1\n",
       "salary_period            0\n",
       "Average                  0\n",
       "Salary2                  0\n",
       "Job Description          1\n",
       "Years of Experience    690\n",
       "Location                 0\n",
       "Job Type                 0\n",
       "dtype: int64"
      ]
     },
     "execution_count": 182,
     "metadata": {},
     "output_type": "execute_result"
    }
   ],
   "source": [
    "df3=df3.drop([' Links'],axis=1)"
   ]
  },
  {
   "cell_type": "code",
   "execution_count": 206,
   "id": "013f5dfd-dc2f-42e4-99d8-26743ce0dfd5",
   "metadata": {},
   "outputs": [
    {
     "data": {
      "text/plain": [
       "Company Name             0\n",
       "Job Title                0\n",
       "Ratings                  0\n",
       "salary_period            0\n",
       "Average                  0\n",
       "Job Description          0\n",
       "Years of Experience    689\n",
       "Location                 0\n",
       "Job Type                 0\n",
       "dtype: int64"
      ]
     },
     "execution_count": 206,
     "metadata": {},
     "output_type": "execute_result"
    }
   ],
   "source": [
    "df3.isna().sum()"
   ]
  },
  {
   "cell_type": "code",
   "execution_count": 188,
   "id": "0d5c2ffc-6f70-4022-b4ad-2bf77a249a35",
   "metadata": {},
   "outputs": [],
   "source": [
    "df3=df3.drop(['Unnamed: 0'],axis=1)"
   ]
  },
  {
   "cell_type": "code",
   "execution_count": 200,
   "id": "3314f027-d6bf-424a-b9f5-01f85caadc27",
   "metadata": {},
   "outputs": [],
   "source": [
    "c=df3['Job Description']\n",
    "k=0\n",
    "i=0\n",
    "for rows in c:\n",
    "    if(rows==None):\n",
    "        print(rows)\n",
    "    i=i+1"
   ]
  },
  {
   "cell_type": "code",
   "execution_count": 204,
   "id": "0cba798f-77c4-4c30-ab56-7e38dd7f9cbf",
   "metadata": {},
   "outputs": [
    {
     "data": {
      "text/plain": [
       "nan"
      ]
     },
     "execution_count": 204,
     "metadata": {},
     "output_type": "execute_result"
    }
   ],
   "source": [
    "df3['Job Description'][856]"
   ]
  },
  {
   "cell_type": "code",
   "execution_count": 205,
   "id": "d0ec4cbb-5f66-40eb-ba25-a8c656f5cc1d",
   "metadata": {},
   "outputs": [],
   "source": [
    "df3.drop([856], axis=0, inplace=True)"
   ]
  },
  {
   "cell_type": "code",
   "execution_count": 208,
   "id": "d2ec269d-ebc6-4af2-92fe-d6ae7e745838",
   "metadata": {},
   "outputs": [
    {
     "data": {
      "text/plain": [
       "6    60\n",
       "1    30\n",
       "5    30\n",
       "2    30\n",
       "3    30\n",
       "8    30\n",
       "Name: Years of Experience, dtype: int64"
      ]
     },
     "execution_count": 208,
     "metadata": {},
     "output_type": "execute_result"
    }
   ],
   "source": [
    "df3['Years of Experience']"
   ]
  },
  {
   "cell_type": "code",
   "execution_count": 209,
   "id": "27543fa3-0efe-4f47-9f9d-c75e218d436b",
   "metadata": {},
   "outputs": [
    {
     "data": {
      "text/plain": [
       "Data Scientist                                                            239\n",
       "Data Science Intern                                                        60\n",
       "Associate Data Scientist                                                   60\n",
       "Data scientist                                                             60\n",
       "Data Science                                                               30\n",
       "Data Scientist/Machine Learning                                            30\n",
       "Manager – Data Analytics & Scientific Computing @ L'Oreal, R&I, Mumbai     30\n",
       "Data Scientist - Data Science                                              30\n",
       "Associate Data Science Analyst                                             30\n",
       "Artificial Intelligence Internship                                         30\n",
       "DATA SCIENTIST                                                             30\n",
       "Data Analytics                                                             30\n",
       "Junior Data Scientist Mentor                                               30\n",
       "Senior Analyst- Research & Insights- Data Science, Data Analyst            30\n",
       "Experimentation Data Scientist - Chase                                     30\n",
       "Data scientist - Battery models                                            30\n",
       "Machine Learning Engineer                                                  30\n",
       "Data Scientist Intern                                                      30\n",
       "Junior Data Scientist                                                      30\n",
       "Sr. Data Scientist, Visa Consulting and Analytics                          30\n",
       "Name: Job Title, dtype: int64"
      ]
     },
     "execution_count": 209,
     "metadata": {},
     "output_type": "execute_result"
    }
   ],
   "source": [
    "df3['Job Title'].value_counts()"
   ]
  },
  {
   "cell_type": "code",
   "execution_count": 210,
   "id": "2cfe2478-a0b9-45cd-8c20-0139cc81ad69",
   "metadata": {},
   "outputs": [],
   "source": [
    "df3.to_csv('finalglassdoor1.csv')"
   ]
  },
  {
   "cell_type": "code",
   "execution_count": null,
   "id": "7f1c364a-4d7f-4b56-8f4f-466a1fc7c02b",
   "metadata": {},
   "outputs": [],
   "source": []
  }
 ],
 "metadata": {
  "kernelspec": {
   "display_name": "Python 3 (ipykernel)",
   "language": "python",
   "name": "python3"
  },
  "language_info": {
   "codemirror_mode": {
    "name": "ipython",
    "version": 3
   },
   "file_extension": ".py",
   "mimetype": "text/x-python",
   "name": "python",
   "nbconvert_exporter": "python",
   "pygments_lexer": "ipython3",
   "version": "3.10.7"
  }
 },
 "nbformat": 4,
 "nbformat_minor": 5
}
