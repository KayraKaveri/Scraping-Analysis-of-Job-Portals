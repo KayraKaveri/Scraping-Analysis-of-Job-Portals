{
 "cells": [
  {
   "cell_type": "code",
   "execution_count": 341,
   "id": "4ae2e5e1-7cc5-485e-ac82-4ed003579190",
   "metadata": {},
   "outputs": [],
   "source": [
    "import requests\n",
    "from bs4 import BeautifulSoup\n",
    "import pandas as pd\n",
    "from selenium import webdriver\n",
    "import time\n",
    "from selenium.webdriver.common.keys import Keys\n",
    "from selenium.webdriver.common.by import By\n",
    "import numpy as np\n",
    "import re \n",
    "import math"
   ]
  },
  {
   "cell_type": "code",
   "execution_count": 342,
   "id": "38fd6ea8-843b-40b4-a0ad-0690504e2b98",
   "metadata": {},
   "outputs": [],
   "source": [
    "df= pd.read_csv('Edit2.csv')"
   ]
  },
  {
   "cell_type": "code",
   "execution_count": 349,
   "id": "5ff872b6-0a53-4447-b224-cad3821d0914",
   "metadata": {},
   "outputs": [
    {
     "data": {
      "text/plain": [
       "(3470, 11)"
      ]
     },
     "execution_count": 349,
     "metadata": {},
     "output_type": "execute_result"
    }
   ],
   "source": [
    "df.shape"
   ]
  },
  {
   "cell_type": "code",
   "execution_count": 344,
   "id": "9f080d09-72f3-45ca-98e0-9bb698df7c0f",
   "metadata": {},
   "outputs": [],
   "source": [
    "df=df.drop('Unnamed: 0',axis=1)"
   ]
  },
  {
   "cell_type": "code",
   "execution_count": 345,
   "id": "0121e09f-0fa6-4253-89b5-6a8b21961181",
   "metadata": {},
   "outputs": [],
   "source": [
    "df=df.drop('Unnamed: 0.1',axis=1)"
   ]
  },
  {
   "cell_type": "code",
   "execution_count": 346,
   "id": "ab3b065f-57f0-4a44-bae9-d72b66db8c0e",
   "metadata": {},
   "outputs": [],
   "source": [
    "df=df.drop('Unnamed: 0.2',axis=1)"
   ]
  },
  {
   "cell_type": "code",
   "execution_count": 347,
   "id": "b6f51a6a-5fea-484d-8572-eb422ca31a19",
   "metadata": {},
   "outputs": [],
   "source": [
    "c=df['Location']\n",
    "\n",
    "i=0\n",
    "\n",
    "for rows in c:\n",
    "    if(type(rows)==float):\n",
    "        df.drop(i,inplace=True)\n",
    "        \n",
    "    \n",
    "        \n",
    "    i=i+1"
   ]
  },
  {
   "cell_type": "code",
   "execution_count": 348,
   "id": "c5a0bf27-5f23-4cff-b108-3ad76259916e",
   "metadata": {},
   "outputs": [
    {
     "data": {
      "text/html": [
       "<div>\n",
       "<style scoped>\n",
       "    .dataframe tbody tr th:only-of-type {\n",
       "        vertical-align: middle;\n",
       "    }\n",
       "\n",
       "    .dataframe tbody tr th {\n",
       "        vertical-align: top;\n",
       "    }\n",
       "\n",
       "    .dataframe thead th {\n",
       "        text-align: right;\n",
       "    }\n",
       "</style>\n",
       "<table border=\"1\" class=\"dataframe\">\n",
       "  <thead>\n",
       "    <tr style=\"text-align: right;\">\n",
       "      <th></th>\n",
       "      <th>Company Name</th>\n",
       "      <th>Job Title</th>\n",
       "      <th>salary_period</th>\n",
       "      <th>Average</th>\n",
       "      <th>Job Description</th>\n",
       "      <th>Years of Experience</th>\n",
       "      <th>Location</th>\n",
       "      <th>Job Type</th>\n",
       "      <th>Rating</th>\n",
       "      <th>Categories</th>\n",
       "      <th>Level</th>\n",
       "    </tr>\n",
       "  </thead>\n",
       "  <tbody>\n",
       "    <tr>\n",
       "      <th>0</th>\n",
       "      <td>Larsen &amp; Toubro Infotech Limited</td>\n",
       "      <td>Data Science</td>\n",
       "      <td>year</td>\n",
       "      <td>6.5</td>\n",
       "      <td>Job Location Mumbai            Job Descripti...</td>\n",
       "      <td>NaN</td>\n",
       "      <td>Mumbai</td>\n",
       "      <td>Full time</td>\n",
       "      <td>3.8</td>\n",
       "      <td>Data Scientist</td>\n",
       "      <td>Mid</td>\n",
       "    </tr>\n",
       "    <tr>\n",
       "      <th>1</th>\n",
       "      <td>Deloitte</td>\n",
       "      <td>Senior Analyst- Research &amp; Insights- Data Scie...</td>\n",
       "      <td>year</td>\n",
       "      <td>6.5</td>\n",
       "      <td>Job Location Bhopal            Job Descripti...</td>\n",
       "      <td>NaN</td>\n",
       "      <td>Hyderābād</td>\n",
       "      <td>Full time</td>\n",
       "      <td>4.1</td>\n",
       "      <td>Data Scientist</td>\n",
       "      <td>Advance</td>\n",
       "    </tr>\n",
       "    <tr>\n",
       "      <th>2</th>\n",
       "      <td>Flairmid Software Pvt Ltd</td>\n",
       "      <td>Junior Data Scientist</td>\n",
       "      <td>year</td>\n",
       "      <td>2.0</td>\n",
       "      <td>Job Location Katha Baddi            Job Desc...</td>\n",
       "      <td>1.0</td>\n",
       "      <td>Pune</td>\n",
       "      <td>Full time</td>\n",
       "      <td>4.2</td>\n",
       "      <td>Data Scientist</td>\n",
       "      <td>Entry</td>\n",
       "    </tr>\n",
       "    <tr>\n",
       "      <th>3</th>\n",
       "      <td>Shell</td>\n",
       "      <td>Associate Data Scientist</td>\n",
       "      <td>year</td>\n",
       "      <td>15.0</td>\n",
       "      <td>At Boeing  we innovate and collaborate t...</td>\n",
       "      <td>NaN</td>\n",
       "      <td>Chennai</td>\n",
       "      <td>Full time</td>\n",
       "      <td>4.1</td>\n",
       "      <td>Data Scientist</td>\n",
       "      <td>Entry</td>\n",
       "    </tr>\n",
       "    <tr>\n",
       "      <th>4</th>\n",
       "      <td>Brimming Grace Capital Pvt Ltd</td>\n",
       "      <td>Data Scientist Intern</td>\n",
       "      <td>year</td>\n",
       "      <td>11.0</td>\n",
       "      <td>Our client Successful SA technology group is...</td>\n",
       "      <td>5.0</td>\n",
       "      <td>Gurgaon</td>\n",
       "      <td>Part time</td>\n",
       "      <td>4.2</td>\n",
       "      <td>Data Scientist</td>\n",
       "      <td>Entry</td>\n",
       "    </tr>\n",
       "    <tr>\n",
       "      <th>...</th>\n",
       "      <td>...</td>\n",
       "      <td>...</td>\n",
       "      <td>...</td>\n",
       "      <td>...</td>\n",
       "      <td>...</td>\n",
       "      <td>...</td>\n",
       "      <td>...</td>\n",
       "      <td>...</td>\n",
       "      <td>...</td>\n",
       "      <td>...</td>\n",
       "      <td>...</td>\n",
       "    </tr>\n",
       "    <tr>\n",
       "      <th>3588</th>\n",
       "      <td>sharechat</td>\n",
       "      <td>Lead Machine Learning Engineer</td>\n",
       "      <td>NaN</td>\n",
       "      <td>NaN</td>\n",
       "      <td>Machine Learning Engineer    ML Platform    Th...</td>\n",
       "      <td>NaN</td>\n",
       "      <td>Temporarily Remote in Bengaluru, Karnataka</td>\n",
       "      <td>Full time</td>\n",
       "      <td>3.8</td>\n",
       "      <td>AI Specialist</td>\n",
       "      <td>Advance</td>\n",
       "    </tr>\n",
       "    <tr>\n",
       "      <th>3589</th>\n",
       "      <td>Accord Consultants</td>\n",
       "      <td>Data Scientist</td>\n",
       "      <td>NaN</td>\n",
       "      <td>NaN</td>\n",
       "      <td>We are looking for a rare hybrid: a statistic...</td>\n",
       "      <td>NaN</td>\n",
       "      <td>Pune, Maharashtra</td>\n",
       "      <td>Full time</td>\n",
       "      <td>4.8</td>\n",
       "      <td>Data Scientist</td>\n",
       "      <td>Mid</td>\n",
       "    </tr>\n",
       "    <tr>\n",
       "      <th>3590</th>\n",
       "      <td>Barclays</td>\n",
       "      <td>Director, Operational Risk Reporting &amp; Data An...</td>\n",
       "      <td>NaN</td>\n",
       "      <td>NaN</td>\n",
       "      <td>Job Title:    Director  Operational Risk...</td>\n",
       "      <td>NaN</td>\n",
       "      <td>Noida, Uttar Pradesh</td>\n",
       "      <td>Full time</td>\n",
       "      <td>3.9</td>\n",
       "      <td>Data Analyst</td>\n",
       "      <td>Advance</td>\n",
       "    </tr>\n",
       "    <tr>\n",
       "      <th>3591</th>\n",
       "      <td>Diageo</td>\n",
       "      <td>Manager- Machine Learning Engineer</td>\n",
       "      <td>NaN</td>\n",
       "      <td>NaN</td>\n",
       "      <td>Job Description :    Bachelor’s degree  B ...</td>\n",
       "      <td>NaN</td>\n",
       "      <td>Bengaluru, Karnataka</td>\n",
       "      <td>Full time</td>\n",
       "      <td>4.0</td>\n",
       "      <td>AI Specialist</td>\n",
       "      <td>Mid</td>\n",
       "    </tr>\n",
       "    <tr>\n",
       "      <th>3592</th>\n",
       "      <td>Colgate-Palmolive</td>\n",
       "      <td>Supply Chain Network Data &amp; Analytics Specialist</td>\n",
       "      <td>NaN</td>\n",
       "      <td>NaN</td>\n",
       "      <td>Relocation Assistance Offered Within Country ...</td>\n",
       "      <td>NaN</td>\n",
       "      <td>Mumbai, Maharashtra</td>\n",
       "      <td>Full time</td>\n",
       "      <td>4.3</td>\n",
       "      <td>AI Specialist</td>\n",
       "      <td>Mid</td>\n",
       "    </tr>\n",
       "  </tbody>\n",
       "</table>\n",
       "<p>3470 rows × 11 columns</p>\n",
       "</div>"
      ],
      "text/plain": [
       "                          Company Name  \\\n",
       "0     Larsen & Toubro Infotech Limited   \n",
       "1                             Deloitte   \n",
       "2            Flairmid Software Pvt Ltd   \n",
       "3                                Shell   \n",
       "4       Brimming Grace Capital Pvt Ltd   \n",
       "...                                ...   \n",
       "3588                         sharechat   \n",
       "3589                Accord Consultants   \n",
       "3590                          Barclays   \n",
       "3591                            Diageo   \n",
       "3592                 Colgate-Palmolive   \n",
       "\n",
       "                                              Job Title salary_period  \\\n",
       "0                                          Data Science          year   \n",
       "1     Senior Analyst- Research & Insights- Data Scie...          year   \n",
       "2                                 Junior Data Scientist          year   \n",
       "3                              Associate Data Scientist          year   \n",
       "4                                 Data Scientist Intern          year   \n",
       "...                                                 ...           ...   \n",
       "3588                     Lead Machine Learning Engineer           NaN   \n",
       "3589                                     Data Scientist           NaN   \n",
       "3590  Director, Operational Risk Reporting & Data An...           NaN   \n",
       "3591                 Manager- Machine Learning Engineer           NaN   \n",
       "3592   Supply Chain Network Data & Analytics Specialist           NaN   \n",
       "\n",
       "      Average                                    Job Description  \\\n",
       "0         6.5    Job Location Mumbai            Job Descripti...   \n",
       "1         6.5    Job Location Bhopal            Job Descripti...   \n",
       "2         2.0    Job Location Katha Baddi            Job Desc...   \n",
       "3        15.0        At Boeing  we innovate and collaborate t...   \n",
       "4        11.0    Our client Successful SA technology group is...   \n",
       "...       ...                                                ...   \n",
       "3588      NaN  Machine Learning Engineer    ML Platform    Th...   \n",
       "3589      NaN   We are looking for a rare hybrid: a statistic...   \n",
       "3590      NaN        Job Title:    Director  Operational Risk...   \n",
       "3591      NaN      Job Description :    Bachelor’s degree  B ...   \n",
       "3592      NaN   Relocation Assistance Offered Within Country ...   \n",
       "\n",
       "      Years of Experience                                    Location  \\\n",
       "0                     NaN                                      Mumbai   \n",
       "1                     NaN                                   Hyderābād   \n",
       "2                     1.0                                        Pune   \n",
       "3                     NaN                                     Chennai   \n",
       "4                     5.0                                     Gurgaon   \n",
       "...                   ...                                         ...   \n",
       "3588                  NaN  Temporarily Remote in Bengaluru, Karnataka   \n",
       "3589                  NaN                           Pune, Maharashtra   \n",
       "3590                  NaN                        Noida, Uttar Pradesh   \n",
       "3591                  NaN                        Bengaluru, Karnataka   \n",
       "3592                  NaN                         Mumbai, Maharashtra   \n",
       "\n",
       "       Job Type  Rating      Categories    Level  \n",
       "0     Full time     3.8  Data Scientist      Mid  \n",
       "1     Full time     4.1  Data Scientist  Advance  \n",
       "2     Full time     4.2  Data Scientist    Entry  \n",
       "3     Full time     4.1  Data Scientist    Entry  \n",
       "4     Part time     4.2  Data Scientist    Entry  \n",
       "...         ...     ...             ...      ...  \n",
       "3588  Full time     3.8   AI Specialist  Advance  \n",
       "3589  Full time     4.8  Data Scientist      Mid  \n",
       "3590  Full time     3.9    Data Analyst  Advance  \n",
       "3591  Full time     4.0   AI Specialist      Mid  \n",
       "3592  Full time     4.3   AI Specialist      Mid  \n",
       "\n",
       "[3470 rows x 11 columns]"
      ]
     },
     "execution_count": 348,
     "metadata": {},
     "output_type": "execute_result"
    }
   ],
   "source": [
    "df"
   ]
  },
  {
   "cell_type": "code",
   "execution_count": 350,
   "id": "1b90fa2c-8f9d-48bb-ab6b-12dc4eda2dd2",
   "metadata": {},
   "outputs": [],
   "source": [
    "df['City']=np.nan"
   ]
  },
  {
   "cell_type": "code",
   "execution_count": 351,
   "id": "0e195082-31bd-401e-81c6-a24f8fb3dada",
   "metadata": {},
   "outputs": [
    {
     "data": {
      "text/plain": [
       "Series([], Name: City, dtype: int64)"
      ]
     },
     "execution_count": 351,
     "metadata": {},
     "output_type": "execute_result"
    }
   ],
   "source": [
    "df['City'].value_counts()"
   ]
  },
  {
   "cell_type": "code",
   "execution_count": 352,
   "id": "28f99135-cc6e-47b2-9998-567a3cea7de5",
   "metadata": {},
   "outputs": [
    {
     "name": "stderr",
     "output_type": "stream",
     "text": [
      "C:\\Users\\Kaveri\\AppData\\Local\\Temp\\ipykernel_37104\\741020322.py:8: SettingWithCopyWarning: \n",
      "A value is trying to be set on a copy of a slice from a DataFrame\n",
      "\n",
      "See the caveats in the documentation: https://pandas.pydata.org/pandas-docs/stable/user_guide/indexing.html#returning-a-view-versus-a-copy\n",
      "  df['City'][i]='Delhi'\n",
      "C:\\Users\\Kaveri\\AppData\\Local\\Temp\\ipykernel_37104\\741020322.py:8: SettingWithCopyWarning: \n",
      "A value is trying to be set on a copy of a slice from a DataFrame\n",
      "\n",
      "See the caveats in the documentation: https://pandas.pydata.org/pandas-docs/stable/user_guide/indexing.html#returning-a-view-versus-a-copy\n",
      "  df['City'][i]='Delhi'\n"
     ]
    }
   ],
   "source": [
    "c=df['Location']\n",
    "i=0\n",
    "for rows in c:\n",
    "    if(type(rows)!=float):\n",
    "        rows=rows.split()\n",
    "        if(len(rows)>1):\n",
    "            if(rows[1]=='Delhi'):\n",
    "                df['City'][i]='Delhi'\n",
    "                \n",
    "    i=i+1\n",
    "                "
   ]
  },
  {
   "cell_type": "code",
   "execution_count": 353,
   "id": "30438eff-448a-4381-97b5-291642c2150d",
   "metadata": {},
   "outputs": [
    {
     "name": "stderr",
     "output_type": "stream",
     "text": [
      "C:\\Users\\Kaveri\\AppData\\Local\\Temp\\ipykernel_37104\\3647177944.py:9: SettingWithCopyWarning: \n",
      "A value is trying to be set on a copy of a slice from a DataFrame\n",
      "\n",
      "See the caveats in the documentation: https://pandas.pydata.org/pandas-docs/stable/user_guide/indexing.html#returning-a-view-versus-a-copy\n",
      "  df['City'][i]='Noida'\n",
      "C:\\Users\\Kaveri\\AppData\\Local\\Temp\\ipykernel_37104\\3647177944.py:9: SettingWithCopyWarning: \n",
      "A value is trying to be set on a copy of a slice from a DataFrame\n",
      "\n",
      "See the caveats in the documentation: https://pandas.pydata.org/pandas-docs/stable/user_guide/indexing.html#returning-a-view-versus-a-copy\n",
      "  df['City'][i]='Noida'\n",
      "C:\\Users\\Kaveri\\AppData\\Local\\Temp\\ipykernel_37104\\3647177944.py:9: SettingWithCopyWarning: \n",
      "A value is trying to be set on a copy of a slice from a DataFrame\n",
      "\n",
      "See the caveats in the documentation: https://pandas.pydata.org/pandas-docs/stable/user_guide/indexing.html#returning-a-view-versus-a-copy\n",
      "  df['City'][i]='Noida'\n",
      "C:\\Users\\Kaveri\\AppData\\Local\\Temp\\ipykernel_37104\\3647177944.py:9: SettingWithCopyWarning: \n",
      "A value is trying to be set on a copy of a slice from a DataFrame\n",
      "\n",
      "See the caveats in the documentation: https://pandas.pydata.org/pandas-docs/stable/user_guide/indexing.html#returning-a-view-versus-a-copy\n",
      "  df['City'][i]='Noida'\n",
      "C:\\Users\\Kaveri\\AppData\\Local\\Temp\\ipykernel_37104\\3647177944.py:9: SettingWithCopyWarning: \n",
      "A value is trying to be set on a copy of a slice from a DataFrame\n",
      "\n",
      "See the caveats in the documentation: https://pandas.pydata.org/pandas-docs/stable/user_guide/indexing.html#returning-a-view-versus-a-copy\n",
      "  df['City'][i]='Noida'\n"
     ]
    }
   ],
   "source": [
    "c=df['Location']\n",
    "i=0\n",
    "for rows in c:\n",
    "    if(type(rows)!=float):\n",
    "        rows=rows.split()\n",
    "        if(len(rows)==3):\n",
    "            if(rows[1]=='Uttar' and rows[2]=='Pradesh'):\n",
    "                if(rows[0]!='Bihar'):\n",
    "                    df['City'][i]='Noida'\n",
    "                    \n",
    "                \n",
    "    i=i+1\n",
    "                "
   ]
  },
  {
   "cell_type": "code",
   "execution_count": 354,
   "id": "83631119-b481-46aa-bc20-d5393668628a",
   "metadata": {},
   "outputs": [
    {
     "name": "stderr",
     "output_type": "stream",
     "text": [
      "C:\\Users\\Kaveri\\AppData\\Local\\Temp\\ipykernel_37104\\2395200785.py:8: SettingWithCopyWarning: \n",
      "A value is trying to be set on a copy of a slice from a DataFrame\n",
      "\n",
      "See the caveats in the documentation: https://pandas.pydata.org/pandas-docs/stable/user_guide/indexing.html#returning-a-view-versus-a-copy\n",
      "  df['City'][i]=rows[0]\n",
      "C:\\Users\\Kaveri\\AppData\\Local\\Temp\\ipykernel_37104\\2395200785.py:8: SettingWithCopyWarning: \n",
      "A value is trying to be set on a copy of a slice from a DataFrame\n",
      "\n",
      "See the caveats in the documentation: https://pandas.pydata.org/pandas-docs/stable/user_guide/indexing.html#returning-a-view-versus-a-copy\n",
      "  df['City'][i]=rows[0]\n",
      "C:\\Users\\Kaveri\\AppData\\Local\\Temp\\ipykernel_37104\\2395200785.py:8: SettingWithCopyWarning: \n",
      "A value is trying to be set on a copy of a slice from a DataFrame\n",
      "\n",
      "See the caveats in the documentation: https://pandas.pydata.org/pandas-docs/stable/user_guide/indexing.html#returning-a-view-versus-a-copy\n",
      "  df['City'][i]=rows[0]\n",
      "C:\\Users\\Kaveri\\AppData\\Local\\Temp\\ipykernel_37104\\2395200785.py:8: SettingWithCopyWarning: \n",
      "A value is trying to be set on a copy of a slice from a DataFrame\n",
      "\n",
      "See the caveats in the documentation: https://pandas.pydata.org/pandas-docs/stable/user_guide/indexing.html#returning-a-view-versus-a-copy\n",
      "  df['City'][i]=rows[0]\n",
      "C:\\Users\\Kaveri\\AppData\\Local\\Temp\\ipykernel_37104\\2395200785.py:8: SettingWithCopyWarning: \n",
      "A value is trying to be set on a copy of a slice from a DataFrame\n",
      "\n",
      "See the caveats in the documentation: https://pandas.pydata.org/pandas-docs/stable/user_guide/indexing.html#returning-a-view-versus-a-copy\n",
      "  df['City'][i]=rows[0]\n",
      "C:\\Users\\Kaveri\\AppData\\Local\\Temp\\ipykernel_37104\\2395200785.py:8: SettingWithCopyWarning: \n",
      "A value is trying to be set on a copy of a slice from a DataFrame\n",
      "\n",
      "See the caveats in the documentation: https://pandas.pydata.org/pandas-docs/stable/user_guide/indexing.html#returning-a-view-versus-a-copy\n",
      "  df['City'][i]=rows[0]\n",
      "C:\\Users\\Kaveri\\AppData\\Local\\Temp\\ipykernel_37104\\2395200785.py:8: SettingWithCopyWarning: \n",
      "A value is trying to be set on a copy of a slice from a DataFrame\n",
      "\n",
      "See the caveats in the documentation: https://pandas.pydata.org/pandas-docs/stable/user_guide/indexing.html#returning-a-view-versus-a-copy\n",
      "  df['City'][i]=rows[0]\n",
      "C:\\Users\\Kaveri\\AppData\\Local\\Temp\\ipykernel_37104\\2395200785.py:8: SettingWithCopyWarning: \n",
      "A value is trying to be set on a copy of a slice from a DataFrame\n",
      "\n",
      "See the caveats in the documentation: https://pandas.pydata.org/pandas-docs/stable/user_guide/indexing.html#returning-a-view-versus-a-copy\n",
      "  df['City'][i]=rows[0]\n"
     ]
    }
   ],
   "source": [
    "c=df['Location']\n",
    "i=0\n",
    "for rows in c:\n",
    "    if(type(rows)!=float):\n",
    "        rows=rows.split()\n",
    "        if(len(rows)==3):\n",
    "            if(rows[1]=='Tamil' and rows[2]=='Nadu'):\n",
    "                df['City'][i]=rows[0]\n",
    "                \n",
    "                \n",
    "    i=i+1\n",
    "                "
   ]
  },
  {
   "cell_type": "code",
   "execution_count": 355,
   "id": "9f53fc4d-2c41-4a23-9de2-1063faa8e6db",
   "metadata": {},
   "outputs": [
    {
     "name": "stderr",
     "output_type": "stream",
     "text": [
      "C:\\Users\\Kaveri\\AppData\\Local\\Temp\\ipykernel_37104\\2680094699.py:8: SettingWithCopyWarning: \n",
      "A value is trying to be set on a copy of a slice from a DataFrame\n",
      "\n",
      "See the caveats in the documentation: https://pandas.pydata.org/pandas-docs/stable/user_guide/indexing.html#returning-a-view-versus-a-copy\n",
      "  df['City'][i]=rows[0]\n"
     ]
    }
   ],
   "source": [
    "c=df['Location']\n",
    "i=0\n",
    "for rows in c:\n",
    "    if(type(rows)!=float):\n",
    "        rows=rows.split()\n",
    "        if(len(rows)==3):\n",
    "            if(rows[1]=='West' and rows[2]=='Bengal'):\n",
    "                df['City'][i]=rows[0]\n",
    "                \n",
    "                \n",
    "    i=i+1\n",
    "                "
   ]
  },
  {
   "cell_type": "code",
   "execution_count": 356,
   "id": "5fdf35da-36c0-4181-8572-649b1dbafece",
   "metadata": {},
   "outputs": [
    {
     "name": "stderr",
     "output_type": "stream",
     "text": [
      "C:\\Users\\Kaveri\\AppData\\Local\\Temp\\ipykernel_37104\\63769448.py:8: SettingWithCopyWarning: \n",
      "A value is trying to be set on a copy of a slice from a DataFrame\n",
      "\n",
      "See the caveats in the documentation: https://pandas.pydata.org/pandas-docs/stable/user_guide/indexing.html#returning-a-view-versus-a-copy\n",
      "  df['City'][i]=rows[0]\n"
     ]
    }
   ],
   "source": [
    "c=df['Location']\n",
    "i=0\n",
    "for rows in c:\n",
    "    if(type(rows)!=float):\n",
    "        rows=rows.split()\n",
    "        if(len(rows)==3):\n",
    "            if(rows[1]=='Andhra' and rows[2]=='Pradesh'):\n",
    "                df['City'][i]=rows[0]\n",
    "                \n",
    "                \n",
    "    i=i+1\n",
    "                "
   ]
  },
  {
   "cell_type": "code",
   "execution_count": 357,
   "id": "23de6059-df4a-4117-baff-3cb434fc4ead",
   "metadata": {},
   "outputs": [
    {
     "name": "stderr",
     "output_type": "stream",
     "text": [
      "C:\\Users\\Kaveri\\AppData\\Local\\Temp\\ipykernel_37104\\2158013286.py:8: SettingWithCopyWarning: \n",
      "A value is trying to be set on a copy of a slice from a DataFrame\n",
      "\n",
      "See the caveats in the documentation: https://pandas.pydata.org/pandas-docs/stable/user_guide/indexing.html#returning-a-view-versus-a-copy\n",
      "  df['City'][i]=rows[0]\n",
      "C:\\Users\\Kaveri\\AppData\\Local\\Temp\\ipykernel_37104\\2158013286.py:8: SettingWithCopyWarning: \n",
      "A value is trying to be set on a copy of a slice from a DataFrame\n",
      "\n",
      "See the caveats in the documentation: https://pandas.pydata.org/pandas-docs/stable/user_guide/indexing.html#returning-a-view-versus-a-copy\n",
      "  df['City'][i]=rows[0]\n"
     ]
    }
   ],
   "source": [
    "c=df['Location']\n",
    "i=0\n",
    "for rows in c:\n",
    "    if(type(rows)!=float):\n",
    "        rows=rows.split()\n",
    "        if(len(rows)==3):\n",
    "            if(rows[1]=='Madhya' and rows[2]=='Pradesh'):\n",
    "                df['City'][i]=rows[0]\n",
    "                \n",
    "                \n",
    "    i=i+1\n",
    "                "
   ]
  },
  {
   "cell_type": "code",
   "execution_count": 358,
   "id": "5ee5b186-7460-4d41-b9da-9776dc4e83e2",
   "metadata": {},
   "outputs": [
    {
     "name": "stdout",
     "output_type": "stream",
     "text": [
      "['New', 'Delhi,', 'Delhi']\n",
      "['New', 'Delhi,', 'Delhi']\n",
      "['New', 'Delhi,', 'Delhi']\n",
      "['New', 'Delhi,', 'Delhi']\n",
      "['Gurgaon', 'Road,', 'Delhi']\n",
      "['Alaknanda,', 'Delhi,', 'Delhi']\n",
      "['Patper', 'Ganj,', 'Delhi']\n",
      "['Jasola,', 'Delhi,', 'Delhi']\n",
      "['Gurgaon', 'Road,', 'Delhi']\n",
      "['New', 'Delhi,', 'Delhi']\n",
      "['New', 'Delhi,', 'Delhi']\n",
      "['Dhaka,', 'Delhi,', 'Delhi']\n",
      "['Dhaka,', 'Delhi,', 'Delhi']\n",
      "['New', 'Delhi,', 'Delhi']\n",
      "['New', 'Delhi,', 'Delhi']\n"
     ]
    },
    {
     "name": "stderr",
     "output_type": "stream",
     "text": [
      "C:\\Users\\Kaveri\\AppData\\Local\\Temp\\ipykernel_37104\\1864112319.py:8: SettingWithCopyWarning: \n",
      "A value is trying to be set on a copy of a slice from a DataFrame\n",
      "\n",
      "See the caveats in the documentation: https://pandas.pydata.org/pandas-docs/stable/user_guide/indexing.html#returning-a-view-versus-a-copy\n",
      "  df['City'][i]='Delhi'\n"
     ]
    }
   ],
   "source": [
    "c=df['Location']\n",
    "i=0\n",
    "for rows in c:\n",
    "    if(type(rows)!=float):\n",
    "        rows=rows.split()\n",
    "        if(len(rows)==3):\n",
    "            if(rows[2]=='Delhi'):\n",
    "                df['City'][i]='Delhi'\n",
    "                print(rows)\n",
    "                \n",
    "    i=i+1\n",
    "                "
   ]
  },
  {
   "cell_type": "code",
   "execution_count": 359,
   "id": "f943987c-b176-4f6c-ae2f-b25280d4d05f",
   "metadata": {},
   "outputs": [
    {
     "name": "stdout",
     "output_type": "stream",
     "text": [
      "['Andheri,', 'Mumbai,', 'Maharashtra']\n",
      "['Bhandup,', 'Mumbai,', 'Maharashtra']\n",
      "['Powai,', 'Mumbai,', 'Maharashtra']\n",
      "['Navi', 'Mumbai,', 'Maharashtra']\n",
      "['Navi', 'Mumbai,', 'Maharashtra']\n",
      "['Navi', 'Mumbai,', 'Maharashtra']\n",
      "['Kothrud,', 'Pune,', 'Maharashtra']\n",
      "['Hadapsar,', 'Pune,', 'Maharashtra']\n",
      "['Hadapsar,', 'Pune,', 'Maharashtra']\n",
      "['Hadapsar,', 'Pune,', 'Maharashtra']\n",
      "['Hinjawadi,', 'Pune,', 'Maharashtra']\n",
      "['Chinchwad,', 'Pune,', 'Maharashtra']\n",
      "['Navi', 'Mumbai,', 'Maharashtra']\n",
      "['Kandivali,', 'Mumbai,', 'Maharashtra']\n",
      "['Hinjewadi,', 'Pune,', 'Maharashtra']\n",
      "['Kurla,', 'Mumbai,', 'Maharashtra']\n",
      "['Kurla,', 'Mumbai,', 'Maharashtra']\n",
      "['Andheri,', 'Mumbai,', 'Maharashtra']\n"
     ]
    },
    {
     "name": "stderr",
     "output_type": "stream",
     "text": [
      "C:\\Users\\Kaveri\\AppData\\Local\\Temp\\ipykernel_37104\\3960030355.py:8: SettingWithCopyWarning: \n",
      "A value is trying to be set on a copy of a slice from a DataFrame\n",
      "\n",
      "See the caveats in the documentation: https://pandas.pydata.org/pandas-docs/stable/user_guide/indexing.html#returning-a-view-versus-a-copy\n",
      "  df['City'][i]=rows[1]\n",
      "C:\\Users\\Kaveri\\AppData\\Local\\Temp\\ipykernel_37104\\3960030355.py:8: SettingWithCopyWarning: \n",
      "A value is trying to be set on a copy of a slice from a DataFrame\n",
      "\n",
      "See the caveats in the documentation: https://pandas.pydata.org/pandas-docs/stable/user_guide/indexing.html#returning-a-view-versus-a-copy\n",
      "  df['City'][i]=rows[1]\n",
      "C:\\Users\\Kaveri\\AppData\\Local\\Temp\\ipykernel_37104\\3960030355.py:8: SettingWithCopyWarning: \n",
      "A value is trying to be set on a copy of a slice from a DataFrame\n",
      "\n",
      "See the caveats in the documentation: https://pandas.pydata.org/pandas-docs/stable/user_guide/indexing.html#returning-a-view-versus-a-copy\n",
      "  df['City'][i]=rows[1]\n"
     ]
    }
   ],
   "source": [
    "c=df['Location']\n",
    "i=0\n",
    "for rows in c:\n",
    "    if(type(rows)!=float):\n",
    "        rows=rows.split()\n",
    "        if(len(rows)==3):\n",
    "            if(rows[2]=='Maharashtra'):\n",
    "                df['City'][i]=rows[1]\n",
    "                print(rows)\n",
    "                \n",
    "                \n",
    "    i=i+1\n",
    "                "
   ]
  },
  {
   "cell_type": "code",
   "execution_count": 360,
   "id": "0f5a42b7-6a6e-4bd9-aa6a-794950f2dab6",
   "metadata": {},
   "outputs": [
    {
     "name": "stderr",
     "output_type": "stream",
     "text": [
      "C:\\Users\\Kaveri\\AppData\\Local\\Temp\\ipykernel_37104\\4234795998.py:8: SettingWithCopyWarning: \n",
      "A value is trying to be set on a copy of a slice from a DataFrame\n",
      "\n",
      "See the caveats in the documentation: https://pandas.pydata.org/pandas-docs/stable/user_guide/indexing.html#returning-a-view-versus-a-copy\n",
      "  df['City'][i]='Bangalore'\n"
     ]
    }
   ],
   "source": [
    "c=df['Location']\n",
    "i=0\n",
    "for rows in c:\n",
    "    if(type(rows)!=float):\n",
    "        rows=rows.split()\n",
    "        if(len(rows)==3):\n",
    "            if(rows[2]=='Karnataka'):\n",
    "                df['City'][i]='Bangalore'\n",
    "                \n",
    "                \n",
    "                \n",
    "    i=i+1\n",
    "                "
   ]
  },
  {
   "cell_type": "code",
   "execution_count": 361,
   "id": "7a5d8944-e546-4f27-acdd-a44608c4f810",
   "metadata": {},
   "outputs": [
    {
     "name": "stderr",
     "output_type": "stream",
     "text": [
      "C:\\Users\\Kaveri\\AppData\\Local\\Temp\\ipykernel_37104\\1060714881.py:8: SettingWithCopyWarning: \n",
      "A value is trying to be set on a copy of a slice from a DataFrame\n",
      "\n",
      "See the caveats in the documentation: https://pandas.pydata.org/pandas-docs/stable/user_guide/indexing.html#returning-a-view-versus-a-copy\n",
      "  df['City'][i]='Gurgaon'\n"
     ]
    },
    {
     "name": "stdout",
     "output_type": "stream",
     "text": [
      "['Gurgaon,', 'Gurugram,', 'Haryana']\n",
      "['Gurgaon,', 'Gurugram,', 'Haryana']\n",
      "['Gurgaon,', 'Gurugram,', 'Haryana']\n"
     ]
    }
   ],
   "source": [
    "c=df['Location']\n",
    "i=0\n",
    "for rows in c:\n",
    "    if(type(rows)!=float):\n",
    "        rows=rows.split()\n",
    "        if(len(rows)==3):\n",
    "            if(rows[2]=='Haryana'):\n",
    "                df['City'][i]='Gurgaon'\n",
    "                print(rows)\n",
    "                \n",
    "    i=i+1\n",
    "                "
   ]
  },
  {
   "cell_type": "code",
   "execution_count": 362,
   "id": "ac6680a4-5e31-4dbf-81ae-a4ba34459f17",
   "metadata": {},
   "outputs": [
    {
     "name": "stderr",
     "output_type": "stream",
     "text": [
      "C:\\Users\\Kaveri\\AppData\\Local\\Temp\\ipykernel_37104\\1082245215.py:8: SettingWithCopyWarning: \n",
      "A value is trying to be set on a copy of a slice from a DataFrame\n",
      "\n",
      "See the caveats in the documentation: https://pandas.pydata.org/pandas-docs/stable/user_guide/indexing.html#returning-a-view-versus-a-copy\n",
      "  df['City'][i]=rows[2]\n",
      "C:\\Users\\Kaveri\\AppData\\Local\\Temp\\ipykernel_37104\\1082245215.py:8: SettingWithCopyWarning: \n",
      "A value is trying to be set on a copy of a slice from a DataFrame\n",
      "\n",
      "See the caveats in the documentation: https://pandas.pydata.org/pandas-docs/stable/user_guide/indexing.html#returning-a-view-versus-a-copy\n",
      "  df['City'][i]=rows[2]\n"
     ]
    }
   ],
   "source": [
    "c=df['Location']\n",
    "i=0\n",
    "for rows in c:\n",
    "    if(type(rows)!=float):\n",
    "        rows=rows.split()\n",
    "        if(len(rows)==4):\n",
    "            if(rows[3]=='Karnataka'):\n",
    "                df['City'][i]=rows[2]\n",
    "                \n",
    "                \n",
    "                \n",
    "    i=i+1\n",
    "                "
   ]
  },
  {
   "cell_type": "code",
   "execution_count": 363,
   "id": "31ee0829-4f28-433f-be4a-995fc876d85a",
   "metadata": {},
   "outputs": [
    {
     "name": "stderr",
     "output_type": "stream",
     "text": [
      "C:\\Users\\Kaveri\\AppData\\Local\\Temp\\ipykernel_37104\\627617735.py:8: SettingWithCopyWarning: \n",
      "A value is trying to be set on a copy of a slice from a DataFrame\n",
      "\n",
      "See the caveats in the documentation: https://pandas.pydata.org/pandas-docs/stable/user_guide/indexing.html#returning-a-view-versus-a-copy\n",
      "  df['City'][i]=rows[2]\n",
      "C:\\Users\\Kaveri\\AppData\\Local\\Temp\\ipykernel_37104\\627617735.py:8: SettingWithCopyWarning: \n",
      "A value is trying to be set on a copy of a slice from a DataFrame\n",
      "\n",
      "See the caveats in the documentation: https://pandas.pydata.org/pandas-docs/stable/user_guide/indexing.html#returning-a-view-versus-a-copy\n",
      "  df['City'][i]=rows[2]\n",
      "C:\\Users\\Kaveri\\AppData\\Local\\Temp\\ipykernel_37104\\627617735.py:8: SettingWithCopyWarning: \n",
      "A value is trying to be set on a copy of a slice from a DataFrame\n",
      "\n",
      "See the caveats in the documentation: https://pandas.pydata.org/pandas-docs/stable/user_guide/indexing.html#returning-a-view-versus-a-copy\n",
      "  df['City'][i]=rows[2]\n"
     ]
    }
   ],
   "source": [
    "c=df['Location']\n",
    "i=0\n",
    "for rows in c:\n",
    "    if(type(rows)!=float):\n",
    "        rows=rows.split()\n",
    "        if(len(rows)==4):\n",
    "            if(rows[3]=='Maharashtra'):\n",
    "                df['City'][i]=rows[2]\n",
    "            \n",
    "                \n",
    "                \n",
    "                \n",
    "    i=i+1\n",
    "                "
   ]
  },
  {
   "cell_type": "code",
   "execution_count": 364,
   "id": "115b2dd8-87a7-43bf-af29-dbc76d557853",
   "metadata": {},
   "outputs": [
    {
     "name": "stderr",
     "output_type": "stream",
     "text": [
      "C:\\Users\\Kaveri\\AppData\\Local\\Temp\\ipykernel_37104\\1388750267.py:8: SettingWithCopyWarning: \n",
      "A value is trying to be set on a copy of a slice from a DataFrame\n",
      "\n",
      "See the caveats in the documentation: https://pandas.pydata.org/pandas-docs/stable/user_guide/indexing.html#returning-a-view-versus-a-copy\n",
      "  df['City'][i]='Hyderabad'\n",
      "C:\\Users\\Kaveri\\AppData\\Local\\Temp\\ipykernel_37104\\1388750267.py:8: SettingWithCopyWarning: \n",
      "A value is trying to be set on a copy of a slice from a DataFrame\n",
      "\n",
      "See the caveats in the documentation: https://pandas.pydata.org/pandas-docs/stable/user_guide/indexing.html#returning-a-view-versus-a-copy\n",
      "  df['City'][i]='Hyderabad'\n"
     ]
    }
   ],
   "source": [
    "c=df['Location']\n",
    "i=0\n",
    "for rows in c:\n",
    "    if(type(rows)!=float):\n",
    "        rows=rows.split()\n",
    "        if(len(rows)==4):\n",
    "            if(rows[3]=='Telangana'):\n",
    "                df['City'][i]='Hyderabad'\n",
    "            \n",
    "            \n",
    "                \n",
    "                \n",
    "                \n",
    "    i=i+1\n",
    "                "
   ]
  },
  {
   "cell_type": "code",
   "execution_count": 365,
   "id": "e673be1b-c8ad-4340-9235-27b742d1faf9",
   "metadata": {},
   "outputs": [
    {
     "name": "stdout",
     "output_type": "stream",
     "text": [
      "['Mohali', 'Sas', 'Nagar,', 'Chandigarh']\n",
      "['Mohali', 'Sas', 'Nagar,', 'Chandigarh']\n"
     ]
    },
    {
     "name": "stderr",
     "output_type": "stream",
     "text": [
      "C:\\Users\\Kaveri\\AppData\\Local\\Temp\\ipykernel_37104\\3320546759.py:8: SettingWithCopyWarning: \n",
      "A value is trying to be set on a copy of a slice from a DataFrame\n",
      "\n",
      "See the caveats in the documentation: https://pandas.pydata.org/pandas-docs/stable/user_guide/indexing.html#returning-a-view-versus-a-copy\n",
      "  df['City'][i]='Chandigarh'\n"
     ]
    }
   ],
   "source": [
    "c=df['Location']\n",
    "i=0\n",
    "for rows in c:\n",
    "    if(type(rows)!=float):\n",
    "        rows=rows.split()\n",
    "        if(len(rows)==4):\n",
    "            if(rows[3]=='Chandigarh'):\n",
    "                df['City'][i]='Chandigarh'\n",
    "                print(rows)\n",
    "            \n",
    "            \n",
    "                \n",
    "                \n",
    "                \n",
    "    i=i+1\n",
    "                "
   ]
  },
  {
   "cell_type": "code",
   "execution_count": 366,
   "id": "5127e572-9f90-4ef0-9a7f-65cf2715a043",
   "metadata": {},
   "outputs": [
    {
     "name": "stdout",
     "output_type": "stream",
     "text": [
      "['Rajarhat,', 'Kolkata,', 'West', 'Bengal']\n",
      "['Rajarhat,', 'Kolkata,', 'West', 'Bengal']\n"
     ]
    },
    {
     "name": "stderr",
     "output_type": "stream",
     "text": [
      "C:\\Users\\Kaveri\\AppData\\Local\\Temp\\ipykernel_37104\\400602402.py:8: SettingWithCopyWarning: \n",
      "A value is trying to be set on a copy of a slice from a DataFrame\n",
      "\n",
      "See the caveats in the documentation: https://pandas.pydata.org/pandas-docs/stable/user_guide/indexing.html#returning-a-view-versus-a-copy\n",
      "  df['City'][i]='Kolkata'\n",
      "C:\\Users\\Kaveri\\AppData\\Local\\Temp\\ipykernel_37104\\400602402.py:8: SettingWithCopyWarning: \n",
      "A value is trying to be set on a copy of a slice from a DataFrame\n",
      "\n",
      "See the caveats in the documentation: https://pandas.pydata.org/pandas-docs/stable/user_guide/indexing.html#returning-a-view-versus-a-copy\n",
      "  df['City'][i]='Kolkata'\n"
     ]
    }
   ],
   "source": [
    "c=df['Location']\n",
    "i=0\n",
    "for rows in c:\n",
    "    if(type(rows)!=float):\n",
    "        rows=rows.split()\n",
    "        if(len(rows)==4):\n",
    "            if(rows[3]=='Bengal'):\n",
    "                df['City'][i]='Kolkata'\n",
    "                print(rows)\n",
    "            \n",
    "            \n",
    "                \n",
    "                \n",
    "                \n",
    "    i=i+1\n",
    "                "
   ]
  },
  {
   "cell_type": "code",
   "execution_count": 367,
   "id": "79256805-7f3b-42dd-9109-665ff91e3166",
   "metadata": {},
   "outputs": [
    {
     "name": "stdout",
     "output_type": "stream",
     "text": [
      "['Gurgaon', 'H', 'O,', 'Haryana']\n",
      "['Remote', 'in', 'Gurgaon,', 'Haryana']\n"
     ]
    },
    {
     "name": "stderr",
     "output_type": "stream",
     "text": [
      "C:\\Users\\Kaveri\\AppData\\Local\\Temp\\ipykernel_37104\\3269231612.py:8: SettingWithCopyWarning: \n",
      "A value is trying to be set on a copy of a slice from a DataFrame\n",
      "\n",
      "See the caveats in the documentation: https://pandas.pydata.org/pandas-docs/stable/user_guide/indexing.html#returning-a-view-versus-a-copy\n",
      "  df['City'][i]='Gurgaon'\n"
     ]
    }
   ],
   "source": [
    "c=df['Location']\n",
    "i=0\n",
    "for rows in c:\n",
    "    if(type(rows)!=float):\n",
    "        rows=rows.split()\n",
    "        if(len(rows)==4):\n",
    "            if(rows[3]=='Haryana'):\n",
    "                df['City'][i]='Gurgaon'\n",
    "                print(rows)\n",
    "            \n",
    "            \n",
    "                \n",
    "                \n",
    "                \n",
    "    i=i+1\n",
    "                "
   ]
  },
  {
   "cell_type": "code",
   "execution_count": 368,
   "id": "398d2173-df40-43b9-8253-7e61afb5360f",
   "metadata": {},
   "outputs": [
    {
     "name": "stdout",
     "output_type": "stream",
     "text": [
      "['Remote', 'in', 'Mohali,', 'Punjab']\n",
      "['Remote', 'in', 'Mohali,', 'Punjab']\n"
     ]
    },
    {
     "name": "stderr",
     "output_type": "stream",
     "text": [
      "C:\\Users\\Kaveri\\AppData\\Local\\Temp\\ipykernel_37104\\2458743664.py:8: SettingWithCopyWarning: \n",
      "A value is trying to be set on a copy of a slice from a DataFrame\n",
      "\n",
      "See the caveats in the documentation: https://pandas.pydata.org/pandas-docs/stable/user_guide/indexing.html#returning-a-view-versus-a-copy\n",
      "  df['City'][i]='Mohali'\n"
     ]
    }
   ],
   "source": [
    "c=df['Location']\n",
    "i=0\n",
    "for rows in c:\n",
    "    if(type(rows)!=float):\n",
    "        rows=rows.split()\n",
    "        if(len(rows)==4):\n",
    "            if(rows[3]=='Punjab'):\n",
    "                df['City'][i]='Mohali'\n",
    "                print(rows)\n",
    "            \n",
    "            \n",
    "                \n",
    "                \n",
    "                \n",
    "    i=i+1\n",
    "                "
   ]
  },
  {
   "cell_type": "code",
   "execution_count": 369,
   "id": "34be2f2e-c065-44c6-8b53-8fdb673af510",
   "metadata": {},
   "outputs": [
    {
     "name": "stdout",
     "output_type": "stream",
     "text": [
      "['Remote', 'in', 'Thiruvananthapuram,', 'Kerala']\n",
      "['Remote', 'in', 'Kochi,', 'Kerala']\n"
     ]
    },
    {
     "name": "stderr",
     "output_type": "stream",
     "text": [
      "C:\\Users\\Kaveri\\AppData\\Local\\Temp\\ipykernel_37104\\3185769427.py:8: SettingWithCopyWarning: \n",
      "A value is trying to be set on a copy of a slice from a DataFrame\n",
      "\n",
      "See the caveats in the documentation: https://pandas.pydata.org/pandas-docs/stable/user_guide/indexing.html#returning-a-view-versus-a-copy\n",
      "  df['City'][i]=rows[2]\n"
     ]
    }
   ],
   "source": [
    "c=df['Location']\n",
    "i=0\n",
    "for rows in c:\n",
    "    if(type(rows)!=float):\n",
    "        rows=rows.split()\n",
    "        if(len(rows)==4):\n",
    "            if(rows[3]=='Kerala'):\n",
    "                df['City'][i]=rows[2]\n",
    "                print(rows)\n",
    "            \n",
    "            \n",
    "                \n",
    "                \n",
    "                \n",
    "    i=i+1\n",
    "                "
   ]
  },
  {
   "cell_type": "code",
   "execution_count": 370,
   "id": "5589d9c2-6115-4f84-9758-61702f46b273",
   "metadata": {},
   "outputs": [
    {
     "name": "stderr",
     "output_type": "stream",
     "text": [
      "C:\\Users\\Kaveri\\AppData\\Local\\Temp\\ipykernel_37104\\1529372843.py:8: SettingWithCopyWarning: \n",
      "A value is trying to be set on a copy of a slice from a DataFrame\n",
      "\n",
      "See the caveats in the documentation: https://pandas.pydata.org/pandas-docs/stable/user_guide/indexing.html#returning-a-view-versus-a-copy\n",
      "  df['City'][i]=rows[3]\n"
     ]
    }
   ],
   "source": [
    "c=df['Location']\n",
    "i=0\n",
    "for rows in c:\n",
    "    if(type(rows)!=float):\n",
    "        rows=rows.split()\n",
    "        if(len(rows)==5):\n",
    "            if(rows[4]=='Maharashtra'):\n",
    "                df['City'][i]=rows[3]\n",
    "                \n",
    "            \n",
    "                \n",
    "                \n",
    "                \n",
    "    i=i+1\n",
    "                "
   ]
  },
  {
   "cell_type": "code",
   "execution_count": 371,
   "id": "fc2bd93a-b6c3-4ff7-a794-91c33e3fbd61",
   "metadata": {},
   "outputs": [
    {
     "name": "stderr",
     "output_type": "stream",
     "text": [
      "C:\\Users\\Kaveri\\AppData\\Local\\Temp\\ipykernel_37104\\2660898161.py:8: SettingWithCopyWarning: \n",
      "A value is trying to be set on a copy of a slice from a DataFrame\n",
      "\n",
      "See the caveats in the documentation: https://pandas.pydata.org/pandas-docs/stable/user_guide/indexing.html#returning-a-view-versus-a-copy\n",
      "  df['City'][i]='Bangalore'\n",
      "C:\\Users\\Kaveri\\AppData\\Local\\Temp\\ipykernel_37104\\2660898161.py:8: SettingWithCopyWarning: \n",
      "A value is trying to be set on a copy of a slice from a DataFrame\n",
      "\n",
      "See the caveats in the documentation: https://pandas.pydata.org/pandas-docs/stable/user_guide/indexing.html#returning-a-view-versus-a-copy\n",
      "  df['City'][i]='Bangalore'\n",
      "C:\\Users\\Kaveri\\AppData\\Local\\Temp\\ipykernel_37104\\2660898161.py:8: SettingWithCopyWarning: \n",
      "A value is trying to be set on a copy of a slice from a DataFrame\n",
      "\n",
      "See the caveats in the documentation: https://pandas.pydata.org/pandas-docs/stable/user_guide/indexing.html#returning-a-view-versus-a-copy\n",
      "  df['City'][i]='Bangalore'\n"
     ]
    }
   ],
   "source": [
    "c=df['Location']\n",
    "i=0\n",
    "for rows in c:\n",
    "    if(type(rows)!=float):\n",
    "        rows=rows.split()\n",
    "        if(len(rows)==5):\n",
    "            if(rows[4]=='Karnataka'):\n",
    "                df['City'][i]='Bangalore'\n",
    "                \n",
    "            \n",
    "                \n",
    "                \n",
    "                \n",
    "    i=i+1\n",
    "                "
   ]
  },
  {
   "cell_type": "code",
   "execution_count": 372,
   "id": "4e2b810a-0f1f-499c-bff1-0a394caef2c3",
   "metadata": {},
   "outputs": [
    {
     "name": "stderr",
     "output_type": "stream",
     "text": [
      "C:\\Users\\Kaveri\\AppData\\Local\\Temp\\ipykernel_37104\\3266128653.py:8: SettingWithCopyWarning: \n",
      "A value is trying to be set on a copy of a slice from a DataFrame\n",
      "\n",
      "See the caveats in the documentation: https://pandas.pydata.org/pandas-docs/stable/user_guide/indexing.html#returning-a-view-versus-a-copy\n",
      "  df['City'][i]='Delhi'\n"
     ]
    }
   ],
   "source": [
    "c=df['Location']\n",
    "i=0\n",
    "for rows in c:\n",
    "    if(type(rows)!=float):\n",
    "        rows=rows.split()\n",
    "        if(len(rows)==5):\n",
    "            if(rows[4]=='Delhi'):\n",
    "                df['City'][i]='Delhi'\n",
    "                \n",
    "            \n",
    "                \n",
    "                \n",
    "                \n",
    "    i=i+1\n",
    "                "
   ]
  },
  {
   "cell_type": "code",
   "execution_count": 373,
   "id": "196ed189-960c-482b-a78d-a6b428a509ef",
   "metadata": {},
   "outputs": [
    {
     "name": "stderr",
     "output_type": "stream",
     "text": [
      "C:\\Users\\Kaveri\\AppData\\Local\\Temp\\ipykernel_37104\\1251359050.py:8: SettingWithCopyWarning: \n",
      "A value is trying to be set on a copy of a slice from a DataFrame\n",
      "\n",
      "See the caveats in the documentation: https://pandas.pydata.org/pandas-docs/stable/user_guide/indexing.html#returning-a-view-versus-a-copy\n",
      "  df['City'][i]='Kochi'\n"
     ]
    }
   ],
   "source": [
    "c=df['Location']\n",
    "i=0\n",
    "for rows in c:\n",
    "    if(type(rows)!=float):\n",
    "        rows=rows.split()\n",
    "        if(len(rows)==5):\n",
    "            if(rows[4]=='Kerala'):\n",
    "                df['City'][i]='Kochi'\n",
    "                \n",
    "            \n",
    "                \n",
    "                \n",
    "                \n",
    "    i=i+1\n",
    "                "
   ]
  },
  {
   "cell_type": "code",
   "execution_count": 374,
   "id": "536b38c3-6447-440d-836d-9e060cc2c207",
   "metadata": {},
   "outputs": [
    {
     "name": "stderr",
     "output_type": "stream",
     "text": [
      "C:\\Users\\Kaveri\\AppData\\Local\\Temp\\ipykernel_37104\\11490669.py:8: SettingWithCopyWarning: \n",
      "A value is trying to be set on a copy of a slice from a DataFrame\n",
      "\n",
      "See the caveats in the documentation: https://pandas.pydata.org/pandas-docs/stable/user_guide/indexing.html#returning-a-view-versus-a-copy\n",
      "  df['City'][i]='Hyderabad'\n",
      "C:\\Users\\Kaveri\\AppData\\Local\\Temp\\ipykernel_37104\\11490669.py:8: SettingWithCopyWarning: \n",
      "A value is trying to be set on a copy of a slice from a DataFrame\n",
      "\n",
      "See the caveats in the documentation: https://pandas.pydata.org/pandas-docs/stable/user_guide/indexing.html#returning-a-view-versus-a-copy\n",
      "  df['City'][i]='Hyderabad'\n",
      "C:\\Users\\Kaveri\\AppData\\Local\\Temp\\ipykernel_37104\\11490669.py:8: SettingWithCopyWarning: \n",
      "A value is trying to be set on a copy of a slice from a DataFrame\n",
      "\n",
      "See the caveats in the documentation: https://pandas.pydata.org/pandas-docs/stable/user_guide/indexing.html#returning-a-view-versus-a-copy\n",
      "  df['City'][i]='Hyderabad'\n",
      "C:\\Users\\Kaveri\\AppData\\Local\\Temp\\ipykernel_37104\\11490669.py:8: SettingWithCopyWarning: \n",
      "A value is trying to be set on a copy of a slice from a DataFrame\n",
      "\n",
      "See the caveats in the documentation: https://pandas.pydata.org/pandas-docs/stable/user_guide/indexing.html#returning-a-view-versus-a-copy\n",
      "  df['City'][i]='Hyderabad'\n"
     ]
    }
   ],
   "source": [
    "c=df['Location']\n",
    "i=0\n",
    "for rows in c:\n",
    "    if(type(rows)!=float):\n",
    "        rows=rows.split()\n",
    "        if(len(rows)==5):\n",
    "            if(rows[4]=='Telangana'):\n",
    "                df['City'][i]='Hyderabad'\n",
    "                \n",
    "            \n",
    "                \n",
    "                \n",
    "                \n",
    "    i=i+1\n",
    "                "
   ]
  },
  {
   "cell_type": "code",
   "execution_count": 375,
   "id": "344d0c9b-ad5e-47f1-84de-29c377ad1a0e",
   "metadata": {},
   "outputs": [
    {
     "name": "stderr",
     "output_type": "stream",
     "text": [
      "C:\\Users\\Kaveri\\AppData\\Local\\Temp\\ipykernel_37104\\271233900.py:8: SettingWithCopyWarning: \n",
      "A value is trying to be set on a copy of a slice from a DataFrame\n",
      "\n",
      "See the caveats in the documentation: https://pandas.pydata.org/pandas-docs/stable/user_guide/indexing.html#returning-a-view-versus-a-copy\n",
      "  df['City'][i]='Kolkata'\n"
     ]
    }
   ],
   "source": [
    "c=df['Location']\n",
    "i=0\n",
    "for rows in c:\n",
    "    if(type(rows)!=float):\n",
    "        rows=rows.split()\n",
    "        if(len(rows)==5):\n",
    "            if(rows[4]=='Bengal'):\n",
    "                df['City'][i]='Kolkata'\n",
    "                \n",
    "            \n",
    "                \n",
    "                \n",
    "                \n",
    "    i=i+1\n",
    "                "
   ]
  },
  {
   "cell_type": "code",
   "execution_count": 376,
   "id": "ebd5a95c-e7ce-49f8-96d0-56021b8dc069",
   "metadata": {},
   "outputs": [
    {
     "name": "stderr",
     "output_type": "stream",
     "text": [
      "C:\\Users\\Kaveri\\AppData\\Local\\Temp\\ipykernel_37104\\165335478.py:8: SettingWithCopyWarning: \n",
      "A value is trying to be set on a copy of a slice from a DataFrame\n",
      "\n",
      "See the caveats in the documentation: https://pandas.pydata.org/pandas-docs/stable/user_guide/indexing.html#returning-a-view-versus-a-copy\n",
      "  df['City'][i]=rows[2]\n"
     ]
    }
   ],
   "source": [
    "c=df['Location']\n",
    "i=0\n",
    "for rows in c:\n",
    "    if(type(rows)!=float):\n",
    "        rows=rows.split()\n",
    "        if(len(rows)==5):\n",
    "            if(rows[4]=='Nadu'):\n",
    "                df['City'][i]=rows[2]\n",
    "                \n",
    "            \n",
    "                \n",
    "                \n",
    "                \n",
    "    i=i+1\n",
    "                "
   ]
  },
  {
   "cell_type": "code",
   "execution_count": 377,
   "id": "16e26d4c-69f8-4088-92f3-9eeb909248f4",
   "metadata": {},
   "outputs": [
    {
     "name": "stderr",
     "output_type": "stream",
     "text": [
      "C:\\Users\\Kaveri\\AppData\\Local\\Temp\\ipykernel_37104\\2755085313.py:8: SettingWithCopyWarning: \n",
      "A value is trying to be set on a copy of a slice from a DataFrame\n",
      "\n",
      "See the caveats in the documentation: https://pandas.pydata.org/pandas-docs/stable/user_guide/indexing.html#returning-a-view-versus-a-copy\n",
      "  df['City'][i]=rows[2]\n"
     ]
    }
   ],
   "source": [
    "c=df['Location']\n",
    "i=0\n",
    "for rows in c:\n",
    "    if(type(rows)!=float):\n",
    "        rows=rows.split()\n",
    "        if(len(rows)==5):\n",
    "            if(rows[4]=='Pradesh'):\n",
    "                df['City'][i]=rows[2]\n",
    "                \n",
    "            \n",
    "                \n",
    "                \n",
    "                \n",
    "    i=i+1"
   ]
  },
  {
   "cell_type": "code",
   "execution_count": 378,
   "id": "88b4cf49-5421-4ced-b76e-59de7842d9a6",
   "metadata": {},
   "outputs": [
    {
     "name": "stdout",
     "output_type": "stream",
     "text": [
      "['Hybrid', 'remote', 'in', 'Gurgaon,', 'Haryana']\n",
      "['Temporarily', 'Remote', 'in', 'Gurgaon,', 'Haryana']\n"
     ]
    },
    {
     "name": "stderr",
     "output_type": "stream",
     "text": [
      "C:\\Users\\Kaveri\\AppData\\Local\\Temp\\ipykernel_37104\\3103123678.py:8: SettingWithCopyWarning: \n",
      "A value is trying to be set on a copy of a slice from a DataFrame\n",
      "\n",
      "See the caveats in the documentation: https://pandas.pydata.org/pandas-docs/stable/user_guide/indexing.html#returning-a-view-versus-a-copy\n",
      "  df['City'][i]='Gurgaon'\n"
     ]
    }
   ],
   "source": [
    "c=df['Location']\n",
    "i=0\n",
    "for rows in c:\n",
    "    if(type(rows)!=float):\n",
    "        rows=rows.split()\n",
    "        if(len(rows)==5):\n",
    "            if(rows[4]=='Haryana'):\n",
    "                df['City'][i]='Gurgaon'\n",
    "                print(rows)\n",
    "                \n",
    "            \n",
    "                \n",
    "                \n",
    "                \n",
    "    i=i+1"
   ]
  },
  {
   "cell_type": "code",
   "execution_count": 379,
   "id": "5e86f8a3-58a4-4be9-9072-eb60036325b6",
   "metadata": {},
   "outputs": [
    {
     "name": "stdout",
     "output_type": "stream",
     "text": [
      "['Temporarily', 'Remote', 'in', 'Mohali,', 'Punjab']\n"
     ]
    },
    {
     "name": "stderr",
     "output_type": "stream",
     "text": [
      "C:\\Users\\Kaveri\\AppData\\Local\\Temp\\ipykernel_37104\\3446512045.py:8: SettingWithCopyWarning: \n",
      "A value is trying to be set on a copy of a slice from a DataFrame\n",
      "\n",
      "See the caveats in the documentation: https://pandas.pydata.org/pandas-docs/stable/user_guide/indexing.html#returning-a-view-versus-a-copy\n",
      "  df['City'][i]='Mohali'\n"
     ]
    }
   ],
   "source": [
    "c=df['Location']\n",
    "i=0\n",
    "for rows in c:\n",
    "    if(type(rows)!=float):\n",
    "        rows=rows.split()\n",
    "        if(len(rows)==5):\n",
    "            if(rows[4]=='Punjab'):\n",
    "                df['City'][i]='Mohali'\n",
    "                print(rows)\n",
    "                \n",
    "            \n",
    "                \n",
    "                \n",
    "                \n",
    "    i=i+1"
   ]
  },
  {
   "cell_type": "code",
   "execution_count": 380,
   "id": "de59e092-4d6f-490b-aa6c-df571838bb1d",
   "metadata": {},
   "outputs": [
    {
     "name": "stderr",
     "output_type": "stream",
     "text": [
      "C:\\Users\\Kaveri\\AppData\\Local\\Temp\\ipykernel_37104\\1714986032.py:7: SettingWithCopyWarning: \n",
      "A value is trying to be set on a copy of a slice from a DataFrame\n",
      "\n",
      "See the caveats in the documentation: https://pandas.pydata.org/pandas-docs/stable/user_guide/indexing.html#returning-a-view-versus-a-copy\n",
      "  df['City'][i]='Chennai'\n"
     ]
    }
   ],
   "source": [
    "c=df['Location']\n",
    "i=0\n",
    "for rows in c:\n",
    "    if(type(rows)!=float):\n",
    "        rows=rows.split()\n",
    "        if(len(rows)==6):\n",
    "            df['City'][i]='Chennai'\n",
    "            \n",
    "                \n",
    "            \n",
    "                \n",
    "                \n",
    "                \n",
    "    i=i+1"
   ]
  },
  {
   "cell_type": "code",
   "execution_count": 381,
   "id": "83932252-9493-48ed-a5ee-63e4f1a79ca1",
   "metadata": {},
   "outputs": [
    {
     "name": "stderr",
     "output_type": "stream",
     "text": [
      "C:\\Users\\Kaveri\\AppData\\Local\\Temp\\ipykernel_37104\\3605642385.py:7: SettingWithCopyWarning: \n",
      "A value is trying to be set on a copy of a slice from a DataFrame\n",
      "\n",
      "See the caveats in the documentation: https://pandas.pydata.org/pandas-docs/stable/user_guide/indexing.html#returning-a-view-versus-a-copy\n",
      "  df['City'][i]='Chennai'\n"
     ]
    }
   ],
   "source": [
    "c=df['Location']\n",
    "i=0\n",
    "for rows in c:\n",
    "    if(type(rows)!=float):\n",
    "        rows=rows.split()\n",
    "        if(len(rows)==7):\n",
    "            df['City'][i]='Chennai'\n",
    "            \n",
    "                \n",
    "            \n",
    "                \n",
    "                \n",
    "                \n",
    "    i=i+1"
   ]
  },
  {
   "cell_type": "code",
   "execution_count": 382,
   "id": "8967f45f-04fb-424a-beae-ecdbeab3a3a1",
   "metadata": {},
   "outputs": [
    {
     "name": "stderr",
     "output_type": "stream",
     "text": [
      "C:\\Users\\Kaveri\\AppData\\Local\\Temp\\ipykernel_37104\\3794834012.py:8: SettingWithCopyWarning: \n",
      "A value is trying to be set on a copy of a slice from a DataFrame\n",
      "\n",
      "See the caveats in the documentation: https://pandas.pydata.org/pandas-docs/stable/user_guide/indexing.html#returning-a-view-versus-a-copy\n",
      "  df['City'][i]=rows[0]\n",
      "C:\\Users\\Kaveri\\AppData\\Local\\Temp\\ipykernel_37104\\3794834012.py:8: SettingWithCopyWarning: \n",
      "A value is trying to be set on a copy of a slice from a DataFrame\n",
      "\n",
      "See the caveats in the documentation: https://pandas.pydata.org/pandas-docs/stable/user_guide/indexing.html#returning-a-view-versus-a-copy\n",
      "  df['City'][i]=rows[0]\n",
      "C:\\Users\\Kaveri\\AppData\\Local\\Temp\\ipykernel_37104\\3794834012.py:8: SettingWithCopyWarning: \n",
      "A value is trying to be set on a copy of a slice from a DataFrame\n",
      "\n",
      "See the caveats in the documentation: https://pandas.pydata.org/pandas-docs/stable/user_guide/indexing.html#returning-a-view-versus-a-copy\n",
      "  df['City'][i]=rows[0]\n",
      "C:\\Users\\Kaveri\\AppData\\Local\\Temp\\ipykernel_37104\\3794834012.py:8: SettingWithCopyWarning: \n",
      "A value is trying to be set on a copy of a slice from a DataFrame\n",
      "\n",
      "See the caveats in the documentation: https://pandas.pydata.org/pandas-docs/stable/user_guide/indexing.html#returning-a-view-versus-a-copy\n",
      "  df['City'][i]=rows[0]\n",
      "C:\\Users\\Kaveri\\AppData\\Local\\Temp\\ipykernel_37104\\3794834012.py:8: SettingWithCopyWarning: \n",
      "A value is trying to be set on a copy of a slice from a DataFrame\n",
      "\n",
      "See the caveats in the documentation: https://pandas.pydata.org/pandas-docs/stable/user_guide/indexing.html#returning-a-view-versus-a-copy\n",
      "  df['City'][i]=rows[0]\n"
     ]
    }
   ],
   "source": [
    "c=df['Location']\n",
    "i=0\n",
    "for rows in c:\n",
    "    if(type(rows)!=float):\n",
    "        rows=rows.split()\n",
    "        if(len(rows)==1):\n",
    "            if(rows[0]!='India'):\n",
    "                df['City'][i]=rows[0]\n",
    "            \n",
    "                \n",
    "            \n",
    "                \n",
    "                \n",
    "                \n",
    "    i=i+1"
   ]
  },
  {
   "cell_type": "code",
   "execution_count": 383,
   "id": "5d51a060-00a2-4450-a1bf-a0702205ef64",
   "metadata": {},
   "outputs": [
    {
     "name": "stderr",
     "output_type": "stream",
     "text": [
      "C:\\Users\\Kaveri\\AppData\\Local\\Temp\\ipykernel_37104\\3924081187.py:7: SettingWithCopyWarning: \n",
      "A value is trying to be set on a copy of a slice from a DataFrame\n",
      "\n",
      "See the caveats in the documentation: https://pandas.pydata.org/pandas-docs/stable/user_guide/indexing.html#returning-a-view-versus-a-copy\n",
      "  df['City'][i]=rows[0]\n",
      "C:\\Users\\Kaveri\\AppData\\Local\\Temp\\ipykernel_37104\\3924081187.py:7: SettingWithCopyWarning: \n",
      "A value is trying to be set on a copy of a slice from a DataFrame\n",
      "\n",
      "See the caveats in the documentation: https://pandas.pydata.org/pandas-docs/stable/user_guide/indexing.html#returning-a-view-versus-a-copy\n",
      "  df['City'][i]=rows[0]\n",
      "C:\\Users\\Kaveri\\AppData\\Local\\Temp\\ipykernel_37104\\3924081187.py:7: SettingWithCopyWarning: \n",
      "A value is trying to be set on a copy of a slice from a DataFrame\n",
      "\n",
      "See the caveats in the documentation: https://pandas.pydata.org/pandas-docs/stable/user_guide/indexing.html#returning-a-view-versus-a-copy\n",
      "  df['City'][i]=rows[0]\n",
      "C:\\Users\\Kaveri\\AppData\\Local\\Temp\\ipykernel_37104\\3924081187.py:7: SettingWithCopyWarning: \n",
      "A value is trying to be set on a copy of a slice from a DataFrame\n",
      "\n",
      "See the caveats in the documentation: https://pandas.pydata.org/pandas-docs/stable/user_guide/indexing.html#returning-a-view-versus-a-copy\n",
      "  df['City'][i]=rows[0]\n",
      "C:\\Users\\Kaveri\\AppData\\Local\\Temp\\ipykernel_37104\\3924081187.py:7: SettingWithCopyWarning: \n",
      "A value is trying to be set on a copy of a slice from a DataFrame\n",
      "\n",
      "See the caveats in the documentation: https://pandas.pydata.org/pandas-docs/stable/user_guide/indexing.html#returning-a-view-versus-a-copy\n",
      "  df['City'][i]=rows[0]\n",
      "C:\\Users\\Kaveri\\AppData\\Local\\Temp\\ipykernel_37104\\3924081187.py:7: SettingWithCopyWarning: \n",
      "A value is trying to be set on a copy of a slice from a DataFrame\n",
      "\n",
      "See the caveats in the documentation: https://pandas.pydata.org/pandas-docs/stable/user_guide/indexing.html#returning-a-view-versus-a-copy\n",
      "  df['City'][i]=rows[0]\n",
      "C:\\Users\\Kaveri\\AppData\\Local\\Temp\\ipykernel_37104\\3924081187.py:7: SettingWithCopyWarning: \n",
      "A value is trying to be set on a copy of a slice from a DataFrame\n",
      "\n",
      "See the caveats in the documentation: https://pandas.pydata.org/pandas-docs/stable/user_guide/indexing.html#returning-a-view-versus-a-copy\n",
      "  df['City'][i]=rows[0]\n",
      "C:\\Users\\Kaveri\\AppData\\Local\\Temp\\ipykernel_37104\\3924081187.py:7: SettingWithCopyWarning: \n",
      "A value is trying to be set on a copy of a slice from a DataFrame\n",
      "\n",
      "See the caveats in the documentation: https://pandas.pydata.org/pandas-docs/stable/user_guide/indexing.html#returning-a-view-versus-a-copy\n",
      "  df['City'][i]=rows[0]\n",
      "C:\\Users\\Kaveri\\AppData\\Local\\Temp\\ipykernel_37104\\3924081187.py:7: SettingWithCopyWarning: \n",
      "A value is trying to be set on a copy of a slice from a DataFrame\n",
      "\n",
      "See the caveats in the documentation: https://pandas.pydata.org/pandas-docs/stable/user_guide/indexing.html#returning-a-view-versus-a-copy\n",
      "  df['City'][i]=rows[0]\n",
      "C:\\Users\\Kaveri\\AppData\\Local\\Temp\\ipykernel_37104\\3924081187.py:7: SettingWithCopyWarning: \n",
      "A value is trying to be set on a copy of a slice from a DataFrame\n",
      "\n",
      "See the caveats in the documentation: https://pandas.pydata.org/pandas-docs/stable/user_guide/indexing.html#returning-a-view-versus-a-copy\n",
      "  df['City'][i]=rows[0]\n",
      "C:\\Users\\Kaveri\\AppData\\Local\\Temp\\ipykernel_37104\\3924081187.py:7: SettingWithCopyWarning: \n",
      "A value is trying to be set on a copy of a slice from a DataFrame\n",
      "\n",
      "See the caveats in the documentation: https://pandas.pydata.org/pandas-docs/stable/user_guide/indexing.html#returning-a-view-versus-a-copy\n",
      "  df['City'][i]=rows[0]\n",
      "C:\\Users\\Kaveri\\AppData\\Local\\Temp\\ipykernel_37104\\3924081187.py:7: SettingWithCopyWarning: \n",
      "A value is trying to be set on a copy of a slice from a DataFrame\n",
      "\n",
      "See the caveats in the documentation: https://pandas.pydata.org/pandas-docs/stable/user_guide/indexing.html#returning-a-view-versus-a-copy\n",
      "  df['City'][i]=rows[0]\n",
      "C:\\Users\\Kaveri\\AppData\\Local\\Temp\\ipykernel_37104\\3924081187.py:7: SettingWithCopyWarning: \n",
      "A value is trying to be set on a copy of a slice from a DataFrame\n",
      "\n",
      "See the caveats in the documentation: https://pandas.pydata.org/pandas-docs/stable/user_guide/indexing.html#returning-a-view-versus-a-copy\n",
      "  df['City'][i]=rows[0]\n",
      "C:\\Users\\Kaveri\\AppData\\Local\\Temp\\ipykernel_37104\\3924081187.py:7: SettingWithCopyWarning: \n",
      "A value is trying to be set on a copy of a slice from a DataFrame\n",
      "\n",
      "See the caveats in the documentation: https://pandas.pydata.org/pandas-docs/stable/user_guide/indexing.html#returning-a-view-versus-a-copy\n",
      "  df['City'][i]=rows[0]\n",
      "C:\\Users\\Kaveri\\AppData\\Local\\Temp\\ipykernel_37104\\3924081187.py:7: SettingWithCopyWarning: \n",
      "A value is trying to be set on a copy of a slice from a DataFrame\n",
      "\n",
      "See the caveats in the documentation: https://pandas.pydata.org/pandas-docs/stable/user_guide/indexing.html#returning-a-view-versus-a-copy\n",
      "  df['City'][i]=rows[0]\n",
      "C:\\Users\\Kaveri\\AppData\\Local\\Temp\\ipykernel_37104\\3924081187.py:7: SettingWithCopyWarning: \n",
      "A value is trying to be set on a copy of a slice from a DataFrame\n",
      "\n",
      "See the caveats in the documentation: https://pandas.pydata.org/pandas-docs/stable/user_guide/indexing.html#returning-a-view-versus-a-copy\n",
      "  df['City'][i]=rows[0]\n",
      "C:\\Users\\Kaveri\\AppData\\Local\\Temp\\ipykernel_37104\\3924081187.py:7: SettingWithCopyWarning: \n",
      "A value is trying to be set on a copy of a slice from a DataFrame\n",
      "\n",
      "See the caveats in the documentation: https://pandas.pydata.org/pandas-docs/stable/user_guide/indexing.html#returning-a-view-versus-a-copy\n",
      "  df['City'][i]=rows[0]\n",
      "C:\\Users\\Kaveri\\AppData\\Local\\Temp\\ipykernel_37104\\3924081187.py:7: SettingWithCopyWarning: \n",
      "A value is trying to be set on a copy of a slice from a DataFrame\n",
      "\n",
      "See the caveats in the documentation: https://pandas.pydata.org/pandas-docs/stable/user_guide/indexing.html#returning-a-view-versus-a-copy\n",
      "  df['City'][i]=rows[0]\n",
      "C:\\Users\\Kaveri\\AppData\\Local\\Temp\\ipykernel_37104\\3924081187.py:7: SettingWithCopyWarning: \n",
      "A value is trying to be set on a copy of a slice from a DataFrame\n",
      "\n",
      "See the caveats in the documentation: https://pandas.pydata.org/pandas-docs/stable/user_guide/indexing.html#returning-a-view-versus-a-copy\n",
      "  df['City'][i]=rows[0]\n",
      "C:\\Users\\Kaveri\\AppData\\Local\\Temp\\ipykernel_37104\\3924081187.py:7: SettingWithCopyWarning: \n",
      "A value is trying to be set on a copy of a slice from a DataFrame\n",
      "\n",
      "See the caveats in the documentation: https://pandas.pydata.org/pandas-docs/stable/user_guide/indexing.html#returning-a-view-versus-a-copy\n",
      "  df['City'][i]=rows[0]\n",
      "C:\\Users\\Kaveri\\AppData\\Local\\Temp\\ipykernel_37104\\3924081187.py:7: SettingWithCopyWarning: \n",
      "A value is trying to be set on a copy of a slice from a DataFrame\n",
      "\n",
      "See the caveats in the documentation: https://pandas.pydata.org/pandas-docs/stable/user_guide/indexing.html#returning-a-view-versus-a-copy\n",
      "  df['City'][i]=rows[0]\n",
      "C:\\Users\\Kaveri\\AppData\\Local\\Temp\\ipykernel_37104\\3924081187.py:7: SettingWithCopyWarning: \n",
      "A value is trying to be set on a copy of a slice from a DataFrame\n",
      "\n",
      "See the caveats in the documentation: https://pandas.pydata.org/pandas-docs/stable/user_guide/indexing.html#returning-a-view-versus-a-copy\n",
      "  df['City'][i]=rows[0]\n",
      "C:\\Users\\Kaveri\\AppData\\Local\\Temp\\ipykernel_37104\\3924081187.py:7: SettingWithCopyWarning: \n",
      "A value is trying to be set on a copy of a slice from a DataFrame\n",
      "\n",
      "See the caveats in the documentation: https://pandas.pydata.org/pandas-docs/stable/user_guide/indexing.html#returning-a-view-versus-a-copy\n",
      "  df['City'][i]=rows[0]\n",
      "C:\\Users\\Kaveri\\AppData\\Local\\Temp\\ipykernel_37104\\3924081187.py:7: SettingWithCopyWarning: \n",
      "A value is trying to be set on a copy of a slice from a DataFrame\n",
      "\n",
      "See the caveats in the documentation: https://pandas.pydata.org/pandas-docs/stable/user_guide/indexing.html#returning-a-view-versus-a-copy\n",
      "  df['City'][i]=rows[0]\n",
      "C:\\Users\\Kaveri\\AppData\\Local\\Temp\\ipykernel_37104\\3924081187.py:7: SettingWithCopyWarning: \n",
      "A value is trying to be set on a copy of a slice from a DataFrame\n",
      "\n",
      "See the caveats in the documentation: https://pandas.pydata.org/pandas-docs/stable/user_guide/indexing.html#returning-a-view-versus-a-copy\n",
      "  df['City'][i]=rows[0]\n",
      "C:\\Users\\Kaveri\\AppData\\Local\\Temp\\ipykernel_37104\\3924081187.py:7: SettingWithCopyWarning: \n",
      "A value is trying to be set on a copy of a slice from a DataFrame\n",
      "\n",
      "See the caveats in the documentation: https://pandas.pydata.org/pandas-docs/stable/user_guide/indexing.html#returning-a-view-versus-a-copy\n",
      "  df['City'][i]=rows[0]\n",
      "C:\\Users\\Kaveri\\AppData\\Local\\Temp\\ipykernel_37104\\3924081187.py:7: SettingWithCopyWarning: \n",
      "A value is trying to be set on a copy of a slice from a DataFrame\n",
      "\n",
      "See the caveats in the documentation: https://pandas.pydata.org/pandas-docs/stable/user_guide/indexing.html#returning-a-view-versus-a-copy\n",
      "  df['City'][i]=rows[0]\n",
      "C:\\Users\\Kaveri\\AppData\\Local\\Temp\\ipykernel_37104\\3924081187.py:7: SettingWithCopyWarning: \n",
      "A value is trying to be set on a copy of a slice from a DataFrame\n",
      "\n",
      "See the caveats in the documentation: https://pandas.pydata.org/pandas-docs/stable/user_guide/indexing.html#returning-a-view-versus-a-copy\n",
      "  df['City'][i]=rows[0]\n",
      "C:\\Users\\Kaveri\\AppData\\Local\\Temp\\ipykernel_37104\\3924081187.py:7: SettingWithCopyWarning: \n",
      "A value is trying to be set on a copy of a slice from a DataFrame\n",
      "\n",
      "See the caveats in the documentation: https://pandas.pydata.org/pandas-docs/stable/user_guide/indexing.html#returning-a-view-versus-a-copy\n",
      "  df['City'][i]=rows[0]\n",
      "C:\\Users\\Kaveri\\AppData\\Local\\Temp\\ipykernel_37104\\3924081187.py:7: SettingWithCopyWarning: \n",
      "A value is trying to be set on a copy of a slice from a DataFrame\n",
      "\n",
      "See the caveats in the documentation: https://pandas.pydata.org/pandas-docs/stable/user_guide/indexing.html#returning-a-view-versus-a-copy\n",
      "  df['City'][i]=rows[0]\n",
      "C:\\Users\\Kaveri\\AppData\\Local\\Temp\\ipykernel_37104\\3924081187.py:7: SettingWithCopyWarning: \n",
      "A value is trying to be set on a copy of a slice from a DataFrame\n",
      "\n",
      "See the caveats in the documentation: https://pandas.pydata.org/pandas-docs/stable/user_guide/indexing.html#returning-a-view-versus-a-copy\n",
      "  df['City'][i]=rows[0]\n",
      "C:\\Users\\Kaveri\\AppData\\Local\\Temp\\ipykernel_37104\\3924081187.py:7: SettingWithCopyWarning: \n",
      "A value is trying to be set on a copy of a slice from a DataFrame\n",
      "\n",
      "See the caveats in the documentation: https://pandas.pydata.org/pandas-docs/stable/user_guide/indexing.html#returning-a-view-versus-a-copy\n",
      "  df['City'][i]=rows[0]\n",
      "C:\\Users\\Kaveri\\AppData\\Local\\Temp\\ipykernel_37104\\3924081187.py:7: SettingWithCopyWarning: \n",
      "A value is trying to be set on a copy of a slice from a DataFrame\n",
      "\n",
      "See the caveats in the documentation: https://pandas.pydata.org/pandas-docs/stable/user_guide/indexing.html#returning-a-view-versus-a-copy\n",
      "  df['City'][i]=rows[0]\n",
      "C:\\Users\\Kaveri\\AppData\\Local\\Temp\\ipykernel_37104\\3924081187.py:7: SettingWithCopyWarning: \n",
      "A value is trying to be set on a copy of a slice from a DataFrame\n",
      "\n",
      "See the caveats in the documentation: https://pandas.pydata.org/pandas-docs/stable/user_guide/indexing.html#returning-a-view-versus-a-copy\n",
      "  df['City'][i]=rows[0]\n",
      "C:\\Users\\Kaveri\\AppData\\Local\\Temp\\ipykernel_37104\\3924081187.py:7: SettingWithCopyWarning: \n",
      "A value is trying to be set on a copy of a slice from a DataFrame\n",
      "\n",
      "See the caveats in the documentation: https://pandas.pydata.org/pandas-docs/stable/user_guide/indexing.html#returning-a-view-versus-a-copy\n",
      "  df['City'][i]=rows[0]\n",
      "C:\\Users\\Kaveri\\AppData\\Local\\Temp\\ipykernel_37104\\3924081187.py:7: SettingWithCopyWarning: \n",
      "A value is trying to be set on a copy of a slice from a DataFrame\n",
      "\n",
      "See the caveats in the documentation: https://pandas.pydata.org/pandas-docs/stable/user_guide/indexing.html#returning-a-view-versus-a-copy\n",
      "  df['City'][i]=rows[0]\n",
      "C:\\Users\\Kaveri\\AppData\\Local\\Temp\\ipykernel_37104\\3924081187.py:7: SettingWithCopyWarning: \n",
      "A value is trying to be set on a copy of a slice from a DataFrame\n",
      "\n",
      "See the caveats in the documentation: https://pandas.pydata.org/pandas-docs/stable/user_guide/indexing.html#returning-a-view-versus-a-copy\n",
      "  df['City'][i]=rows[0]\n",
      "C:\\Users\\Kaveri\\AppData\\Local\\Temp\\ipykernel_37104\\3924081187.py:7: SettingWithCopyWarning: \n",
      "A value is trying to be set on a copy of a slice from a DataFrame\n",
      "\n",
      "See the caveats in the documentation: https://pandas.pydata.org/pandas-docs/stable/user_guide/indexing.html#returning-a-view-versus-a-copy\n",
      "  df['City'][i]=rows[0]\n",
      "C:\\Users\\Kaveri\\AppData\\Local\\Temp\\ipykernel_37104\\3924081187.py:7: SettingWithCopyWarning: \n",
      "A value is trying to be set on a copy of a slice from a DataFrame\n",
      "\n",
      "See the caveats in the documentation: https://pandas.pydata.org/pandas-docs/stable/user_guide/indexing.html#returning-a-view-versus-a-copy\n",
      "  df['City'][i]=rows[0]\n",
      "C:\\Users\\Kaveri\\AppData\\Local\\Temp\\ipykernel_37104\\3924081187.py:7: SettingWithCopyWarning: \n",
      "A value is trying to be set on a copy of a slice from a DataFrame\n",
      "\n",
      "See the caveats in the documentation: https://pandas.pydata.org/pandas-docs/stable/user_guide/indexing.html#returning-a-view-versus-a-copy\n",
      "  df['City'][i]=rows[0]\n",
      "C:\\Users\\Kaveri\\AppData\\Local\\Temp\\ipykernel_37104\\3924081187.py:7: SettingWithCopyWarning: \n",
      "A value is trying to be set on a copy of a slice from a DataFrame\n",
      "\n",
      "See the caveats in the documentation: https://pandas.pydata.org/pandas-docs/stable/user_guide/indexing.html#returning-a-view-versus-a-copy\n",
      "  df['City'][i]=rows[0]\n",
      "C:\\Users\\Kaveri\\AppData\\Local\\Temp\\ipykernel_37104\\3924081187.py:7: SettingWithCopyWarning: \n",
      "A value is trying to be set on a copy of a slice from a DataFrame\n",
      "\n",
      "See the caveats in the documentation: https://pandas.pydata.org/pandas-docs/stable/user_guide/indexing.html#returning-a-view-versus-a-copy\n",
      "  df['City'][i]=rows[0]\n",
      "C:\\Users\\Kaveri\\AppData\\Local\\Temp\\ipykernel_37104\\3924081187.py:7: SettingWithCopyWarning: \n",
      "A value is trying to be set on a copy of a slice from a DataFrame\n",
      "\n",
      "See the caveats in the documentation: https://pandas.pydata.org/pandas-docs/stable/user_guide/indexing.html#returning-a-view-versus-a-copy\n",
      "  df['City'][i]=rows[0]\n",
      "C:\\Users\\Kaveri\\AppData\\Local\\Temp\\ipykernel_37104\\3924081187.py:7: SettingWithCopyWarning: \n",
      "A value is trying to be set on a copy of a slice from a DataFrame\n",
      "\n",
      "See the caveats in the documentation: https://pandas.pydata.org/pandas-docs/stable/user_guide/indexing.html#returning-a-view-versus-a-copy\n",
      "  df['City'][i]=rows[0]\n",
      "C:\\Users\\Kaveri\\AppData\\Local\\Temp\\ipykernel_37104\\3924081187.py:7: SettingWithCopyWarning: \n",
      "A value is trying to be set on a copy of a slice from a DataFrame\n",
      "\n",
      "See the caveats in the documentation: https://pandas.pydata.org/pandas-docs/stable/user_guide/indexing.html#returning-a-view-versus-a-copy\n",
      "  df['City'][i]=rows[0]\n",
      "C:\\Users\\Kaveri\\AppData\\Local\\Temp\\ipykernel_37104\\3924081187.py:7: SettingWithCopyWarning: \n",
      "A value is trying to be set on a copy of a slice from a DataFrame\n",
      "\n",
      "See the caveats in the documentation: https://pandas.pydata.org/pandas-docs/stable/user_guide/indexing.html#returning-a-view-versus-a-copy\n",
      "  df['City'][i]=rows[0]\n",
      "C:\\Users\\Kaveri\\AppData\\Local\\Temp\\ipykernel_37104\\3924081187.py:7: SettingWithCopyWarning: \n",
      "A value is trying to be set on a copy of a slice from a DataFrame\n",
      "\n",
      "See the caveats in the documentation: https://pandas.pydata.org/pandas-docs/stable/user_guide/indexing.html#returning-a-view-versus-a-copy\n",
      "  df['City'][i]=rows[0]\n",
      "C:\\Users\\Kaveri\\AppData\\Local\\Temp\\ipykernel_37104\\3924081187.py:7: SettingWithCopyWarning: \n",
      "A value is trying to be set on a copy of a slice from a DataFrame\n",
      "\n",
      "See the caveats in the documentation: https://pandas.pydata.org/pandas-docs/stable/user_guide/indexing.html#returning-a-view-versus-a-copy\n",
      "  df['City'][i]=rows[0]\n",
      "C:\\Users\\Kaveri\\AppData\\Local\\Temp\\ipykernel_37104\\3924081187.py:7: SettingWithCopyWarning: \n",
      "A value is trying to be set on a copy of a slice from a DataFrame\n",
      "\n",
      "See the caveats in the documentation: https://pandas.pydata.org/pandas-docs/stable/user_guide/indexing.html#returning-a-view-versus-a-copy\n",
      "  df['City'][i]=rows[0]\n",
      "C:\\Users\\Kaveri\\AppData\\Local\\Temp\\ipykernel_37104\\3924081187.py:7: SettingWithCopyWarning: \n",
      "A value is trying to be set on a copy of a slice from a DataFrame\n",
      "\n",
      "See the caveats in the documentation: https://pandas.pydata.org/pandas-docs/stable/user_guide/indexing.html#returning-a-view-versus-a-copy\n",
      "  df['City'][i]=rows[0]\n",
      "C:\\Users\\Kaveri\\AppData\\Local\\Temp\\ipykernel_37104\\3924081187.py:7: SettingWithCopyWarning: \n",
      "A value is trying to be set on a copy of a slice from a DataFrame\n",
      "\n",
      "See the caveats in the documentation: https://pandas.pydata.org/pandas-docs/stable/user_guide/indexing.html#returning-a-view-versus-a-copy\n",
      "  df['City'][i]=rows[0]\n",
      "C:\\Users\\Kaveri\\AppData\\Local\\Temp\\ipykernel_37104\\3924081187.py:7: SettingWithCopyWarning: \n",
      "A value is trying to be set on a copy of a slice from a DataFrame\n",
      "\n",
      "See the caveats in the documentation: https://pandas.pydata.org/pandas-docs/stable/user_guide/indexing.html#returning-a-view-versus-a-copy\n",
      "  df['City'][i]=rows[0]\n",
      "C:\\Users\\Kaveri\\AppData\\Local\\Temp\\ipykernel_37104\\3924081187.py:7: SettingWithCopyWarning: \n",
      "A value is trying to be set on a copy of a slice from a DataFrame\n",
      "\n",
      "See the caveats in the documentation: https://pandas.pydata.org/pandas-docs/stable/user_guide/indexing.html#returning-a-view-versus-a-copy\n",
      "  df['City'][i]=rows[0]\n",
      "C:\\Users\\Kaveri\\AppData\\Local\\Temp\\ipykernel_37104\\3924081187.py:7: SettingWithCopyWarning: \n",
      "A value is trying to be set on a copy of a slice from a DataFrame\n",
      "\n",
      "See the caveats in the documentation: https://pandas.pydata.org/pandas-docs/stable/user_guide/indexing.html#returning-a-view-versus-a-copy\n",
      "  df['City'][i]=rows[0]\n",
      "C:\\Users\\Kaveri\\AppData\\Local\\Temp\\ipykernel_37104\\3924081187.py:7: SettingWithCopyWarning: \n",
      "A value is trying to be set on a copy of a slice from a DataFrame\n",
      "\n",
      "See the caveats in the documentation: https://pandas.pydata.org/pandas-docs/stable/user_guide/indexing.html#returning-a-view-versus-a-copy\n",
      "  df['City'][i]=rows[0]\n",
      "C:\\Users\\Kaveri\\AppData\\Local\\Temp\\ipykernel_37104\\3924081187.py:7: SettingWithCopyWarning: \n",
      "A value is trying to be set on a copy of a slice from a DataFrame\n",
      "\n",
      "See the caveats in the documentation: https://pandas.pydata.org/pandas-docs/stable/user_guide/indexing.html#returning-a-view-versus-a-copy\n",
      "  df['City'][i]=rows[0]\n",
      "C:\\Users\\Kaveri\\AppData\\Local\\Temp\\ipykernel_37104\\3924081187.py:7: SettingWithCopyWarning: \n",
      "A value is trying to be set on a copy of a slice from a DataFrame\n",
      "\n",
      "See the caveats in the documentation: https://pandas.pydata.org/pandas-docs/stable/user_guide/indexing.html#returning-a-view-versus-a-copy\n",
      "  df['City'][i]=rows[0]\n",
      "C:\\Users\\Kaveri\\AppData\\Local\\Temp\\ipykernel_37104\\3924081187.py:7: SettingWithCopyWarning: \n",
      "A value is trying to be set on a copy of a slice from a DataFrame\n",
      "\n",
      "See the caveats in the documentation: https://pandas.pydata.org/pandas-docs/stable/user_guide/indexing.html#returning-a-view-versus-a-copy\n",
      "  df['City'][i]=rows[0]\n",
      "C:\\Users\\Kaveri\\AppData\\Local\\Temp\\ipykernel_37104\\3924081187.py:7: SettingWithCopyWarning: \n",
      "A value is trying to be set on a copy of a slice from a DataFrame\n",
      "\n",
      "See the caveats in the documentation: https://pandas.pydata.org/pandas-docs/stable/user_guide/indexing.html#returning-a-view-versus-a-copy\n",
      "  df['City'][i]=rows[0]\n",
      "C:\\Users\\Kaveri\\AppData\\Local\\Temp\\ipykernel_37104\\3924081187.py:7: SettingWithCopyWarning: \n",
      "A value is trying to be set on a copy of a slice from a DataFrame\n",
      "\n",
      "See the caveats in the documentation: https://pandas.pydata.org/pandas-docs/stable/user_guide/indexing.html#returning-a-view-versus-a-copy\n",
      "  df['City'][i]=rows[0]\n",
      "C:\\Users\\Kaveri\\AppData\\Local\\Temp\\ipykernel_37104\\3924081187.py:7: SettingWithCopyWarning: \n",
      "A value is trying to be set on a copy of a slice from a DataFrame\n",
      "\n",
      "See the caveats in the documentation: https://pandas.pydata.org/pandas-docs/stable/user_guide/indexing.html#returning-a-view-versus-a-copy\n",
      "  df['City'][i]=rows[0]\n",
      "C:\\Users\\Kaveri\\AppData\\Local\\Temp\\ipykernel_37104\\3924081187.py:7: SettingWithCopyWarning: \n",
      "A value is trying to be set on a copy of a slice from a DataFrame\n",
      "\n",
      "See the caveats in the documentation: https://pandas.pydata.org/pandas-docs/stable/user_guide/indexing.html#returning-a-view-versus-a-copy\n",
      "  df['City'][i]=rows[0]\n",
      "C:\\Users\\Kaveri\\AppData\\Local\\Temp\\ipykernel_37104\\3924081187.py:7: SettingWithCopyWarning: \n",
      "A value is trying to be set on a copy of a slice from a DataFrame\n",
      "\n",
      "See the caveats in the documentation: https://pandas.pydata.org/pandas-docs/stable/user_guide/indexing.html#returning-a-view-versus-a-copy\n",
      "  df['City'][i]=rows[0]\n",
      "C:\\Users\\Kaveri\\AppData\\Local\\Temp\\ipykernel_37104\\3924081187.py:7: SettingWithCopyWarning: \n",
      "A value is trying to be set on a copy of a slice from a DataFrame\n",
      "\n",
      "See the caveats in the documentation: https://pandas.pydata.org/pandas-docs/stable/user_guide/indexing.html#returning-a-view-versus-a-copy\n",
      "  df['City'][i]=rows[0]\n",
      "C:\\Users\\Kaveri\\AppData\\Local\\Temp\\ipykernel_37104\\3924081187.py:7: SettingWithCopyWarning: \n",
      "A value is trying to be set on a copy of a slice from a DataFrame\n",
      "\n",
      "See the caveats in the documentation: https://pandas.pydata.org/pandas-docs/stable/user_guide/indexing.html#returning-a-view-versus-a-copy\n",
      "  df['City'][i]=rows[0]\n",
      "C:\\Users\\Kaveri\\AppData\\Local\\Temp\\ipykernel_37104\\3924081187.py:7: SettingWithCopyWarning: \n",
      "A value is trying to be set on a copy of a slice from a DataFrame\n",
      "\n",
      "See the caveats in the documentation: https://pandas.pydata.org/pandas-docs/stable/user_guide/indexing.html#returning-a-view-versus-a-copy\n",
      "  df['City'][i]=rows[0]\n",
      "C:\\Users\\Kaveri\\AppData\\Local\\Temp\\ipykernel_37104\\3924081187.py:7: SettingWithCopyWarning: \n",
      "A value is trying to be set on a copy of a slice from a DataFrame\n",
      "\n",
      "See the caveats in the documentation: https://pandas.pydata.org/pandas-docs/stable/user_guide/indexing.html#returning-a-view-versus-a-copy\n",
      "  df['City'][i]=rows[0]\n"
     ]
    }
   ],
   "source": [
    "c=df['Location']\n",
    "i=0\n",
    "for rows in c:\n",
    "    if(type(rows)!=float):\n",
    "        rows=rows.split()\n",
    "        if(len(rows)==2):\n",
    "            df['City'][i]=rows[0]\n",
    "            \n",
    "                \n",
    "            \n",
    "                \n",
    "                \n",
    "                \n",
    "    i=i+1"
   ]
  },
  {
   "cell_type": "code",
   "execution_count": 384,
   "id": "692ada6a-47e5-404e-9995-552a92ff7b3e",
   "metadata": {},
   "outputs": [
    {
     "data": {
      "text/plain": [
       "Company Name              0\n",
       "Job Title                 0\n",
       "salary_period          1540\n",
       "Average                1540\n",
       "Job Description           0\n",
       "Years of Experience    1992\n",
       "Location                  0\n",
       "Job Type                  0\n",
       "Rating                    0\n",
       "Categories                0\n",
       "Level                     0\n",
       "City                    256\n",
       "dtype: int64"
      ]
     },
     "execution_count": 384,
     "metadata": {},
     "output_type": "execute_result"
    }
   ],
   "source": [
    "df.isna().sum()"
   ]
  },
  {
   "cell_type": "code",
   "execution_count": 332,
   "id": "5616287f-36c3-4363-aac6-d1926c54ec65",
   "metadata": {},
   "outputs": [
    {
     "data": {
      "text/plain": [
       "Mumbai          641\n",
       "Bengaluru,      506\n",
       "Bangalore       267\n",
       "Pune            210\n",
       "Hyderābād       184\n",
       "               ... \n",
       "Gandhinagar,      1\n",
       "Pitampura,        1\n",
       "Mysore,           1\n",
       "Temporarily       1\n",
       "Udaipur,          1\n",
       "Name: City, Length: 61, dtype: int64"
      ]
     },
     "execution_count": 332,
     "metadata": {},
     "output_type": "execute_result"
    }
   ],
   "source": [
    "df['City'].value_counts()"
   ]
  },
  {
   "cell_type": "code",
   "execution_count": 340,
   "id": "769f61a9-c3ca-49bb-9741-2a660416e29c",
   "metadata": {},
   "outputs": [],
   "source": [
    "df.to_csv('Edit3.csv')"
   ]
  },
  {
   "cell_type": "code",
   "execution_count": 334,
   "id": "6af94613-02ec-445d-8ee1-8e0f88295171",
   "metadata": {},
   "outputs": [
    {
     "data": {
      "text/plain": [
       "(3374, 12)"
      ]
     },
     "execution_count": 334,
     "metadata": {},
     "output_type": "execute_result"
    }
   ],
   "source": [
    "df.shape"
   ]
  },
  {
   "cell_type": "code",
   "execution_count": null,
   "id": "24954aa0-16ea-41b2-9501-7f3b96df6e8c",
   "metadata": {},
   "outputs": [],
   "source": []
  }
 ],
 "metadata": {
  "kernelspec": {
   "display_name": "Python 3 (ipykernel)",
   "language": "python",
   "name": "python3"
  },
  "language_info": {
   "codemirror_mode": {
    "name": "ipython",
    "version": 3
   },
   "file_extension": ".py",
   "mimetype": "text/x-python",
   "name": "python",
   "nbconvert_exporter": "python",
   "pygments_lexer": "ipython3",
   "version": "3.10.7"
  }
 },
 "nbformat": 4,
 "nbformat_minor": 5
}
